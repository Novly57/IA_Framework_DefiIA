{
 "cells": [
  {
   "cell_type": "markdown",
   "id": "77b59c49",
   "metadata": {},
   "source": [
    "# Analysis of the language parameter\n",
    "\n"
   ]
  },
  {
   "cell_type": "code",
   "execution_count": 1,
   "id": "875021c8",
   "metadata": {},
   "outputs": [
    {
     "data": {
      "text/html": [
       "<style>.container { width:80% !important; }</style>"
      ],
      "text/plain": [
       "<IPython.core.display.HTML object>"
      ]
     },
     "metadata": {},
     "output_type": "display_data"
    }
   ],
   "source": [
    "from IPython.display import display, HTML\n",
    "display(HTML(\"<style>.container { width:80% !important; }</style>\"))"
   ]
  },
  {
   "cell_type": "code",
   "execution_count": 2,
   "id": "932bc00a",
   "metadata": {},
   "outputs": [],
   "source": [
    "import pandas as pd\n",
    "import numpy as np\n",
    "import seaborn as sns\n",
    "%matplotlib inline\n",
    "import matplotlib.pyplot as plt\n",
    "sns.set_style(\"darkgrid\")\n",
    "from tqdm.notebook import tqdm, trange\n",
    "from pandas.plotting import scatter_matrix"
   ]
  },
  {
   "cell_type": "code",
   "execution_count": 10,
   "id": "f7279fa5",
   "metadata": {},
   "outputs": [],
   "source": [
    "path = '../data/' \n",
    "hotels = pd.read_csv(path + '/features_hotels.csv')\n",
    "data = pd.read_csv(path + 'data_language_utility.csv')"
   ]
  },
  {
   "cell_type": "code",
   "execution_count": 11,
   "id": "1fc4d55a",
   "metadata": {},
   "outputs": [],
   "source": [
    "data = data.drop(['avatar_id','request_number'],axis=1)"
   ]
  },
  {
   "cell_type": "code",
   "execution_count": 12,
   "id": "64172075",
   "metadata": {},
   "outputs": [
    {
     "data": {
      "text/html": [
       "<div>\n",
       "<style scoped>\n",
       "    .dataframe tbody tr th:only-of-type {\n",
       "        vertical-align: middle;\n",
       "    }\n",
       "\n",
       "    .dataframe tbody tr th {\n",
       "        vertical-align: top;\n",
       "    }\n",
       "\n",
       "    .dataframe thead th {\n",
       "        text-align: right;\n",
       "    }\n",
       "</style>\n",
       "<table border=\"1\" class=\"dataframe\">\n",
       "  <thead>\n",
       "    <tr style=\"text-align: right;\">\n",
       "      <th></th>\n",
       "      <th>city</th>\n",
       "      <th>date</th>\n",
       "      <th>language</th>\n",
       "      <th>mobile</th>\n",
       "      <th>hotel_id</th>\n",
       "      <th>price</th>\n",
       "      <th>stock</th>\n",
       "    </tr>\n",
       "  </thead>\n",
       "  <tbody>\n",
       "    <tr>\n",
       "      <th>0</th>\n",
       "      <td>valletta</td>\n",
       "      <td>1</td>\n",
       "      <td>maltese</td>\n",
       "      <td>1</td>\n",
       "      <td>334</td>\n",
       "      <td>79</td>\n",
       "      <td>0</td>\n",
       "    </tr>\n",
       "    <tr>\n",
       "      <th>1</th>\n",
       "      <td>valletta</td>\n",
       "      <td>1</td>\n",
       "      <td>maltese</td>\n",
       "      <td>1</td>\n",
       "      <td>400</td>\n",
       "      <td>87</td>\n",
       "      <td>8</td>\n",
       "    </tr>\n",
       "    <tr>\n",
       "      <th>2</th>\n",
       "      <td>valletta</td>\n",
       "      <td>1</td>\n",
       "      <td>maltese</td>\n",
       "      <td>1</td>\n",
       "      <td>732</td>\n",
       "      <td>176</td>\n",
       "      <td>1</td>\n",
       "    </tr>\n",
       "    <tr>\n",
       "      <th>3</th>\n",
       "      <td>valletta</td>\n",
       "      <td>1</td>\n",
       "      <td>maltese</td>\n",
       "      <td>1</td>\n",
       "      <td>988</td>\n",
       "      <td>160</td>\n",
       "      <td>0</td>\n",
       "    </tr>\n",
       "    <tr>\n",
       "      <th>4</th>\n",
       "      <td>valletta</td>\n",
       "      <td>1</td>\n",
       "      <td>maltese</td>\n",
       "      <td>1</td>\n",
       "      <td>521</td>\n",
       "      <td>84</td>\n",
       "      <td>0</td>\n",
       "    </tr>\n",
       "    <tr>\n",
       "      <th>...</th>\n",
       "      <td>...</td>\n",
       "      <td>...</td>\n",
       "      <td>...</td>\n",
       "      <td>...</td>\n",
       "      <td>...</td>\n",
       "      <td>...</td>\n",
       "      <td>...</td>\n",
       "    </tr>\n",
       "    <tr>\n",
       "      <th>87119</th>\n",
       "      <td>amsterdam</td>\n",
       "      <td>21</td>\n",
       "      <td>spanish</td>\n",
       "      <td>0</td>\n",
       "      <td>460</td>\n",
       "      <td>84</td>\n",
       "      <td>0</td>\n",
       "    </tr>\n",
       "    <tr>\n",
       "      <th>87120</th>\n",
       "      <td>amsterdam</td>\n",
       "      <td>21</td>\n",
       "      <td>spanish</td>\n",
       "      <td>0</td>\n",
       "      <td>971</td>\n",
       "      <td>160</td>\n",
       "      <td>22</td>\n",
       "    </tr>\n",
       "    <tr>\n",
       "      <th>87121</th>\n",
       "      <td>amsterdam</td>\n",
       "      <td>21</td>\n",
       "      <td>spanish</td>\n",
       "      <td>0</td>\n",
       "      <td>442</td>\n",
       "      <td>163</td>\n",
       "      <td>38</td>\n",
       "    </tr>\n",
       "    <tr>\n",
       "      <th>87122</th>\n",
       "      <td>amsterdam</td>\n",
       "      <td>21</td>\n",
       "      <td>spanish</td>\n",
       "      <td>0</td>\n",
       "      <td>517</td>\n",
       "      <td>117</td>\n",
       "      <td>28</td>\n",
       "    </tr>\n",
       "    <tr>\n",
       "      <th>87123</th>\n",
       "      <td>amsterdam</td>\n",
       "      <td>21</td>\n",
       "      <td>spanish</td>\n",
       "      <td>0</td>\n",
       "      <td>821</td>\n",
       "      <td>109</td>\n",
       "      <td>22</td>\n",
       "    </tr>\n",
       "  </tbody>\n",
       "</table>\n",
       "<p>87124 rows × 7 columns</p>\n",
       "</div>"
      ],
      "text/plain": [
       "            city  date language  mobile  hotel_id  price  stock\n",
       "0       valletta     1  maltese       1       334     79      0\n",
       "1       valletta     1  maltese       1       400     87      8\n",
       "2       valletta     1  maltese       1       732    176      1\n",
       "3       valletta     1  maltese       1       988    160      0\n",
       "4       valletta     1  maltese       1       521     84      0\n",
       "...          ...   ...      ...     ...       ...    ...    ...\n",
       "87119  amsterdam    21  spanish       0       460     84      0\n",
       "87120  amsterdam    21  spanish       0       971    160     22\n",
       "87121  amsterdam    21  spanish       0       442    163     38\n",
       "87122  amsterdam    21  spanish       0       517    117     28\n",
       "87123  amsterdam    21  spanish       0       821    109     22\n",
       "\n",
       "[87124 rows x 7 columns]"
      ]
     },
     "execution_count": 12,
     "metadata": {},
     "output_type": "execute_result"
    }
   ],
   "source": [
    "data"
   ]
  },
  {
   "cell_type": "code",
   "execution_count": null,
   "id": "6b7f6c6b",
   "metadata": {},
   "outputs": [],
   "source": []
  }
 ],
 "metadata": {
  "kernelspec": {
   "display_name": "Python 3 (ipykernel)",
   "language": "python",
   "name": "python3"
  },
  "language_info": {
   "codemirror_mode": {
    "name": "ipython",
    "version": 3
   },
   "file_extension": ".py",
   "mimetype": "text/x-python",
   "name": "python",
   "nbconvert_exporter": "python",
   "pygments_lexer": "ipython3",
   "version": "3.9.12"
  }
 },
 "nbformat": 4,
 "nbformat_minor": 5
}
