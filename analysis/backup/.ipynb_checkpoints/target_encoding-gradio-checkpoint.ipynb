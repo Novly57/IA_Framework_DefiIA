{
 "cells": [
  {
   "cell_type": "markdown",
   "id": "7b304eb1",
   "metadata": {},
   "source": [
    "# Data preparation"
   ]
  },
  {
   "cell_type": "code",
   "execution_count": 25,
   "id": "6f67dea0",
   "metadata": {
    "ExecuteTime": {
     "end_time": "2023-01-06T15:56:26.879144Z",
     "start_time": "2023-01-06T15:56:26.876728Z"
    }
   },
   "outputs": [],
   "source": [
    "import pandas as pd\n",
    "import numpy as np "
   ]
  },
  {
   "cell_type": "code",
   "execution_count": 2,
   "id": "80853c49",
   "metadata": {
    "ExecuteTime": {
     "end_time": "2023-01-06T15:09:12.259813Z",
     "start_time": "2023-01-06T15:09:11.750767Z"
    }
   },
   "outputs": [],
   "source": [
    "path = '../data/' \n",
    "hotels = pd.read_csv(path + '/features_hotels.csv')\n",
    "data = pd.read_csv(path + 'data.csv')\n",
    "data_test = pd.read_csv(path + 'test_set.csv')"
   ]
  },
  {
   "cell_type": "code",
   "execution_count": 3,
   "id": "75cdefca",
   "metadata": {
    "ExecuteTime": {
     "end_time": "2023-01-06T15:09:12.935833Z",
     "start_time": "2023-01-06T15:09:12.741695Z"
    }
   },
   "outputs": [
    {
     "name": "stdout",
     "output_type": "stream",
     "text": [
      "Nombre de requêtes uniques : 8329\n"
     ]
    }
   ],
   "source": [
    "to_exclude = data[['city', 'language','mobile','request_number','date']].drop_duplicates()\n",
    "# to_exclude.to_csv('to_exclude.csv', index = False)\n",
    "print('Nombre de requêtes uniques :', to_exclude.shape[0])"
   ]
  },
  {
   "cell_type": "code",
   "execution_count": 4,
   "id": "14ddd471",
   "metadata": {
    "ExecuteTime": {
     "end_time": "2023-01-06T15:09:13.531167Z",
     "start_time": "2023-01-06T15:09:13.437075Z"
    }
   },
   "outputs": [
    {
     "name": "stdout",
     "output_type": "stream",
     "text": [
      "Estimation du nombre total de requêtes : 11171\n"
     ]
    }
   ],
   "source": [
    "tot = 0 \n",
    "for i in range(7):\n",
    "    tot += np.unique(data.loc[data.request_number == i].avatar_id.values).shape[0]\n",
    "\n",
    "print('Estimation du nombre total de requêtes :', tot)"
   ]
  },
  {
   "cell_type": "code",
   "execution_count": 5,
   "id": "f193c5d1",
   "metadata": {
    "ExecuteTime": {
     "end_time": "2023-01-06T15:09:14.749268Z",
     "start_time": "2023-01-06T15:09:14.685802Z"
    }
   },
   "outputs": [],
   "source": [
    "# exclusion des avatar posant problème\n",
    "# data = data.drop(index = data.loc[data.avatar_id == 134].index)\n",
    "# to_drop = [108,134,135,136,137,138,141]\n",
    "to_drop = [134]\n",
    "data = data.loc[~data.avatar_id.isin(to_drop)]"
   ]
  },
  {
   "cell_type": "code",
   "execution_count": 6,
   "id": "88d716f9",
   "metadata": {
    "ExecuteTime": {
     "end_time": "2023-01-06T15:09:20.175940Z",
     "start_time": "2023-01-06T15:09:19.958168Z"
    }
   },
   "outputs": [],
   "source": [
    "data = data.drop(['avatar_id'], axis = 1).drop_duplicates()"
   ]
  },
  {
   "cell_type": "code",
   "execution_count": 7,
   "id": "a7a5cd79",
   "metadata": {
    "ExecuteTime": {
     "end_time": "2023-01-06T15:09:24.646797Z",
     "start_time": "2023-01-06T15:09:24.433260Z"
    }
   },
   "outputs": [],
   "source": [
    "# ajout des caractéristiques des hotels\n",
    "data = data.merge(hotels, on=['hotel_id','city'])\n",
    "data_test = data_test.merge(hotels, on=['hotel_id','city'])\n",
    "data_test = data_test.sort_values('index').reset_index(drop=True).drop(['index'], axis = 1)"
   ]
  },
  {
   "cell_type": "code",
   "execution_count": 8,
   "id": "93c494ab",
   "metadata": {
    "ExecuteTime": {
     "end_time": "2023-01-06T15:09:28.138945Z",
     "start_time": "2023-01-06T15:09:27.649605Z"
    }
   },
   "outputs": [],
   "source": [
    "# création de la colonne request_number dans le test set\n",
    "data_test['request_number'] = 1\n",
    "for avatar in np.unique(data_test['avatar_id']):\n",
    "    data_test.loc[data_test['avatar_id'] == avatar, 'request_number'] = data_test['order_requests'].loc[data_test['avatar_id']== avatar] - min(data_test['order_requests'].loc[data_test['avatar_id']== avatar])+1"
   ]
  },
  {
   "cell_type": "code",
   "execution_count": 9,
   "id": "426bd959",
   "metadata": {
    "ExecuteTime": {
     "end_time": "2023-01-06T15:09:30.830277Z",
     "start_time": "2023-01-06T15:09:30.733918Z"
    }
   },
   "outputs": [],
   "source": [
    "# ajout de la variable ville == langue\n",
    "lang_cit = True\n",
    "\n",
    "if lang_cit == True: \n",
    "    dic_lang = {'amsterdam':'dutch', 'copenhagen':'danish', 'madrid':'spanish', 'paris':'french', 'rome':'italian', 'sofia':'bulgarian', 'valletta':'maltese', 'vienna':'austrian' ,'vilnius':'lithuanian'}\n",
    "    data['city_language'] = data['city'].map(dic_lang)\n",
    "    data['is_same_cl'] = data['city_language']==data['language']\n",
    "    data_test['city_language'] = data_test['city'].map(dic_lang)\n",
    "    data_test['is_same_cl'] = data_test['city_language']==data_test['language']\n",
    "#     colBool += ['is_same_cl']"
   ]
  },
  {
   "cell_type": "code",
   "execution_count": 10,
   "id": "1008e3f6",
   "metadata": {
    "ExecuteTime": {
     "end_time": "2023-01-06T15:09:36.878295Z",
     "start_time": "2023-01-06T15:09:36.744511Z"
    }
   },
   "outputs": [],
   "source": [
    "col = ['city', 'date', 'language', 'mobile', 'request_number', 'stock', 'group', 'brand', 'parking', 'pool','children_policy', 'is_same_cl', 'price']\n",
    "data = data[col]\n",
    "data_test = data_test[col[:-1]]"
   ]
  },
  {
   "cell_type": "code",
   "execution_count": 11,
   "id": "c3212187",
   "metadata": {
    "ExecuteTime": {
     "end_time": "2023-01-06T15:09:40.516388Z",
     "start_time": "2023-01-06T15:09:40.506829Z"
    }
   },
   "outputs": [],
   "source": [
    "def additive_smoothing(x,alpha= 1.96):\n",
    "    \"\"\" alpha = 1.96 borne à 95% pour la loi normale  \"\"\"\n",
    "    moy = (x+alpha).mean()\n",
    "    d = x.max()-x.min()\n",
    "    N = x.count()\n",
    "    return N*moy/(N+alpha*d)\n",
    "\n",
    "additive_smoothing.__name__ = 'additive_smoothing'"
   ]
  },
  {
   "cell_type": "code",
   "execution_count": 12,
   "id": "192c18d2",
   "metadata": {
    "ExecuteTime": {
     "end_time": "2023-01-06T15:09:41.309177Z",
     "start_time": "2023-01-06T15:09:41.304449Z"
    }
   },
   "outputs": [],
   "source": [
    "colQT = ['request_number', 'stock', 'date']\n",
    "notQT = ['city', 'language', 'mobile', 'group', 'brand', 'parking', 'pool','children_policy', 'is_same_cl'] "
   ]
  },
  {
   "cell_type": "code",
   "execution_count": 13,
   "id": "6b176fe9",
   "metadata": {
    "ExecuteTime": {
     "end_time": "2023-01-06T15:09:45.461039Z",
     "start_time": "2023-01-06T15:09:43.625281Z"
    }
   },
   "outputs": [],
   "source": [
    "for i in notQT:\n",
    "    df_tmp = data[[i, 'price']].groupby(i).agg({'price': ['mean', 'var', additive_smoothing]}).price\n",
    "    df_tmp = df_tmp.add_suffix('_' + i)\n",
    "    colQT += list(df_tmp.columns.unique())\n",
    "    data = data.join(df_tmp, on=i)\n",
    "    data_test = data_test.join(df_tmp, on=i)"
   ]
  },
  {
   "cell_type": "code",
   "execution_count": 14,
   "id": "3bce180e",
   "metadata": {
    "ExecuteTime": {
     "end_time": "2023-01-06T15:09:45.979892Z",
     "start_time": "2023-01-06T15:09:45.973269Z"
    }
   },
   "outputs": [],
   "source": [
    "colQT += ['price']"
   ]
  },
  {
   "cell_type": "code",
   "execution_count": 15,
   "id": "b5310c57",
   "metadata": {
    "ExecuteTime": {
     "end_time": "2023-01-06T15:09:46.736425Z",
     "start_time": "2023-01-06T15:09:46.594053Z"
    }
   },
   "outputs": [],
   "source": [
    "df = data[colQT[:-1]]\n",
    "df_test = data_test[colQT[:-1]]\n",
    "y = data[colQT[-1]]"
   ]
  },
  {
   "cell_type": "code",
   "execution_count": 16,
   "id": "00b83602",
   "metadata": {
    "ExecuteTime": {
     "end_time": "2023-01-06T15:09:48.187658Z",
     "start_time": "2023-01-06T15:09:48.183385Z"
    }
   },
   "outputs": [],
   "source": [
    "X_train = df\n",
    "X_test = df_test\n",
    "Y_train = y\n",
    "Y_test = None"
   ]
  },
  {
   "cell_type": "code",
   "execution_count": null,
   "id": "93e76272",
   "metadata": {
    "ExecuteTime": {
     "end_time": "2022-12-24T14:48:02.047789Z",
     "start_time": "2022-12-24T14:48:01.905743Z"
    }
   },
   "outputs": [],
   "source": [
    "# pd.read_csv('test.csv')"
   ]
  },
  {
   "cell_type": "markdown",
   "id": "df2361e4",
   "metadata": {},
   "source": [
    "# GBR"
   ]
  },
  {
   "cell_type": "code",
   "execution_count": 17,
   "id": "90c6732d",
   "metadata": {
    "ExecuteTime": {
     "end_time": "2023-01-06T15:11:17.142569Z",
     "start_time": "2023-01-06T15:11:17.027928Z"
    }
   },
   "outputs": [
    {
     "data": {
      "text/html": [
       "<div>\n",
       "<style scoped>\n",
       "    .dataframe tbody tr th:only-of-type {\n",
       "        vertical-align: middle;\n",
       "    }\n",
       "\n",
       "    .dataframe tbody tr th {\n",
       "        vertical-align: top;\n",
       "    }\n",
       "\n",
       "    .dataframe thead th {\n",
       "        text-align: right;\n",
       "    }\n",
       "</style>\n",
       "<table border=\"1\" class=\"dataframe\">\n",
       "  <thead>\n",
       "    <tr style=\"text-align: right;\">\n",
       "      <th></th>\n",
       "      <th>request_number</th>\n",
       "      <th>stock</th>\n",
       "      <th>date</th>\n",
       "      <th>mean_city</th>\n",
       "      <th>var_city</th>\n",
       "      <th>additive_smoothing_city</th>\n",
       "      <th>mean_language</th>\n",
       "      <th>var_language</th>\n",
       "      <th>additive_smoothing_language</th>\n",
       "      <th>mean_mobile</th>\n",
       "      <th>...</th>\n",
       "      <th>additive_smoothing_parking</th>\n",
       "      <th>mean_pool</th>\n",
       "      <th>var_pool</th>\n",
       "      <th>additive_smoothing_pool</th>\n",
       "      <th>mean_children_policy</th>\n",
       "      <th>var_children_policy</th>\n",
       "      <th>additive_smoothing_children_policy</th>\n",
       "      <th>mean_is_same_cl</th>\n",
       "      <th>var_is_same_cl</th>\n",
       "      <th>additive_smoothing_is_same_cl</th>\n",
       "    </tr>\n",
       "  </thead>\n",
       "  <tbody>\n",
       "    <tr>\n",
       "      <th>0</th>\n",
       "      <td>1</td>\n",
       "      <td>3</td>\n",
       "      <td>12</td>\n",
       "      <td>165.55173</td>\n",
       "      <td>5985.767282</td>\n",
       "      <td>166.516354</td>\n",
       "      <td>154.748637</td>\n",
       "      <td>5999.095160</td>\n",
       "      <td>150.843929</td>\n",
       "      <td>159.610475</td>\n",
       "      <td>...</td>\n",
       "      <td>162.905065</td>\n",
       "      <td>142.144634</td>\n",
       "      <td>4905.884746</td>\n",
       "      <td>143.917897</td>\n",
       "      <td>157.313797</td>\n",
       "      <td>6680.118848</td>\n",
       "      <td>159.092193</td>\n",
       "      <td>160.002779</td>\n",
       "      <td>6871.253349</td>\n",
       "      <td>161.778872</td>\n",
       "    </tr>\n",
       "    <tr>\n",
       "      <th>1</th>\n",
       "      <td>1</td>\n",
       "      <td>15</td>\n",
       "      <td>27</td>\n",
       "      <td>165.55173</td>\n",
       "      <td>5985.767282</td>\n",
       "      <td>166.516354</td>\n",
       "      <td>159.636337</td>\n",
       "      <td>6808.807107</td>\n",
       "      <td>158.623704</td>\n",
       "      <td>160.026551</td>\n",
       "      <td>...</td>\n",
       "      <td>162.905065</td>\n",
       "      <td>142.144634</td>\n",
       "      <td>4905.884746</td>\n",
       "      <td>143.917897</td>\n",
       "      <td>157.313797</td>\n",
       "      <td>6680.118848</td>\n",
       "      <td>159.092193</td>\n",
       "      <td>160.002779</td>\n",
       "      <td>6871.253349</td>\n",
       "      <td>161.778872</td>\n",
       "    </tr>\n",
       "    <tr>\n",
       "      <th>2</th>\n",
       "      <td>1</td>\n",
       "      <td>2</td>\n",
       "      <td>11</td>\n",
       "      <td>165.55173</td>\n",
       "      <td>5985.767282</td>\n",
       "      <td>166.516354</td>\n",
       "      <td>156.157476</td>\n",
       "      <td>6641.903925</td>\n",
       "      <td>155.367276</td>\n",
       "      <td>159.610475</td>\n",
       "      <td>...</td>\n",
       "      <td>162.905065</td>\n",
       "      <td>142.144634</td>\n",
       "      <td>4905.884746</td>\n",
       "      <td>143.917897</td>\n",
       "      <td>157.313797</td>\n",
       "      <td>6680.118848</td>\n",
       "      <td>159.092193</td>\n",
       "      <td>160.002779</td>\n",
       "      <td>6871.253349</td>\n",
       "      <td>161.778872</td>\n",
       "    </tr>\n",
       "    <tr>\n",
       "      <th>3</th>\n",
       "      <td>1</td>\n",
       "      <td>14</td>\n",
       "      <td>26</td>\n",
       "      <td>165.55173</td>\n",
       "      <td>5985.767282</td>\n",
       "      <td>166.516354</td>\n",
       "      <td>158.518461</td>\n",
       "      <td>6578.472846</td>\n",
       "      <td>154.689115</td>\n",
       "      <td>160.026551</td>\n",
       "      <td>...</td>\n",
       "      <td>162.905065</td>\n",
       "      <td>142.144634</td>\n",
       "      <td>4905.884746</td>\n",
       "      <td>143.917897</td>\n",
       "      <td>157.313797</td>\n",
       "      <td>6680.118848</td>\n",
       "      <td>159.092193</td>\n",
       "      <td>160.002779</td>\n",
       "      <td>6871.253349</td>\n",
       "      <td>161.778872</td>\n",
       "    </tr>\n",
       "    <tr>\n",
       "      <th>4</th>\n",
       "      <td>1</td>\n",
       "      <td>13</td>\n",
       "      <td>25</td>\n",
       "      <td>165.55173</td>\n",
       "      <td>5985.767282</td>\n",
       "      <td>166.516354</td>\n",
       "      <td>156.713749</td>\n",
       "      <td>6541.710854</td>\n",
       "      <td>152.944919</td>\n",
       "      <td>159.610475</td>\n",
       "      <td>...</td>\n",
       "      <td>162.905065</td>\n",
       "      <td>142.144634</td>\n",
       "      <td>4905.884746</td>\n",
       "      <td>143.917897</td>\n",
       "      <td>157.313797</td>\n",
       "      <td>6680.118848</td>\n",
       "      <td>159.092193</td>\n",
       "      <td>160.002779</td>\n",
       "      <td>6871.253349</td>\n",
       "      <td>161.778872</td>\n",
       "    </tr>\n",
       "    <tr>\n",
       "      <th>...</th>\n",
       "      <td>...</td>\n",
       "      <td>...</td>\n",
       "      <td>...</td>\n",
       "      <td>...</td>\n",
       "      <td>...</td>\n",
       "      <td>...</td>\n",
       "      <td>...</td>\n",
       "      <td>...</td>\n",
       "      <td>...</td>\n",
       "      <td>...</td>\n",
       "      <td>...</td>\n",
       "      <td>...</td>\n",
       "      <td>...</td>\n",
       "      <td>...</td>\n",
       "      <td>...</td>\n",
       "      <td>...</td>\n",
       "      <td>...</td>\n",
       "      <td>...</td>\n",
       "      <td>...</td>\n",
       "      <td>...</td>\n",
       "      <td>...</td>\n",
       "    </tr>\n",
       "    <tr>\n",
       "      <th>916700</th>\n",
       "      <td>1</td>\n",
       "      <td>84</td>\n",
       "      <td>39</td>\n",
       "      <td>165.55173</td>\n",
       "      <td>5985.767282</td>\n",
       "      <td>166.516354</td>\n",
       "      <td>164.508062</td>\n",
       "      <td>7283.720668</td>\n",
       "      <td>159.483584</td>\n",
       "      <td>159.610475</td>\n",
       "      <td>...</td>\n",
       "      <td>162.905065</td>\n",
       "      <td>142.144634</td>\n",
       "      <td>4905.884746</td>\n",
       "      <td>143.917897</td>\n",
       "      <td>157.313797</td>\n",
       "      <td>6680.118848</td>\n",
       "      <td>159.092193</td>\n",
       "      <td>160.002779</td>\n",
       "      <td>6871.253349</td>\n",
       "      <td>161.778872</td>\n",
       "    </tr>\n",
       "    <tr>\n",
       "      <th>916701</th>\n",
       "      <td>1</td>\n",
       "      <td>84</td>\n",
       "      <td>39</td>\n",
       "      <td>165.55173</td>\n",
       "      <td>5985.767282</td>\n",
       "      <td>166.516354</td>\n",
       "      <td>156.456098</td>\n",
       "      <td>6441.953525</td>\n",
       "      <td>153.253943</td>\n",
       "      <td>160.026551</td>\n",
       "      <td>...</td>\n",
       "      <td>162.905065</td>\n",
       "      <td>142.144634</td>\n",
       "      <td>4905.884746</td>\n",
       "      <td>143.917897</td>\n",
       "      <td>157.313797</td>\n",
       "      <td>6680.118848</td>\n",
       "      <td>159.092193</td>\n",
       "      <td>160.002779</td>\n",
       "      <td>6871.253349</td>\n",
       "      <td>161.778872</td>\n",
       "    </tr>\n",
       "    <tr>\n",
       "      <th>916702</th>\n",
       "      <td>1</td>\n",
       "      <td>110</td>\n",
       "      <td>44</td>\n",
       "      <td>165.55173</td>\n",
       "      <td>5985.767282</td>\n",
       "      <td>166.516354</td>\n",
       "      <td>165.404823</td>\n",
       "      <td>7131.140515</td>\n",
       "      <td>164.022882</td>\n",
       "      <td>160.026551</td>\n",
       "      <td>...</td>\n",
       "      <td>162.905065</td>\n",
       "      <td>142.144634</td>\n",
       "      <td>4905.884746</td>\n",
       "      <td>143.917897</td>\n",
       "      <td>157.313797</td>\n",
       "      <td>6680.118848</td>\n",
       "      <td>159.092193</td>\n",
       "      <td>160.002779</td>\n",
       "      <td>6871.253349</td>\n",
       "      <td>161.778872</td>\n",
       "    </tr>\n",
       "    <tr>\n",
       "      <th>916703</th>\n",
       "      <td>1</td>\n",
       "      <td>104</td>\n",
       "      <td>43</td>\n",
       "      <td>165.55173</td>\n",
       "      <td>5985.767282</td>\n",
       "      <td>166.516354</td>\n",
       "      <td>155.846236</td>\n",
       "      <td>6642.503216</td>\n",
       "      <td>152.507311</td>\n",
       "      <td>159.610475</td>\n",
       "      <td>...</td>\n",
       "      <td>162.905065</td>\n",
       "      <td>142.144634</td>\n",
       "      <td>4905.884746</td>\n",
       "      <td>143.917897</td>\n",
       "      <td>157.313797</td>\n",
       "      <td>6680.118848</td>\n",
       "      <td>159.092193</td>\n",
       "      <td>160.002779</td>\n",
       "      <td>6871.253349</td>\n",
       "      <td>161.778872</td>\n",
       "    </tr>\n",
       "    <tr>\n",
       "      <th>916704</th>\n",
       "      <td>1</td>\n",
       "      <td>110</td>\n",
       "      <td>44</td>\n",
       "      <td>165.55173</td>\n",
       "      <td>5985.767282</td>\n",
       "      <td>166.516354</td>\n",
       "      <td>159.243063</td>\n",
       "      <td>7040.080746</td>\n",
       "      <td>154.355552</td>\n",
       "      <td>159.610475</td>\n",
       "      <td>...</td>\n",
       "      <td>162.905065</td>\n",
       "      <td>142.144634</td>\n",
       "      <td>4905.884746</td>\n",
       "      <td>143.917897</td>\n",
       "      <td>157.313797</td>\n",
       "      <td>6680.118848</td>\n",
       "      <td>159.092193</td>\n",
       "      <td>160.002779</td>\n",
       "      <td>6871.253349</td>\n",
       "      <td>161.778872</td>\n",
       "    </tr>\n",
       "  </tbody>\n",
       "</table>\n",
       "<p>916705 rows × 30 columns</p>\n",
       "</div>"
      ],
      "text/plain": [
       "        request_number  stock  date  mean_city     var_city  \\\n",
       "0                    1      3    12  165.55173  5985.767282   \n",
       "1                    1     15    27  165.55173  5985.767282   \n",
       "2                    1      2    11  165.55173  5985.767282   \n",
       "3                    1     14    26  165.55173  5985.767282   \n",
       "4                    1     13    25  165.55173  5985.767282   \n",
       "...                ...    ...   ...        ...          ...   \n",
       "916700               1     84    39  165.55173  5985.767282   \n",
       "916701               1     84    39  165.55173  5985.767282   \n",
       "916702               1    110    44  165.55173  5985.767282   \n",
       "916703               1    104    43  165.55173  5985.767282   \n",
       "916704               1    110    44  165.55173  5985.767282   \n",
       "\n",
       "        additive_smoothing_city  mean_language  var_language  \\\n",
       "0                    166.516354     154.748637   5999.095160   \n",
       "1                    166.516354     159.636337   6808.807107   \n",
       "2                    166.516354     156.157476   6641.903925   \n",
       "3                    166.516354     158.518461   6578.472846   \n",
       "4                    166.516354     156.713749   6541.710854   \n",
       "...                         ...            ...           ...   \n",
       "916700               166.516354     164.508062   7283.720668   \n",
       "916701               166.516354     156.456098   6441.953525   \n",
       "916702               166.516354     165.404823   7131.140515   \n",
       "916703               166.516354     155.846236   6642.503216   \n",
       "916704               166.516354     159.243063   7040.080746   \n",
       "\n",
       "        additive_smoothing_language  mean_mobile  ...  \\\n",
       "0                        150.843929   159.610475  ...   \n",
       "1                        158.623704   160.026551  ...   \n",
       "2                        155.367276   159.610475  ...   \n",
       "3                        154.689115   160.026551  ...   \n",
       "4                        152.944919   159.610475  ...   \n",
       "...                             ...          ...  ...   \n",
       "916700                   159.483584   159.610475  ...   \n",
       "916701                   153.253943   160.026551  ...   \n",
       "916702                   164.022882   160.026551  ...   \n",
       "916703                   152.507311   159.610475  ...   \n",
       "916704                   154.355552   159.610475  ...   \n",
       "\n",
       "        additive_smoothing_parking   mean_pool     var_pool  \\\n",
       "0                       162.905065  142.144634  4905.884746   \n",
       "1                       162.905065  142.144634  4905.884746   \n",
       "2                       162.905065  142.144634  4905.884746   \n",
       "3                       162.905065  142.144634  4905.884746   \n",
       "4                       162.905065  142.144634  4905.884746   \n",
       "...                            ...         ...          ...   \n",
       "916700                  162.905065  142.144634  4905.884746   \n",
       "916701                  162.905065  142.144634  4905.884746   \n",
       "916702                  162.905065  142.144634  4905.884746   \n",
       "916703                  162.905065  142.144634  4905.884746   \n",
       "916704                  162.905065  142.144634  4905.884746   \n",
       "\n",
       "        additive_smoothing_pool  mean_children_policy  var_children_policy  \\\n",
       "0                    143.917897            157.313797          6680.118848   \n",
       "1                    143.917897            157.313797          6680.118848   \n",
       "2                    143.917897            157.313797          6680.118848   \n",
       "3                    143.917897            157.313797          6680.118848   \n",
       "4                    143.917897            157.313797          6680.118848   \n",
       "...                         ...                   ...                  ...   \n",
       "916700               143.917897            157.313797          6680.118848   \n",
       "916701               143.917897            157.313797          6680.118848   \n",
       "916702               143.917897            157.313797          6680.118848   \n",
       "916703               143.917897            157.313797          6680.118848   \n",
       "916704               143.917897            157.313797          6680.118848   \n",
       "\n",
       "        additive_smoothing_children_policy  mean_is_same_cl  var_is_same_cl  \\\n",
       "0                               159.092193       160.002779     6871.253349   \n",
       "1                               159.092193       160.002779     6871.253349   \n",
       "2                               159.092193       160.002779     6871.253349   \n",
       "3                               159.092193       160.002779     6871.253349   \n",
       "4                               159.092193       160.002779     6871.253349   \n",
       "...                                    ...              ...             ...   \n",
       "916700                          159.092193       160.002779     6871.253349   \n",
       "916701                          159.092193       160.002779     6871.253349   \n",
       "916702                          159.092193       160.002779     6871.253349   \n",
       "916703                          159.092193       160.002779     6871.253349   \n",
       "916704                          159.092193       160.002779     6871.253349   \n",
       "\n",
       "        additive_smoothing_is_same_cl  \n",
       "0                          161.778872  \n",
       "1                          161.778872  \n",
       "2                          161.778872  \n",
       "3                          161.778872  \n",
       "4                          161.778872  \n",
       "...                               ...  \n",
       "916700                     161.778872  \n",
       "916701                     161.778872  \n",
       "916702                     161.778872  \n",
       "916703                     161.778872  \n",
       "916704                     161.778872  \n",
       "\n",
       "[916705 rows x 30 columns]"
      ]
     },
     "execution_count": 17,
     "metadata": {},
     "output_type": "execute_result"
    }
   ],
   "source": [
    "X_train"
   ]
  },
  {
   "cell_type": "code",
   "execution_count": 19,
   "id": "9c68abae",
   "metadata": {
    "ExecuteTime": {
     "end_time": "2023-01-06T15:47:35.125588Z",
     "start_time": "2023-01-06T15:13:34.864254Z"
    },
    "scrolled": true
   },
   "outputs": [
    {
     "name": "stdout",
     "output_type": "stream",
     "text": [
      "      Iter       Train Loss      OOB Improve   Remaining Time \n",
      "         1        6625.9880         236.7315           28.62m\n",
      "         2        6400.5810         227.8382           28.36m\n",
      "         3        6127.9613         219.1769           28.62m\n",
      "         4        5956.9103         210.7144           28.98m\n",
      "         5        5818.9556         201.8372           28.97m\n",
      "         6        5541.5158         194.1658           28.92m\n",
      "         7        5405.4958         186.8154           28.78m\n",
      "         8        5170.4459         179.7322           28.67m\n",
      "         9        5002.3840         173.2711           28.72m\n",
      "        10        4856.5649         165.7229           28.61m\n",
      "        20        3495.3357         112.9255           28.75m\n",
      "        30        2594.7882          76.7821           28.86m\n",
      "        40        1971.0378          52.6011           28.87m\n",
      "        50        1533.6797          36.2118           28.77m\n",
      "        60        1235.7556          25.5393           28.69m\n",
      "        70        1022.0440          17.7975           28.60m\n",
      "        80         875.5105          12.3945           28.55m\n",
      "        90         764.4347           8.9613           28.49m\n",
      "       100         691.4269           6.8114           28.43m\n",
      "       200         448.5014           0.6420           28.49m\n",
      "       300         401.4840           0.3476           28.64m\n",
      "       400         369.3998           0.0818           28.71m\n",
      "       500         349.3344           0.0781           28.72m\n",
      "       600         330.6951           0.0419           28.29m\n",
      "       700         325.4093           0.0376           27.85m\n",
      "       800         315.7877           0.0461           27.30m\n",
      "       900         309.5770           0.0115           26.75m\n",
      "      1000         302.2681           0.0397           26.14m\n",
      "      2000         275.6128           0.0303           19.81m\n",
      "      3000         262.1114           0.0105           13.26m\n",
      "      4000         255.8997           0.0013            6.67m\n",
      "      5000         251.9855           0.0129            0.00s\n"
     ]
    }
   ],
   "source": [
    "from sklearn.ensemble import GradientBoostingRegressor\n",
    "\n",
    "GBR = GradientBoostingRegressor()\n",
    "\n",
    "GBR.set_params(learning_rate = .02,\n",
    "               max_depth = 4,\n",
    "               n_estimators = 5000,\n",
    "               validation_fraction = .2,\n",
    "               criterion = 'friedman_mse',\n",
    "               subsample = .2,\n",
    "               max_leaf_nodes = 50,\n",
    "              max_features = 1.0,\n",
    "              verbose = 1)\n",
    "\n",
    "fit = GBR.fit(X_train,Y_train)"
   ]
  },
  {
   "cell_type": "code",
   "execution_count": null,
   "id": "23fcc56c",
   "metadata": {
    "ExecuteTime": {
     "end_time": "2022-12-24T19:12:00.488546Z",
     "start_time": "2022-12-24T19:12:00.472920Z"
    }
   },
   "outputs": [],
   "source": [
    "# GBR.get_params().keys()"
   ]
  },
  {
   "cell_type": "code",
   "execution_count": 20,
   "id": "789ba28f",
   "metadata": {
    "ExecuteTime": {
     "end_time": "2023-01-06T15:48:11.611708Z",
     "start_time": "2023-01-06T15:48:11.274776Z"
    }
   },
   "outputs": [],
   "source": [
    "y_pred = fit.predict(X_test)"
   ]
  },
  {
   "cell_type": "code",
   "execution_count": 21,
   "id": "a7d11fc7",
   "metadata": {
    "ExecuteTime": {
     "end_time": "2023-01-06T15:48:12.518057Z",
     "start_time": "2023-01-06T15:48:12.513618Z"
    }
   },
   "outputs": [
    {
     "data": {
      "text/plain": [
       "array([105.2317202 , 135.68128139,  69.41514648, ..., 156.71843755,\n",
       "       178.27597186, 156.71843755])"
      ]
     },
     "execution_count": 21,
     "metadata": {},
     "output_type": "execute_result"
    }
   ],
   "source": [
    "y_pred"
   ]
  },
  {
   "cell_type": "code",
   "execution_count": 37,
   "id": "a2819a97",
   "metadata": {
    "ExecuteTime": {
     "end_time": "2023-01-06T16:03:48.066387Z",
     "start_time": "2023-01-06T16:03:48.064399Z"
    }
   },
   "outputs": [],
   "source": [
    "# from joblib import dump, load\n",
    "# dump(GBR, 'model/target_encoding.pkl')"
   ]
  },
  {
   "cell_type": "markdown",
   "id": "4db7204c",
   "metadata": {},
   "source": [
    "# Submit"
   ]
  },
  {
   "cell_type": "code",
   "execution_count": 22,
   "id": "963c81ba",
   "metadata": {
    "ExecuteTime": {
     "end_time": "2023-01-06T15:49:00.546245Z",
     "start_time": "2023-01-06T15:49:00.543657Z"
    }
   },
   "outputs": [],
   "source": [
    "predictions = y_pred"
   ]
  },
  {
   "cell_type": "code",
   "execution_count": 23,
   "id": "d28abce0",
   "metadata": {
    "ExecuteTime": {
     "end_time": "2023-01-06T15:49:01.132599Z",
     "start_time": "2023-01-06T15:49:01.076804Z"
    }
   },
   "outputs": [],
   "source": [
    "# save\n",
    "_round = False # tester aussi des arrondis au dessus ou en dessous\n",
    "\n",
    "name = 'target_encoding'\n",
    "\n",
    "if _round : y_pred = np.round(predictions)\n",
    "else : y_pred = predictions.copy()\n",
    "\n",
    "sub = pd.DataFrame(y_pred)\n",
    "sub.to_csv(path + 'submit/' + name + '.csv',index=True, header=['price'], index_label = 'index')"
   ]
  }
 ],
 "metadata": {
  "kernelspec": {
   "display_name": "Python 3 (ipykernel)",
   "language": "python",
   "name": "python3"
  },
  "language_info": {
   "codemirror_mode": {
    "name": "ipython",
    "version": 3
   },
   "file_extension": ".py",
   "mimetype": "text/x-python",
   "name": "python",
   "nbconvert_exporter": "python",
   "pygments_lexer": "ipython3",
   "version": "3.9.12"
  },
  "toc": {
   "base_numbering": 1,
   "nav_menu": {},
   "number_sections": true,
   "sideBar": true,
   "skip_h1_title": false,
   "title_cell": "Table of Contents",
   "title_sidebar": "Contents",
   "toc_cell": false,
   "toc_position": {},
   "toc_section_display": true,
   "toc_window_display": false
  },
  "varInspector": {
   "cols": {
    "lenName": 16,
    "lenType": 16,
    "lenVar": 40
   },
   "kernels_config": {
    "python": {
     "delete_cmd_postfix": "",
     "delete_cmd_prefix": "del ",
     "library": "var_list.py",
     "varRefreshCmd": "print(var_dic_list())"
    },
    "r": {
     "delete_cmd_postfix": ") ",
     "delete_cmd_prefix": "rm(",
     "library": "var_list.r",
     "varRefreshCmd": "cat(var_dic_list()) "
    }
   },
   "types_to_exclude": [
    "module",
    "function",
    "builtin_function_or_method",
    "instance",
    "_Feature"
   ],
   "window_display": false
  }
 },
 "nbformat": 4,
 "nbformat_minor": 5
}
