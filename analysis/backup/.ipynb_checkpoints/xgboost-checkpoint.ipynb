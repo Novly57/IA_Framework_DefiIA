{
 "cells": [
  {
   "cell_type": "markdown",
   "id": "7b304eb1",
   "metadata": {},
   "source": [
    "# Data preparation"
   ]
  },
  {
   "cell_type": "code",
   "execution_count": null,
   "id": "6f67dea0",
   "metadata": {
    "ExecuteTime": {
     "end_time": "2023-01-06T17:00:59.748288Z",
     "start_time": "2023-01-06T17:00:59.241564Z"
    }
   },
   "outputs": [],
   "source": [
    "import pandas as pd\n",
    "import numpy as np "
   ]
  },
  {
   "cell_type": "code",
   "execution_count": null,
   "id": "80853c49",
   "metadata": {
    "ExecuteTime": {
     "end_time": "2023-01-06T17:01:00.250334Z",
     "start_time": "2023-01-06T17:00:59.749971Z"
    }
   },
   "outputs": [],
   "source": [
    "path = '../../data/' \n",
    "hotels = pd.read_csv(path + '/features_hotels.csv')\n",
    "data = pd.read_csv(path + 'data.csv')\n",
    "data_test = pd.read_csv(path + 'test_set.csv')"
   ]
  },
  {
   "cell_type": "code",
   "execution_count": null,
   "id": "75cdefca",
   "metadata": {
    "ExecuteTime": {
     "end_time": "2023-01-06T17:01:00.412310Z",
     "start_time": "2023-01-06T17:01:00.251431Z"
    }
   },
   "outputs": [],
   "source": [
    "to_exclude = data[['city', 'language','mobile','request_number','date']].drop_duplicates()\n",
    "# to_exclude.to_csv('to_exclude.csv', index = False)\n",
    "print('Nombre de requêtes uniques :', to_exclude.shape[0])"
   ]
  },
  {
   "cell_type": "code",
   "execution_count": null,
   "id": "14ddd471",
   "metadata": {
    "ExecuteTime": {
     "end_time": "2023-01-06T17:01:00.475215Z",
     "start_time": "2023-01-06T17:01:00.413806Z"
    }
   },
   "outputs": [],
   "source": [
    "tot = 0 \n",
    "for i in range(7):\n",
    "    tot += np.unique(data.loc[data.request_number == i].avatar_id.values).shape[0]\n",
    "\n",
    "print('Estimation du nombre total de requêtes :', tot)"
   ]
  },
  {
   "cell_type": "code",
   "execution_count": null,
   "id": "f193c5d1",
   "metadata": {
    "ExecuteTime": {
     "end_time": "2023-01-06T17:01:00.517596Z",
     "start_time": "2023-01-06T17:01:00.476330Z"
    }
   },
   "outputs": [],
   "source": [
    "# exclusion des avatar posant problème\n",
    "# data = data.drop(index = data.loc[data.avatar_id == 134].index)\n",
    "# to_drop = [108,134,135,136,137,138,141]\n",
    "to_drop = [134]\n",
    "data = data.loc[~data.avatar_id.isin(to_drop)]"
   ]
  },
  {
   "cell_type": "code",
   "execution_count": null,
   "id": "88d716f9",
   "metadata": {
    "ExecuteTime": {
     "end_time": "2023-01-06T17:01:00.747464Z",
     "start_time": "2023-01-06T17:01:00.519035Z"
    }
   },
   "outputs": [],
   "source": [
    "data = data.drop(['avatar_id'], axis = 1).drop_duplicates()"
   ]
  },
  {
   "cell_type": "code",
   "execution_count": null,
   "id": "a7a5cd79",
   "metadata": {
    "ExecuteTime": {
     "end_time": "2023-01-06T17:01:00.915381Z",
     "start_time": "2023-01-06T17:01:00.748650Z"
    }
   },
   "outputs": [],
   "source": [
    "# ajout des caractéristiques des hotels\n",
    "data = data.merge(hotels, on=['hotel_id','city'])\n",
    "data_test = data_test.merge(hotels, on=['hotel_id','city'])\n",
    "data_test = data_test.sort_values('index').reset_index(drop=True).drop(['index'], axis = 1)"
   ]
  },
  {
   "cell_type": "code",
   "execution_count": null,
   "id": "93c494ab",
   "metadata": {
    "ExecuteTime": {
     "end_time": "2023-01-06T17:01:01.426740Z",
     "start_time": "2023-01-06T17:01:00.916448Z"
    }
   },
   "outputs": [],
   "source": [
    "# création de la colonne request_number dans le test set\n",
    "data_test['request_number'] = 1\n",
    "for avatar in np.unique(data_test['avatar_id']):\n",
    "    data_test.loc[data_test['avatar_id'] == avatar, 'request_number'] = data_test['order_requests'].loc[data_test['avatar_id']== avatar] - min(data_test['order_requests'].loc[data_test['avatar_id']== avatar])+1"
   ]
  },
  {
   "cell_type": "code",
   "execution_count": null,
   "id": "426bd959",
   "metadata": {
    "ExecuteTime": {
     "end_time": "2023-01-06T17:01:01.507331Z",
     "start_time": "2023-01-06T17:01:01.427792Z"
    }
   },
   "outputs": [],
   "source": [
    "# ajout de la variable ville == langue\n",
    "lang_cit = True\n",
    "\n",
    "if lang_cit == True: \n",
    "    dic_lang = {'amsterdam':'dutch', 'copenhagen':'danish', 'madrid':'spanish', 'paris':'french', 'rome':'italian', 'sofia':'bulgarian', 'valletta':'maltese', 'vienna':'austrian' ,'vilnius':'lithuanian'}\n",
    "    data['city_language'] = data['city'].map(dic_lang)\n",
    "    data['is_same_cl'] = data['city_language']==data['language']\n",
    "    data_test['city_language'] = data_test['city'].map(dic_lang)\n",
    "    data_test['is_same_cl'] = data_test['city_language']==data_test['language']\n",
    "#     colBool += ['is_same_cl']"
   ]
  },
  {
   "cell_type": "code",
   "execution_count": null,
   "id": "1008e3f6",
   "metadata": {
    "ExecuteTime": {
     "end_time": "2023-01-06T17:01:01.632857Z",
     "start_time": "2023-01-06T17:01:01.509657Z"
    }
   },
   "outputs": [],
   "source": [
    "col = ['city', 'date', 'language', 'mobile', 'request_number', 'stock', 'group', 'brand', 'parking', 'pool','children_policy', 'is_same_cl', 'price']\n",
    "data = data[col]\n",
    "data_test = data_test[col[:-1]]"
   ]
  },
  {
   "cell_type": "code",
   "execution_count": null,
   "id": "c3212187",
   "metadata": {
    "ExecuteTime": {
     "end_time": "2023-01-06T17:01:01.636720Z",
     "start_time": "2023-01-06T17:01:01.633934Z"
    }
   },
   "outputs": [],
   "source": [
    "def additive_smoothing(x,alpha= 1.96):\n",
    "    \"\"\" alpha = 1.96 borne à 95% pour la loi normale  \"\"\"\n",
    "    moy = (x+alpha).mean()\n",
    "    d = x.max()-x.min()\n",
    "    N = x.count()\n",
    "    return N*moy/(N+alpha*d)\n",
    "\n",
    "additive_smoothing.__name__ = 'additive_smoothing'"
   ]
  },
  {
   "cell_type": "code",
   "execution_count": null,
   "id": "192c18d2",
   "metadata": {
    "ExecuteTime": {
     "end_time": "2023-01-06T17:01:01.646168Z",
     "start_time": "2023-01-06T17:01:01.638312Z"
    }
   },
   "outputs": [],
   "source": [
    "colQT = ['request_number', 'stock', 'date']\n",
    "notQT = ['city', 'language', 'mobile', 'group', 'brand', 'parking', 'pool','children_policy', 'is_same_cl'] "
   ]
  },
  {
   "cell_type": "code",
   "execution_count": null,
   "id": "6b176fe9",
   "metadata": {
    "ExecuteTime": {
     "end_time": "2023-01-06T17:01:03.959177Z",
     "start_time": "2023-01-06T17:01:01.647260Z"
    }
   },
   "outputs": [],
   "source": [
    "for i in notQT:\n",
    "    df_tmp = data[[i, 'price']].groupby(i).agg({'price': ['mean', 'var', additive_smoothing]}).price\n",
    "    df_tmp = df_tmp.add_suffix('_' + i)\n",
    "    colQT += list(df_tmp.columns.unique())\n",
    "    data = data.join(df_tmp, on=i)\n",
    "    data_test = data_test.join(df_tmp, on=i)"
   ]
  },
  {
   "cell_type": "code",
   "execution_count": null,
   "id": "3bce180e",
   "metadata": {
    "ExecuteTime": {
     "end_time": "2023-01-06T17:01:03.962778Z",
     "start_time": "2023-01-06T17:01:03.960297Z"
    }
   },
   "outputs": [],
   "source": [
    "colQT += ['price']"
   ]
  },
  {
   "cell_type": "code",
   "execution_count": null,
   "id": "b5310c57",
   "metadata": {
    "ExecuteTime": {
     "end_time": "2023-01-06T17:01:04.097115Z",
     "start_time": "2023-01-06T17:01:03.964214Z"
    }
   },
   "outputs": [],
   "source": [
    "df = data[colQT[:-1]]\n",
    "df_test = data_test[colQT[:-1]]\n",
    "y = data[colQT[-1]]"
   ]
  },
  {
   "cell_type": "markdown",
   "id": "df2361e4",
   "metadata": {},
   "source": [
    "# xgboost"
   ]
  },
  {
   "cell_type": "code",
   "execution_count": null,
   "id": "7f3e8116",
   "metadata": {
    "ExecuteTime": {
     "end_time": "2023-01-06T17:08:59.272754Z",
     "start_time": "2023-01-06T17:02:16.168713Z"
    }
   },
   "outputs": [],
   "source": [
    "import xgboost as xgb\n",
    "\n",
    "X_train_xgb, y_xgb, X_test_xgb = df, y, df_test\n",
    "\n",
    "# dtrain = xgb.DMatrix(X_train_xgb, label=y_xgb)\n",
    "# dtest = xgb.DMatrix(X_test_xgb, label=y_test)\n",
    "\n",
    "model = xgb.XGBRegressor(max_depth = 4,\n",
    "                         learning_rate = 0.08,\n",
    "                         n_estimators = 5000,\n",
    "                         subsample = 0.23,\n",
    "                         objective = 'reg:squarederror',\n",
    "                         gamma = 2.5,\n",
    "                         colsample_bytree = 0.223,\n",
    "                         n_jobs = -1)\n",
    "\n",
    "model.fit(X_train_xgb, y_xgb)"
   ]
  },
  {
   "cell_type": "code",
   "execution_count": null,
   "id": "283fce34",
   "metadata": {
    "ExecuteTime": {
     "end_time": "2023-01-06T17:09:17.986853Z",
     "start_time": "2023-01-06T17:09:17.921418Z"
    }
   },
   "outputs": [],
   "source": [
    "y_pred = model.predict(X_test_xgb)"
   ]
  },
  {
   "cell_type": "code",
   "execution_count": null,
   "id": "856d4e8e",
   "metadata": {
    "ExecuteTime": {
     "end_time": "2023-01-06T17:09:26.069950Z",
     "start_time": "2023-01-06T17:09:26.062004Z"
    }
   },
   "outputs": [],
   "source": [
    "y_pred"
   ]
  },
  {
   "cell_type": "code",
   "execution_count": null,
   "id": "a2819a97",
   "metadata": {
    "ExecuteTime": {
     "end_time": "2023-01-06T17:12:42.479656Z",
     "start_time": "2023-01-06T17:12:42.135666Z"
    }
   },
   "outputs": [],
   "source": [
    "from joblib import dump, load\n",
    "dump(model, '../model/xgb.pkl')"
   ]
  },
  {
   "cell_type": "markdown",
   "id": "4db7204c",
   "metadata": {},
   "source": [
    "# Submit"
   ]
  },
  {
   "cell_type": "code",
   "execution_count": null,
   "id": "963c81ba",
   "metadata": {
    "ExecuteTime": {
     "end_time": "2023-01-06T17:09:55.288720Z",
     "start_time": "2023-01-06T17:09:55.280819Z"
    }
   },
   "outputs": [],
   "source": [
    "predictions = y_pred"
   ]
  },
  {
   "cell_type": "code",
   "execution_count": null,
   "id": "d28abce0",
   "metadata": {
    "ExecuteTime": {
     "end_time": "2023-01-06T17:10:01.955009Z",
     "start_time": "2023-01-06T17:10:01.937198Z"
    }
   },
   "outputs": [],
   "source": [
    "# save\n",
    "_round = False # tester aussi des arrondis au dessus ou en dessous\n",
    "\n",
    "name = 'xgb'\n",
    "\n",
    "if _round : y_pred = np.round(predictions)\n",
    "else : y_pred = predictions.copy()\n",
    "\n",
    "sub = pd.DataFrame(y_pred)\n",
    "sub.to_csv(path + 'submit/' + name + '.csv',index=True, header=['price'], index_label = 'index')"
   ]
  },
  {
   "cell_type": "code",
   "execution_count": null,
   "id": "9d3d7388",
   "metadata": {},
   "outputs": [],
   "source": []
  }
 ],
 "metadata": {
  "kernelspec": {
   "display_name": "Python 3 (ipykernel)",
   "language": "python",
   "name": "python3"
  },
  "language_info": {
   "codemirror_mode": {
    "name": "ipython",
    "version": 3
   },
   "file_extension": ".py",
   "mimetype": "text/x-python",
   "name": "python",
   "nbconvert_exporter": "python",
   "pygments_lexer": "ipython3",
   "version": "3.9.12"
  },
  "toc": {
   "base_numbering": 1,
   "nav_menu": {},
   "number_sections": true,
   "sideBar": true,
   "skip_h1_title": false,
   "title_cell": "Table of Contents",
   "title_sidebar": "Contents",
   "toc_cell": false,
   "toc_position": {},
   "toc_section_display": true,
   "toc_window_display": false
  },
  "varInspector": {
   "cols": {
    "lenName": 16,
    "lenType": 16,
    "lenVar": 40
   },
   "kernels_config": {
    "python": {
     "delete_cmd_postfix": "",
     "delete_cmd_prefix": "del ",
     "library": "var_list.py",
     "varRefreshCmd": "print(var_dic_list())"
    },
    "r": {
     "delete_cmd_postfix": ") ",
     "delete_cmd_prefix": "rm(",
     "library": "var_list.r",
     "varRefreshCmd": "cat(var_dic_list()) "
    }
   },
   "types_to_exclude": [
    "module",
    "function",
    "builtin_function_or_method",
    "instance",
    "_Feature"
   ],
   "window_display": false
  }
 },
 "nbformat": 4,
 "nbformat_minor": 5
}
