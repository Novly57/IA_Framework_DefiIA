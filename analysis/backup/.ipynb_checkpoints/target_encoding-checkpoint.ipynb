{
 "cells": [
  {
   "cell_type": "markdown",
   "id": "7b304eb1",
   "metadata": {},
   "source": [
    "# Data preparation"
   ]
  },
  {
   "cell_type": "code",
   "execution_count": 2,
   "id": "6f67dea0",
   "metadata": {
    "ExecuteTime": {
     "end_time": "2023-01-09T18:30:04.179524Z",
     "start_time": "2023-01-09T18:30:04.176504Z"
    }
   },
   "outputs": [],
   "source": [
    "import pandas as pd\n",
    "import numpy as np "
   ]
  },
  {
   "cell_type": "code",
   "execution_count": 3,
   "id": "80853c49",
   "metadata": {
    "ExecuteTime": {
     "end_time": "2023-01-09T18:30:05.539294Z",
     "start_time": "2023-01-09T18:30:04.676250Z"
    }
   },
   "outputs": [],
   "source": [
    "path = '../../data/' \n",
    "hotels = pd.read_csv(path + '/features_hotels.csv')\n",
    "data = pd.read_csv(path + 'data.csv')\n",
    "data_test = pd.read_csv(path + 'test_set.csv')"
   ]
  },
  {
   "cell_type": "code",
   "execution_count": 4,
   "id": "75cdefca",
   "metadata": {
    "ExecuteTime": {
     "end_time": "2023-01-09T18:30:06.436998Z",
     "start_time": "2023-01-09T18:30:06.252740Z"
    }
   },
   "outputs": [
    {
     "name": "stdout",
     "output_type": "stream",
     "text": [
      "Nombre de requêtes uniques : 8329\n"
     ]
    }
   ],
   "source": [
    "to_exclude = data[['city', 'language','mobile','request_number','date']].drop_duplicates()\n",
    "# to_exclude.to_csv('to_exclude.csv', index = False)\n",
    "print('Nombre de requêtes uniques :', to_exclude.shape[0])"
   ]
  },
  {
   "cell_type": "code",
   "execution_count": 5,
   "id": "14ddd471",
   "metadata": {
    "ExecuteTime": {
     "end_time": "2023-01-09T18:30:06.692893Z",
     "start_time": "2023-01-09T18:30:06.612640Z"
    }
   },
   "outputs": [
    {
     "name": "stdout",
     "output_type": "stream",
     "text": [
      "Estimation du nombre total de requêtes : 11171\n"
     ]
    }
   ],
   "source": [
    "tot = 0 \n",
    "for i in range(7):\n",
    "    tot += np.unique(data.loc[data.request_number == i].avatar_id.values).shape[0]\n",
    "\n",
    "print('Estimation du nombre total de requêtes :', tot)"
   ]
  },
  {
   "cell_type": "code",
   "execution_count": 6,
   "id": "f193c5d1",
   "metadata": {
    "ExecuteTime": {
     "end_time": "2023-01-09T18:30:07.070885Z",
     "start_time": "2023-01-09T18:30:07.012469Z"
    }
   },
   "outputs": [],
   "source": [
    "# exclusion des avatar posant problème\n",
    "# data = data.drop(index = data.loc[data.avatar_id == 134].index)\n",
    "# to_drop = [108,134,135,136,137,138,141]\n",
    "to_drop = [134]\n",
    "data = data.loc[~data.avatar_id.isin(to_drop)]"
   ]
  },
  {
   "cell_type": "code",
   "execution_count": 7,
   "id": "88d716f9",
   "metadata": {
    "ExecuteTime": {
     "end_time": "2023-01-09T18:30:07.516448Z",
     "start_time": "2023-01-09T18:30:07.255407Z"
    }
   },
   "outputs": [],
   "source": [
    "data = data.drop(['avatar_id'], axis = 1).drop_duplicates()"
   ]
  },
  {
   "cell_type": "code",
   "execution_count": 8,
   "id": "a7a5cd79",
   "metadata": {
    "ExecuteTime": {
     "end_time": "2023-01-09T18:30:07.938468Z",
     "start_time": "2023-01-09T18:30:07.712357Z"
    }
   },
   "outputs": [],
   "source": [
    "# ajout des caractéristiques des hotels\n",
    "data = data.merge(hotels, on=['hotel_id','city'])\n",
    "data_test = data_test.merge(hotels, on=['hotel_id','city'])\n",
    "data_test = data_test.sort_values('index').reset_index(drop=True).drop(['index'], axis = 1)"
   ]
  },
  {
   "cell_type": "code",
   "execution_count": 9,
   "id": "93c494ab",
   "metadata": {
    "ExecuteTime": {
     "end_time": "2023-01-09T18:30:08.970313Z",
     "start_time": "2023-01-09T18:30:08.465092Z"
    }
   },
   "outputs": [],
   "source": [
    "# création de la colonne request_number dans le test set\n",
    "data_test['request_number'] = 1\n",
    "for avatar in np.unique(data_test['avatar_id']):\n",
    "    data_test.loc[data_test['avatar_id'] == avatar, 'request_number'] = data_test['order_requests'].loc[data_test['avatar_id']== avatar] - min(data_test['order_requests'].loc[data_test['avatar_id']== avatar])+1"
   ]
  },
  {
   "cell_type": "code",
   "execution_count": 10,
   "id": "426bd959",
   "metadata": {
    "ExecuteTime": {
     "end_time": "2023-01-09T18:30:09.173253Z",
     "start_time": "2023-01-09T18:30:09.082206Z"
    }
   },
   "outputs": [],
   "source": [
    "# ajout de la variable ville == langue\n",
    "lang_cit = True\n",
    "\n",
    "if lang_cit == True: \n",
    "    dic_lang = {'amsterdam':'dutch', 'copenhagen':'danish', 'madrid':'spanish', 'paris':'french', 'rome':'italian', 'sofia':'bulgarian', 'valletta':'maltese', 'vienna':'austrian' ,'vilnius':'lithuanian'}\n",
    "    data['city_language'] = data['city'].map(dic_lang)\n",
    "    data['is_same_cl'] = data['city_language']==data['language']\n",
    "    data_test['city_language'] = data_test['city'].map(dic_lang)\n",
    "    data_test['is_same_cl'] = data_test['city_language']==data_test['language']\n",
    "#     colBool += ['is_same_cl']"
   ]
  },
  {
   "cell_type": "code",
   "execution_count": 11,
   "id": "1008e3f6",
   "metadata": {
    "ExecuteTime": {
     "end_time": "2023-01-09T18:30:09.452366Z",
     "start_time": "2023-01-09T18:30:09.307479Z"
    }
   },
   "outputs": [],
   "source": [
    "col = ['city', 'date', 'language', 'mobile', 'request_number', 'stock', 'group', 'brand', 'parking', 'pool','children_policy', 'is_same_cl', 'price']\n",
    "data = data[col]\n",
    "data_test = data_test[col[:-1]]"
   ]
  },
  {
   "cell_type": "code",
   "execution_count": 12,
   "id": "c3212187",
   "metadata": {
    "ExecuteTime": {
     "end_time": "2023-01-09T18:30:09.591115Z",
     "start_time": "2023-01-09T18:30:09.588016Z"
    }
   },
   "outputs": [],
   "source": [
    "def additive_smoothing(x,alpha= 1.96):\n",
    "    \"\"\" alpha = 1.96 borne à 95% pour la loi normale  \"\"\"\n",
    "    moy = (x+alpha).mean()\n",
    "    d = x.max()-x.min()\n",
    "    N = x.count()\n",
    "    return N*moy/(N+alpha*d)\n",
    "\n",
    "additive_smoothing.__name__ = 'additive_smoothing'"
   ]
  },
  {
   "cell_type": "code",
   "execution_count": 13,
   "id": "192c18d2",
   "metadata": {
    "ExecuteTime": {
     "end_time": "2023-01-09T18:30:10.032478Z",
     "start_time": "2023-01-09T18:30:10.027547Z"
    }
   },
   "outputs": [],
   "source": [
    "colQT = ['request_number', 'stock', 'date']\n",
    "notQT = ['city', 'language', 'mobile', 'group', 'brand', 'parking', 'pool','children_policy', 'is_same_cl'] "
   ]
  },
  {
   "cell_type": "code",
   "execution_count": 14,
   "id": "6b176fe9",
   "metadata": {
    "ExecuteTime": {
     "end_time": "2023-01-09T18:30:13.255223Z",
     "start_time": "2023-01-09T18:30:11.070295Z"
    }
   },
   "outputs": [],
   "source": [
    "for i in notQT:\n",
    "    df_tmp = data[[i, 'price']].groupby(i).agg({'price': ['mean', 'var', additive_smoothing]}).price\n",
    "    df_tmp = df_tmp.add_suffix('_' + i)\n",
    "    colQT += list(df_tmp.columns.unique())\n",
    "    data = data.join(df_tmp, on=i)\n",
    "    data_test = data_test.join(df_tmp, on=i)"
   ]
  },
  {
   "cell_type": "code",
   "execution_count": 15,
   "id": "3bce180e",
   "metadata": {
    "ExecuteTime": {
     "end_time": "2023-01-09T18:30:13.936505Z",
     "start_time": "2023-01-09T18:30:13.934400Z"
    }
   },
   "outputs": [],
   "source": [
    "colQT += ['price']"
   ]
  },
  {
   "cell_type": "code",
   "execution_count": 16,
   "id": "b5310c57",
   "metadata": {
    "ExecuteTime": {
     "end_time": "2023-01-09T18:30:14.823985Z",
     "start_time": "2023-01-09T18:30:14.651366Z"
    }
   },
   "outputs": [],
   "source": [
    "df = data[colQT[:-1]]\n",
    "df_test = data_test[colQT[:-1]]\n",
    "y = data[colQT[-1]]"
   ]
  },
  {
   "cell_type": "code",
   "execution_count": 17,
   "id": "00b83602",
   "metadata": {
    "ExecuteTime": {
     "end_time": "2023-01-09T18:30:16.251525Z",
     "start_time": "2023-01-09T18:30:16.248999Z"
    }
   },
   "outputs": [],
   "source": [
    "X_train = df\n",
    "X_test = df_test\n",
    "Y_train = y\n",
    "Y_test = None"
   ]
  },
  {
   "cell_type": "code",
   "execution_count": 18,
   "id": "93e76272",
   "metadata": {
    "ExecuteTime": {
     "end_time": "2023-01-09T18:30:18.158877Z",
     "start_time": "2023-01-09T18:30:18.157215Z"
    }
   },
   "outputs": [],
   "source": [
    "# pd.read_csv('test.csv')"
   ]
  },
  {
   "cell_type": "markdown",
   "id": "df2361e4",
   "metadata": {},
   "source": [
    "# GBR"
   ]
  },
  {
   "cell_type": "code",
   "execution_count": 19,
   "id": "90c6732d",
   "metadata": {
    "ExecuteTime": {
     "end_time": "2023-01-09T18:30:20.415444Z",
     "start_time": "2023-01-09T18:30:20.210935Z"
    }
   },
   "outputs": [
    {
     "data": {
      "text/html": [
       "<div>\n",
       "<style scoped>\n",
       "    .dataframe tbody tr th:only-of-type {\n",
       "        vertical-align: middle;\n",
       "    }\n",
       "\n",
       "    .dataframe tbody tr th {\n",
       "        vertical-align: top;\n",
       "    }\n",
       "\n",
       "    .dataframe thead th {\n",
       "        text-align: right;\n",
       "    }\n",
       "</style>\n",
       "<table border=\"1\" class=\"dataframe\">\n",
       "  <thead>\n",
       "    <tr style=\"text-align: right;\">\n",
       "      <th></th>\n",
       "      <th>request_number</th>\n",
       "      <th>stock</th>\n",
       "      <th>date</th>\n",
       "      <th>mean_city</th>\n",
       "      <th>var_city</th>\n",
       "      <th>additive_smoothing_city</th>\n",
       "      <th>mean_language</th>\n",
       "      <th>var_language</th>\n",
       "      <th>additive_smoothing_language</th>\n",
       "      <th>mean_mobile</th>\n",
       "      <th>...</th>\n",
       "      <th>additive_smoothing_parking</th>\n",
       "      <th>mean_pool</th>\n",
       "      <th>var_pool</th>\n",
       "      <th>additive_smoothing_pool</th>\n",
       "      <th>mean_children_policy</th>\n",
       "      <th>var_children_policy</th>\n",
       "      <th>additive_smoothing_children_policy</th>\n",
       "      <th>mean_is_same_cl</th>\n",
       "      <th>var_is_same_cl</th>\n",
       "      <th>additive_smoothing_is_same_cl</th>\n",
       "    </tr>\n",
       "  </thead>\n",
       "  <tbody>\n",
       "    <tr>\n",
       "      <th>0</th>\n",
       "      <td>1</td>\n",
       "      <td>3</td>\n",
       "      <td>12</td>\n",
       "      <td>165.55173</td>\n",
       "      <td>5985.767282</td>\n",
       "      <td>166.516354</td>\n",
       "      <td>154.748637</td>\n",
       "      <td>5999.095160</td>\n",
       "      <td>150.843929</td>\n",
       "      <td>159.610475</td>\n",
       "      <td>...</td>\n",
       "      <td>162.905065</td>\n",
       "      <td>142.144634</td>\n",
       "      <td>4905.884746</td>\n",
       "      <td>143.917897</td>\n",
       "      <td>157.313797</td>\n",
       "      <td>6680.118848</td>\n",
       "      <td>159.092193</td>\n",
       "      <td>160.002779</td>\n",
       "      <td>6871.253349</td>\n",
       "      <td>161.778872</td>\n",
       "    </tr>\n",
       "    <tr>\n",
       "      <th>1</th>\n",
       "      <td>1</td>\n",
       "      <td>15</td>\n",
       "      <td>27</td>\n",
       "      <td>165.55173</td>\n",
       "      <td>5985.767282</td>\n",
       "      <td>166.516354</td>\n",
       "      <td>159.636337</td>\n",
       "      <td>6808.807107</td>\n",
       "      <td>158.623704</td>\n",
       "      <td>160.026551</td>\n",
       "      <td>...</td>\n",
       "      <td>162.905065</td>\n",
       "      <td>142.144634</td>\n",
       "      <td>4905.884746</td>\n",
       "      <td>143.917897</td>\n",
       "      <td>157.313797</td>\n",
       "      <td>6680.118848</td>\n",
       "      <td>159.092193</td>\n",
       "      <td>160.002779</td>\n",
       "      <td>6871.253349</td>\n",
       "      <td>161.778872</td>\n",
       "    </tr>\n",
       "    <tr>\n",
       "      <th>2</th>\n",
       "      <td>1</td>\n",
       "      <td>2</td>\n",
       "      <td>11</td>\n",
       "      <td>165.55173</td>\n",
       "      <td>5985.767282</td>\n",
       "      <td>166.516354</td>\n",
       "      <td>156.157476</td>\n",
       "      <td>6641.903925</td>\n",
       "      <td>155.367276</td>\n",
       "      <td>159.610475</td>\n",
       "      <td>...</td>\n",
       "      <td>162.905065</td>\n",
       "      <td>142.144634</td>\n",
       "      <td>4905.884746</td>\n",
       "      <td>143.917897</td>\n",
       "      <td>157.313797</td>\n",
       "      <td>6680.118848</td>\n",
       "      <td>159.092193</td>\n",
       "      <td>160.002779</td>\n",
       "      <td>6871.253349</td>\n",
       "      <td>161.778872</td>\n",
       "    </tr>\n",
       "    <tr>\n",
       "      <th>3</th>\n",
       "      <td>1</td>\n",
       "      <td>14</td>\n",
       "      <td>26</td>\n",
       "      <td>165.55173</td>\n",
       "      <td>5985.767282</td>\n",
       "      <td>166.516354</td>\n",
       "      <td>158.518461</td>\n",
       "      <td>6578.472846</td>\n",
       "      <td>154.689115</td>\n",
       "      <td>160.026551</td>\n",
       "      <td>...</td>\n",
       "      <td>162.905065</td>\n",
       "      <td>142.144634</td>\n",
       "      <td>4905.884746</td>\n",
       "      <td>143.917897</td>\n",
       "      <td>157.313797</td>\n",
       "      <td>6680.118848</td>\n",
       "      <td>159.092193</td>\n",
       "      <td>160.002779</td>\n",
       "      <td>6871.253349</td>\n",
       "      <td>161.778872</td>\n",
       "    </tr>\n",
       "    <tr>\n",
       "      <th>4</th>\n",
       "      <td>1</td>\n",
       "      <td>13</td>\n",
       "      <td>25</td>\n",
       "      <td>165.55173</td>\n",
       "      <td>5985.767282</td>\n",
       "      <td>166.516354</td>\n",
       "      <td>156.713749</td>\n",
       "      <td>6541.710854</td>\n",
       "      <td>152.944919</td>\n",
       "      <td>159.610475</td>\n",
       "      <td>...</td>\n",
       "      <td>162.905065</td>\n",
       "      <td>142.144634</td>\n",
       "      <td>4905.884746</td>\n",
       "      <td>143.917897</td>\n",
       "      <td>157.313797</td>\n",
       "      <td>6680.118848</td>\n",
       "      <td>159.092193</td>\n",
       "      <td>160.002779</td>\n",
       "      <td>6871.253349</td>\n",
       "      <td>161.778872</td>\n",
       "    </tr>\n",
       "    <tr>\n",
       "      <th>...</th>\n",
       "      <td>...</td>\n",
       "      <td>...</td>\n",
       "      <td>...</td>\n",
       "      <td>...</td>\n",
       "      <td>...</td>\n",
       "      <td>...</td>\n",
       "      <td>...</td>\n",
       "      <td>...</td>\n",
       "      <td>...</td>\n",
       "      <td>...</td>\n",
       "      <td>...</td>\n",
       "      <td>...</td>\n",
       "      <td>...</td>\n",
       "      <td>...</td>\n",
       "      <td>...</td>\n",
       "      <td>...</td>\n",
       "      <td>...</td>\n",
       "      <td>...</td>\n",
       "      <td>...</td>\n",
       "      <td>...</td>\n",
       "      <td>...</td>\n",
       "    </tr>\n",
       "    <tr>\n",
       "      <th>916700</th>\n",
       "      <td>1</td>\n",
       "      <td>84</td>\n",
       "      <td>39</td>\n",
       "      <td>165.55173</td>\n",
       "      <td>5985.767282</td>\n",
       "      <td>166.516354</td>\n",
       "      <td>164.508062</td>\n",
       "      <td>7283.720668</td>\n",
       "      <td>159.483584</td>\n",
       "      <td>159.610475</td>\n",
       "      <td>...</td>\n",
       "      <td>162.905065</td>\n",
       "      <td>142.144634</td>\n",
       "      <td>4905.884746</td>\n",
       "      <td>143.917897</td>\n",
       "      <td>157.313797</td>\n",
       "      <td>6680.118848</td>\n",
       "      <td>159.092193</td>\n",
       "      <td>160.002779</td>\n",
       "      <td>6871.253349</td>\n",
       "      <td>161.778872</td>\n",
       "    </tr>\n",
       "    <tr>\n",
       "      <th>916701</th>\n",
       "      <td>1</td>\n",
       "      <td>84</td>\n",
       "      <td>39</td>\n",
       "      <td>165.55173</td>\n",
       "      <td>5985.767282</td>\n",
       "      <td>166.516354</td>\n",
       "      <td>156.456098</td>\n",
       "      <td>6441.953525</td>\n",
       "      <td>153.253943</td>\n",
       "      <td>160.026551</td>\n",
       "      <td>...</td>\n",
       "      <td>162.905065</td>\n",
       "      <td>142.144634</td>\n",
       "      <td>4905.884746</td>\n",
       "      <td>143.917897</td>\n",
       "      <td>157.313797</td>\n",
       "      <td>6680.118848</td>\n",
       "      <td>159.092193</td>\n",
       "      <td>160.002779</td>\n",
       "      <td>6871.253349</td>\n",
       "      <td>161.778872</td>\n",
       "    </tr>\n",
       "    <tr>\n",
       "      <th>916702</th>\n",
       "      <td>1</td>\n",
       "      <td>110</td>\n",
       "      <td>44</td>\n",
       "      <td>165.55173</td>\n",
       "      <td>5985.767282</td>\n",
       "      <td>166.516354</td>\n",
       "      <td>165.404823</td>\n",
       "      <td>7131.140515</td>\n",
       "      <td>164.022882</td>\n",
       "      <td>160.026551</td>\n",
       "      <td>...</td>\n",
       "      <td>162.905065</td>\n",
       "      <td>142.144634</td>\n",
       "      <td>4905.884746</td>\n",
       "      <td>143.917897</td>\n",
       "      <td>157.313797</td>\n",
       "      <td>6680.118848</td>\n",
       "      <td>159.092193</td>\n",
       "      <td>160.002779</td>\n",
       "      <td>6871.253349</td>\n",
       "      <td>161.778872</td>\n",
       "    </tr>\n",
       "    <tr>\n",
       "      <th>916703</th>\n",
       "      <td>1</td>\n",
       "      <td>104</td>\n",
       "      <td>43</td>\n",
       "      <td>165.55173</td>\n",
       "      <td>5985.767282</td>\n",
       "      <td>166.516354</td>\n",
       "      <td>155.846236</td>\n",
       "      <td>6642.503216</td>\n",
       "      <td>152.507311</td>\n",
       "      <td>159.610475</td>\n",
       "      <td>...</td>\n",
       "      <td>162.905065</td>\n",
       "      <td>142.144634</td>\n",
       "      <td>4905.884746</td>\n",
       "      <td>143.917897</td>\n",
       "      <td>157.313797</td>\n",
       "      <td>6680.118848</td>\n",
       "      <td>159.092193</td>\n",
       "      <td>160.002779</td>\n",
       "      <td>6871.253349</td>\n",
       "      <td>161.778872</td>\n",
       "    </tr>\n",
       "    <tr>\n",
       "      <th>916704</th>\n",
       "      <td>1</td>\n",
       "      <td>110</td>\n",
       "      <td>44</td>\n",
       "      <td>165.55173</td>\n",
       "      <td>5985.767282</td>\n",
       "      <td>166.516354</td>\n",
       "      <td>159.243063</td>\n",
       "      <td>7040.080746</td>\n",
       "      <td>154.355552</td>\n",
       "      <td>159.610475</td>\n",
       "      <td>...</td>\n",
       "      <td>162.905065</td>\n",
       "      <td>142.144634</td>\n",
       "      <td>4905.884746</td>\n",
       "      <td>143.917897</td>\n",
       "      <td>157.313797</td>\n",
       "      <td>6680.118848</td>\n",
       "      <td>159.092193</td>\n",
       "      <td>160.002779</td>\n",
       "      <td>6871.253349</td>\n",
       "      <td>161.778872</td>\n",
       "    </tr>\n",
       "  </tbody>\n",
       "</table>\n",
       "<p>916705 rows × 30 columns</p>\n",
       "</div>"
      ],
      "text/plain": [
       "        request_number  stock  date  mean_city     var_city  \\\n",
       "0                    1      3    12  165.55173  5985.767282   \n",
       "1                    1     15    27  165.55173  5985.767282   \n",
       "2                    1      2    11  165.55173  5985.767282   \n",
       "3                    1     14    26  165.55173  5985.767282   \n",
       "4                    1     13    25  165.55173  5985.767282   \n",
       "...                ...    ...   ...        ...          ...   \n",
       "916700               1     84    39  165.55173  5985.767282   \n",
       "916701               1     84    39  165.55173  5985.767282   \n",
       "916702               1    110    44  165.55173  5985.767282   \n",
       "916703               1    104    43  165.55173  5985.767282   \n",
       "916704               1    110    44  165.55173  5985.767282   \n",
       "\n",
       "        additive_smoothing_city  mean_language  var_language  \\\n",
       "0                    166.516354     154.748637   5999.095160   \n",
       "1                    166.516354     159.636337   6808.807107   \n",
       "2                    166.516354     156.157476   6641.903925   \n",
       "3                    166.516354     158.518461   6578.472846   \n",
       "4                    166.516354     156.713749   6541.710854   \n",
       "...                         ...            ...           ...   \n",
       "916700               166.516354     164.508062   7283.720668   \n",
       "916701               166.516354     156.456098   6441.953525   \n",
       "916702               166.516354     165.404823   7131.140515   \n",
       "916703               166.516354     155.846236   6642.503216   \n",
       "916704               166.516354     159.243063   7040.080746   \n",
       "\n",
       "        additive_smoothing_language  mean_mobile  ...  \\\n",
       "0                        150.843929   159.610475  ...   \n",
       "1                        158.623704   160.026551  ...   \n",
       "2                        155.367276   159.610475  ...   \n",
       "3                        154.689115   160.026551  ...   \n",
       "4                        152.944919   159.610475  ...   \n",
       "...                             ...          ...  ...   \n",
       "916700                   159.483584   159.610475  ...   \n",
       "916701                   153.253943   160.026551  ...   \n",
       "916702                   164.022882   160.026551  ...   \n",
       "916703                   152.507311   159.610475  ...   \n",
       "916704                   154.355552   159.610475  ...   \n",
       "\n",
       "        additive_smoothing_parking   mean_pool     var_pool  \\\n",
       "0                       162.905065  142.144634  4905.884746   \n",
       "1                       162.905065  142.144634  4905.884746   \n",
       "2                       162.905065  142.144634  4905.884746   \n",
       "3                       162.905065  142.144634  4905.884746   \n",
       "4                       162.905065  142.144634  4905.884746   \n",
       "...                            ...         ...          ...   \n",
       "916700                  162.905065  142.144634  4905.884746   \n",
       "916701                  162.905065  142.144634  4905.884746   \n",
       "916702                  162.905065  142.144634  4905.884746   \n",
       "916703                  162.905065  142.144634  4905.884746   \n",
       "916704                  162.905065  142.144634  4905.884746   \n",
       "\n",
       "        additive_smoothing_pool  mean_children_policy  var_children_policy  \\\n",
       "0                    143.917897            157.313797          6680.118848   \n",
       "1                    143.917897            157.313797          6680.118848   \n",
       "2                    143.917897            157.313797          6680.118848   \n",
       "3                    143.917897            157.313797          6680.118848   \n",
       "4                    143.917897            157.313797          6680.118848   \n",
       "...                         ...                   ...                  ...   \n",
       "916700               143.917897            157.313797          6680.118848   \n",
       "916701               143.917897            157.313797          6680.118848   \n",
       "916702               143.917897            157.313797          6680.118848   \n",
       "916703               143.917897            157.313797          6680.118848   \n",
       "916704               143.917897            157.313797          6680.118848   \n",
       "\n",
       "        additive_smoothing_children_policy  mean_is_same_cl  var_is_same_cl  \\\n",
       "0                               159.092193       160.002779     6871.253349   \n",
       "1                               159.092193       160.002779     6871.253349   \n",
       "2                               159.092193       160.002779     6871.253349   \n",
       "3                               159.092193       160.002779     6871.253349   \n",
       "4                               159.092193       160.002779     6871.253349   \n",
       "...                                    ...              ...             ...   \n",
       "916700                          159.092193       160.002779     6871.253349   \n",
       "916701                          159.092193       160.002779     6871.253349   \n",
       "916702                          159.092193       160.002779     6871.253349   \n",
       "916703                          159.092193       160.002779     6871.253349   \n",
       "916704                          159.092193       160.002779     6871.253349   \n",
       "\n",
       "        additive_smoothing_is_same_cl  \n",
       "0                          161.778872  \n",
       "1                          161.778872  \n",
       "2                          161.778872  \n",
       "3                          161.778872  \n",
       "4                          161.778872  \n",
       "...                               ...  \n",
       "916700                     161.778872  \n",
       "916701                     161.778872  \n",
       "916702                     161.778872  \n",
       "916703                     161.778872  \n",
       "916704                     161.778872  \n",
       "\n",
       "[916705 rows x 30 columns]"
      ]
     },
     "execution_count": 19,
     "metadata": {},
     "output_type": "execute_result"
    }
   ],
   "source": [
    "X_train"
   ]
  },
  {
   "cell_type": "code",
   "execution_count": null,
   "id": "9c68abae",
   "metadata": {
    "ExecuteTime": {
     "end_time": "2023-01-09T15:07:05.528329Z",
     "start_time": "2023-01-09T14:55:49.890719Z"
    },
    "scrolled": false
   },
   "outputs": [],
   "source": [
    "from sklearn.ensemble import GradientBoostingRegressor\n",
    "\n",
    "GBR = GradientBoostingRegressor()\n",
    "\n",
    "GBR.set_params(learning_rate = .01,\n",
    "               max_depth = 4,\n",
    "               n_estimators = 1500,\n",
    "               validation_fraction = .1,\n",
    "               criterion = 'friedman_mse',\n",
    "               subsample = .2,\n",
    "               max_leaf_nodes = 50,\n",
    "              max_features = 1.0,\n",
    "              verbose = 1)\n",
    "\n",
    "fit = GBR.fit(X_train,Y_train)"
   ]
  },
  {
   "cell_type": "code",
   "execution_count": 25,
   "id": "81dc0b7e",
   "metadata": {
    "ExecuteTime": {
     "end_time": "2023-01-09T18:38:50.977429Z",
     "start_time": "2023-01-09T18:36:00.962889Z"
    }
   },
   "outputs": [
    {
     "name": "stdout",
     "output_type": "stream",
     "text": [
      "Fitting 5 folds for each of 3 candidates, totalling 15 fits\n"
     ]
    },
    {
     "ename": "KeyboardInterrupt",
     "evalue": "",
     "output_type": "error",
     "traceback": [
      "\u001b[0;31m---------------------------------------------------------------------------\u001b[0m",
      "\u001b[0;31mKeyboardInterrupt\u001b[0m                         Traceback (most recent call last)",
      "Input \u001b[0;32mIn [25]\u001b[0m, in \u001b[0;36m<cell line: 22>\u001b[0;34m()\u001b[0m\n\u001b[1;32m     20\u001b[0m \u001b[38;5;66;03m# Créez un objet GridSearchCV\u001b[39;00m\n\u001b[1;32m     21\u001b[0m grid_search \u001b[38;5;241m=\u001b[39m GridSearchCV(gbr, param_grid, cv\u001b[38;5;241m=\u001b[39m\u001b[38;5;241m5\u001b[39m, return_train_score\u001b[38;5;241m=\u001b[39m\u001b[38;5;28;01mTrue\u001b[39;00m, verbose \u001b[38;5;241m=\u001b[39m \u001b[38;5;28;01mTrue\u001b[39;00m)\n\u001b[0;32m---> 22\u001b[0m \u001b[43mgrid_search\u001b[49m\u001b[38;5;241;43m.\u001b[39;49m\u001b[43mfit\u001b[49m\u001b[43m(\u001b[49m\u001b[43mX_train\u001b[49m\u001b[43m,\u001b[49m\u001b[43m \u001b[49m\u001b[43mY_train\u001b[49m\u001b[43m)\u001b[49m\n",
      "File \u001b[0;32m/usr/local/insa/anaconda/lib/python3.9/site-packages/sklearn/model_selection/_search.py:875\u001b[0m, in \u001b[0;36mBaseSearchCV.fit\u001b[0;34m(self, X, y, groups, **fit_params)\u001b[0m\n\u001b[1;32m    869\u001b[0m     results \u001b[38;5;241m=\u001b[39m \u001b[38;5;28mself\u001b[39m\u001b[38;5;241m.\u001b[39m_format_results(\n\u001b[1;32m    870\u001b[0m         all_candidate_params, n_splits, all_out, all_more_results\n\u001b[1;32m    871\u001b[0m     )\n\u001b[1;32m    873\u001b[0m     \u001b[38;5;28;01mreturn\u001b[39;00m results\n\u001b[0;32m--> 875\u001b[0m \u001b[38;5;28;43mself\u001b[39;49m\u001b[38;5;241;43m.\u001b[39;49m\u001b[43m_run_search\u001b[49m\u001b[43m(\u001b[49m\u001b[43mevaluate_candidates\u001b[49m\u001b[43m)\u001b[49m\n\u001b[1;32m    877\u001b[0m \u001b[38;5;66;03m# multimetric is determined here because in the case of a callable\u001b[39;00m\n\u001b[1;32m    878\u001b[0m \u001b[38;5;66;03m# self.scoring the return type is only known after calling\u001b[39;00m\n\u001b[1;32m    879\u001b[0m first_test_score \u001b[38;5;241m=\u001b[39m all_out[\u001b[38;5;241m0\u001b[39m][\u001b[38;5;124m\"\u001b[39m\u001b[38;5;124mtest_scores\u001b[39m\u001b[38;5;124m\"\u001b[39m]\n",
      "File \u001b[0;32m/usr/local/insa/anaconda/lib/python3.9/site-packages/sklearn/model_selection/_search.py:1375\u001b[0m, in \u001b[0;36mGridSearchCV._run_search\u001b[0;34m(self, evaluate_candidates)\u001b[0m\n\u001b[1;32m   1373\u001b[0m \u001b[38;5;28;01mdef\u001b[39;00m \u001b[38;5;21m_run_search\u001b[39m(\u001b[38;5;28mself\u001b[39m, evaluate_candidates):\n\u001b[1;32m   1374\u001b[0m     \u001b[38;5;124;03m\"\"\"Search all candidates in param_grid\"\"\"\u001b[39;00m\n\u001b[0;32m-> 1375\u001b[0m     \u001b[43mevaluate_candidates\u001b[49m\u001b[43m(\u001b[49m\u001b[43mParameterGrid\u001b[49m\u001b[43m(\u001b[49m\u001b[38;5;28;43mself\u001b[39;49m\u001b[38;5;241;43m.\u001b[39;49m\u001b[43mparam_grid\u001b[49m\u001b[43m)\u001b[49m\u001b[43m)\u001b[49m\n",
      "File \u001b[0;32m/usr/local/insa/anaconda/lib/python3.9/site-packages/sklearn/model_selection/_search.py:822\u001b[0m, in \u001b[0;36mBaseSearchCV.fit.<locals>.evaluate_candidates\u001b[0;34m(candidate_params, cv, more_results)\u001b[0m\n\u001b[1;32m    814\u001b[0m \u001b[38;5;28;01mif\u001b[39;00m \u001b[38;5;28mself\u001b[39m\u001b[38;5;241m.\u001b[39mverbose \u001b[38;5;241m>\u001b[39m \u001b[38;5;241m0\u001b[39m:\n\u001b[1;32m    815\u001b[0m     \u001b[38;5;28mprint\u001b[39m(\n\u001b[1;32m    816\u001b[0m         \u001b[38;5;124m\"\u001b[39m\u001b[38;5;124mFitting \u001b[39m\u001b[38;5;132;01m{0}\u001b[39;00m\u001b[38;5;124m folds for each of \u001b[39m\u001b[38;5;132;01m{1}\u001b[39;00m\u001b[38;5;124m candidates,\u001b[39m\u001b[38;5;124m\"\u001b[39m\n\u001b[1;32m    817\u001b[0m         \u001b[38;5;124m\"\u001b[39m\u001b[38;5;124m totalling \u001b[39m\u001b[38;5;132;01m{2}\u001b[39;00m\u001b[38;5;124m fits\u001b[39m\u001b[38;5;124m\"\u001b[39m\u001b[38;5;241m.\u001b[39mformat(\n\u001b[1;32m    818\u001b[0m             n_splits, n_candidates, n_candidates \u001b[38;5;241m*\u001b[39m n_splits\n\u001b[1;32m    819\u001b[0m         )\n\u001b[1;32m    820\u001b[0m     )\n\u001b[0;32m--> 822\u001b[0m out \u001b[38;5;241m=\u001b[39m \u001b[43mparallel\u001b[49m\u001b[43m(\u001b[49m\n\u001b[1;32m    823\u001b[0m \u001b[43m    \u001b[49m\u001b[43mdelayed\u001b[49m\u001b[43m(\u001b[49m\u001b[43m_fit_and_score\u001b[49m\u001b[43m)\u001b[49m\u001b[43m(\u001b[49m\n\u001b[1;32m    824\u001b[0m \u001b[43m        \u001b[49m\u001b[43mclone\u001b[49m\u001b[43m(\u001b[49m\u001b[43mbase_estimator\u001b[49m\u001b[43m)\u001b[49m\u001b[43m,\u001b[49m\n\u001b[1;32m    825\u001b[0m \u001b[43m        \u001b[49m\u001b[43mX\u001b[49m\u001b[43m,\u001b[49m\n\u001b[1;32m    826\u001b[0m \u001b[43m        \u001b[49m\u001b[43my\u001b[49m\u001b[43m,\u001b[49m\n\u001b[1;32m    827\u001b[0m \u001b[43m        \u001b[49m\u001b[43mtrain\u001b[49m\u001b[38;5;241;43m=\u001b[39;49m\u001b[43mtrain\u001b[49m\u001b[43m,\u001b[49m\n\u001b[1;32m    828\u001b[0m \u001b[43m        \u001b[49m\u001b[43mtest\u001b[49m\u001b[38;5;241;43m=\u001b[39;49m\u001b[43mtest\u001b[49m\u001b[43m,\u001b[49m\n\u001b[1;32m    829\u001b[0m \u001b[43m        \u001b[49m\u001b[43mparameters\u001b[49m\u001b[38;5;241;43m=\u001b[39;49m\u001b[43mparameters\u001b[49m\u001b[43m,\u001b[49m\n\u001b[1;32m    830\u001b[0m \u001b[43m        \u001b[49m\u001b[43msplit_progress\u001b[49m\u001b[38;5;241;43m=\u001b[39;49m\u001b[43m(\u001b[49m\u001b[43msplit_idx\u001b[49m\u001b[43m,\u001b[49m\u001b[43m \u001b[49m\u001b[43mn_splits\u001b[49m\u001b[43m)\u001b[49m\u001b[43m,\u001b[49m\n\u001b[1;32m    831\u001b[0m \u001b[43m        \u001b[49m\u001b[43mcandidate_progress\u001b[49m\u001b[38;5;241;43m=\u001b[39;49m\u001b[43m(\u001b[49m\u001b[43mcand_idx\u001b[49m\u001b[43m,\u001b[49m\u001b[43m \u001b[49m\u001b[43mn_candidates\u001b[49m\u001b[43m)\u001b[49m\u001b[43m,\u001b[49m\n\u001b[1;32m    832\u001b[0m \u001b[43m        \u001b[49m\u001b[38;5;241;43m*\u001b[39;49m\u001b[38;5;241;43m*\u001b[39;49m\u001b[43mfit_and_score_kwargs\u001b[49m\u001b[43m,\u001b[49m\n\u001b[1;32m    833\u001b[0m \u001b[43m    \u001b[49m\u001b[43m)\u001b[49m\n\u001b[1;32m    834\u001b[0m \u001b[43m    \u001b[49m\u001b[38;5;28;43;01mfor\u001b[39;49;00m\u001b[43m \u001b[49m\u001b[43m(\u001b[49m\u001b[43mcand_idx\u001b[49m\u001b[43m,\u001b[49m\u001b[43m \u001b[49m\u001b[43mparameters\u001b[49m\u001b[43m)\u001b[49m\u001b[43m,\u001b[49m\u001b[43m \u001b[49m\u001b[43m(\u001b[49m\u001b[43msplit_idx\u001b[49m\u001b[43m,\u001b[49m\u001b[43m \u001b[49m\u001b[43m(\u001b[49m\u001b[43mtrain\u001b[49m\u001b[43m,\u001b[49m\u001b[43m \u001b[49m\u001b[43mtest\u001b[49m\u001b[43m)\u001b[49m\u001b[43m)\u001b[49m\u001b[43m \u001b[49m\u001b[38;5;129;43;01min\u001b[39;49;00m\u001b[43m \u001b[49m\u001b[43mproduct\u001b[49m\u001b[43m(\u001b[49m\n\u001b[1;32m    835\u001b[0m \u001b[43m        \u001b[49m\u001b[38;5;28;43menumerate\u001b[39;49m\u001b[43m(\u001b[49m\u001b[43mcandidate_params\u001b[49m\u001b[43m)\u001b[49m\u001b[43m,\u001b[49m\u001b[43m \u001b[49m\u001b[38;5;28;43menumerate\u001b[39;49m\u001b[43m(\u001b[49m\u001b[43mcv\u001b[49m\u001b[38;5;241;43m.\u001b[39;49m\u001b[43msplit\u001b[49m\u001b[43m(\u001b[49m\u001b[43mX\u001b[49m\u001b[43m,\u001b[49m\u001b[43m \u001b[49m\u001b[43my\u001b[49m\u001b[43m,\u001b[49m\u001b[43m \u001b[49m\u001b[43mgroups\u001b[49m\u001b[43m)\u001b[49m\u001b[43m)\u001b[49m\n\u001b[1;32m    836\u001b[0m \u001b[43m    \u001b[49m\u001b[43m)\u001b[49m\n\u001b[1;32m    837\u001b[0m \u001b[43m\u001b[49m\u001b[43m)\u001b[49m\n\u001b[1;32m    839\u001b[0m \u001b[38;5;28;01mif\u001b[39;00m \u001b[38;5;28mlen\u001b[39m(out) \u001b[38;5;241m<\u001b[39m \u001b[38;5;241m1\u001b[39m:\n\u001b[1;32m    840\u001b[0m     \u001b[38;5;28;01mraise\u001b[39;00m \u001b[38;5;167;01mValueError\u001b[39;00m(\n\u001b[1;32m    841\u001b[0m         \u001b[38;5;124m\"\u001b[39m\u001b[38;5;124mNo fits were performed. \u001b[39m\u001b[38;5;124m\"\u001b[39m\n\u001b[1;32m    842\u001b[0m         \u001b[38;5;124m\"\u001b[39m\u001b[38;5;124mWas the CV iterator empty? \u001b[39m\u001b[38;5;124m\"\u001b[39m\n\u001b[1;32m    843\u001b[0m         \u001b[38;5;124m\"\u001b[39m\u001b[38;5;124mWere there no candidates?\u001b[39m\u001b[38;5;124m\"\u001b[39m\n\u001b[1;32m    844\u001b[0m     )\n",
      "File \u001b[0;32m/usr/local/insa/anaconda/lib/python3.9/site-packages/joblib/parallel.py:1046\u001b[0m, in \u001b[0;36mParallel.__call__\u001b[0;34m(self, iterable)\u001b[0m\n\u001b[1;32m   1043\u001b[0m \u001b[38;5;28;01mif\u001b[39;00m \u001b[38;5;28mself\u001b[39m\u001b[38;5;241m.\u001b[39mdispatch_one_batch(iterator):\n\u001b[1;32m   1044\u001b[0m     \u001b[38;5;28mself\u001b[39m\u001b[38;5;241m.\u001b[39m_iterating \u001b[38;5;241m=\u001b[39m \u001b[38;5;28mself\u001b[39m\u001b[38;5;241m.\u001b[39m_original_iterator \u001b[38;5;129;01mis\u001b[39;00m \u001b[38;5;129;01mnot\u001b[39;00m \u001b[38;5;28;01mNone\u001b[39;00m\n\u001b[0;32m-> 1046\u001b[0m \u001b[38;5;28;01mwhile\u001b[39;00m \u001b[38;5;28;43mself\u001b[39;49m\u001b[38;5;241;43m.\u001b[39;49m\u001b[43mdispatch_one_batch\u001b[49m\u001b[43m(\u001b[49m\u001b[43miterator\u001b[49m\u001b[43m)\u001b[49m:\n\u001b[1;32m   1047\u001b[0m     \u001b[38;5;28;01mpass\u001b[39;00m\n\u001b[1;32m   1049\u001b[0m \u001b[38;5;28;01mif\u001b[39;00m pre_dispatch \u001b[38;5;241m==\u001b[39m \u001b[38;5;124m\"\u001b[39m\u001b[38;5;124mall\u001b[39m\u001b[38;5;124m\"\u001b[39m \u001b[38;5;129;01mor\u001b[39;00m n_jobs \u001b[38;5;241m==\u001b[39m \u001b[38;5;241m1\u001b[39m:\n\u001b[1;32m   1050\u001b[0m     \u001b[38;5;66;03m# The iterable was consumed all at once by the above for loop.\u001b[39;00m\n\u001b[1;32m   1051\u001b[0m     \u001b[38;5;66;03m# No need to wait for async callbacks to trigger to\u001b[39;00m\n\u001b[1;32m   1052\u001b[0m     \u001b[38;5;66;03m# consumption.\u001b[39;00m\n",
      "File \u001b[0;32m/usr/local/insa/anaconda/lib/python3.9/site-packages/joblib/parallel.py:861\u001b[0m, in \u001b[0;36mParallel.dispatch_one_batch\u001b[0;34m(self, iterator)\u001b[0m\n\u001b[1;32m    859\u001b[0m     \u001b[38;5;28;01mreturn\u001b[39;00m \u001b[38;5;28;01mFalse\u001b[39;00m\n\u001b[1;32m    860\u001b[0m \u001b[38;5;28;01melse\u001b[39;00m:\n\u001b[0;32m--> 861\u001b[0m     \u001b[38;5;28;43mself\u001b[39;49m\u001b[38;5;241;43m.\u001b[39;49m\u001b[43m_dispatch\u001b[49m\u001b[43m(\u001b[49m\u001b[43mtasks\u001b[49m\u001b[43m)\u001b[49m\n\u001b[1;32m    862\u001b[0m     \u001b[38;5;28;01mreturn\u001b[39;00m \u001b[38;5;28;01mTrue\u001b[39;00m\n",
      "File \u001b[0;32m/usr/local/insa/anaconda/lib/python3.9/site-packages/joblib/parallel.py:779\u001b[0m, in \u001b[0;36mParallel._dispatch\u001b[0;34m(self, batch)\u001b[0m\n\u001b[1;32m    777\u001b[0m \u001b[38;5;28;01mwith\u001b[39;00m \u001b[38;5;28mself\u001b[39m\u001b[38;5;241m.\u001b[39m_lock:\n\u001b[1;32m    778\u001b[0m     job_idx \u001b[38;5;241m=\u001b[39m \u001b[38;5;28mlen\u001b[39m(\u001b[38;5;28mself\u001b[39m\u001b[38;5;241m.\u001b[39m_jobs)\n\u001b[0;32m--> 779\u001b[0m     job \u001b[38;5;241m=\u001b[39m \u001b[38;5;28;43mself\u001b[39;49m\u001b[38;5;241;43m.\u001b[39;49m\u001b[43m_backend\u001b[49m\u001b[38;5;241;43m.\u001b[39;49m\u001b[43mapply_async\u001b[49m\u001b[43m(\u001b[49m\u001b[43mbatch\u001b[49m\u001b[43m,\u001b[49m\u001b[43m \u001b[49m\u001b[43mcallback\u001b[49m\u001b[38;5;241;43m=\u001b[39;49m\u001b[43mcb\u001b[49m\u001b[43m)\u001b[49m\n\u001b[1;32m    780\u001b[0m     \u001b[38;5;66;03m# A job can complete so quickly than its callback is\u001b[39;00m\n\u001b[1;32m    781\u001b[0m     \u001b[38;5;66;03m# called before we get here, causing self._jobs to\u001b[39;00m\n\u001b[1;32m    782\u001b[0m     \u001b[38;5;66;03m# grow. To ensure correct results ordering, .insert is\u001b[39;00m\n\u001b[1;32m    783\u001b[0m     \u001b[38;5;66;03m# used (rather than .append) in the following line\u001b[39;00m\n\u001b[1;32m    784\u001b[0m     \u001b[38;5;28mself\u001b[39m\u001b[38;5;241m.\u001b[39m_jobs\u001b[38;5;241m.\u001b[39minsert(job_idx, job)\n",
      "File \u001b[0;32m/usr/local/insa/anaconda/lib/python3.9/site-packages/joblib/_parallel_backends.py:208\u001b[0m, in \u001b[0;36mSequentialBackend.apply_async\u001b[0;34m(self, func, callback)\u001b[0m\n\u001b[1;32m    206\u001b[0m \u001b[38;5;28;01mdef\u001b[39;00m \u001b[38;5;21mapply_async\u001b[39m(\u001b[38;5;28mself\u001b[39m, func, callback\u001b[38;5;241m=\u001b[39m\u001b[38;5;28;01mNone\u001b[39;00m):\n\u001b[1;32m    207\u001b[0m     \u001b[38;5;124;03m\"\"\"Schedule a func to be run\"\"\"\u001b[39;00m\n\u001b[0;32m--> 208\u001b[0m     result \u001b[38;5;241m=\u001b[39m \u001b[43mImmediateResult\u001b[49m\u001b[43m(\u001b[49m\u001b[43mfunc\u001b[49m\u001b[43m)\u001b[49m\n\u001b[1;32m    209\u001b[0m     \u001b[38;5;28;01mif\u001b[39;00m callback:\n\u001b[1;32m    210\u001b[0m         callback(result)\n",
      "File \u001b[0;32m/usr/local/insa/anaconda/lib/python3.9/site-packages/joblib/_parallel_backends.py:572\u001b[0m, in \u001b[0;36mImmediateResult.__init__\u001b[0;34m(self, batch)\u001b[0m\n\u001b[1;32m    569\u001b[0m \u001b[38;5;28;01mdef\u001b[39;00m \u001b[38;5;21m__init__\u001b[39m(\u001b[38;5;28mself\u001b[39m, batch):\n\u001b[1;32m    570\u001b[0m     \u001b[38;5;66;03m# Don't delay the application, to avoid keeping the input\u001b[39;00m\n\u001b[1;32m    571\u001b[0m     \u001b[38;5;66;03m# arguments in memory\u001b[39;00m\n\u001b[0;32m--> 572\u001b[0m     \u001b[38;5;28mself\u001b[39m\u001b[38;5;241m.\u001b[39mresults \u001b[38;5;241m=\u001b[39m \u001b[43mbatch\u001b[49m\u001b[43m(\u001b[49m\u001b[43m)\u001b[49m\n",
      "File \u001b[0;32m/usr/local/insa/anaconda/lib/python3.9/site-packages/joblib/parallel.py:262\u001b[0m, in \u001b[0;36mBatchedCalls.__call__\u001b[0;34m(self)\u001b[0m\n\u001b[1;32m    258\u001b[0m \u001b[38;5;28;01mdef\u001b[39;00m \u001b[38;5;21m__call__\u001b[39m(\u001b[38;5;28mself\u001b[39m):\n\u001b[1;32m    259\u001b[0m     \u001b[38;5;66;03m# Set the default nested backend to self._backend but do not set the\u001b[39;00m\n\u001b[1;32m    260\u001b[0m     \u001b[38;5;66;03m# change the default number of processes to -1\u001b[39;00m\n\u001b[1;32m    261\u001b[0m     \u001b[38;5;28;01mwith\u001b[39;00m parallel_backend(\u001b[38;5;28mself\u001b[39m\u001b[38;5;241m.\u001b[39m_backend, n_jobs\u001b[38;5;241m=\u001b[39m\u001b[38;5;28mself\u001b[39m\u001b[38;5;241m.\u001b[39m_n_jobs):\n\u001b[0;32m--> 262\u001b[0m         \u001b[38;5;28;01mreturn\u001b[39;00m [func(\u001b[38;5;241m*\u001b[39margs, \u001b[38;5;241m*\u001b[39m\u001b[38;5;241m*\u001b[39mkwargs)\n\u001b[1;32m    263\u001b[0m                 \u001b[38;5;28;01mfor\u001b[39;00m func, args, kwargs \u001b[38;5;129;01min\u001b[39;00m \u001b[38;5;28mself\u001b[39m\u001b[38;5;241m.\u001b[39mitems]\n",
      "File \u001b[0;32m/usr/local/insa/anaconda/lib/python3.9/site-packages/joblib/parallel.py:262\u001b[0m, in \u001b[0;36m<listcomp>\u001b[0;34m(.0)\u001b[0m\n\u001b[1;32m    258\u001b[0m \u001b[38;5;28;01mdef\u001b[39;00m \u001b[38;5;21m__call__\u001b[39m(\u001b[38;5;28mself\u001b[39m):\n\u001b[1;32m    259\u001b[0m     \u001b[38;5;66;03m# Set the default nested backend to self._backend but do not set the\u001b[39;00m\n\u001b[1;32m    260\u001b[0m     \u001b[38;5;66;03m# change the default number of processes to -1\u001b[39;00m\n\u001b[1;32m    261\u001b[0m     \u001b[38;5;28;01mwith\u001b[39;00m parallel_backend(\u001b[38;5;28mself\u001b[39m\u001b[38;5;241m.\u001b[39m_backend, n_jobs\u001b[38;5;241m=\u001b[39m\u001b[38;5;28mself\u001b[39m\u001b[38;5;241m.\u001b[39m_n_jobs):\n\u001b[0;32m--> 262\u001b[0m         \u001b[38;5;28;01mreturn\u001b[39;00m [\u001b[43mfunc\u001b[49m\u001b[43m(\u001b[49m\u001b[38;5;241;43m*\u001b[39;49m\u001b[43margs\u001b[49m\u001b[43m,\u001b[49m\u001b[43m \u001b[49m\u001b[38;5;241;43m*\u001b[39;49m\u001b[38;5;241;43m*\u001b[39;49m\u001b[43mkwargs\u001b[49m\u001b[43m)\u001b[49m\n\u001b[1;32m    263\u001b[0m                 \u001b[38;5;28;01mfor\u001b[39;00m func, args, kwargs \u001b[38;5;129;01min\u001b[39;00m \u001b[38;5;28mself\u001b[39m\u001b[38;5;241m.\u001b[39mitems]\n",
      "File \u001b[0;32m/usr/local/insa/anaconda/lib/python3.9/site-packages/sklearn/utils/fixes.py:117\u001b[0m, in \u001b[0;36m_FuncWrapper.__call__\u001b[0;34m(self, *args, **kwargs)\u001b[0m\n\u001b[1;32m    115\u001b[0m \u001b[38;5;28;01mdef\u001b[39;00m \u001b[38;5;21m__call__\u001b[39m(\u001b[38;5;28mself\u001b[39m, \u001b[38;5;241m*\u001b[39margs, \u001b[38;5;241m*\u001b[39m\u001b[38;5;241m*\u001b[39mkwargs):\n\u001b[1;32m    116\u001b[0m     \u001b[38;5;28;01mwith\u001b[39;00m config_context(\u001b[38;5;241m*\u001b[39m\u001b[38;5;241m*\u001b[39m\u001b[38;5;28mself\u001b[39m\u001b[38;5;241m.\u001b[39mconfig):\n\u001b[0;32m--> 117\u001b[0m         \u001b[38;5;28;01mreturn\u001b[39;00m \u001b[38;5;28;43mself\u001b[39;49m\u001b[38;5;241;43m.\u001b[39;49m\u001b[43mfunction\u001b[49m\u001b[43m(\u001b[49m\u001b[38;5;241;43m*\u001b[39;49m\u001b[43margs\u001b[49m\u001b[43m,\u001b[49m\u001b[43m \u001b[49m\u001b[38;5;241;43m*\u001b[39;49m\u001b[38;5;241;43m*\u001b[39;49m\u001b[43mkwargs\u001b[49m\u001b[43m)\u001b[49m\n",
      "File \u001b[0;32m/usr/local/insa/anaconda/lib/python3.9/site-packages/sklearn/model_selection/_validation.py:686\u001b[0m, in \u001b[0;36m_fit_and_score\u001b[0;34m(estimator, X, y, scorer, train, test, verbose, parameters, fit_params, return_train_score, return_parameters, return_n_test_samples, return_times, return_estimator, split_progress, candidate_progress, error_score)\u001b[0m\n\u001b[1;32m    684\u001b[0m         estimator\u001b[38;5;241m.\u001b[39mfit(X_train, \u001b[38;5;241m*\u001b[39m\u001b[38;5;241m*\u001b[39mfit_params)\n\u001b[1;32m    685\u001b[0m     \u001b[38;5;28;01melse\u001b[39;00m:\n\u001b[0;32m--> 686\u001b[0m         \u001b[43mestimator\u001b[49m\u001b[38;5;241;43m.\u001b[39;49m\u001b[43mfit\u001b[49m\u001b[43m(\u001b[49m\u001b[43mX_train\u001b[49m\u001b[43m,\u001b[49m\u001b[43m \u001b[49m\u001b[43my_train\u001b[49m\u001b[43m,\u001b[49m\u001b[43m \u001b[49m\u001b[38;5;241;43m*\u001b[39;49m\u001b[38;5;241;43m*\u001b[39;49m\u001b[43mfit_params\u001b[49m\u001b[43m)\u001b[49m\n\u001b[1;32m    688\u001b[0m \u001b[38;5;28;01mexcept\u001b[39;00m \u001b[38;5;167;01mException\u001b[39;00m:\n\u001b[1;32m    689\u001b[0m     \u001b[38;5;66;03m# Note fit time as time until error\u001b[39;00m\n\u001b[1;32m    690\u001b[0m     fit_time \u001b[38;5;241m=\u001b[39m time\u001b[38;5;241m.\u001b[39mtime() \u001b[38;5;241m-\u001b[39m start_time\n",
      "File \u001b[0;32m/usr/local/insa/anaconda/lib/python3.9/site-packages/sklearn/ensemble/_gb.py:668\u001b[0m, in \u001b[0;36mBaseGradientBoosting.fit\u001b[0;34m(self, X, y, sample_weight, monitor)\u001b[0m\n\u001b[1;32m    665\u001b[0m     \u001b[38;5;28mself\u001b[39m\u001b[38;5;241m.\u001b[39m_resize_state()\n\u001b[1;32m    667\u001b[0m \u001b[38;5;66;03m# fit the boosting stages\u001b[39;00m\n\u001b[0;32m--> 668\u001b[0m n_stages \u001b[38;5;241m=\u001b[39m \u001b[38;5;28;43mself\u001b[39;49m\u001b[38;5;241;43m.\u001b[39;49m\u001b[43m_fit_stages\u001b[49m\u001b[43m(\u001b[49m\n\u001b[1;32m    669\u001b[0m \u001b[43m    \u001b[49m\u001b[43mX\u001b[49m\u001b[43m,\u001b[49m\n\u001b[1;32m    670\u001b[0m \u001b[43m    \u001b[49m\u001b[43my\u001b[49m\u001b[43m,\u001b[49m\n\u001b[1;32m    671\u001b[0m \u001b[43m    \u001b[49m\u001b[43mraw_predictions\u001b[49m\u001b[43m,\u001b[49m\n\u001b[1;32m    672\u001b[0m \u001b[43m    \u001b[49m\u001b[43msample_weight\u001b[49m\u001b[43m,\u001b[49m\n\u001b[1;32m    673\u001b[0m \u001b[43m    \u001b[49m\u001b[38;5;28;43mself\u001b[39;49m\u001b[38;5;241;43m.\u001b[39;49m\u001b[43m_rng\u001b[49m\u001b[43m,\u001b[49m\n\u001b[1;32m    674\u001b[0m \u001b[43m    \u001b[49m\u001b[43mX_val\u001b[49m\u001b[43m,\u001b[49m\n\u001b[1;32m    675\u001b[0m \u001b[43m    \u001b[49m\u001b[43my_val\u001b[49m\u001b[43m,\u001b[49m\n\u001b[1;32m    676\u001b[0m \u001b[43m    \u001b[49m\u001b[43msample_weight_val\u001b[49m\u001b[43m,\u001b[49m\n\u001b[1;32m    677\u001b[0m \u001b[43m    \u001b[49m\u001b[43mbegin_at_stage\u001b[49m\u001b[43m,\u001b[49m\n\u001b[1;32m    678\u001b[0m \u001b[43m    \u001b[49m\u001b[43mmonitor\u001b[49m\u001b[43m,\u001b[49m\n\u001b[1;32m    679\u001b[0m \u001b[43m\u001b[49m\u001b[43m)\u001b[49m\n\u001b[1;32m    681\u001b[0m \u001b[38;5;66;03m# change shape of arrays after fit (early-stopping or additional ests)\u001b[39;00m\n\u001b[1;32m    682\u001b[0m \u001b[38;5;28;01mif\u001b[39;00m n_stages \u001b[38;5;241m!=\u001b[39m \u001b[38;5;28mself\u001b[39m\u001b[38;5;241m.\u001b[39mestimators_\u001b[38;5;241m.\u001b[39mshape[\u001b[38;5;241m0\u001b[39m]:\n",
      "File \u001b[0;32m/usr/local/insa/anaconda/lib/python3.9/site-packages/sklearn/ensemble/_gb.py:745\u001b[0m, in \u001b[0;36mBaseGradientBoosting._fit_stages\u001b[0;34m(self, X, y, raw_predictions, sample_weight, random_state, X_val, y_val, sample_weight_val, begin_at_stage, monitor)\u001b[0m\n\u001b[1;32m    738\u001b[0m     old_oob_score \u001b[38;5;241m=\u001b[39m loss_(\n\u001b[1;32m    739\u001b[0m         y[\u001b[38;5;241m~\u001b[39msample_mask],\n\u001b[1;32m    740\u001b[0m         raw_predictions[\u001b[38;5;241m~\u001b[39msample_mask],\n\u001b[1;32m    741\u001b[0m         sample_weight[\u001b[38;5;241m~\u001b[39msample_mask],\n\u001b[1;32m    742\u001b[0m     )\n\u001b[1;32m    744\u001b[0m \u001b[38;5;66;03m# fit next stage of trees\u001b[39;00m\n\u001b[0;32m--> 745\u001b[0m raw_predictions \u001b[38;5;241m=\u001b[39m \u001b[38;5;28;43mself\u001b[39;49m\u001b[38;5;241;43m.\u001b[39;49m\u001b[43m_fit_stage\u001b[49m\u001b[43m(\u001b[49m\n\u001b[1;32m    746\u001b[0m \u001b[43m    \u001b[49m\u001b[43mi\u001b[49m\u001b[43m,\u001b[49m\n\u001b[1;32m    747\u001b[0m \u001b[43m    \u001b[49m\u001b[43mX\u001b[49m\u001b[43m,\u001b[49m\n\u001b[1;32m    748\u001b[0m \u001b[43m    \u001b[49m\u001b[43my\u001b[49m\u001b[43m,\u001b[49m\n\u001b[1;32m    749\u001b[0m \u001b[43m    \u001b[49m\u001b[43mraw_predictions\u001b[49m\u001b[43m,\u001b[49m\n\u001b[1;32m    750\u001b[0m \u001b[43m    \u001b[49m\u001b[43msample_weight\u001b[49m\u001b[43m,\u001b[49m\n\u001b[1;32m    751\u001b[0m \u001b[43m    \u001b[49m\u001b[43msample_mask\u001b[49m\u001b[43m,\u001b[49m\n\u001b[1;32m    752\u001b[0m \u001b[43m    \u001b[49m\u001b[43mrandom_state\u001b[49m\u001b[43m,\u001b[49m\n\u001b[1;32m    753\u001b[0m \u001b[43m    \u001b[49m\u001b[43mX_csc\u001b[49m\u001b[43m,\u001b[49m\n\u001b[1;32m    754\u001b[0m \u001b[43m    \u001b[49m\u001b[43mX_csr\u001b[49m\u001b[43m,\u001b[49m\n\u001b[1;32m    755\u001b[0m \u001b[43m\u001b[49m\u001b[43m)\u001b[49m\n\u001b[1;32m    757\u001b[0m \u001b[38;5;66;03m# track deviance (= loss)\u001b[39;00m\n\u001b[1;32m    758\u001b[0m \u001b[38;5;28;01mif\u001b[39;00m do_oob:\n",
      "File \u001b[0;32m/usr/local/insa/anaconda/lib/python3.9/site-packages/sklearn/ensemble/_gb.py:247\u001b[0m, in \u001b[0;36mBaseGradientBoosting._fit_stage\u001b[0;34m(self, i, X, y, raw_predictions, sample_weight, sample_mask, random_state, X_csc, X_csr)\u001b[0m\n\u001b[1;32m    244\u001b[0m     sample_weight \u001b[38;5;241m=\u001b[39m sample_weight \u001b[38;5;241m*\u001b[39m sample_mask\u001b[38;5;241m.\u001b[39mastype(np\u001b[38;5;241m.\u001b[39mfloat64)\n\u001b[1;32m    246\u001b[0m X \u001b[38;5;241m=\u001b[39m X_csr \u001b[38;5;28;01mif\u001b[39;00m X_csr \u001b[38;5;129;01mis\u001b[39;00m \u001b[38;5;129;01mnot\u001b[39;00m \u001b[38;5;28;01mNone\u001b[39;00m \u001b[38;5;28;01melse\u001b[39;00m X\n\u001b[0;32m--> 247\u001b[0m \u001b[43mtree\u001b[49m\u001b[38;5;241;43m.\u001b[39;49m\u001b[43mfit\u001b[49m\u001b[43m(\u001b[49m\u001b[43mX\u001b[49m\u001b[43m,\u001b[49m\u001b[43m \u001b[49m\u001b[43mresidual\u001b[49m\u001b[43m,\u001b[49m\u001b[43m \u001b[49m\u001b[43msample_weight\u001b[49m\u001b[38;5;241;43m=\u001b[39;49m\u001b[43msample_weight\u001b[49m\u001b[43m,\u001b[49m\u001b[43m \u001b[49m\u001b[43mcheck_input\u001b[49m\u001b[38;5;241;43m=\u001b[39;49m\u001b[38;5;28;43;01mFalse\u001b[39;49;00m\u001b[43m)\u001b[49m\n\u001b[1;32m    249\u001b[0m \u001b[38;5;66;03m# update tree leaves\u001b[39;00m\n\u001b[1;32m    250\u001b[0m loss\u001b[38;5;241m.\u001b[39mupdate_terminal_regions(\n\u001b[1;32m    251\u001b[0m     tree\u001b[38;5;241m.\u001b[39mtree_,\n\u001b[1;32m    252\u001b[0m     X,\n\u001b[0;32m   (...)\u001b[0m\n\u001b[1;32m    259\u001b[0m     k\u001b[38;5;241m=\u001b[39mk,\n\u001b[1;32m    260\u001b[0m )\n",
      "File \u001b[0;32m/usr/local/insa/anaconda/lib/python3.9/site-packages/sklearn/tree/_classes.py:1342\u001b[0m, in \u001b[0;36mDecisionTreeRegressor.fit\u001b[0;34m(self, X, y, sample_weight, check_input)\u001b[0m\n\u001b[1;32m   1313\u001b[0m \u001b[38;5;28;01mdef\u001b[39;00m \u001b[38;5;21mfit\u001b[39m(\u001b[38;5;28mself\u001b[39m, X, y, sample_weight\u001b[38;5;241m=\u001b[39m\u001b[38;5;28;01mNone\u001b[39;00m, check_input\u001b[38;5;241m=\u001b[39m\u001b[38;5;28;01mTrue\u001b[39;00m):\n\u001b[1;32m   1314\u001b[0m     \u001b[38;5;124;03m\"\"\"Build a decision tree regressor from the training set (X, y).\u001b[39;00m\n\u001b[1;32m   1315\u001b[0m \n\u001b[1;32m   1316\u001b[0m \u001b[38;5;124;03m    Parameters\u001b[39;00m\n\u001b[0;32m   (...)\u001b[0m\n\u001b[1;32m   1339\u001b[0m \u001b[38;5;124;03m        Fitted estimator.\u001b[39;00m\n\u001b[1;32m   1340\u001b[0m \u001b[38;5;124;03m    \"\"\"\u001b[39;00m\n\u001b[0;32m-> 1342\u001b[0m     \u001b[38;5;28;43msuper\u001b[39;49m\u001b[43m(\u001b[49m\u001b[43m)\u001b[49m\u001b[38;5;241;43m.\u001b[39;49m\u001b[43mfit\u001b[49m\u001b[43m(\u001b[49m\n\u001b[1;32m   1343\u001b[0m \u001b[43m        \u001b[49m\u001b[43mX\u001b[49m\u001b[43m,\u001b[49m\n\u001b[1;32m   1344\u001b[0m \u001b[43m        \u001b[49m\u001b[43my\u001b[49m\u001b[43m,\u001b[49m\n\u001b[1;32m   1345\u001b[0m \u001b[43m        \u001b[49m\u001b[43msample_weight\u001b[49m\u001b[38;5;241;43m=\u001b[39;49m\u001b[43msample_weight\u001b[49m\u001b[43m,\u001b[49m\n\u001b[1;32m   1346\u001b[0m \u001b[43m        \u001b[49m\u001b[43mcheck_input\u001b[49m\u001b[38;5;241;43m=\u001b[39;49m\u001b[43mcheck_input\u001b[49m\u001b[43m,\u001b[49m\n\u001b[1;32m   1347\u001b[0m \u001b[43m    \u001b[49m\u001b[43m)\u001b[49m\n\u001b[1;32m   1348\u001b[0m     \u001b[38;5;28;01mreturn\u001b[39;00m \u001b[38;5;28mself\u001b[39m\n",
      "File \u001b[0;32m/usr/local/insa/anaconda/lib/python3.9/site-packages/sklearn/tree/_classes.py:458\u001b[0m, in \u001b[0;36mBaseDecisionTree.fit\u001b[0;34m(self, X, y, sample_weight, check_input)\u001b[0m\n\u001b[1;32m    447\u001b[0m \u001b[38;5;28;01melse\u001b[39;00m:\n\u001b[1;32m    448\u001b[0m     builder \u001b[38;5;241m=\u001b[39m BestFirstTreeBuilder(\n\u001b[1;32m    449\u001b[0m         splitter,\n\u001b[1;32m    450\u001b[0m         min_samples_split,\n\u001b[0;32m   (...)\u001b[0m\n\u001b[1;32m    455\u001b[0m         \u001b[38;5;28mself\u001b[39m\u001b[38;5;241m.\u001b[39mmin_impurity_decrease,\n\u001b[1;32m    456\u001b[0m     )\n\u001b[0;32m--> 458\u001b[0m \u001b[43mbuilder\u001b[49m\u001b[38;5;241;43m.\u001b[39;49m\u001b[43mbuild\u001b[49m\u001b[43m(\u001b[49m\u001b[38;5;28;43mself\u001b[39;49m\u001b[38;5;241;43m.\u001b[39;49m\u001b[43mtree_\u001b[49m\u001b[43m,\u001b[49m\u001b[43m \u001b[49m\u001b[43mX\u001b[49m\u001b[43m,\u001b[49m\u001b[43m \u001b[49m\u001b[43my\u001b[49m\u001b[43m,\u001b[49m\u001b[43m \u001b[49m\u001b[43msample_weight\u001b[49m\u001b[43m)\u001b[49m\n\u001b[1;32m    460\u001b[0m \u001b[38;5;28;01mif\u001b[39;00m \u001b[38;5;28mself\u001b[39m\u001b[38;5;241m.\u001b[39mn_outputs_ \u001b[38;5;241m==\u001b[39m \u001b[38;5;241m1\u001b[39m \u001b[38;5;129;01mand\u001b[39;00m is_classifier(\u001b[38;5;28mself\u001b[39m):\n\u001b[1;32m    461\u001b[0m     \u001b[38;5;28mself\u001b[39m\u001b[38;5;241m.\u001b[39mn_classes_ \u001b[38;5;241m=\u001b[39m \u001b[38;5;28mself\u001b[39m\u001b[38;5;241m.\u001b[39mn_classes_[\u001b[38;5;241m0\u001b[39m]\n",
      "\u001b[0;31mKeyboardInterrupt\u001b[0m: "
     ]
    }
   ],
   "source": [
    "from sklearn.ensemble import GradientBoostingRegressor\n",
    "from sklearn.model_selection import GridSearchCV\n",
    "\n",
    "# Créez un modèle de Gradient Boosting\n",
    "gbr = GradientBoostingRegressor()\n",
    "\n",
    "# Définissez les paramètres à tester\n",
    "param_grid = {'n_estimators': [1],\n",
    "              'max_depth': [4],\n",
    "              'min_samples_split': [2, 4, 6],\n",
    "              'learning_rate': [.02],\n",
    "              'subsample': [.5],#[0.5, 0.8, 1.0],\n",
    "              'max_features': [None],#[None, 'sqrt', 'log2'],\n",
    "              'loss': ['huber'],#['l', 'huber'],\n",
    "              'alpha': [.9],#[0.5, 1.0, 2.0],\n",
    "              'criterion':['friedman_mse'],\n",
    "              'validation_fraction' : [.1]#,[.1,.2,.3]\n",
    "             }\n",
    "\n",
    "# Créez un objet GridSearchCV\n",
    "grid_search = GridSearchCV(gbr, param_grid, cv=5, return_train_score=True, verbose = True)\n",
    "grid_search.fit(X_train, Y_train)"
   ]
  },
  {
   "cell_type": "code",
   "execution_count": null,
   "id": "88e55d25",
   "metadata": {
    "ExecuteTime": {
     "end_time": "2023-01-09T18:29:45.909216Z",
     "start_time": "2023-01-09T18:29:45.909203Z"
    }
   },
   "outputs": [],
   "source": [
    "print(grid_searchch.best_params_)"
   ]
  },
  {
   "cell_type": "code",
   "execution_count": null,
   "id": "f3ea4220",
   "metadata": {},
   "outputs": [],
   "source": [
    "grid_search.score(X_test,)"
   ]
  },
  {
   "cell_type": "code",
   "execution_count": null,
   "id": "9c5e6167",
   "metadata": {
    "ExecuteTime": {
     "end_time": "2023-01-09T15:27:43.759136Z",
     "start_time": "2023-01-09T15:27:39.652728Z"
    }
   },
   "outputs": [],
   "source": [
    "from sklearn.model_selection import RandomizedSearchCV\n",
    "\n",
    "X, y = X_train, Y_train\n",
    "\n",
    "GBR.set_params(learning_rate = .01,\n",
    "               max_depth = 4,\n",
    "               n_estimators = 1500,\n",
    "               validation_fraction = .1,\n",
    "               criterion = 'friedman_mse',\n",
    "               subsample = .2,\n",
    "               max_leaf_nodes = 50,\n",
    "              max_features = 1.0,\n",
    "              verbose = 1)\n",
    "\n",
    "\n",
    "param_grid = {\n",
    "    'learning_rate': np.linspace(.001,0.2,5),\n",
    "    'max_depth' : [4],\n",
    "    'n_estimators': [500],\n",
    "    'validation_fraction': [.1,.2,.3], # learning rate\n",
    "    'criterion':['friedman_mse'],\n",
    "    'subsample': np.linspace(.1,.6,5),\n",
    "    'max_leaf_nodes' :  np.linspace(40,150,5),\n",
    "    'max_features' : np.linspace(1.,5.,5),\n",
    "}\n",
    "\n",
    "\n",
    "GBR = GradientBoostingRegressor()\n",
    "\n",
    "\n",
    "random_search = RandomizedSearchCV(GBR,\n",
    "                                   param_grid,\n",
    "                                   n_iter=5,\n",
    "                                   cv=6,\n",
    "                                   scoring='accuracy',\n",
    "                                   random_state=0,\n",
    "                                   verbose=True)\n",
    "\n",
    "random_search.fit(X, y)\n",
    "\n",
    "print(random_search.best_params_)"
   ]
  },
  {
   "cell_type": "code",
   "execution_count": null,
   "id": "23fcc56c",
   "metadata": {
    "ExecuteTime": {
     "end_time": "2023-01-09T15:07:05.531291Z",
     "start_time": "2023-01-09T15:07:05.529545Z"
    }
   },
   "outputs": [],
   "source": [
    "# GBR.get_params().keys()"
   ]
  },
  {
   "cell_type": "code",
   "execution_count": null,
   "id": "789ba28f",
   "metadata": {
    "ExecuteTime": {
     "end_time": "2023-01-09T15:09:37.371421Z",
     "start_time": "2023-01-09T15:09:37.259590Z"
    }
   },
   "outputs": [],
   "source": [
    "y_pred = fit.predict(X_test)"
   ]
  },
  {
   "cell_type": "code",
   "execution_count": null,
   "id": "a7d11fc7",
   "metadata": {
    "ExecuteTime": {
     "end_time": "2023-01-09T15:09:39.999571Z",
     "start_time": "2023-01-09T15:09:39.996400Z"
    }
   },
   "outputs": [],
   "source": [
    "y_pred"
   ]
  },
  {
   "cell_type": "code",
   "execution_count": null,
   "id": "a2819a97",
   "metadata": {
    "ExecuteTime": {
     "end_time": "2023-01-09T15:07:05.719892Z",
     "start_time": "2023-01-09T15:07:05.700610Z"
    }
   },
   "outputs": [],
   "source": [
    "# from joblib import dump, load\n",
    "# dump(GBR, 'model/target_encoding.pkl')"
   ]
  },
  {
   "cell_type": "markdown",
   "id": "4db7204c",
   "metadata": {},
   "source": [
    "# Submit"
   ]
  },
  {
   "cell_type": "code",
   "execution_count": null,
   "id": "963c81ba",
   "metadata": {
    "ExecuteTime": {
     "end_time": "2023-01-09T15:09:48.305896Z",
     "start_time": "2023-01-09T15:09:48.303499Z"
    }
   },
   "outputs": [],
   "source": [
    "predictions = y_pred"
   ]
  },
  {
   "cell_type": "code",
   "execution_count": null,
   "id": "d28abce0",
   "metadata": {
    "ExecuteTime": {
     "end_time": "2023-01-09T15:09:49.410364Z",
     "start_time": "2023-01-09T15:09:49.386430Z"
    }
   },
   "outputs": [],
   "source": [
    "# save\n",
    "_round = False # tester aussi des arrondis au dessus ou en dessous\n",
    "\n",
    "name = 'target_encoding_1500_estim'\n",
    "\n",
    "if _round : y_pred = np.round(predictions)\n",
    "else : y_pred = predictions.copy()\n",
    "\n",
    "sub = pd.DataFrame(y_pred)\n",
    "sub.to_csv(path + 'submit/' + name + '.csv',index=True, header=['price'], index_label = 'index')"
   ]
  },
  {
   "cell_type": "code",
   "execution_count": null,
   "id": "2b94e246",
   "metadata": {},
   "outputs": [],
   "source": []
  }
 ],
 "metadata": {
  "kernelspec": {
   "display_name": "Python 3 (ipykernel)",
   "language": "python",
   "name": "python3"
  },
  "language_info": {
   "codemirror_mode": {
    "name": "ipython",
    "version": 3
   },
   "file_extension": ".py",
   "mimetype": "text/x-python",
   "name": "python",
   "nbconvert_exporter": "python",
   "pygments_lexer": "ipython3",
   "version": "3.9.12"
  },
  "toc": {
   "base_numbering": 1,
   "nav_menu": {},
   "number_sections": true,
   "sideBar": true,
   "skip_h1_title": false,
   "title_cell": "Table of Contents",
   "title_sidebar": "Contents",
   "toc_cell": false,
   "toc_position": {},
   "toc_section_display": true,
   "toc_window_display": false
  },
  "varInspector": {
   "cols": {
    "lenName": 16,
    "lenType": 16,
    "lenVar": 40
   },
   "kernels_config": {
    "python": {
     "delete_cmd_postfix": "",
     "delete_cmd_prefix": "del ",
     "library": "var_list.py",
     "varRefreshCmd": "print(var_dic_list())"
    },
    "r": {
     "delete_cmd_postfix": ") ",
     "delete_cmd_prefix": "rm(",
     "library": "var_list.r",
     "varRefreshCmd": "cat(var_dic_list()) "
    }
   },
   "types_to_exclude": [
    "module",
    "function",
    "builtin_function_or_method",
    "instance",
    "_Feature"
   ],
   "window_display": false
  }
 },
 "nbformat": 4,
 "nbformat_minor": 5
}
