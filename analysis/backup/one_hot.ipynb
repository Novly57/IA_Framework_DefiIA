{
 "cells": [
  {
   "cell_type": "markdown",
   "id": "7b304eb1",
   "metadata": {},
   "source": [
    "# Data preparation"
   ]
  },
  {
   "cell_type": "code",
   "execution_count": null,
   "id": "6f67dea0",
   "metadata": {
    "ExecuteTime": {
     "end_time": "2023-01-06T15:43:01.765339Z",
     "start_time": "2023-01-06T15:43:01.154665Z"
    }
   },
   "outputs": [],
   "source": [
    "import pandas as pd\n",
    "import numpy as np \n",
    "from sklearn.preprocessing import OneHotEncoder\n",
    "from sklearn.ensemble import GradientBoostingRegressor"
   ]
  },
  {
   "cell_type": "code",
   "execution_count": null,
   "id": "80853c49",
   "metadata": {
    "ExecuteTime": {
     "end_time": "2023-01-06T15:19:40.239814Z",
     "start_time": "2023-01-06T15:19:39.723720Z"
    }
   },
   "outputs": [],
   "source": [
    "path = '../data/' \n",
    "hotels = pd.read_csv(path + '/features_hotels.csv')\n",
    "data = pd.read_csv(path + 'data.csv')\n",
    "data_test = pd.read_csv(path + 'test_set.csv')"
   ]
  },
  {
   "cell_type": "code",
   "execution_count": null,
   "id": "75cdefca",
   "metadata": {
    "ExecuteTime": {
     "end_time": "2023-01-06T15:19:41.087411Z",
     "start_time": "2023-01-06T15:19:40.911957Z"
    }
   },
   "outputs": [],
   "source": [
    "to_exclude = data[['city', 'language','mobile','request_number','date']].drop_duplicates()\n",
    "# to_exclude.to_csv('to_exclude.csv', index = False)\n",
    "print('Nombre de requêtes uniques :', to_exclude.shape[0])"
   ]
  },
  {
   "cell_type": "code",
   "execution_count": null,
   "id": "14ddd471",
   "metadata": {
    "ExecuteTime": {
     "end_time": "2023-01-06T15:19:42.310876Z",
     "start_time": "2023-01-06T15:19:42.239672Z"
    }
   },
   "outputs": [],
   "source": [
    "tot = 0 \n",
    "for i in range(7):\n",
    "    tot += np.unique(data.loc[data.request_number == i].avatar_id.values).shape[0]\n",
    "\n",
    "print('Estimation du nombre total de requêtes :', tot)"
   ]
  },
  {
   "cell_type": "code",
   "execution_count": null,
   "id": "f193c5d1",
   "metadata": {
    "ExecuteTime": {
     "end_time": "2023-01-06T15:19:43.430716Z",
     "start_time": "2023-01-06T15:19:43.383451Z"
    }
   },
   "outputs": [],
   "source": [
    "# exclusion des avatar posant problème\n",
    "# data = data.drop(index = data.loc[data.avatar_id == 134].index)\n",
    "# to_drop = [108,134,135,136,137,138,141]\n",
    "to_drop = [134]\n",
    "data = data.loc[~data.avatar_id.isin(to_drop)]"
   ]
  },
  {
   "cell_type": "code",
   "execution_count": null,
   "id": "88d716f9",
   "metadata": {
    "ExecuteTime": {
     "end_time": "2023-01-06T15:19:44.903916Z",
     "start_time": "2023-01-06T15:19:44.655342Z"
    }
   },
   "outputs": [],
   "source": [
    "data = data.drop(['avatar_id'], axis = 1).drop_duplicates()"
   ]
  },
  {
   "cell_type": "code",
   "execution_count": null,
   "id": "a7a5cd79",
   "metadata": {
    "ExecuteTime": {
     "end_time": "2023-01-06T15:19:46.407668Z",
     "start_time": "2023-01-06T15:19:46.231865Z"
    }
   },
   "outputs": [],
   "source": [
    "# ajout des caractéristiques des hotels\n",
    "data = data.merge(hotels, on=['hotel_id','city'])\n",
    "data_test = data_test.merge(hotels, on=['hotel_id','city'])\n",
    "data_test = data_test.sort_values('index').reset_index(drop=True).drop(['index'], axis = 1)"
   ]
  },
  {
   "cell_type": "code",
   "execution_count": null,
   "id": "93c494ab",
   "metadata": {
    "ExecuteTime": {
     "end_time": "2023-01-06T15:19:48.282377Z",
     "start_time": "2023-01-06T15:19:47.758945Z"
    }
   },
   "outputs": [],
   "source": [
    "# création de la colonne request_number dans le test set\n",
    "data_test['request_number'] = 1\n",
    "for avatar in np.unique(data_test['avatar_id']):\n",
    "    data_test.loc[data_test['avatar_id'] == avatar, 'request_number'] = data_test['order_requests'].loc[data_test['avatar_id']== avatar] - min(data_test['order_requests'].loc[data_test['avatar_id']== avatar])+1"
   ]
  },
  {
   "cell_type": "code",
   "execution_count": null,
   "id": "426bd959",
   "metadata": {
    "ExecuteTime": {
     "end_time": "2023-01-06T15:19:53.235758Z",
     "start_time": "2023-01-06T15:19:53.151438Z"
    }
   },
   "outputs": [],
   "source": [
    "# ajout de la variable ville == langue\n",
    "lang_cit = True\n",
    "\n",
    "if lang_cit == True: \n",
    "    dic_lang = {'amsterdam':'dutch', 'copenhagen':'danish', 'madrid':'spanish', 'paris':'french', 'rome':'italian', 'sofia':'bulgarian', 'valletta':'maltese', 'vienna':'austrian' ,'vilnius':'lithuanian'}\n",
    "    data['city_language'] = data['city'].map(dic_lang)\n",
    "    data['is_same_cl'] = data['city_language']==data['language']\n",
    "    data_test['city_language'] = data_test['city'].map(dic_lang)\n",
    "    data_test['is_same_cl'] = data_test['city_language']==data_test['language']"
   ]
  },
  {
   "cell_type": "code",
   "execution_count": null,
   "id": "42cbd80c",
   "metadata": {
    "ExecuteTime": {
     "end_time": "2023-01-06T15:24:13.225789Z",
     "start_time": "2023-01-06T15:24:13.223299Z"
    }
   },
   "outputs": [],
   "source": [
    "colQT = ['date', 'request_number', 'stock','price']\n",
    "colQL = ['city', 'language', 'mobile', 'group', 'brand', 'parking', 'pool', 'children_policy', 'is_same_cl']"
   ]
  },
  {
   "cell_type": "code",
   "execution_count": null,
   "id": "7ec82aad",
   "metadata": {
    "ExecuteTime": {
     "end_time": "2023-01-06T15:39:18.513964Z",
     "start_time": "2023-01-06T15:39:17.301098Z"
    }
   },
   "outputs": [],
   "source": [
    "encoder = OneHotEncoder()\n",
    "\n",
    "train_data = encoder.fit_transform(data[colQL]).toarray()\n",
    "\n",
    "test_data = encoder.transform(data_test[colQL]).toarray()\n",
    "\n",
    "X_train = np.concatenate((train_data, data[colQT[:-1]].values), axis = 1)\n",
    "X_test = np.concatenate((test_data, data_test[colQT[:-1]].values), axis = 1)\n",
    "\n",
    "y = data.price.values"
   ]
  },
  {
   "cell_type": "code",
   "execution_count": null,
   "id": "8739435c",
   "metadata": {
    "ExecuteTime": {
     "end_time": "2023-01-06T16:11:25.695503Z",
     "start_time": "2023-01-06T15:45:33.275234Z"
    }
   },
   "outputs": [],
   "source": [
    "model = GradientBoostingRegressor(learning_rate = .02,\n",
    "                                  max_depth = 4,\n",
    "                                  n_estimators = 2500,\n",
    "                                  validation_fraction = .2,\n",
    "                                  criterion = 'friedman_mse',\n",
    "                                  subsample = .2,\n",
    "                                  max_leaf_nodes = 50,\n",
    "                                  max_features = 1.0,\n",
    "                                  verbose = 1)\n",
    "\n",
    "model.fit(X_train, y)\n",
    "\n",
    "y_pred = model.predict(X_test)"
   ]
  },
  {
   "cell_type": "code",
   "execution_count": null,
   "id": "678f6aad",
   "metadata": {
    "ExecuteTime": {
     "end_time": "2023-01-06T16:14:13.954783Z",
     "start_time": "2023-01-06T16:14:13.801124Z"
    }
   },
   "outputs": [],
   "source": [
    "# from joblib import dump, load\n",
    "# dump(model, 'model/one_hot.pkl')"
   ]
  },
  {
   "cell_type": "code",
   "execution_count": null,
   "id": "221eb744",
   "metadata": {
    "ExecuteTime": {
     "end_time": "2023-01-06T16:15:24.544493Z",
     "start_time": "2023-01-06T16:15:24.508104Z"
    }
   },
   "outputs": [],
   "source": [
    "predictions = y_pred\n",
    "\n",
    "# save\n",
    "_round = False # tester aussi des arrondis au dessus ou en dessous\n",
    "\n",
    "name = 'one_hot'\n",
    "\n",
    "if _round : y_pred = np.round(predictions)\n",
    "else : y_pred = predictions.copy()\n",
    "\n",
    "sub = pd.DataFrame(y_pred)\n",
    "sub.to_csv(path + 'submit/' + name + '.csv',index=True, header=['price'], index_label = 'index')"
   ]
  },
  {
   "cell_type": "code",
   "execution_count": null,
   "id": "9395738e",
   "metadata": {},
   "outputs": [],
   "source": []
  }
 ],
 "metadata": {
  "kernelspec": {
   "display_name": "Python 3 (ipykernel)",
   "language": "python",
   "name": "python3"
  },
  "language_info": {
   "codemirror_mode": {
    "name": "ipython",
    "version": 3
   },
   "file_extension": ".py",
   "mimetype": "text/x-python",
   "name": "python",
   "nbconvert_exporter": "python",
   "pygments_lexer": "ipython3",
   "version": "3.9.12"
  },
  "toc": {
   "base_numbering": 1,
   "nav_menu": {},
   "number_sections": true,
   "sideBar": true,
   "skip_h1_title": false,
   "title_cell": "Table of Contents",
   "title_sidebar": "Contents",
   "toc_cell": false,
   "toc_position": {},
   "toc_section_display": true,
   "toc_window_display": false
  },
  "varInspector": {
   "cols": {
    "lenName": 16,
    "lenType": 16,
    "lenVar": 40
   },
   "kernels_config": {
    "python": {
     "delete_cmd_postfix": "",
     "delete_cmd_prefix": "del ",
     "library": "var_list.py",
     "varRefreshCmd": "print(var_dic_list())"
    },
    "r": {
     "delete_cmd_postfix": ") ",
     "delete_cmd_prefix": "rm(",
     "library": "var_list.r",
     "varRefreshCmd": "cat(var_dic_list()) "
    }
   },
   "types_to_exclude": [
    "module",
    "function",
    "builtin_function_or_method",
    "instance",
    "_Feature"
   ],
   "window_display": false
  }
 },
 "nbformat": 4,
 "nbformat_minor": 5
}
