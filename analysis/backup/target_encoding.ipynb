{
 "cells": [
  {
   "cell_type": "markdown",
   "id": "7b304eb1",
   "metadata": {},
   "source": [
    "# Data preparation"
   ]
  },
  {
   "cell_type": "code",
   "execution_count": 1,
   "id": "6f67dea0",
   "metadata": {
    "ExecuteTime": {
     "end_time": "2023-01-09T15:39:50.497954Z",
     "start_time": "2023-01-09T15:39:49.980044Z"
    }
   },
   "outputs": [],
   "source": [
    "import pandas as pd\n",
    "import numpy as np "
   ]
  },
  {
   "cell_type": "code",
   "execution_count": 2,
   "id": "80853c49",
   "metadata": {
    "ExecuteTime": {
     "end_time": "2023-01-09T15:39:51.038090Z",
     "start_time": "2023-01-09T15:39:50.516147Z"
    }
   },
   "outputs": [],
   "source": [
    "path = '../../data/' \n",
    "hotels = pd.read_csv(path + '/features_hotels.csv')\n",
    "data = pd.read_csv(path + 'data.csv')\n",
    "data_test = pd.read_csv(path + 'test_set.csv')"
   ]
  },
  {
   "cell_type": "code",
   "execution_count": 3,
   "id": "75cdefca",
   "metadata": {
    "ExecuteTime": {
     "end_time": "2023-01-09T15:39:51.284841Z",
     "start_time": "2023-01-09T15:39:51.109500Z"
    }
   },
   "outputs": [
    {
     "name": "stdout",
     "output_type": "stream",
     "text": [
      "Nombre de requêtes uniques : 8329\n"
     ]
    }
   ],
   "source": [
    "to_exclude = data[['city', 'language','mobile','request_number','date']].drop_duplicates()\n",
    "# to_exclude.to_csv('to_exclude.csv', index = False)\n",
    "print('Nombre de requêtes uniques :', to_exclude.shape[0])"
   ]
  },
  {
   "cell_type": "code",
   "execution_count": 4,
   "id": "14ddd471",
   "metadata": {
    "ExecuteTime": {
     "end_time": "2023-01-09T15:39:51.498668Z",
     "start_time": "2023-01-09T15:39:51.421097Z"
    }
   },
   "outputs": [
    {
     "name": "stdout",
     "output_type": "stream",
     "text": [
      "Estimation du nombre total de requêtes : 11171\n"
     ]
    }
   ],
   "source": [
    "tot = 0 \n",
    "for i in range(7):\n",
    "    tot += np.unique(data.loc[data.request_number == i].avatar_id.values).shape[0]\n",
    "\n",
    "print('Estimation du nombre total de requêtes :', tot)"
   ]
  },
  {
   "cell_type": "code",
   "execution_count": 5,
   "id": "f193c5d1",
   "metadata": {
    "ExecuteTime": {
     "end_time": "2023-01-09T15:39:52.491475Z",
     "start_time": "2023-01-09T15:39:52.440932Z"
    }
   },
   "outputs": [],
   "source": [
    "# exclusion des avatar posant problème\n",
    "# data = data.drop(index = data.loc[data.avatar_id == 134].index)\n",
    "# to_drop = [108,134,135,136,137,138,141]\n",
    "to_drop = [134]\n",
    "data = data.loc[~data.avatar_id.isin(to_drop)]"
   ]
  },
  {
   "cell_type": "code",
   "execution_count": 6,
   "id": "88d716f9",
   "metadata": {
    "ExecuteTime": {
     "end_time": "2023-01-09T15:39:53.032227Z",
     "start_time": "2023-01-09T15:39:52.780164Z"
    }
   },
   "outputs": [],
   "source": [
    "data = data.drop(['avatar_id'], axis = 1).drop_duplicates()"
   ]
  },
  {
   "cell_type": "code",
   "execution_count": 7,
   "id": "a7a5cd79",
   "metadata": {
    "ExecuteTime": {
     "end_time": "2023-01-09T15:39:53.740210Z",
     "start_time": "2023-01-09T15:39:53.557059Z"
    }
   },
   "outputs": [],
   "source": [
    "# ajout des caractéristiques des hotels\n",
    "data = data.merge(hotels, on=['hotel_id','city'])\n",
    "data_test = data_test.merge(hotels, on=['hotel_id','city'])\n",
    "data_test = data_test.sort_values('index').reset_index(drop=True).drop(['index'], axis = 1)"
   ]
  },
  {
   "cell_type": "code",
   "execution_count": 8,
   "id": "93c494ab",
   "metadata": {
    "ExecuteTime": {
     "end_time": "2023-01-09T15:39:54.344708Z",
     "start_time": "2023-01-09T15:39:53.830478Z"
    }
   },
   "outputs": [],
   "source": [
    "# création de la colonne request_number dans le test set\n",
    "data_test['request_number'] = 1\n",
    "for avatar in np.unique(data_test['avatar_id']):\n",
    "    data_test.loc[data_test['avatar_id'] == avatar, 'request_number'] = data_test['order_requests'].loc[data_test['avatar_id']== avatar] - min(data_test['order_requests'].loc[data_test['avatar_id']== avatar])+1"
   ]
  },
  {
   "cell_type": "code",
   "execution_count": 9,
   "id": "426bd959",
   "metadata": {
    "ExecuteTime": {
     "end_time": "2023-01-09T15:39:54.627107Z",
     "start_time": "2023-01-09T15:39:54.522808Z"
    }
   },
   "outputs": [],
   "source": [
    "# ajout de la variable ville == langue\n",
    "lang_cit = True\n",
    "\n",
    "if lang_cit == True: \n",
    "    dic_lang = {'amsterdam':'dutch', 'copenhagen':'danish', 'madrid':'spanish', 'paris':'french', 'rome':'italian', 'sofia':'bulgarian', 'valletta':'maltese', 'vienna':'austrian' ,'vilnius':'lithuanian'}\n",
    "    data['city_language'] = data['city'].map(dic_lang)\n",
    "    data['is_same_cl'] = data['city_language']==data['language']\n",
    "    data_test['city_language'] = data_test['city'].map(dic_lang)\n",
    "    data_test['is_same_cl'] = data_test['city_language']==data_test['language']\n",
    "#     colBool += ['is_same_cl']"
   ]
  },
  {
   "cell_type": "code",
   "execution_count": 10,
   "id": "1008e3f6",
   "metadata": {
    "ExecuteTime": {
     "end_time": "2023-01-09T15:39:55.219595Z",
     "start_time": "2023-01-09T15:39:55.083126Z"
    }
   },
   "outputs": [],
   "source": [
    "col = ['city', 'date', 'language', 'mobile', 'request_number', 'stock', 'group', 'brand', 'parking', 'pool','children_policy', 'is_same_cl', 'price']\n",
    "data = data[col]\n",
    "data_test = data_test[col[:-1]]"
   ]
  },
  {
   "cell_type": "code",
   "execution_count": 11,
   "id": "c3212187",
   "metadata": {
    "ExecuteTime": {
     "end_time": "2023-01-09T15:39:55.465602Z",
     "start_time": "2023-01-09T15:39:55.458503Z"
    }
   },
   "outputs": [],
   "source": [
    "def additive_smoothing(x,alpha= 1.96):\n",
    "    \"\"\" alpha = 1.96 borne à 95% pour la loi normale  \"\"\"\n",
    "    moy = (x+alpha).mean()\n",
    "    d = x.max()-x.min()\n",
    "    N = x.count()\n",
    "    return N*moy/(N+alpha*d)\n",
    "\n",
    "additive_smoothing.__name__ = 'additive_smoothing'"
   ]
  },
  {
   "cell_type": "code",
   "execution_count": 12,
   "id": "192c18d2",
   "metadata": {
    "ExecuteTime": {
     "end_time": "2023-01-09T15:39:55.921748Z",
     "start_time": "2023-01-09T15:39:55.916646Z"
    }
   },
   "outputs": [],
   "source": [
    "colQT = ['request_number', 'stock', 'date']\n",
    "notQT = ['city', 'language', 'mobile', 'group', 'brand', 'parking', 'pool','children_policy', 'is_same_cl'] "
   ]
  },
  {
   "cell_type": "code",
   "execution_count": 13,
   "id": "6b176fe9",
   "metadata": {
    "ExecuteTime": {
     "end_time": "2023-01-09T15:39:58.898798Z",
     "start_time": "2023-01-09T15:39:56.688445Z"
    }
   },
   "outputs": [],
   "source": [
    "for i in notQT:\n",
    "    df_tmp = data[[i, 'price']].groupby(i).agg({'price': ['mean', 'var', additive_smoothing]}).price\n",
    "    df_tmp = df_tmp.add_suffix('_' + i)\n",
    "    colQT += list(df_tmp.columns.unique())\n",
    "    data = data.join(df_tmp, on=i)\n",
    "    data_test = data_test.join(df_tmp, on=i)"
   ]
  },
  {
   "cell_type": "code",
   "execution_count": 14,
   "id": "3bce180e",
   "metadata": {
    "ExecuteTime": {
     "end_time": "2023-01-09T15:39:59.414951Z",
     "start_time": "2023-01-09T15:39:59.413032Z"
    }
   },
   "outputs": [],
   "source": [
    "colQT += ['price']"
   ]
  },
  {
   "cell_type": "code",
   "execution_count": 15,
   "id": "b5310c57",
   "metadata": {
    "ExecuteTime": {
     "end_time": "2023-01-09T15:40:00.121386Z",
     "start_time": "2023-01-09T15:39:59.877253Z"
    }
   },
   "outputs": [],
   "source": [
    "df = data[colQT[:-1]]\n",
    "df_test = data_test[colQT[:-1]]\n",
    "y = data[colQT[-1]]"
   ]
  },
  {
   "cell_type": "code",
   "execution_count": 16,
   "id": "00b83602",
   "metadata": {
    "ExecuteTime": {
     "end_time": "2023-01-09T15:40:01.326321Z",
     "start_time": "2023-01-09T15:40:01.323550Z"
    }
   },
   "outputs": [],
   "source": [
    "X_train = df\n",
    "X_test = df_test\n",
    "Y_train = y\n",
    "Y_test = None"
   ]
  },
  {
   "cell_type": "code",
   "execution_count": 17,
   "id": "93e76272",
   "metadata": {
    "ExecuteTime": {
     "end_time": "2023-01-09T15:40:02.887828Z",
     "start_time": "2023-01-09T15:40:02.885758Z"
    }
   },
   "outputs": [],
   "source": [
    "# pd.read_csv('test.csv')"
   ]
  },
  {
   "cell_type": "markdown",
   "id": "df2361e4",
   "metadata": {},
   "source": [
    "# GBR"
   ]
  },
  {
   "cell_type": "code",
   "execution_count": null,
   "id": "90c6732d",
   "metadata": {
    "ExecuteTime": {
     "end_time": "2023-01-09T14:55:49.889422Z",
     "start_time": "2023-01-09T14:55:49.713623Z"
    }
   },
   "outputs": [],
   "source": [
    "X_train"
   ]
  },
  {
   "cell_type": "code",
   "execution_count": null,
   "id": "9c68abae",
   "metadata": {
    "ExecuteTime": {
     "end_time": "2023-01-09T15:07:05.528329Z",
     "start_time": "2023-01-09T14:55:49.890719Z"
    },
    "scrolled": false
   },
   "outputs": [],
   "source": [
    "from sklearn.ensemble import GradientBoostingRegressor\n",
    "\n",
    "GBR = GradientBoostingRegressor()\n",
    "\n",
    "GBR.set_params(learning_rate = .01,\n",
    "               max_depth = 4,\n",
    "               n_estimators = 1500,\n",
    "               validation_fraction = .1,\n",
    "               criterion = 'friedman_mse',\n",
    "               subsample = .2,\n",
    "               max_leaf_nodes = 50,\n",
    "              max_features = 1.0,\n",
    "              verbose = 1)\n",
    "\n",
    "fit = GBR.fit(X_train,Y_train)"
   ]
  },
  {
   "cell_type": "code",
   "execution_count": null,
   "id": "6a03cc7f",
   "metadata": {
    "ExecuteTime": {
     "start_time": "2023-01-09T15:41:07.597Z"
    }
   },
   "outputs": [],
   "source": [
    "from sklearn.ensemble import GradientBoostingRegressor\n",
    "from sklearn.model_selection import GridSearchCV\n",
    "\n",
    "# Créez un modèle de Gradient Boosting\n",
    "gbr = GradientBoostingRegressor()\n",
    "\n",
    "# Définissez les paramètres à tester\n",
    "param_grid = {'n_estimators': [100, 500, 1000],\n",
    "              'max_depth': [3, 5, 7],\n",
    "              'min_samples_split': [2, 4, 6],\n",
    "              'learning_rate': [0.01, 0.1, 1.0],\n",
    "              'subsample': [0.5, 0.8, 1.0],\n",
    "              'max_features': [None, 'sqrt', 'log2'],\n",
    "              'loss': ['l', 'huber'],\n",
    "              'alpha': [0.5, 1.0, 2.0],\n",
    "              'criterion':['friedman_mse'],\n",
    "              'validation_fraction' : [.1,.2,.3]}\n",
    "\n",
    "# Créez un objet GridSearchCV\n",
    "grid_search = GridSearchCV(gbr, param_grid, cv=5, return_train_score=True)\n",
    "grid_search.fit(X_train, Y_train)"
   ]
  },
  {
   "cell_type": "code",
   "execution_count": null,
   "id": "57049505",
   "metadata": {
    "ExecuteTime": {
     "start_time": "2023-01-09T15:42:20.029Z"
    }
   },
   "outputs": [],
   "source": [
    "print(grid_search.best_params_)"
   ]
  },
  {
   "cell_type": "code",
   "execution_count": null,
   "id": "eedada30",
   "metadata": {},
   "outputs": [],
   "source": [
    "grid_search.score(X_test,)"
   ]
  },
  {
   "cell_type": "code",
   "execution_count": null,
   "id": "97670258",
   "metadata": {
    "ExecuteTime": {
     "end_time": "2023-01-09T15:27:43.759136Z",
     "start_time": "2023-01-09T15:27:39.652728Z"
    }
   },
   "outputs": [],
   "source": [
    "from sklearn.model_selection import RandomizedSearchCV\n",
    "\n",
    "X, y = X_train, Y_train\n",
    "\n",
    "GBR.set_params(learning_rate = .01,\n",
    "               max_depth = 4,\n",
    "               n_estimators = 1500,\n",
    "               validation_fraction = .1,\n",
    "               criterion = 'friedman_mse',\n",
    "               subsample = .2,\n",
    "               max_leaf_nodes = 50,\n",
    "              max_features = 1.0,\n",
    "              verbose = 1)\n",
    "\n",
    "\n",
    "param_grid = {\n",
    "    'learning_rate': np.linspace(.001,0.2,5),\n",
    "    'max_depth' : [4],\n",
    "    'n_estimators': [500],\n",
    "    'validation_fraction': [.1,.2,.3], # learning rate\n",
    "    'criterion':['friedman_mse'],\n",
    "    'subsample': np.linspace(.1,.6,5),\n",
    "    'max_leaf_nodes' :  np.linspace(40,150,5),\n",
    "    'max_features' : np.linspace(1.,5.,5),\n",
    "}\n",
    "\n",
    "\n",
    "GBR = GradientBoostingRegressor()\n",
    "\n",
    "\n",
    "random_search = RandomizedSearchCV(GBR,\n",
    "                                   param_grid,\n",
    "                                   n_iter=5,\n",
    "                                   cv=6,\n",
    "                                   scoring='accuracy',\n",
    "                                   random_state=0,\n",
    "                                   verbose=True)\n",
    "\n",
    "random_search.fit(X, y)\n",
    "\n",
    "print(random_search.best_params_)"
   ]
  },
  {
   "cell_type": "code",
   "execution_count": null,
   "id": "23fcc56c",
   "metadata": {
    "ExecuteTime": {
     "end_time": "2023-01-09T15:07:05.531291Z",
     "start_time": "2023-01-09T15:07:05.529545Z"
    }
   },
   "outputs": [],
   "source": [
    "# GBR.get_params().keys()"
   ]
  },
  {
   "cell_type": "code",
   "execution_count": null,
   "id": "789ba28f",
   "metadata": {
    "ExecuteTime": {
     "end_time": "2023-01-09T15:09:37.371421Z",
     "start_time": "2023-01-09T15:09:37.259590Z"
    }
   },
   "outputs": [],
   "source": [
    "y_pred = fit.predict(X_test)"
   ]
  },
  {
   "cell_type": "code",
   "execution_count": null,
   "id": "a7d11fc7",
   "metadata": {
    "ExecuteTime": {
     "end_time": "2023-01-09T15:09:39.999571Z",
     "start_time": "2023-01-09T15:09:39.996400Z"
    }
   },
   "outputs": [],
   "source": [
    "y_pred"
   ]
  },
  {
   "cell_type": "code",
   "execution_count": null,
   "id": "a2819a97",
   "metadata": {
    "ExecuteTime": {
     "end_time": "2023-01-09T15:07:05.719892Z",
     "start_time": "2023-01-09T15:07:05.700610Z"
    }
   },
   "outputs": [],
   "source": [
    "# from joblib import dump, load\n",
    "# dump(GBR, 'model/target_encoding.pkl')"
   ]
  },
  {
   "cell_type": "markdown",
   "id": "4db7204c",
   "metadata": {},
   "source": [
    "# Submit"
   ]
  },
  {
   "cell_type": "code",
   "execution_count": null,
   "id": "963c81ba",
   "metadata": {
    "ExecuteTime": {
     "end_time": "2023-01-09T15:09:48.305896Z",
     "start_time": "2023-01-09T15:09:48.303499Z"
    }
   },
   "outputs": [],
   "source": [
    "predictions = y_pred"
   ]
  },
  {
   "cell_type": "code",
   "execution_count": null,
   "id": "d28abce0",
   "metadata": {
    "ExecuteTime": {
     "end_time": "2023-01-09T15:09:49.410364Z",
     "start_time": "2023-01-09T15:09:49.386430Z"
    }
   },
   "outputs": [],
   "source": [
    "# save\n",
    "_round = False # tester aussi des arrondis au dessus ou en dessous\n",
    "\n",
    "name = 'target_encoding_1500_estim'\n",
    "\n",
    "if _round : y_pred = np.round(predictions)\n",
    "else : y_pred = predictions.copy()\n",
    "\n",
    "sub = pd.DataFrame(y_pred)\n",
    "sub.to_csv(path + 'submit/' + name + '.csv',index=True, header=['price'], index_label = 'index')"
   ]
  },
  {
   "cell_type": "code",
   "execution_count": null,
   "id": "9e21b9f9",
   "metadata": {},
   "outputs": [],
   "source": []
  }
 ],
 "metadata": {
  "kernelspec": {
   "display_name": "Python 3 (ipykernel)",
   "language": "python",
   "name": "python3"
  },
  "language_info": {
   "codemirror_mode": {
    "name": "ipython",
    "version": 3
   },
   "file_extension": ".py",
   "mimetype": "text/x-python",
   "name": "python",
   "nbconvert_exporter": "python",
   "pygments_lexer": "ipython3",
   "version": "3.9.12"
  },
  "toc": {
   "base_numbering": 1,
   "nav_menu": {},
   "number_sections": true,
   "sideBar": true,
   "skip_h1_title": false,
   "title_cell": "Table of Contents",
   "title_sidebar": "Contents",
   "toc_cell": false,
   "toc_position": {},
   "toc_section_display": true,
   "toc_window_display": false
  },
  "varInspector": {
   "cols": {
    "lenName": 16,
    "lenType": 16,
    "lenVar": 40
   },
   "kernels_config": {
    "python": {
     "delete_cmd_postfix": "",
     "delete_cmd_prefix": "del ",
     "library": "var_list.py",
     "varRefreshCmd": "print(var_dic_list())"
    },
    "r": {
     "delete_cmd_postfix": ") ",
     "delete_cmd_prefix": "rm(",
     "library": "var_list.r",
     "varRefreshCmd": "cat(var_dic_list()) "
    }
   },
   "types_to_exclude": [
    "module",
    "function",
    "builtin_function_or_method",
    "instance",
    "_Feature"
   ],
   "window_display": false
  }
 },
 "nbformat": 4,
 "nbformat_minor": 5
}
