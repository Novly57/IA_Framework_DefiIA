{
 "cells": [
  {
   "cell_type": "markdown",
   "id": "7b304eb1",
   "metadata": {},
   "source": [
    "# Data preparation"
   ]
  },
  {
   "cell_type": "code",
   "execution_count": 2,
   "id": "6f67dea0",
   "metadata": {
    "ExecuteTime": {
     "end_time": "2023-01-09T18:30:04.179524Z",
     "start_time": "2023-01-09T18:30:04.176504Z"
    }
   },
   "outputs": [],
   "source": [
    "import pandas as pd\n",
    "import numpy as np "
   ]
  },
  {
   "cell_type": "code",
   "execution_count": 3,
   "id": "80853c49",
   "metadata": {
    "ExecuteTime": {
     "end_time": "2023-01-09T18:30:05.539294Z",
     "start_time": "2023-01-09T18:30:04.676250Z"
    }
   },
   "outputs": [],
   "source": [
    "path = '../../data/' \n",
    "hotels = pd.read_csv(path + '/features_hotels.csv')\n",
    "data = pd.read_csv(path + 'data.csv')\n",
    "data_test = pd.read_csv(path + 'test_set.csv')"
   ]
  },
  {
   "cell_type": "code",
   "execution_count": 4,
   "id": "75cdefca",
   "metadata": {
    "ExecuteTime": {
     "end_time": "2023-01-09T18:30:06.436998Z",
     "start_time": "2023-01-09T18:30:06.252740Z"
    }
   },
   "outputs": [
    {
     "name": "stdout",
     "output_type": "stream",
     "text": [
      "Nombre de requêtes uniques : 8329\n"
     ]
    }
   ],
   "source": [
    "to_exclude = data[['city', 'language','mobile','request_number','date']].drop_duplicates()\n",
    "# to_exclude.to_csv('to_exclude.csv', index = False)\n",
    "print('Nombre de requêtes uniques :', to_exclude.shape[0])"
   ]
  },
  {
   "cell_type": "code",
   "execution_count": 5,
   "id": "14ddd471",
   "metadata": {
    "ExecuteTime": {
     "end_time": "2023-01-09T18:30:06.692893Z",
     "start_time": "2023-01-09T18:30:06.612640Z"
    }
   },
   "outputs": [
    {
     "name": "stdout",
     "output_type": "stream",
     "text": [
      "Estimation du nombre total de requêtes : 11171\n"
     ]
    }
   ],
   "source": [
    "tot = 0 \n",
    "for i in range(7):\n",
    "    tot += np.unique(data.loc[data.request_number == i].avatar_id.values).shape[0]\n",
    "\n",
    "print('Estimation du nombre total de requêtes :', tot)"
   ]
  },
  {
   "cell_type": "code",
   "execution_count": 6,
   "id": "f193c5d1",
   "metadata": {
    "ExecuteTime": {
     "end_time": "2023-01-09T18:30:07.070885Z",
     "start_time": "2023-01-09T18:30:07.012469Z"
    }
   },
   "outputs": [],
   "source": [
    "# exclusion des avatar posant problème\n",
    "# data = data.drop(index = data.loc[data.avatar_id == 134].index)\n",
    "# to_drop = [108,134,135,136,137,138,141]\n",
    "to_drop = [134]\n",
    "data = data.loc[~data.avatar_id.isin(to_drop)]"
   ]
  },
  {
   "cell_type": "code",
   "execution_count": 7,
   "id": "88d716f9",
   "metadata": {
    "ExecuteTime": {
     "end_time": "2023-01-09T18:30:07.516448Z",
     "start_time": "2023-01-09T18:30:07.255407Z"
    }
   },
   "outputs": [],
   "source": [
    "data = data.drop(['avatar_id'], axis = 1).drop_duplicates()"
   ]
  },
  {
   "cell_type": "code",
   "execution_count": 8,
   "id": "a7a5cd79",
   "metadata": {
    "ExecuteTime": {
     "end_time": "2023-01-09T18:30:07.938468Z",
     "start_time": "2023-01-09T18:30:07.712357Z"
    }
   },
   "outputs": [],
   "source": [
    "# ajout des caractéristiques des hotels\n",
    "data = data.merge(hotels, on=['hotel_id','city'])\n",
    "data_test = data_test.merge(hotels, on=['hotel_id','city'])\n",
    "data_test = data_test.sort_values('index').reset_index(drop=True).drop(['index'], axis = 1)"
   ]
  },
  {
   "cell_type": "code",
   "execution_count": 9,
   "id": "93c494ab",
   "metadata": {
    "ExecuteTime": {
     "end_time": "2023-01-09T18:30:08.970313Z",
     "start_time": "2023-01-09T18:30:08.465092Z"
    }
   },
   "outputs": [],
   "source": [
    "# création de la colonne request_number dans le test set\n",
    "data_test['request_number'] = 1\n",
    "for avatar in np.unique(data_test['avatar_id']):\n",
    "    data_test.loc[data_test['avatar_id'] == avatar, 'request_number'] = data_test['order_requests'].loc[data_test['avatar_id']== avatar] - min(data_test['order_requests'].loc[data_test['avatar_id']== avatar])+1"
   ]
  },
  {
   "cell_type": "code",
   "execution_count": 10,
   "id": "426bd959",
   "metadata": {
    "ExecuteTime": {
     "end_time": "2023-01-09T18:30:09.173253Z",
     "start_time": "2023-01-09T18:30:09.082206Z"
    }
   },
   "outputs": [],
   "source": [
    "# ajout de la variable ville == langue\n",
    "lang_cit = True\n",
    "\n",
    "if lang_cit == True: \n",
    "    dic_lang = {'amsterdam':'dutch', 'copenhagen':'danish', 'madrid':'spanish', 'paris':'french', 'rome':'italian', 'sofia':'bulgarian', 'valletta':'maltese', 'vienna':'austrian' ,'vilnius':'lithuanian'}\n",
    "    data['city_language'] = data['city'].map(dic_lang)\n",
    "    data['is_same_cl'] = data['city_language']==data['language']\n",
    "    data_test['city_language'] = data_test['city'].map(dic_lang)\n",
    "    data_test['is_same_cl'] = data_test['city_language']==data_test['language']\n",
    "#     colBool += ['is_same_cl']"
   ]
  },
  {
   "cell_type": "code",
   "execution_count": 11,
   "id": "1008e3f6",
   "metadata": {
    "ExecuteTime": {
     "end_time": "2023-01-09T18:30:09.452366Z",
     "start_time": "2023-01-09T18:30:09.307479Z"
    }
   },
   "outputs": [],
   "source": [
    "col = ['city', 'date', 'language', 'mobile', 'request_number', 'stock', 'group', 'brand', 'parking', 'pool','children_policy', 'is_same_cl', 'price']\n",
    "data = data[col]\n",
    "data_test = data_test[col[:-1]]"
   ]
  },
  {
   "cell_type": "code",
   "execution_count": 12,
   "id": "c3212187",
   "metadata": {
    "ExecuteTime": {
     "end_time": "2023-01-09T18:30:09.591115Z",
     "start_time": "2023-01-09T18:30:09.588016Z"
    }
   },
   "outputs": [],
   "source": [
    "def additive_smoothing(x,alpha= 1.96):\n",
    "    \"\"\" alpha = 1.96 borne à 95% pour la loi normale  \"\"\"\n",
    "    moy = (x+alpha).mean()\n",
    "    d = x.max()-x.min()\n",
    "    N = x.count()\n",
    "    return N*moy/(N+alpha*d)\n",
    "\n",
    "additive_smoothing.__name__ = 'additive_smoothing'"
   ]
  },
  {
   "cell_type": "code",
   "execution_count": 13,
   "id": "192c18d2",
   "metadata": {
    "ExecuteTime": {
     "end_time": "2023-01-09T18:30:10.032478Z",
     "start_time": "2023-01-09T18:30:10.027547Z"
    }
   },
   "outputs": [],
   "source": [
    "colQT = ['request_number', 'stock', 'date']\n",
    "notQT = ['city', 'language', 'mobile', 'group', 'brand', 'parking', 'pool','children_policy', 'is_same_cl'] "
   ]
  },
  {
   "cell_type": "code",
   "execution_count": 14,
   "id": "6b176fe9",
   "metadata": {
    "ExecuteTime": {
     "end_time": "2023-01-09T18:30:13.255223Z",
     "start_time": "2023-01-09T18:30:11.070295Z"
    }
   },
   "outputs": [],
   "source": [
    "for i in notQT:\n",
    "    df_tmp = data[[i, 'price']].groupby(i).agg({'price': ['mean', 'var', additive_smoothing]}).price\n",
    "    df_tmp = df_tmp.add_suffix('_' + i)\n",
    "    colQT += list(df_tmp.columns.unique())\n",
    "    data = data.join(df_tmp, on=i)\n",
    "    data_test = data_test.join(df_tmp, on=i)"
   ]
  },
  {
   "cell_type": "code",
   "execution_count": 15,
   "id": "3bce180e",
   "metadata": {
    "ExecuteTime": {
     "end_time": "2023-01-09T18:30:13.936505Z",
     "start_time": "2023-01-09T18:30:13.934400Z"
    }
   },
   "outputs": [],
   "source": [
    "colQT += ['price']"
   ]
  },
  {
   "cell_type": "code",
   "execution_count": 16,
   "id": "b5310c57",
   "metadata": {
    "ExecuteTime": {
     "end_time": "2023-01-09T18:30:14.823985Z",
     "start_time": "2023-01-09T18:30:14.651366Z"
    }
   },
   "outputs": [],
   "source": [
    "df = data[colQT[:-1]]\n",
    "df_test = data_test[colQT[:-1]]\n",
    "y = data[colQT[-1]]"
   ]
  },
  {
   "cell_type": "code",
   "execution_count": 17,
   "id": "00b83602",
   "metadata": {
    "ExecuteTime": {
     "end_time": "2023-01-09T18:30:16.251525Z",
     "start_time": "2023-01-09T18:30:16.248999Z"
    }
   },
   "outputs": [],
   "source": [
    "X_train = df\n",
    "X_test = df_test\n",
    "Y_train = y\n",
    "Y_test = None"
   ]
  },
  {
   "cell_type": "code",
   "execution_count": 18,
   "id": "93e76272",
   "metadata": {
    "ExecuteTime": {
     "end_time": "2023-01-09T18:30:18.158877Z",
     "start_time": "2023-01-09T18:30:18.157215Z"
    }
   },
   "outputs": [],
   "source": [
    "# pd.read_csv('test.csv')"
   ]
  },
  {
   "cell_type": "markdown",
   "id": "df2361e4",
   "metadata": {},
   "source": [
    "# GBR"
   ]
  },
  {
   "cell_type": "code",
   "execution_count": 19,
   "id": "90c6732d",
   "metadata": {
    "ExecuteTime": {
     "end_time": "2023-01-09T18:30:20.415444Z",
     "start_time": "2023-01-09T18:30:20.210935Z"
    }
   },
   "outputs": [
    {
     "data": {
      "text/html": [
       "<div>\n",
       "<style scoped>\n",
       "    .dataframe tbody tr th:only-of-type {\n",
       "        vertical-align: middle;\n",
       "    }\n",
       "\n",
       "    .dataframe tbody tr th {\n",
       "        vertical-align: top;\n",
       "    }\n",
       "\n",
       "    .dataframe thead th {\n",
       "        text-align: right;\n",
       "    }\n",
       "</style>\n",
       "<table border=\"1\" class=\"dataframe\">\n",
       "  <thead>\n",
       "    <tr style=\"text-align: right;\">\n",
       "      <th></th>\n",
       "      <th>request_number</th>\n",
       "      <th>stock</th>\n",
       "      <th>date</th>\n",
       "      <th>mean_city</th>\n",
       "      <th>var_city</th>\n",
       "      <th>additive_smoothing_city</th>\n",
       "      <th>mean_language</th>\n",
       "      <th>var_language</th>\n",
       "      <th>additive_smoothing_language</th>\n",
       "      <th>mean_mobile</th>\n",
       "      <th>...</th>\n",
       "      <th>additive_smoothing_parking</th>\n",
       "      <th>mean_pool</th>\n",
       "      <th>var_pool</th>\n",
       "      <th>additive_smoothing_pool</th>\n",
       "      <th>mean_children_policy</th>\n",
       "      <th>var_children_policy</th>\n",
       "      <th>additive_smoothing_children_policy</th>\n",
       "      <th>mean_is_same_cl</th>\n",
       "      <th>var_is_same_cl</th>\n",
       "      <th>additive_smoothing_is_same_cl</th>\n",
       "    </tr>\n",
       "  </thead>\n",
       "  <tbody>\n",
       "    <tr>\n",
       "      <th>0</th>\n",
       "      <td>1</td>\n",
       "      <td>3</td>\n",
       "      <td>12</td>\n",
       "      <td>165.55173</td>\n",
       "      <td>5985.767282</td>\n",
       "      <td>166.516354</td>\n",
       "      <td>154.748637</td>\n",
       "      <td>5999.095160</td>\n",
       "      <td>150.843929</td>\n",
       "      <td>159.610475</td>\n",
       "      <td>...</td>\n",
       "      <td>162.905065</td>\n",
       "      <td>142.144634</td>\n",
       "      <td>4905.884746</td>\n",
       "      <td>143.917897</td>\n",
       "      <td>157.313797</td>\n",
       "      <td>6680.118848</td>\n",
       "      <td>159.092193</td>\n",
       "      <td>160.002779</td>\n",
       "      <td>6871.253349</td>\n",
       "      <td>161.778872</td>\n",
       "    </tr>\n",
       "    <tr>\n",
       "      <th>1</th>\n",
       "      <td>1</td>\n",
       "      <td>15</td>\n",
       "      <td>27</td>\n",
       "      <td>165.55173</td>\n",
       "      <td>5985.767282</td>\n",
       "      <td>166.516354</td>\n",
       "      <td>159.636337</td>\n",
       "      <td>6808.807107</td>\n",
       "      <td>158.623704</td>\n",
       "      <td>160.026551</td>\n",
       "      <td>...</td>\n",
       "      <td>162.905065</td>\n",
       "      <td>142.144634</td>\n",
       "      <td>4905.884746</td>\n",
       "      <td>143.917897</td>\n",
       "      <td>157.313797</td>\n",
       "      <td>6680.118848</td>\n",
       "      <td>159.092193</td>\n",
       "      <td>160.002779</td>\n",
       "      <td>6871.253349</td>\n",
       "      <td>161.778872</td>\n",
       "    </tr>\n",
       "    <tr>\n",
       "      <th>2</th>\n",
       "      <td>1</td>\n",
       "      <td>2</td>\n",
       "      <td>11</td>\n",
       "      <td>165.55173</td>\n",
       "      <td>5985.767282</td>\n",
       "      <td>166.516354</td>\n",
       "      <td>156.157476</td>\n",
       "      <td>6641.903925</td>\n",
       "      <td>155.367276</td>\n",
       "      <td>159.610475</td>\n",
       "      <td>...</td>\n",
       "      <td>162.905065</td>\n",
       "      <td>142.144634</td>\n",
       "      <td>4905.884746</td>\n",
       "      <td>143.917897</td>\n",
       "      <td>157.313797</td>\n",
       "      <td>6680.118848</td>\n",
       "      <td>159.092193</td>\n",
       "      <td>160.002779</td>\n",
       "      <td>6871.253349</td>\n",
       "      <td>161.778872</td>\n",
       "    </tr>\n",
       "    <tr>\n",
       "      <th>3</th>\n",
       "      <td>1</td>\n",
       "      <td>14</td>\n",
       "      <td>26</td>\n",
       "      <td>165.55173</td>\n",
       "      <td>5985.767282</td>\n",
       "      <td>166.516354</td>\n",
       "      <td>158.518461</td>\n",
       "      <td>6578.472846</td>\n",
       "      <td>154.689115</td>\n",
       "      <td>160.026551</td>\n",
       "      <td>...</td>\n",
       "      <td>162.905065</td>\n",
       "      <td>142.144634</td>\n",
       "      <td>4905.884746</td>\n",
       "      <td>143.917897</td>\n",
       "      <td>157.313797</td>\n",
       "      <td>6680.118848</td>\n",
       "      <td>159.092193</td>\n",
       "      <td>160.002779</td>\n",
       "      <td>6871.253349</td>\n",
       "      <td>161.778872</td>\n",
       "    </tr>\n",
       "    <tr>\n",
       "      <th>4</th>\n",
       "      <td>1</td>\n",
       "      <td>13</td>\n",
       "      <td>25</td>\n",
       "      <td>165.55173</td>\n",
       "      <td>5985.767282</td>\n",
       "      <td>166.516354</td>\n",
       "      <td>156.713749</td>\n",
       "      <td>6541.710854</td>\n",
       "      <td>152.944919</td>\n",
       "      <td>159.610475</td>\n",
       "      <td>...</td>\n",
       "      <td>162.905065</td>\n",
       "      <td>142.144634</td>\n",
       "      <td>4905.884746</td>\n",
       "      <td>143.917897</td>\n",
       "      <td>157.313797</td>\n",
       "      <td>6680.118848</td>\n",
       "      <td>159.092193</td>\n",
       "      <td>160.002779</td>\n",
       "      <td>6871.253349</td>\n",
       "      <td>161.778872</td>\n",
       "    </tr>\n",
       "    <tr>\n",
       "      <th>...</th>\n",
       "      <td>...</td>\n",
       "      <td>...</td>\n",
       "      <td>...</td>\n",
       "      <td>...</td>\n",
       "      <td>...</td>\n",
       "      <td>...</td>\n",
       "      <td>...</td>\n",
       "      <td>...</td>\n",
       "      <td>...</td>\n",
       "      <td>...</td>\n",
       "      <td>...</td>\n",
       "      <td>...</td>\n",
       "      <td>...</td>\n",
       "      <td>...</td>\n",
       "      <td>...</td>\n",
       "      <td>...</td>\n",
       "      <td>...</td>\n",
       "      <td>...</td>\n",
       "      <td>...</td>\n",
       "      <td>...</td>\n",
       "      <td>...</td>\n",
       "    </tr>\n",
       "    <tr>\n",
       "      <th>916700</th>\n",
       "      <td>1</td>\n",
       "      <td>84</td>\n",
       "      <td>39</td>\n",
       "      <td>165.55173</td>\n",
       "      <td>5985.767282</td>\n",
       "      <td>166.516354</td>\n",
       "      <td>164.508062</td>\n",
       "      <td>7283.720668</td>\n",
       "      <td>159.483584</td>\n",
       "      <td>159.610475</td>\n",
       "      <td>...</td>\n",
       "      <td>162.905065</td>\n",
       "      <td>142.144634</td>\n",
       "      <td>4905.884746</td>\n",
       "      <td>143.917897</td>\n",
       "      <td>157.313797</td>\n",
       "      <td>6680.118848</td>\n",
       "      <td>159.092193</td>\n",
       "      <td>160.002779</td>\n",
       "      <td>6871.253349</td>\n",
       "      <td>161.778872</td>\n",
       "    </tr>\n",
       "    <tr>\n",
       "      <th>916701</th>\n",
       "      <td>1</td>\n",
       "      <td>84</td>\n",
       "      <td>39</td>\n",
       "      <td>165.55173</td>\n",
       "      <td>5985.767282</td>\n",
       "      <td>166.516354</td>\n",
       "      <td>156.456098</td>\n",
       "      <td>6441.953525</td>\n",
       "      <td>153.253943</td>\n",
       "      <td>160.026551</td>\n",
       "      <td>...</td>\n",
       "      <td>162.905065</td>\n",
       "      <td>142.144634</td>\n",
       "      <td>4905.884746</td>\n",
       "      <td>143.917897</td>\n",
       "      <td>157.313797</td>\n",
       "      <td>6680.118848</td>\n",
       "      <td>159.092193</td>\n",
       "      <td>160.002779</td>\n",
       "      <td>6871.253349</td>\n",
       "      <td>161.778872</td>\n",
       "    </tr>\n",
       "    <tr>\n",
       "      <th>916702</th>\n",
       "      <td>1</td>\n",
       "      <td>110</td>\n",
       "      <td>44</td>\n",
       "      <td>165.55173</td>\n",
       "      <td>5985.767282</td>\n",
       "      <td>166.516354</td>\n",
       "      <td>165.404823</td>\n",
       "      <td>7131.140515</td>\n",
       "      <td>164.022882</td>\n",
       "      <td>160.026551</td>\n",
       "      <td>...</td>\n",
       "      <td>162.905065</td>\n",
       "      <td>142.144634</td>\n",
       "      <td>4905.884746</td>\n",
       "      <td>143.917897</td>\n",
       "      <td>157.313797</td>\n",
       "      <td>6680.118848</td>\n",
       "      <td>159.092193</td>\n",
       "      <td>160.002779</td>\n",
       "      <td>6871.253349</td>\n",
       "      <td>161.778872</td>\n",
       "    </tr>\n",
       "    <tr>\n",
       "      <th>916703</th>\n",
       "      <td>1</td>\n",
       "      <td>104</td>\n",
       "      <td>43</td>\n",
       "      <td>165.55173</td>\n",
       "      <td>5985.767282</td>\n",
       "      <td>166.516354</td>\n",
       "      <td>155.846236</td>\n",
       "      <td>6642.503216</td>\n",
       "      <td>152.507311</td>\n",
       "      <td>159.610475</td>\n",
       "      <td>...</td>\n",
       "      <td>162.905065</td>\n",
       "      <td>142.144634</td>\n",
       "      <td>4905.884746</td>\n",
       "      <td>143.917897</td>\n",
       "      <td>157.313797</td>\n",
       "      <td>6680.118848</td>\n",
       "      <td>159.092193</td>\n",
       "      <td>160.002779</td>\n",
       "      <td>6871.253349</td>\n",
       "      <td>161.778872</td>\n",
       "    </tr>\n",
       "    <tr>\n",
       "      <th>916704</th>\n",
       "      <td>1</td>\n",
       "      <td>110</td>\n",
       "      <td>44</td>\n",
       "      <td>165.55173</td>\n",
       "      <td>5985.767282</td>\n",
       "      <td>166.516354</td>\n",
       "      <td>159.243063</td>\n",
       "      <td>7040.080746</td>\n",
       "      <td>154.355552</td>\n",
       "      <td>159.610475</td>\n",
       "      <td>...</td>\n",
       "      <td>162.905065</td>\n",
       "      <td>142.144634</td>\n",
       "      <td>4905.884746</td>\n",
       "      <td>143.917897</td>\n",
       "      <td>157.313797</td>\n",
       "      <td>6680.118848</td>\n",
       "      <td>159.092193</td>\n",
       "      <td>160.002779</td>\n",
       "      <td>6871.253349</td>\n",
       "      <td>161.778872</td>\n",
       "    </tr>\n",
       "  </tbody>\n",
       "</table>\n",
       "<p>916705 rows × 30 columns</p>\n",
       "</div>"
      ],
      "text/plain": [
       "        request_number  stock  date  mean_city     var_city  \\\n",
       "0                    1      3    12  165.55173  5985.767282   \n",
       "1                    1     15    27  165.55173  5985.767282   \n",
       "2                    1      2    11  165.55173  5985.767282   \n",
       "3                    1     14    26  165.55173  5985.767282   \n",
       "4                    1     13    25  165.55173  5985.767282   \n",
       "...                ...    ...   ...        ...          ...   \n",
       "916700               1     84    39  165.55173  5985.767282   \n",
       "916701               1     84    39  165.55173  5985.767282   \n",
       "916702               1    110    44  165.55173  5985.767282   \n",
       "916703               1    104    43  165.55173  5985.767282   \n",
       "916704               1    110    44  165.55173  5985.767282   \n",
       "\n",
       "        additive_smoothing_city  mean_language  var_language  \\\n",
       "0                    166.516354     154.748637   5999.095160   \n",
       "1                    166.516354     159.636337   6808.807107   \n",
       "2                    166.516354     156.157476   6641.903925   \n",
       "3                    166.516354     158.518461   6578.472846   \n",
       "4                    166.516354     156.713749   6541.710854   \n",
       "...                         ...            ...           ...   \n",
       "916700               166.516354     164.508062   7283.720668   \n",
       "916701               166.516354     156.456098   6441.953525   \n",
       "916702               166.516354     165.404823   7131.140515   \n",
       "916703               166.516354     155.846236   6642.503216   \n",
       "916704               166.516354     159.243063   7040.080746   \n",
       "\n",
       "        additive_smoothing_language  mean_mobile  ...  \\\n",
       "0                        150.843929   159.610475  ...   \n",
       "1                        158.623704   160.026551  ...   \n",
       "2                        155.367276   159.610475  ...   \n",
       "3                        154.689115   160.026551  ...   \n",
       "4                        152.944919   159.610475  ...   \n",
       "...                             ...          ...  ...   \n",
       "916700                   159.483584   159.610475  ...   \n",
       "916701                   153.253943   160.026551  ...   \n",
       "916702                   164.022882   160.026551  ...   \n",
       "916703                   152.507311   159.610475  ...   \n",
       "916704                   154.355552   159.610475  ...   \n",
       "\n",
       "        additive_smoothing_parking   mean_pool     var_pool  \\\n",
       "0                       162.905065  142.144634  4905.884746   \n",
       "1                       162.905065  142.144634  4905.884746   \n",
       "2                       162.905065  142.144634  4905.884746   \n",
       "3                       162.905065  142.144634  4905.884746   \n",
       "4                       162.905065  142.144634  4905.884746   \n",
       "...                            ...         ...          ...   \n",
       "916700                  162.905065  142.144634  4905.884746   \n",
       "916701                  162.905065  142.144634  4905.884746   \n",
       "916702                  162.905065  142.144634  4905.884746   \n",
       "916703                  162.905065  142.144634  4905.884746   \n",
       "916704                  162.905065  142.144634  4905.884746   \n",
       "\n",
       "        additive_smoothing_pool  mean_children_policy  var_children_policy  \\\n",
       "0                    143.917897            157.313797          6680.118848   \n",
       "1                    143.917897            157.313797          6680.118848   \n",
       "2                    143.917897            157.313797          6680.118848   \n",
       "3                    143.917897            157.313797          6680.118848   \n",
       "4                    143.917897            157.313797          6680.118848   \n",
       "...                         ...                   ...                  ...   \n",
       "916700               143.917897            157.313797          6680.118848   \n",
       "916701               143.917897            157.313797          6680.118848   \n",
       "916702               143.917897            157.313797          6680.118848   \n",
       "916703               143.917897            157.313797          6680.118848   \n",
       "916704               143.917897            157.313797          6680.118848   \n",
       "\n",
       "        additive_smoothing_children_policy  mean_is_same_cl  var_is_same_cl  \\\n",
       "0                               159.092193       160.002779     6871.253349   \n",
       "1                               159.092193       160.002779     6871.253349   \n",
       "2                               159.092193       160.002779     6871.253349   \n",
       "3                               159.092193       160.002779     6871.253349   \n",
       "4                               159.092193       160.002779     6871.253349   \n",
       "...                                    ...              ...             ...   \n",
       "916700                          159.092193       160.002779     6871.253349   \n",
       "916701                          159.092193       160.002779     6871.253349   \n",
       "916702                          159.092193       160.002779     6871.253349   \n",
       "916703                          159.092193       160.002779     6871.253349   \n",
       "916704                          159.092193       160.002779     6871.253349   \n",
       "\n",
       "        additive_smoothing_is_same_cl  \n",
       "0                          161.778872  \n",
       "1                          161.778872  \n",
       "2                          161.778872  \n",
       "3                          161.778872  \n",
       "4                          161.778872  \n",
       "...                               ...  \n",
       "916700                     161.778872  \n",
       "916701                     161.778872  \n",
       "916702                     161.778872  \n",
       "916703                     161.778872  \n",
       "916704                     161.778872  \n",
       "\n",
       "[916705 rows x 30 columns]"
      ]
     },
     "execution_count": 19,
     "metadata": {},
     "output_type": "execute_result"
    }
   ],
   "source": [
    "X_train"
   ]
  },
  {
   "cell_type": "code",
   "execution_count": null,
   "id": "9c68abae",
   "metadata": {
    "ExecuteTime": {
     "end_time": "2023-01-09T15:07:05.528329Z",
     "start_time": "2023-01-09T14:55:49.890719Z"
    },
    "scrolled": false
   },
   "outputs": [],
   "source": [
    "from sklearn.ensemble import GradientBoostingRegressor\n",
    "\n",
    "GBR = GradientBoostingRegressor()\n",
    "\n",
    "GBR.set_params(learning_rate = .01,\n",
    "               max_depth = 4,\n",
    "               n_estimators = 1500,\n",
    "               validation_fraction = .1,\n",
    "               criterion = 'friedman_mse',\n",
    "               subsample = .2,\n",
    "               max_leaf_nodes = 50,\n",
    "              max_features = 1.0,\n",
    "              verbose = 1)\n",
    "\n",
    "fit = GBR.fit(X_train,Y_train)"
   ]
  },
  {
   "cell_type": "code",
   "execution_count": 50,
   "id": "101d301f",
   "metadata": {
    "ExecuteTime": {
     "end_time": "2023-01-09T19:36:14.463853Z",
     "start_time": "2023-01-09T19:31:51.326651Z"
    }
   },
   "outputs": [
    {
     "name": "stdout",
     "output_type": "stream",
     "text": [
      "Fitting 4 folds for each of 3 candidates, totalling 12 fits\n"
     ]
    },
    {
     "name": "stderr",
     "output_type": "stream",
     "text": [
      "/usr/local/insa/anaconda/lib/python3.9/site-packages/sklearn/model_selection/_validation.py:378: FitFailedWarning: \n",
      "4 fits failed out of a total of 12.\n",
      "The score on these train-test partitions for these parameters will be set to nan.\n",
      "If these failures are not expected, you can try to debug them by setting error_score='raise'.\n",
      "\n",
      "Below are more details about the failures:\n",
      "--------------------------------------------------------------------------------\n",
      "4 fits failed with the following error:\n",
      "Traceback (most recent call last):\n",
      "  File \"/usr/local/insa/anaconda/lib/python3.9/site-packages/sklearn/model_selection/_validation.py\", line 686, in _fit_and_score\n",
      "    estimator.fit(X_train, y_train, **fit_params)\n",
      "  File \"/usr/local/insa/anaconda/lib/python3.9/site-packages/sklearn/ensemble/_gb.py\", line 577, in fit\n",
      "    self._check_params()\n",
      "  File \"/usr/local/insa/anaconda/lib/python3.9/site-packages/sklearn/ensemble/_gb.py\", line 356, in _check_params\n",
      "    check_scalar(\n",
      "  File \"/usr/local/insa/anaconda/lib/python3.9/site-packages/sklearn/utils/validation.py\", line 1489, in check_scalar\n",
      "    raise ValueError(\n",
      "ValueError: alpha == 1.0, must be < 1.0.\n",
      "\n",
      "  warnings.warn(some_fits_failed_message, FitFailedWarning)\n",
      "/usr/local/insa/anaconda/lib/python3.9/site-packages/sklearn/model_selection/_search.py:953: UserWarning: One or more of the test scores are non-finite: [0.90716979 0.90725788        nan]\n",
      "  warnings.warn(\n",
      "/usr/local/insa/anaconda/lib/python3.9/site-packages/sklearn/model_selection/_search.py:953: UserWarning: One or more of the train scores are non-finite: [0.93944281 0.93944281        nan]\n",
      "  warnings.warn(\n"
     ]
    },
    {
     "data": {
      "text/html": [
       "<style>#sk-container-id-10 {color: black;background-color: white;}#sk-container-id-10 pre{padding: 0;}#sk-container-id-10 div.sk-toggleable {background-color: white;}#sk-container-id-10 label.sk-toggleable__label {cursor: pointer;display: block;width: 100%;margin-bottom: 0;padding: 0.3em;box-sizing: border-box;text-align: center;}#sk-container-id-10 label.sk-toggleable__label-arrow:before {content: \"▸\";float: left;margin-right: 0.25em;color: #696969;}#sk-container-id-10 label.sk-toggleable__label-arrow:hover:before {color: black;}#sk-container-id-10 div.sk-estimator:hover label.sk-toggleable__label-arrow:before {color: black;}#sk-container-id-10 div.sk-toggleable__content {max-height: 0;max-width: 0;overflow: hidden;text-align: left;background-color: #f0f8ff;}#sk-container-id-10 div.sk-toggleable__content pre {margin: 0.2em;color: black;border-radius: 0.25em;background-color: #f0f8ff;}#sk-container-id-10 input.sk-toggleable__control:checked~div.sk-toggleable__content {max-height: 200px;max-width: 100%;overflow: auto;}#sk-container-id-10 input.sk-toggleable__control:checked~label.sk-toggleable__label-arrow:before {content: \"▾\";}#sk-container-id-10 div.sk-estimator input.sk-toggleable__control:checked~label.sk-toggleable__label {background-color: #d4ebff;}#sk-container-id-10 div.sk-label input.sk-toggleable__control:checked~label.sk-toggleable__label {background-color: #d4ebff;}#sk-container-id-10 input.sk-hidden--visually {border: 0;clip: rect(1px 1px 1px 1px);clip: rect(1px, 1px, 1px, 1px);height: 1px;margin: -1px;overflow: hidden;padding: 0;position: absolute;width: 1px;}#sk-container-id-10 div.sk-estimator {font-family: monospace;background-color: #f0f8ff;border: 1px dotted black;border-radius: 0.25em;box-sizing: border-box;margin-bottom: 0.5em;}#sk-container-id-10 div.sk-estimator:hover {background-color: #d4ebff;}#sk-container-id-10 div.sk-parallel-item::after {content: \"\";width: 100%;border-bottom: 1px solid gray;flex-grow: 1;}#sk-container-id-10 div.sk-label:hover label.sk-toggleable__label {background-color: #d4ebff;}#sk-container-id-10 div.sk-serial::before {content: \"\";position: absolute;border-left: 1px solid gray;box-sizing: border-box;top: 0;bottom: 0;left: 50%;z-index: 0;}#sk-container-id-10 div.sk-serial {display: flex;flex-direction: column;align-items: center;background-color: white;padding-right: 0.2em;padding-left: 0.2em;position: relative;}#sk-container-id-10 div.sk-item {position: relative;z-index: 1;}#sk-container-id-10 div.sk-parallel {display: flex;align-items: stretch;justify-content: center;background-color: white;position: relative;}#sk-container-id-10 div.sk-item::before, #sk-container-id-10 div.sk-parallel-item::before {content: \"\";position: absolute;border-left: 1px solid gray;box-sizing: border-box;top: 0;bottom: 0;left: 50%;z-index: -1;}#sk-container-id-10 div.sk-parallel-item {display: flex;flex-direction: column;z-index: 1;position: relative;background-color: white;}#sk-container-id-10 div.sk-parallel-item:first-child::after {align-self: flex-end;width: 50%;}#sk-container-id-10 div.sk-parallel-item:last-child::after {align-self: flex-start;width: 50%;}#sk-container-id-10 div.sk-parallel-item:only-child::after {width: 0;}#sk-container-id-10 div.sk-dashed-wrapped {border: 1px dashed gray;margin: 0 0.4em 0.5em 0.4em;box-sizing: border-box;padding-bottom: 0.4em;background-color: white;}#sk-container-id-10 div.sk-label label {font-family: monospace;font-weight: bold;display: inline-block;line-height: 1.2em;}#sk-container-id-10 div.sk-label-container {text-align: center;}#sk-container-id-10 div.sk-container {/* jupyter's `normalize.less` sets `[hidden] { display: none; }` but bootstrap.min.css set `[hidden] { display: none !important; }` so we also need the `!important` here to be able to override the default hidden behavior on the sphinx rendered scikit-learn.org. See: https://github.com/scikit-learn/scikit-learn/issues/21755 */display: inline-block !important;position: relative;}#sk-container-id-10 div.sk-text-repr-fallback {display: none;}</style><div id=\"sk-container-id-10\" class=\"sk-top-container\"><div class=\"sk-text-repr-fallback\"><pre>GridSearchCV(cv=4, estimator=GradientBoostingRegressor(), n_jobs=-1,\n",
       "             param_grid={&#x27;alpha&#x27;: [0.8, 0.9, 1.0],\n",
       "                         &#x27;criterion&#x27;: [&#x27;friedman_mse&#x27;], &#x27;learning_rate&#x27;: [0.1],\n",
       "                         &#x27;max_depth&#x27;: [4], &#x27;max_features&#x27;: [None],\n",
       "                         &#x27;min_samples_split&#x27;: [6], &#x27;n_estimators&#x27;: [50],\n",
       "                         &#x27;subsample&#x27;: [1], &#x27;validation_fraction&#x27;: [0.2]},\n",
       "             return_train_score=True, verbose=True)</pre><b>In a Jupyter environment, please rerun this cell to show the HTML representation or trust the notebook. <br />On GitHub, the HTML representation is unable to render, please try loading this page with nbviewer.org.</b></div><div class=\"sk-container\" hidden><div class=\"sk-item sk-dashed-wrapped\"><div class=\"sk-label-container\"><div class=\"sk-label sk-toggleable\"><input class=\"sk-toggleable__control sk-hidden--visually\" id=\"sk-estimator-id-28\" type=\"checkbox\" ><label for=\"sk-estimator-id-28\" class=\"sk-toggleable__label sk-toggleable__label-arrow\">GridSearchCV</label><div class=\"sk-toggleable__content\"><pre>GridSearchCV(cv=4, estimator=GradientBoostingRegressor(), n_jobs=-1,\n",
       "             param_grid={&#x27;alpha&#x27;: [0.8, 0.9, 1.0],\n",
       "                         &#x27;criterion&#x27;: [&#x27;friedman_mse&#x27;], &#x27;learning_rate&#x27;: [0.1],\n",
       "                         &#x27;max_depth&#x27;: [4], &#x27;max_features&#x27;: [None],\n",
       "                         &#x27;min_samples_split&#x27;: [6], &#x27;n_estimators&#x27;: [50],\n",
       "                         &#x27;subsample&#x27;: [1], &#x27;validation_fraction&#x27;: [0.2]},\n",
       "             return_train_score=True, verbose=True)</pre></div></div></div><div class=\"sk-parallel\"><div class=\"sk-parallel-item\"><div class=\"sk-item\"><div class=\"sk-label-container\"><div class=\"sk-label sk-toggleable\"><input class=\"sk-toggleable__control sk-hidden--visually\" id=\"sk-estimator-id-29\" type=\"checkbox\" ><label for=\"sk-estimator-id-29\" class=\"sk-toggleable__label sk-toggleable__label-arrow\">estimator: GradientBoostingRegressor</label><div class=\"sk-toggleable__content\"><pre>GradientBoostingRegressor()</pre></div></div></div><div class=\"sk-serial\"><div class=\"sk-item\"><div class=\"sk-estimator sk-toggleable\"><input class=\"sk-toggleable__control sk-hidden--visually\" id=\"sk-estimator-id-30\" type=\"checkbox\" ><label for=\"sk-estimator-id-30\" class=\"sk-toggleable__label sk-toggleable__label-arrow\">GradientBoostingRegressor</label><div class=\"sk-toggleable__content\"><pre>GradientBoostingRegressor()</pre></div></div></div></div></div></div></div></div></div></div>"
      ],
      "text/plain": [
       "GridSearchCV(cv=4, estimator=GradientBoostingRegressor(), n_jobs=-1,\n",
       "             param_grid={'alpha': [0.8, 0.9, 1.0],\n",
       "                         'criterion': ['friedman_mse'], 'learning_rate': [0.1],\n",
       "                         'max_depth': [4], 'max_features': [None],\n",
       "                         'min_samples_split': [6], 'n_estimators': [50],\n",
       "                         'subsample': [1], 'validation_fraction': [0.2]},\n",
       "             return_train_score=True, verbose=True)"
      ]
     },
     "execution_count": 50,
     "metadata": {},
     "output_type": "execute_result"
    }
   ],
   "source": [
    "from sklearn.ensemble import GradientBoostingRegressor\n",
    "from sklearn.model_selection import GridSearchCV\n",
    "\n",
    "# Créez un modèle de Gradient Boosting\n",
    "gbr = GradientBoostingRegressor()\n",
    "\n",
    "# Définissez les paramètres à tester\n",
    "param_grid = {'n_estimators': [50],\n",
    "              'max_depth': [4],\n",
    "              'min_samples_split': [6],\n",
    "              'learning_rate': [.1],\n",
    "              'subsample': [1],#[0.5, 0.8, 1.0],\n",
    "              'max_features': [None],#[None, 'sqrt', 'log2'],\n",
    "              'alpha': [.8,.9,1.],#[0.5, 1.0, 2.0],\n",
    "              'criterion':['friedman_mse'],\n",
    "              'validation_fraction' : [.2]#,[.1,.2,.3]\n",
    "             }\n",
    "\n",
    "# Créez un objet GridSearchCV\n",
    "grid_search = GridSearchCV(gbr, param_grid, cv=4, return_train_score=True, verbose = True, n_jobs = -1)\n",
    "grid_search.fit(X_train, Y_train)"
   ]
  },
  {
   "cell_type": "code",
   "execution_count": 49,
   "id": "56b8fb62",
   "metadata": {
    "ExecuteTime": {
     "end_time": "2023-01-09T19:30:14.696191Z",
     "start_time": "2023-01-09T19:30:14.689450Z"
    }
   },
   "outputs": [
    {
     "name": "stdout",
     "output_type": "stream",
     "text": [
      "{'alpha': 0.8, 'criterion': 'friedman_mse', 'learning_rate': 0.1, 'max_depth': 4, 'max_features': None, 'min_samples_split': 6, 'n_estimators': 50, 'subsample': 1, 'validation_fraction': 0.1}\n"
     ]
    }
   ],
   "source": [
    "print(grid_search.best_params_)"
   ]
  },
  {
   "cell_type": "code",
   "execution_count": null,
   "id": "e38096a4",
   "metadata": {},
   "outputs": [],
   "source": [
    "grid_search.score(X_test,)"
   ]
  },
  {
   "cell_type": "code",
   "execution_count": null,
   "id": "8a998f3d",
   "metadata": {
    "ExecuteTime": {
     "end_time": "2023-01-09T15:27:43.759136Z",
     "start_time": "2023-01-09T15:27:39.652728Z"
    }
   },
   "outputs": [],
   "source": [
    "from sklearn.model_selection import RandomizedSearchCV\n",
    "\n",
    "X, y = X_train, Y_train\n",
    "\n",
    "GBR.set_params(learning_rate = .01,\n",
    "               max_depth = 4,\n",
    "               n_estimators = 1500,\n",
    "               validation_fraction = .1,\n",
    "               criterion = 'friedman_mse',\n",
    "               subsample = .2,\n",
    "               max_leaf_nodes = 50,\n",
    "              max_features = 1.0,\n",
    "              verbose = 1)\n",
    "\n",
    "\n",
    "param_grid = {\n",
    "    'learning_rate': np.linspace(.001,0.2,5),\n",
    "    'max_depth' : [4],\n",
    "    'n_estimators': [500],\n",
    "    'validation_fraction': [.1,.2,.3], # learning rate\n",
    "    'criterion':['friedman_mse'],\n",
    "    'subsample': np.linspace(.1,.6,5),\n",
    "    'max_leaf_nodes' :  np.linspace(40,150,5),\n",
    "    'max_features' : np.linspace(1.,5.,5),\n",
    "}\n",
    "\n",
    "\n",
    "GBR = GradientBoostingRegressor()\n",
    "\n",
    "\n",
    "random_search = RandomizedSearchCV(GBR,\n",
    "                                   param_grid,\n",
    "                                   n_iter=5,\n",
    "                                   cv=6,\n",
    "                                   scoring='accuracy',\n",
    "                                   random_state=0,\n",
    "                                   verbose=True)\n",
    "\n",
    "random_search.fit(X, y)\n",
    "\n",
    "print(random_search.best_params_)"
   ]
  },
  {
   "cell_type": "code",
   "execution_count": null,
   "id": "23fcc56c",
   "metadata": {
    "ExecuteTime": {
     "end_time": "2023-01-09T15:07:05.531291Z",
     "start_time": "2023-01-09T15:07:05.529545Z"
    }
   },
   "outputs": [],
   "source": [
    "# GBR.get_params().keys()"
   ]
  },
  {
   "cell_type": "code",
   "execution_count": null,
   "id": "789ba28f",
   "metadata": {
    "ExecuteTime": {
     "end_time": "2023-01-09T15:09:37.371421Z",
     "start_time": "2023-01-09T15:09:37.259590Z"
    }
   },
   "outputs": [],
   "source": [
    "y_pred = fit.predict(X_test)"
   ]
  },
  {
   "cell_type": "code",
   "execution_count": null,
   "id": "a7d11fc7",
   "metadata": {
    "ExecuteTime": {
     "end_time": "2023-01-09T15:09:39.999571Z",
     "start_time": "2023-01-09T15:09:39.996400Z"
    }
   },
   "outputs": [],
   "source": [
    "y_pred"
   ]
  },
  {
   "cell_type": "code",
   "execution_count": null,
   "id": "a2819a97",
   "metadata": {
    "ExecuteTime": {
     "end_time": "2023-01-09T15:07:05.719892Z",
     "start_time": "2023-01-09T15:07:05.700610Z"
    }
   },
   "outputs": [],
   "source": [
    "# from joblib import dump, load\n",
    "# dump(GBR, 'model/target_encoding.pkl')"
   ]
  },
  {
   "cell_type": "markdown",
   "id": "4db7204c",
   "metadata": {},
   "source": [
    "# Submit"
   ]
  },
  {
   "cell_type": "code",
   "execution_count": null,
   "id": "963c81ba",
   "metadata": {
    "ExecuteTime": {
     "end_time": "2023-01-09T15:09:48.305896Z",
     "start_time": "2023-01-09T15:09:48.303499Z"
    }
   },
   "outputs": [],
   "source": [
    "predictions = y_pred"
   ]
  },
  {
   "cell_type": "code",
   "execution_count": null,
   "id": "d28abce0",
   "metadata": {
    "ExecuteTime": {
     "end_time": "2023-01-09T15:09:49.410364Z",
     "start_time": "2023-01-09T15:09:49.386430Z"
    }
   },
   "outputs": [],
   "source": [
    "# save\n",
    "_round = False # tester aussi des arrondis au dessus ou en dessous\n",
    "\n",
    "name = 'target_encoding_1500_estim'\n",
    "\n",
    "if _round : y_pred = np.round(predictions)\n",
    "else : y_pred = predictions.copy()\n",
    "\n",
    "sub = pd.DataFrame(y_pred)\n",
    "sub.to_csv(path + 'submit/' + name + '.csv',index=True, header=['price'], index_label = 'index')"
   ]
  },
  {
   "cell_type": "code",
   "execution_count": null,
   "id": "1d9d3235",
   "metadata": {},
   "outputs": [],
   "source": []
  }
 ],
 "metadata": {
  "kernelspec": {
   "display_name": "Python 3 (ipykernel)",
   "language": "python",
   "name": "python3"
  },
  "language_info": {
   "codemirror_mode": {
    "name": "ipython",
    "version": 3
   },
   "file_extension": ".py",
   "mimetype": "text/x-python",
   "name": "python",
   "nbconvert_exporter": "python",
   "pygments_lexer": "ipython3",
   "version": "3.9.12"
  },
  "toc": {
   "base_numbering": 1,
   "nav_menu": {},
   "number_sections": true,
   "sideBar": true,
   "skip_h1_title": false,
   "title_cell": "Table of Contents",
   "title_sidebar": "Contents",
   "toc_cell": false,
   "toc_position": {},
   "toc_section_display": true,
   "toc_window_display": false
  },
  "varInspector": {
   "cols": {
    "lenName": 16,
    "lenType": 16,
    "lenVar": 40
   },
   "kernels_config": {
    "python": {
     "delete_cmd_postfix": "",
     "delete_cmd_prefix": "del ",
     "library": "var_list.py",
     "varRefreshCmd": "print(var_dic_list())"
    },
    "r": {
     "delete_cmd_postfix": ") ",
     "delete_cmd_prefix": "rm(",
     "library": "var_list.r",
     "varRefreshCmd": "cat(var_dic_list()) "
    }
   },
   "types_to_exclude": [
    "module",
    "function",
    "builtin_function_or_method",
    "instance",
    "_Feature"
   ],
   "window_display": false
  }
 },
 "nbformat": 4,
 "nbformat_minor": 5
}
