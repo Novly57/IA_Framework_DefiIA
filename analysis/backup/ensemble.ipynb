{
 "cells": [
  {
   "cell_type": "code",
   "execution_count": 5,
   "id": "846d7618",
   "metadata": {
    "ExecuteTime": {
     "end_time": "2023-01-06T17:19:21.900799Z",
     "start_time": "2023-01-06T17:19:21.883339Z"
    }
   },
   "outputs": [],
   "source": [
    "import pandas as pd\n",
    "import os\n",
    "\n",
    "def create_dataframe(directory_path):\n",
    "    df = pd.DataFrame()\n",
    "    for file_name in os.listdir(directory_path):\n",
    "        file_data = pd.read_csv(os.path.join(directory_path, file_name))\n",
    "        df[file_name] = file_data.price\n",
    "    return df\n",
    "\n",
    "df = create_dataframe('../../data/best_sub/')\n",
    "mean_by_row = df.mean(axis=1)\n",
    "predictions = mean_by_row"
   ]
  },
  {
   "cell_type": "code",
   "execution_count": 6,
   "id": "3b89a601",
   "metadata": {
    "ExecuteTime": {
     "end_time": "2023-01-06T17:19:22.413475Z",
     "start_time": "2023-01-06T17:19:22.395963Z"
    }
   },
   "outputs": [
    {
     "data": {
      "text/html": [
       "<div>\n",
       "<style scoped>\n",
       "    .dataframe tbody tr th:only-of-type {\n",
       "        vertical-align: middle;\n",
       "    }\n",
       "\n",
       "    .dataframe tbody tr th {\n",
       "        vertical-align: top;\n",
       "    }\n",
       "\n",
       "    .dataframe thead th {\n",
       "        text-align: right;\n",
       "    }\n",
       "</style>\n",
       "<table border=\"1\" class=\"dataframe\">\n",
       "  <thead>\n",
       "    <tr style=\"text-align: right;\">\n",
       "      <th></th>\n",
       "      <th>target_encoding.csv</th>\n",
       "      <th>one_hot.csv</th>\n",
       "      <th>xgb.csv</th>\n",
       "    </tr>\n",
       "  </thead>\n",
       "  <tbody>\n",
       "    <tr>\n",
       "      <th>0</th>\n",
       "      <td>105.231720</td>\n",
       "      <td>109.331039</td>\n",
       "      <td>105.934360</td>\n",
       "    </tr>\n",
       "    <tr>\n",
       "      <th>1</th>\n",
       "      <td>135.681281</td>\n",
       "      <td>129.738462</td>\n",
       "      <td>138.367300</td>\n",
       "    </tr>\n",
       "    <tr>\n",
       "      <th>2</th>\n",
       "      <td>69.415146</td>\n",
       "      <td>68.368351</td>\n",
       "      <td>70.414920</td>\n",
       "    </tr>\n",
       "    <tr>\n",
       "      <th>3</th>\n",
       "      <td>59.589127</td>\n",
       "      <td>58.108511</td>\n",
       "      <td>62.303165</td>\n",
       "    </tr>\n",
       "    <tr>\n",
       "      <th>4</th>\n",
       "      <td>199.315002</td>\n",
       "      <td>200.123597</td>\n",
       "      <td>206.382970</td>\n",
       "    </tr>\n",
       "    <tr>\n",
       "      <th>...</th>\n",
       "      <td>...</td>\n",
       "      <td>...</td>\n",
       "      <td>...</td>\n",
       "    </tr>\n",
       "    <tr>\n",
       "      <th>6639</th>\n",
       "      <td>80.231770</td>\n",
       "      <td>89.335545</td>\n",
       "      <td>82.757000</td>\n",
       "    </tr>\n",
       "    <tr>\n",
       "      <th>6640</th>\n",
       "      <td>263.944896</td>\n",
       "      <td>254.791942</td>\n",
       "      <td>267.557650</td>\n",
       "    </tr>\n",
       "    <tr>\n",
       "      <th>6641</th>\n",
       "      <td>156.718438</td>\n",
       "      <td>153.990327</td>\n",
       "      <td>158.001860</td>\n",
       "    </tr>\n",
       "    <tr>\n",
       "      <th>6642</th>\n",
       "      <td>178.275972</td>\n",
       "      <td>172.241022</td>\n",
       "      <td>178.633940</td>\n",
       "    </tr>\n",
       "    <tr>\n",
       "      <th>6643</th>\n",
       "      <td>156.718438</td>\n",
       "      <td>153.990327</td>\n",
       "      <td>158.001860</td>\n",
       "    </tr>\n",
       "  </tbody>\n",
       "</table>\n",
       "<p>6644 rows × 3 columns</p>\n",
       "</div>"
      ],
      "text/plain": [
       "      target_encoding.csv  one_hot.csv     xgb.csv\n",
       "0              105.231720   109.331039  105.934360\n",
       "1              135.681281   129.738462  138.367300\n",
       "2               69.415146    68.368351   70.414920\n",
       "3               59.589127    58.108511   62.303165\n",
       "4              199.315002   200.123597  206.382970\n",
       "...                   ...          ...         ...\n",
       "6639            80.231770    89.335545   82.757000\n",
       "6640           263.944896   254.791942  267.557650\n",
       "6641           156.718438   153.990327  158.001860\n",
       "6642           178.275972   172.241022  178.633940\n",
       "6643           156.718438   153.990327  158.001860\n",
       "\n",
       "[6644 rows x 3 columns]"
      ]
     },
     "execution_count": 6,
     "metadata": {},
     "output_type": "execute_result"
    }
   ],
   "source": [
    "df"
   ]
  },
  {
   "cell_type": "code",
   "execution_count": 7,
   "id": "dbe7e721",
   "metadata": {
    "ExecuteTime": {
     "end_time": "2023-01-06T17:19:30.982711Z",
     "start_time": "2023-01-06T17:19:30.962628Z"
    }
   },
   "outputs": [
    {
     "data": {
      "text/plain": [
       "0       106.832373\n",
       "1       134.595681\n",
       "2        69.399472\n",
       "3        60.000268\n",
       "4       201.940523\n",
       "           ...    \n",
       "6639     84.108105\n",
       "6640    262.098162\n",
       "6641    156.236875\n",
       "6642    176.383645\n",
       "6643    156.236875\n",
       "Length: 6644, dtype: float64"
      ]
     },
     "execution_count": 7,
     "metadata": {},
     "output_type": "execute_result"
    }
   ],
   "source": [
    "predictions"
   ]
  },
  {
   "cell_type": "code",
   "execution_count": 8,
   "id": "a2dda30b",
   "metadata": {
    "ExecuteTime": {
     "end_time": "2023-01-06T17:20:11.897016Z",
     "start_time": "2023-01-06T17:20:11.878523Z"
    }
   },
   "outputs": [],
   "source": [
    "# save\n",
    "path = '../../data/' \n",
    "\n",
    "_round = True # tester aussi des arrondis au dessus ou en dessous\n",
    "\n",
    "name = 'mean'\n",
    "\n",
    "if _round : y_pred = np.round(predictions)\n",
    "else : y_pred = predictions.copy()\n",
    "\n",
    "sub = pd.DataFrame(y_pred)\n",
    "sub.to_csv(path + 'submit/' + name + '.csv',index=True, header=['price'], index_label = 'index')"
   ]
  },
  {
   "cell_type": "code",
   "execution_count": null,
   "id": "8c2a1bcf",
   "metadata": {},
   "outputs": [],
   "source": []
  }
 ],
 "metadata": {
  "kernelspec": {
   "display_name": "Python 3 (ipykernel)",
   "language": "python",
   "name": "python3"
  },
  "language_info": {
   "codemirror_mode": {
    "name": "ipython",
    "version": 3
   },
   "file_extension": ".py",
   "mimetype": "text/x-python",
   "name": "python",
   "nbconvert_exporter": "python",
   "pygments_lexer": "ipython3",
   "version": "3.9.12"
  },
  "toc": {
   "base_numbering": 1,
   "nav_menu": {},
   "number_sections": true,
   "sideBar": true,
   "skip_h1_title": false,
   "title_cell": "Table of Contents",
   "title_sidebar": "Contents",
   "toc_cell": false,
   "toc_position": {},
   "toc_section_display": true,
   "toc_window_display": false
  },
  "varInspector": {
   "cols": {
    "lenName": 16,
    "lenType": 16,
    "lenVar": 40
   },
   "kernels_config": {
    "python": {
     "delete_cmd_postfix": "",
     "delete_cmd_prefix": "del ",
     "library": "var_list.py",
     "varRefreshCmd": "print(var_dic_list())"
    },
    "r": {
     "delete_cmd_postfix": ") ",
     "delete_cmd_prefix": "rm(",
     "library": "var_list.r",
     "varRefreshCmd": "cat(var_dic_list()) "
    }
   },
   "types_to_exclude": [
    "module",
    "function",
    "builtin_function_or_method",
    "instance",
    "_Feature"
   ],
   "window_display": false
  }
 },
 "nbformat": 4,
 "nbformat_minor": 5
}
