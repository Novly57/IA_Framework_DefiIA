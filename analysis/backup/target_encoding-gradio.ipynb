{
 "cells": [
  {
   "cell_type": "markdown",
   "id": "7b304eb1",
   "metadata": {},
   "source": [
    "# Data preparation"
   ]
  },
  {
   "cell_type": "code",
   "execution_count": 1,
   "id": "6f67dea0",
   "metadata": {
    "ExecuteTime": {
     "end_time": "2023-01-09T10:14:03.423057Z",
     "start_time": "2023-01-09T10:14:02.751959Z"
    }
   },
   "outputs": [],
   "source": [
    "import pandas as pd\n",
    "import numpy as np "
   ]
  },
  {
   "cell_type": "code",
   "execution_count": 2,
   "id": "80853c49",
   "metadata": {
    "ExecuteTime": {
     "end_time": "2023-01-09T10:14:04.143890Z",
     "start_time": "2023-01-09T10:14:03.458599Z"
    }
   },
   "outputs": [],
   "source": [
    "path = '../../data/' \n",
    "hotels = pd.read_csv(path + '/features_hotels.csv')\n",
    "data = pd.read_csv(path + 'data.csv')\n",
    "data_test = pd.read_csv(path + 'test_set.csv')"
   ]
  },
  {
   "cell_type": "code",
   "execution_count": 3,
   "id": "75cdefca",
   "metadata": {
    "ExecuteTime": {
     "end_time": "2023-01-09T10:14:04.446512Z",
     "start_time": "2023-01-09T10:14:04.215229Z"
    }
   },
   "outputs": [
    {
     "name": "stdout",
     "output_type": "stream",
     "text": [
      "Nombre de requêtes uniques : 8329\n"
     ]
    }
   ],
   "source": [
    "to_exclude = data[['city', 'language','mobile','request_number','date']].drop_duplicates()\n",
    "# to_exclude.to_csv('to_exclude.csv', index = False)\n",
    "print('Nombre de requêtes uniques :', to_exclude.shape[0])"
   ]
  },
  {
   "cell_type": "code",
   "execution_count": 4,
   "id": "14ddd471",
   "metadata": {
    "ExecuteTime": {
     "end_time": "2023-01-09T10:14:04.617060Z",
     "start_time": "2023-01-09T10:14:04.523579Z"
    }
   },
   "outputs": [
    {
     "name": "stdout",
     "output_type": "stream",
     "text": [
      "Estimation du nombre total de requêtes : 11171\n"
     ]
    }
   ],
   "source": [
    "tot = 0 \n",
    "for i in range(7):\n",
    "    tot += np.unique(data.loc[data.request_number == i].avatar_id.values).shape[0]\n",
    "\n",
    "print('Estimation du nombre total de requêtes :', tot)"
   ]
  },
  {
   "cell_type": "code",
   "execution_count": 5,
   "id": "f193c5d1",
   "metadata": {
    "ExecuteTime": {
     "end_time": "2023-01-09T10:14:04.743820Z",
     "start_time": "2023-01-09T10:14:04.684155Z"
    }
   },
   "outputs": [],
   "source": [
    "# exclusion des avatar posant problème\n",
    "# data = data.drop(index = data.loc[data.avatar_id == 134].index)\n",
    "# to_drop = [108,134,135,136,137,138,141]\n",
    "to_drop = [134]\n",
    "data = data.loc[~data.avatar_id.isin(to_drop)]"
   ]
  },
  {
   "cell_type": "code",
   "execution_count": 6,
   "id": "88d716f9",
   "metadata": {
    "ExecuteTime": {
     "end_time": "2023-01-09T10:14:05.911144Z",
     "start_time": "2023-01-09T10:14:05.579303Z"
    }
   },
   "outputs": [],
   "source": [
    "data = data.drop(['avatar_id'], axis = 1).drop_duplicates()"
   ]
  },
  {
   "cell_type": "code",
   "execution_count": 7,
   "id": "a7a5cd79",
   "metadata": {
    "ExecuteTime": {
     "end_time": "2023-01-09T10:14:06.256060Z",
     "start_time": "2023-01-09T10:14:06.001729Z"
    }
   },
   "outputs": [],
   "source": [
    "# ajout des caractéristiques des hotels\n",
    "data = data.merge(hotels, on=['hotel_id','city'])\n",
    "data_test = data_test.merge(hotels, on=['hotel_id','city'])\n",
    "data_test = data_test.sort_values('index').reset_index(drop=True).drop(['index'], axis = 1)"
   ]
  },
  {
   "cell_type": "code",
   "execution_count": 8,
   "id": "93c494ab",
   "metadata": {
    "ExecuteTime": {
     "end_time": "2023-01-09T10:14:06.887266Z",
     "start_time": "2023-01-09T10:14:06.325614Z"
    }
   },
   "outputs": [],
   "source": [
    "# création de la colonne request_number dans le test set\n",
    "data_test['request_number'] = 1\n",
    "for avatar in np.unique(data_test['avatar_id']):\n",
    "    data_test.loc[data_test['avatar_id'] == avatar, 'request_number'] = data_test['order_requests'].loc[data_test['avatar_id']== avatar] - min(data_test['order_requests'].loc[data_test['avatar_id']== avatar])+1"
   ]
  },
  {
   "cell_type": "code",
   "execution_count": 9,
   "id": "426bd959",
   "metadata": {
    "ExecuteTime": {
     "end_time": "2023-01-09T10:14:07.103712Z",
     "start_time": "2023-01-09T10:14:06.965514Z"
    }
   },
   "outputs": [],
   "source": [
    "# ajout de la variable ville == langue\n",
    "lang_cit = True\n",
    "\n",
    "if lang_cit == True: \n",
    "    dic_lang = {'amsterdam':'dutch', 'copenhagen':'danish', 'madrid':'spanish', 'paris':'french', 'rome':'italian', 'sofia':'bulgarian', 'valletta':'maltese', 'vienna':'austrian' ,'vilnius':'lithuanian'}\n",
    "    data['city_language'] = data['city'].map(dic_lang)\n",
    "    data['is_same_cl'] = data['city_language']==data['language']\n",
    "    data_test['city_language'] = data_test['city'].map(dic_lang)\n",
    "    data_test['is_same_cl'] = data_test['city_language']==data_test['language']\n",
    "#     colBool += ['is_same_cl']"
   ]
  },
  {
   "cell_type": "code",
   "execution_count": 10,
   "id": "1008e3f6",
   "metadata": {
    "ExecuteTime": {
     "end_time": "2023-01-09T10:14:07.375498Z",
     "start_time": "2023-01-09T10:14:07.192957Z"
    }
   },
   "outputs": [],
   "source": [
    "col = ['city', 'date', 'language', 'mobile', 'request_number', 'stock', 'hotel_id', 'price']\n",
    "data = data[col]\n",
    "data_test = data_test[col[:-1]]"
   ]
  },
  {
   "cell_type": "code",
   "execution_count": 11,
   "id": "c3212187",
   "metadata": {
    "ExecuteTime": {
     "end_time": "2023-01-09T10:14:07.437881Z",
     "start_time": "2023-01-09T10:14:07.432790Z"
    }
   },
   "outputs": [],
   "source": [
    "def additive_smoothing(x,alpha= 1.96):\n",
    "    \"\"\" alpha = 1.96 borne à 95% pour la loi normale  \"\"\"\n",
    "    moy = (x+alpha).mean()\n",
    "    d = x.max()-x.min()\n",
    "    N = x.count()\n",
    "    return N*moy/(N+alpha*d)\n",
    "\n",
    "additive_smoothing.__name__ = 'additive_smoothing'"
   ]
  },
  {
   "cell_type": "code",
   "execution_count": 12,
   "id": "192c18d2",
   "metadata": {
    "ExecuteTime": {
     "end_time": "2023-01-09T10:14:09.169424Z",
     "start_time": "2023-01-09T10:14:09.163767Z"
    }
   },
   "outputs": [],
   "source": [
    "colQT = ['request_number', 'stock', 'date']\n",
    "notQT = ['city', 'language', 'mobile','hotel_id'] "
   ]
  },
  {
   "cell_type": "code",
   "execution_count": 13,
   "id": "6b176fe9",
   "metadata": {
    "ExecuteTime": {
     "end_time": "2023-01-09T10:14:12.431868Z",
     "start_time": "2023-01-09T10:14:11.291874Z"
    }
   },
   "outputs": [],
   "source": [
    "for i in notQT:\n",
    "    df_tmp = data[[i, 'price']].groupby(i).agg({'price': ['mean', 'var', additive_smoothing]}).price\n",
    "    df_tmp = df_tmp.add_suffix('_' + i)\n",
    "    colQT += list(df_tmp.columns.unique())\n",
    "    data = data.join(df_tmp, on=i)\n",
    "    data_test = data_test.join(df_tmp, on=i)"
   ]
  },
  {
   "cell_type": "code",
   "execution_count": 14,
   "id": "3bce180e",
   "metadata": {
    "ExecuteTime": {
     "end_time": "2023-01-09T10:14:14.826265Z",
     "start_time": "2023-01-09T10:14:14.817018Z"
    }
   },
   "outputs": [],
   "source": [
    "colQT += ['price']"
   ]
  },
  {
   "cell_type": "code",
   "execution_count": 15,
   "id": "b5310c57",
   "metadata": {
    "ExecuteTime": {
     "end_time": "2023-01-09T10:14:16.495937Z",
     "start_time": "2023-01-09T10:14:16.319444Z"
    }
   },
   "outputs": [],
   "source": [
    "df = data[colQT[:-1]]\n",
    "df_test = data_test[colQT[:-1]]\n",
    "y = data[colQT[-1]]"
   ]
  },
  {
   "cell_type": "code",
   "execution_count": 17,
   "id": "00b83602",
   "metadata": {
    "ExecuteTime": {
     "end_time": "2023-01-09T10:14:36.554210Z",
     "start_time": "2023-01-09T10:14:36.544765Z"
    }
   },
   "outputs": [],
   "source": [
    "X_train = df\n",
    "X_test = df_test\n",
    "Y_train = y\n",
    "Y_test = None"
   ]
  },
  {
   "cell_type": "code",
   "execution_count": 18,
   "id": "93e76272",
   "metadata": {
    "ExecuteTime": {
     "end_time": "2023-01-09T10:14:37.132542Z",
     "start_time": "2023-01-09T10:14:37.125430Z"
    }
   },
   "outputs": [],
   "source": [
    "# pd.read_csv('test.csv')"
   ]
  },
  {
   "cell_type": "markdown",
   "id": "df2361e4",
   "metadata": {},
   "source": [
    "# GBR"
   ]
  },
  {
   "cell_type": "code",
   "execution_count": 19,
   "id": "90c6732d",
   "metadata": {
    "ExecuteTime": {
     "end_time": "2023-01-09T10:14:37.868634Z",
     "start_time": "2023-01-09T10:14:37.838288Z"
    }
   },
   "outputs": [
    {
     "data": {
      "text/html": [
       "<div>\n",
       "<style scoped>\n",
       "    .dataframe tbody tr th:only-of-type {\n",
       "        vertical-align: middle;\n",
       "    }\n",
       "\n",
       "    .dataframe tbody tr th {\n",
       "        vertical-align: top;\n",
       "    }\n",
       "\n",
       "    .dataframe thead th {\n",
       "        text-align: right;\n",
       "    }\n",
       "</style>\n",
       "<table border=\"1\" class=\"dataframe\">\n",
       "  <thead>\n",
       "    <tr style=\"text-align: right;\">\n",
       "      <th></th>\n",
       "      <th>request_number</th>\n",
       "      <th>stock</th>\n",
       "      <th>date</th>\n",
       "      <th>mean_city</th>\n",
       "      <th>var_city</th>\n",
       "      <th>additive_smoothing_city</th>\n",
       "      <th>mean_language</th>\n",
       "      <th>var_language</th>\n",
       "      <th>additive_smoothing_language</th>\n",
       "      <th>mean_mobile</th>\n",
       "      <th>var_mobile</th>\n",
       "      <th>additive_smoothing_mobile</th>\n",
       "      <th>mean_hotel_id</th>\n",
       "      <th>var_hotel_id</th>\n",
       "      <th>additive_smoothing_hotel_id</th>\n",
       "    </tr>\n",
       "  </thead>\n",
       "  <tbody>\n",
       "    <tr>\n",
       "      <th>0</th>\n",
       "      <td>1</td>\n",
       "      <td>3</td>\n",
       "      <td>12</td>\n",
       "      <td>165.55173</td>\n",
       "      <td>5985.767282</td>\n",
       "      <td>166.516354</td>\n",
       "      <td>154.748637</td>\n",
       "      <td>5999.095160</td>\n",
       "      <td>150.843929</td>\n",
       "      <td>159.610475</td>\n",
       "      <td>6843.099494</td>\n",
       "      <td>161.216981</td>\n",
       "      <td>86.930476</td>\n",
       "      <td>84.676763</td>\n",
       "      <td>83.732551</td>\n",
       "    </tr>\n",
       "    <tr>\n",
       "      <th>1</th>\n",
       "      <td>1</td>\n",
       "      <td>15</td>\n",
       "      <td>27</td>\n",
       "      <td>165.55173</td>\n",
       "      <td>5985.767282</td>\n",
       "      <td>166.516354</td>\n",
       "      <td>159.636337</td>\n",
       "      <td>6808.807107</td>\n",
       "      <td>158.623704</td>\n",
       "      <td>160.026551</td>\n",
       "      <td>6878.134125</td>\n",
       "      <td>161.643961</td>\n",
       "      <td>86.930476</td>\n",
       "      <td>84.676763</td>\n",
       "      <td>83.732551</td>\n",
       "    </tr>\n",
       "    <tr>\n",
       "      <th>2</th>\n",
       "      <td>1</td>\n",
       "      <td>2</td>\n",
       "      <td>11</td>\n",
       "      <td>165.55173</td>\n",
       "      <td>5985.767282</td>\n",
       "      <td>166.516354</td>\n",
       "      <td>156.157476</td>\n",
       "      <td>6641.903925</td>\n",
       "      <td>155.367276</td>\n",
       "      <td>159.610475</td>\n",
       "      <td>6843.099494</td>\n",
       "      <td>161.216981</td>\n",
       "      <td>86.930476</td>\n",
       "      <td>84.676763</td>\n",
       "      <td>83.732551</td>\n",
       "    </tr>\n",
       "    <tr>\n",
       "      <th>3</th>\n",
       "      <td>1</td>\n",
       "      <td>14</td>\n",
       "      <td>26</td>\n",
       "      <td>165.55173</td>\n",
       "      <td>5985.767282</td>\n",
       "      <td>166.516354</td>\n",
       "      <td>158.518461</td>\n",
       "      <td>6578.472846</td>\n",
       "      <td>154.689115</td>\n",
       "      <td>160.026551</td>\n",
       "      <td>6878.134125</td>\n",
       "      <td>161.643961</td>\n",
       "      <td>86.930476</td>\n",
       "      <td>84.676763</td>\n",
       "      <td>83.732551</td>\n",
       "    </tr>\n",
       "    <tr>\n",
       "      <th>4</th>\n",
       "      <td>1</td>\n",
       "      <td>13</td>\n",
       "      <td>25</td>\n",
       "      <td>165.55173</td>\n",
       "      <td>5985.767282</td>\n",
       "      <td>166.516354</td>\n",
       "      <td>156.713749</td>\n",
       "      <td>6541.710854</td>\n",
       "      <td>152.944919</td>\n",
       "      <td>159.610475</td>\n",
       "      <td>6843.099494</td>\n",
       "      <td>161.216981</td>\n",
       "      <td>86.930476</td>\n",
       "      <td>84.676763</td>\n",
       "      <td>83.732551</td>\n",
       "    </tr>\n",
       "    <tr>\n",
       "      <th>...</th>\n",
       "      <td>...</td>\n",
       "      <td>...</td>\n",
       "      <td>...</td>\n",
       "      <td>...</td>\n",
       "      <td>...</td>\n",
       "      <td>...</td>\n",
       "      <td>...</td>\n",
       "      <td>...</td>\n",
       "      <td>...</td>\n",
       "      <td>...</td>\n",
       "      <td>...</td>\n",
       "      <td>...</td>\n",
       "      <td>...</td>\n",
       "      <td>...</td>\n",
       "      <td>...</td>\n",
       "    </tr>\n",
       "    <tr>\n",
       "      <th>916700</th>\n",
       "      <td>1</td>\n",
       "      <td>84</td>\n",
       "      <td>39</td>\n",
       "      <td>165.55173</td>\n",
       "      <td>5985.767282</td>\n",
       "      <td>166.516354</td>\n",
       "      <td>164.508062</td>\n",
       "      <td>7283.720668</td>\n",
       "      <td>159.483584</td>\n",
       "      <td>159.610475</td>\n",
       "      <td>6843.099494</td>\n",
       "      <td>161.216981</td>\n",
       "      <td>101.290323</td>\n",
       "      <td>12.316971</td>\n",
       "      <td>76.015516</td>\n",
       "    </tr>\n",
       "    <tr>\n",
       "      <th>916701</th>\n",
       "      <td>1</td>\n",
       "      <td>84</td>\n",
       "      <td>39</td>\n",
       "      <td>165.55173</td>\n",
       "      <td>5985.767282</td>\n",
       "      <td>166.516354</td>\n",
       "      <td>156.456098</td>\n",
       "      <td>6441.953525</td>\n",
       "      <td>153.253943</td>\n",
       "      <td>160.026551</td>\n",
       "      <td>6878.134125</td>\n",
       "      <td>161.643961</td>\n",
       "      <td>101.290323</td>\n",
       "      <td>12.316971</td>\n",
       "      <td>76.015516</td>\n",
       "    </tr>\n",
       "    <tr>\n",
       "      <th>916702</th>\n",
       "      <td>1</td>\n",
       "      <td>110</td>\n",
       "      <td>44</td>\n",
       "      <td>165.55173</td>\n",
       "      <td>5985.767282</td>\n",
       "      <td>166.516354</td>\n",
       "      <td>165.404823</td>\n",
       "      <td>7131.140515</td>\n",
       "      <td>164.022882</td>\n",
       "      <td>160.026551</td>\n",
       "      <td>6878.134125</td>\n",
       "      <td>161.643961</td>\n",
       "      <td>101.290323</td>\n",
       "      <td>12.316971</td>\n",
       "      <td>76.015516</td>\n",
       "    </tr>\n",
       "    <tr>\n",
       "      <th>916703</th>\n",
       "      <td>1</td>\n",
       "      <td>104</td>\n",
       "      <td>43</td>\n",
       "      <td>165.55173</td>\n",
       "      <td>5985.767282</td>\n",
       "      <td>166.516354</td>\n",
       "      <td>155.846236</td>\n",
       "      <td>6642.503216</td>\n",
       "      <td>152.507311</td>\n",
       "      <td>159.610475</td>\n",
       "      <td>6843.099494</td>\n",
       "      <td>161.216981</td>\n",
       "      <td>101.290323</td>\n",
       "      <td>12.316971</td>\n",
       "      <td>76.015516</td>\n",
       "    </tr>\n",
       "    <tr>\n",
       "      <th>916704</th>\n",
       "      <td>1</td>\n",
       "      <td>110</td>\n",
       "      <td>44</td>\n",
       "      <td>165.55173</td>\n",
       "      <td>5985.767282</td>\n",
       "      <td>166.516354</td>\n",
       "      <td>159.243063</td>\n",
       "      <td>7040.080746</td>\n",
       "      <td>154.355552</td>\n",
       "      <td>159.610475</td>\n",
       "      <td>6843.099494</td>\n",
       "      <td>161.216981</td>\n",
       "      <td>101.290323</td>\n",
       "      <td>12.316971</td>\n",
       "      <td>76.015516</td>\n",
       "    </tr>\n",
       "  </tbody>\n",
       "</table>\n",
       "<p>916705 rows × 15 columns</p>\n",
       "</div>"
      ],
      "text/plain": [
       "        request_number  stock  date  mean_city     var_city  \\\n",
       "0                    1      3    12  165.55173  5985.767282   \n",
       "1                    1     15    27  165.55173  5985.767282   \n",
       "2                    1      2    11  165.55173  5985.767282   \n",
       "3                    1     14    26  165.55173  5985.767282   \n",
       "4                    1     13    25  165.55173  5985.767282   \n",
       "...                ...    ...   ...        ...          ...   \n",
       "916700               1     84    39  165.55173  5985.767282   \n",
       "916701               1     84    39  165.55173  5985.767282   \n",
       "916702               1    110    44  165.55173  5985.767282   \n",
       "916703               1    104    43  165.55173  5985.767282   \n",
       "916704               1    110    44  165.55173  5985.767282   \n",
       "\n",
       "        additive_smoothing_city  mean_language  var_language  \\\n",
       "0                    166.516354     154.748637   5999.095160   \n",
       "1                    166.516354     159.636337   6808.807107   \n",
       "2                    166.516354     156.157476   6641.903925   \n",
       "3                    166.516354     158.518461   6578.472846   \n",
       "4                    166.516354     156.713749   6541.710854   \n",
       "...                         ...            ...           ...   \n",
       "916700               166.516354     164.508062   7283.720668   \n",
       "916701               166.516354     156.456098   6441.953525   \n",
       "916702               166.516354     165.404823   7131.140515   \n",
       "916703               166.516354     155.846236   6642.503216   \n",
       "916704               166.516354     159.243063   7040.080746   \n",
       "\n",
       "        additive_smoothing_language  mean_mobile   var_mobile  \\\n",
       "0                        150.843929   159.610475  6843.099494   \n",
       "1                        158.623704   160.026551  6878.134125   \n",
       "2                        155.367276   159.610475  6843.099494   \n",
       "3                        154.689115   160.026551  6878.134125   \n",
       "4                        152.944919   159.610475  6843.099494   \n",
       "...                             ...          ...          ...   \n",
       "916700                   159.483584   159.610475  6843.099494   \n",
       "916701                   153.253943   160.026551  6878.134125   \n",
       "916702                   164.022882   160.026551  6878.134125   \n",
       "916703                   152.507311   159.610475  6843.099494   \n",
       "916704                   154.355552   159.610475  6843.099494   \n",
       "\n",
       "        additive_smoothing_mobile  mean_hotel_id  var_hotel_id  \\\n",
       "0                      161.216981      86.930476     84.676763   \n",
       "1                      161.643961      86.930476     84.676763   \n",
       "2                      161.216981      86.930476     84.676763   \n",
       "3                      161.643961      86.930476     84.676763   \n",
       "4                      161.216981      86.930476     84.676763   \n",
       "...                           ...            ...           ...   \n",
       "916700                 161.216981     101.290323     12.316971   \n",
       "916701                 161.643961     101.290323     12.316971   \n",
       "916702                 161.643961     101.290323     12.316971   \n",
       "916703                 161.216981     101.290323     12.316971   \n",
       "916704                 161.216981     101.290323     12.316971   \n",
       "\n",
       "        additive_smoothing_hotel_id  \n",
       "0                         83.732551  \n",
       "1                         83.732551  \n",
       "2                         83.732551  \n",
       "3                         83.732551  \n",
       "4                         83.732551  \n",
       "...                             ...  \n",
       "916700                    76.015516  \n",
       "916701                    76.015516  \n",
       "916702                    76.015516  \n",
       "916703                    76.015516  \n",
       "916704                    76.015516  \n",
       "\n",
       "[916705 rows x 15 columns]"
      ]
     },
     "execution_count": 19,
     "metadata": {},
     "output_type": "execute_result"
    }
   ],
   "source": [
    "X_train"
   ]
  },
  {
   "cell_type": "code",
   "execution_count": 20,
   "id": "9c68abae",
   "metadata": {
    "ExecuteTime": {
     "end_time": "2023-01-09T10:56:42.610100Z",
     "start_time": "2023-01-09T10:14:45.747539Z"
    },
    "scrolled": true
   },
   "outputs": [
    {
     "name": "stdout",
     "output_type": "stream",
     "text": [
      "      Iter       Train Loss      OOB Improve   Remaining Time \n",
      "         1        6586.5928         255.5471           40.21m\n",
      "         2        6377.8262         245.1704           39.14m\n",
      "         3        6135.9325         235.0299           39.22m\n",
      "         4        5912.2876         226.2157           39.09m\n",
      "         5        5684.8110         217.2539           38.94m\n",
      "         6        5542.9139         208.6519           38.95m\n",
      "         7        5249.4130         201.0086           38.97m\n",
      "         8        5112.5302         192.8104           38.95m\n",
      "         9        4893.0655         185.3722           38.88m\n",
      "        10        4732.4229         178.8565           38.87m\n",
      "        20        3265.9648         120.8039           38.58m\n",
      "        30        2265.0591          81.9751           38.42m\n",
      "        40        1624.2375          55.6364           38.31m\n",
      "        50        1166.8814          38.0250           38.17m\n",
      "        60         839.1105          25.9164           38.09m\n",
      "        70         632.8139          18.0309           38.00m\n",
      "        80         488.4679          12.4960           37.94m\n",
      "        90         382.7822           8.4028           37.90m\n",
      "       100         310.2537           6.0189           37.92m\n",
      "       200         121.5332           0.3341           37.90m\n",
      "       300          95.0135           0.1077           37.91m\n",
      "       400          84.9135           0.0746           37.49m\n",
      "       500          77.7337           0.0222           36.93m\n",
      "       600          71.0724           0.0181           36.26m\n",
      "       700          66.8999           0.0295           35.71m\n",
      "       800          62.2536           0.0844           34.98m\n",
      "       900          58.8383           0.0192           34.13m\n",
      "      1000          57.4978           0.0245           33.41m\n",
      "      2000          42.3316           0.0096           25.18m\n",
      "      3000          35.1715           0.0052           16.82m\n",
      "      4000          31.0895           0.0044            8.39m\n",
      "      5000          27.3368           0.0020            0.00s\n"
     ]
    }
   ],
   "source": [
    "from sklearn.ensemble import GradientBoostingRegressor\n",
    "\n",
    "GBR = GradientBoostingRegressor()\n",
    "\n",
    "GBR.set_params(learning_rate = .02,\n",
    "               max_depth = 4,\n",
    "               n_estimators = 5000,\n",
    "               validation_fraction = .2,\n",
    "               criterion = 'friedman_mse',\n",
    "               subsample = .2,\n",
    "               max_leaf_nodes = 50,\n",
    "              max_features = 1.0,\n",
    "              verbose = 1)\n",
    "\n",
    "fit = GBR.fit(X_train,Y_train)"
   ]
  },
  {
   "cell_type": "code",
   "execution_count": null,
   "id": "23fcc56c",
   "metadata": {
    "ExecuteTime": {
     "end_time": "2022-12-24T19:12:00.488546Z",
     "start_time": "2022-12-24T19:12:00.472920Z"
    }
   },
   "outputs": [],
   "source": [
    "# GBR.get_params().keys()"
   ]
  },
  {
   "cell_type": "code",
   "execution_count": 21,
   "id": "789ba28f",
   "metadata": {
    "ExecuteTime": {
     "end_time": "2023-01-09T11:26:04.317008Z",
     "start_time": "2023-01-09T11:26:03.949316Z"
    }
   },
   "outputs": [],
   "source": [
    "y_pred = fit.predict(X_test)"
   ]
  },
  {
   "cell_type": "code",
   "execution_count": 22,
   "id": "a7d11fc7",
   "metadata": {
    "ExecuteTime": {
     "end_time": "2023-01-09T11:26:04.836648Z",
     "start_time": "2023-01-09T11:26:04.827490Z"
    }
   },
   "outputs": [
    {
     "data": {
      "text/plain": [
       "array([111.08281877, 134.0924187 ,  57.54196131, ..., 144.12770683,\n",
       "       194.19088865, 136.27661264])"
      ]
     },
     "execution_count": 22,
     "metadata": {},
     "output_type": "execute_result"
    }
   ],
   "source": [
    "y_pred"
   ]
  },
  {
   "cell_type": "code",
   "execution_count": 26,
   "id": "a2819a97",
   "metadata": {
    "ExecuteTime": {
     "end_time": "2023-01-09T11:30:20.535502Z",
     "start_time": "2023-01-09T11:30:20.190189Z"
    }
   },
   "outputs": [
    {
     "data": {
      "text/plain": [
       "['../model/target_encoding_gradio.pkl']"
      ]
     },
     "execution_count": 26,
     "metadata": {},
     "output_type": "execute_result"
    }
   ],
   "source": [
    "from joblib import dump, load\n",
    "dump(GBR, '../model/target_encoding_gradio.pkl')"
   ]
  },
  {
   "cell_type": "code",
   "execution_count": 27,
   "id": "6c63c843",
   "metadata": {
    "ExecuteTime": {
     "end_time": "2023-01-09T11:32:35.839259Z",
     "start_time": "2023-01-09T11:32:35.427385Z"
    }
   },
   "outputs": [],
   "source": [
    "\n",
    "\n",
    "import pickle\n",
    "file_name = '../model/target_encoding_gradio'\n",
    "pickle.dump(GBR, open(file_name,'wb')) #avec gbmOpt = gbm.fit(...)\n",
    "model_loaded = pickle.load(open(file_name,'rb'))"
   ]
  },
  {
   "cell_type": "markdown",
   "id": "4db7204c",
   "metadata": {},
   "source": [
    "# Submit"
   ]
  },
  {
   "cell_type": "code",
   "execution_count": 23,
   "id": "963c81ba",
   "metadata": {
    "ExecuteTime": {
     "end_time": "2023-01-09T11:26:11.712769Z",
     "start_time": "2023-01-09T11:26:11.708254Z"
    }
   },
   "outputs": [],
   "source": [
    "predictions = y_pred"
   ]
  },
  {
   "cell_type": "code",
   "execution_count": 24,
   "id": "d28abce0",
   "metadata": {
    "ExecuteTime": {
     "end_time": "2023-01-09T11:26:18.513469Z",
     "start_time": "2023-01-09T11:26:18.476457Z"
    }
   },
   "outputs": [],
   "source": [
    "# save\n",
    "_round = False # tester aussi des arrondis au dessus ou en dessous\n",
    "\n",
    "name = 'target_encoding_gradio'\n",
    "\n",
    "if _round : y_pred = np.round(predictions)\n",
    "else : y_pred = predictions.copy()\n",
    "\n",
    "sub = pd.DataFrame(y_pred)\n",
    "sub.to_csv(path + 'submit/' + name + '.csv',index=True, header=['price'], index_label = 'index')"
   ]
  },
  {
   "cell_type": "code",
   "execution_count": null,
   "id": "8831b380",
   "metadata": {},
   "outputs": [],
   "source": []
  }
 ],
 "metadata": {
  "kernelspec": {
   "display_name": "Python 3 (ipykernel)",
   "language": "python",
   "name": "python3"
  },
  "language_info": {
   "codemirror_mode": {
    "name": "ipython",
    "version": 3
   },
   "file_extension": ".py",
   "mimetype": "text/x-python",
   "name": "python",
   "nbconvert_exporter": "python",
   "pygments_lexer": "ipython3",
   "version": "3.9.12"
  },
  "toc": {
   "base_numbering": 1,
   "nav_menu": {},
   "number_sections": true,
   "sideBar": true,
   "skip_h1_title": false,
   "title_cell": "Table of Contents",
   "title_sidebar": "Contents",
   "toc_cell": false,
   "toc_position": {},
   "toc_section_display": true,
   "toc_window_display": false
  },
  "varInspector": {
   "cols": {
    "lenName": 16,
    "lenType": 16,
    "lenVar": 40
   },
   "kernels_config": {
    "python": {
     "delete_cmd_postfix": "",
     "delete_cmd_prefix": "del ",
     "library": "var_list.py",
     "varRefreshCmd": "print(var_dic_list())"
    },
    "r": {
     "delete_cmd_postfix": ") ",
     "delete_cmd_prefix": "rm(",
     "library": "var_list.r",
     "varRefreshCmd": "cat(var_dic_list()) "
    }
   },
   "types_to_exclude": [
    "module",
    "function",
    "builtin_function_or_method",
    "instance",
    "_Feature"
   ],
   "window_display": false
  }
 },
 "nbformat": 4,
 "nbformat_minor": 5
}
