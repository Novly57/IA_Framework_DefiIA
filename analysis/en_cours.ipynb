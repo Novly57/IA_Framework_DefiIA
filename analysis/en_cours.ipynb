{
 "cells": [
  {
   "cell_type": "markdown",
   "id": "7b304eb1",
   "metadata": {},
   "source": [
    "# Data preparation"
   ]
  },
  {
   "cell_type": "code",
   "execution_count": 25,
   "id": "6f67dea0",
   "metadata": {
    "ExecuteTime": {
     "end_time": "2023-01-06T15:56:26.879144Z",
     "start_time": "2023-01-06T15:56:26.876728Z"
    }
   },
   "outputs": [],
   "source": [
    "import pandas as pd\n",
    "import numpy as np "
   ]
  },
  {
   "cell_type": "code",
   "execution_count": 2,
   "id": "80853c49",
   "metadata": {
    "ExecuteTime": {
     "end_time": "2023-01-06T15:09:12.259813Z",
     "start_time": "2023-01-06T15:09:11.750767Z"
    }
   },
   "outputs": [],
   "source": [
    "path = '../data/' \n",
    "hotels = pd.read_csv(path + '/features_hotels.csv')\n",
    "data = pd.read_csv(path + 'data.csv')\n",
    "data_test = pd.read_csv(path + 'test_set.csv')"
   ]
  },
  {
   "cell_type": "code",
   "execution_count": 3,
   "id": "75cdefca",
   "metadata": {
    "ExecuteTime": {
     "end_time": "2023-01-06T15:09:12.935833Z",
     "start_time": "2023-01-06T15:09:12.741695Z"
    }
   },
   "outputs": [
    {
     "name": "stdout",
     "output_type": "stream",
     "text": [
      "Nombre de requêtes uniques : 8329\n"
     ]
    }
   ],
   "source": [
    "to_exclude = data[['city', 'language','mobile','request_number','date']].drop_duplicates()\n",
    "# to_exclude.to_csv('to_exclude.csv', index = False)\n",
    "print('Nombre de requêtes uniques :', to_exclude.shape[0])"
   ]
  },
  {
   "cell_type": "code",
   "execution_count": 4,
   "id": "14ddd471",
   "metadata": {
    "ExecuteTime": {
     "end_time": "2023-01-06T15:09:13.531167Z",
     "start_time": "2023-01-06T15:09:13.437075Z"
    }
   },
   "outputs": [
    {
     "name": "stdout",
     "output_type": "stream",
     "text": [
      "Estimation du nombre total de requêtes : 11171\n"
     ]
    }
   ],
   "source": [
    "tot = 0 \n",
    "for i in range(7):\n",
    "    tot += np.unique(data.loc[data.request_number == i].avatar_id.values).shape[0]\n",
    "\n",
    "print('Estimation du nombre total de requêtes :', tot)"
   ]
  },
  {
   "cell_type": "code",
   "execution_count": 5,
   "id": "f193c5d1",
   "metadata": {
    "ExecuteTime": {
     "end_time": "2023-01-06T15:09:14.749268Z",
     "start_time": "2023-01-06T15:09:14.685802Z"
    }
   },
   "outputs": [],
   "source": [
    "# exclusion des avatar posant problème\n",
    "# data = data.drop(index = data.loc[data.avatar_id == 134].index)\n",
    "# to_drop = [108,134,135,136,137,138,141]\n",
    "to_drop = [134]\n",
    "data = data.loc[~data.avatar_id.isin(to_drop)]"
   ]
  },
  {
   "cell_type": "code",
   "execution_count": 6,
   "id": "88d716f9",
   "metadata": {
    "ExecuteTime": {
     "end_time": "2023-01-06T15:09:20.175940Z",
     "start_time": "2023-01-06T15:09:19.958168Z"
    }
   },
   "outputs": [],
   "source": [
    "data = data.drop(['avatar_id'], axis = 1).drop_duplicates()"
   ]
  },
  {
   "cell_type": "code",
   "execution_count": 7,
   "id": "a7a5cd79",
   "metadata": {
    "ExecuteTime": {
     "end_time": "2023-01-06T15:09:24.646797Z",
     "start_time": "2023-01-06T15:09:24.433260Z"
    }
   },
   "outputs": [],
   "source": [
    "# ajout des caractéristiques des hotels\n",
    "data = data.merge(hotels, on=['hotel_id','city'])\n",
    "data_test = data_test.merge(hotels, on=['hotel_id','city'])\n",
    "data_test = data_test.sort_values('index').reset_index(drop=True).drop(['index'], axis = 1)"
   ]
  },
  {
   "cell_type": "code",
   "execution_count": 8,
   "id": "93c494ab",
   "metadata": {
    "ExecuteTime": {
     "end_time": "2023-01-06T15:09:28.138945Z",
     "start_time": "2023-01-06T15:09:27.649605Z"
    }
   },
   "outputs": [],
   "source": [
    "# création de la colonne request_number dans le test set\n",
    "data_test['request_number'] = 1\n",
    "for avatar in np.unique(data_test['avatar_id']):\n",
    "    data_test.loc[data_test['avatar_id'] == avatar, 'request_number'] = data_test['order_requests'].loc[data_test['avatar_id']== avatar] - min(data_test['order_requests'].loc[data_test['avatar_id']== avatar])+1"
   ]
  },
  {
   "cell_type": "code",
   "execution_count": 9,
   "id": "426bd959",
   "metadata": {
    "ExecuteTime": {
     "end_time": "2023-01-06T15:09:30.830277Z",
     "start_time": "2023-01-06T15:09:30.733918Z"
    }
   },
   "outputs": [],
   "source": [
    "# ajout de la variable ville == langue\n",
    "lang_cit = True\n",
    "\n",
    "if lang_cit == True: \n",
    "    dic_lang = {'amsterdam':'dutch', 'copenhagen':'danish', 'madrid':'spanish', 'paris':'french', 'rome':'italian', 'sofia':'bulgarian', 'valletta':'maltese', 'vienna':'austrian' ,'vilnius':'lithuanian'}\n",
    "    data['city_language'] = data['city'].map(dic_lang)\n",
    "    data['is_same_cl'] = data['city_language']==data['language']\n",
    "    data_test['city_language'] = data_test['city'].map(dic_lang)\n",
    "    data_test['is_same_cl'] = data_test['city_language']==data_test['language']\n",
    "#     colBool += ['is_same_cl']"
   ]
  },
  {
   "cell_type": "code",
   "execution_count": 10,
   "id": "1008e3f6",
   "metadata": {
    "ExecuteTime": {
     "end_time": "2023-01-06T15:09:36.878295Z",
     "start_time": "2023-01-06T15:09:36.744511Z"
    }
   },
   "outputs": [],
   "source": [
    "col = ['city', 'date', 'language', 'mobile', 'request_number', 'stock', 'group', 'brand', 'parking', 'pool','children_policy', 'is_same_cl', 'price']\n",
    "data = data[col]\n",
    "data_test = data_test[col[:-1]]"
   ]
  },
  {
   "cell_type": "code",
   "execution_count": 11,
   "id": "c3212187",
   "metadata": {
    "ExecuteTime": {
     "end_time": "2023-01-06T15:09:40.516388Z",
     "start_time": "2023-01-06T15:09:40.506829Z"
    }
   },
   "outputs": [],
   "source": [
    "def additive_smoothing(x,alpha= 1.96):\n",
    "    \"\"\" alpha = 1.96 borne à 95% pour la loi normale  \"\"\"\n",
    "    moy = (x+alpha).mean()\n",
    "    d = x.max()-x.min()\n",
    "    N = x.count()\n",
    "    return N*moy/(N+alpha*d)\n",
    "\n",
    "additive_smoothing.__name__ = 'additive_smoothing'"
   ]
  },
  {
   "cell_type": "code",
   "execution_count": 12,
   "id": "192c18d2",
   "metadata": {
    "ExecuteTime": {
     "end_time": "2023-01-06T15:09:41.309177Z",
     "start_time": "2023-01-06T15:09:41.304449Z"
    }
   },
   "outputs": [],
   "source": [
    "colQT = ['request_number', 'stock', 'date']\n",
    "notQT = ['city', 'language', 'mobile', 'group', 'brand', 'parking', 'pool','children_policy', 'is_same_cl'] "
   ]
  },
  {
   "cell_type": "code",
   "execution_count": 13,
   "id": "6b176fe9",
   "metadata": {
    "ExecuteTime": {
     "end_time": "2023-01-06T15:09:45.461039Z",
     "start_time": "2023-01-06T15:09:43.625281Z"
    }
   },
   "outputs": [],
   "source": [
    "for i in notQT:\n",
    "    df_tmp = data[[i, 'price']].groupby(i).agg({'price': ['mean', 'var', additive_smoothing]}).price\n",
    "    df_tmp = df_tmp.add_suffix('_' + i)\n",
    "    colQT += list(df_tmp.columns.unique())\n",
    "    data = data.join(df_tmp, on=i)\n",
    "    data_test = data_test.join(df_tmp, on=i)"
   ]
  },
  {
   "cell_type": "code",
   "execution_count": 14,
   "id": "3bce180e",
   "metadata": {
    "ExecuteTime": {
     "end_time": "2023-01-06T15:09:45.979892Z",
     "start_time": "2023-01-06T15:09:45.973269Z"
    }
   },
   "outputs": [],
   "source": [
    "colQT += ['price']"
   ]
  },
  {
   "cell_type": "code",
   "execution_count": 15,
   "id": "b5310c57",
   "metadata": {
    "ExecuteTime": {
     "end_time": "2023-01-06T15:09:46.736425Z",
     "start_time": "2023-01-06T15:09:46.594053Z"
    }
   },
   "outputs": [],
   "source": [
    "df = data[colQT[:-1]]\n",
    "df_test = data_test[colQT[:-1]]\n",
    "y = data[colQT[-1]]"
   ]
  },
  {
   "cell_type": "code",
   "execution_count": 16,
   "id": "00b83602",
   "metadata": {
    "ExecuteTime": {
     "end_time": "2023-01-06T15:09:48.187658Z",
     "start_time": "2023-01-06T15:09:48.183385Z"
    }
   },
   "outputs": [],
   "source": [
    "X_train = df\n",
    "X_test = df_test\n",
    "Y_train = y\n",
    "Y_test = None"
   ]
  },
  {
   "cell_type": "code",
   "execution_count": null,
   "id": "93e76272",
   "metadata": {
    "ExecuteTime": {
     "end_time": "2022-12-24T14:48:02.047789Z",
     "start_time": "2022-12-24T14:48:01.905743Z"
    }
   },
   "outputs": [],
   "source": [
    "# pd.read_csv('test.csv')"
   ]
  },
  {
   "cell_type": "markdown",
   "id": "df2361e4",
   "metadata": {},
   "source": [
    "# GBR"
   ]
  },
  {
   "cell_type": "code",
   "execution_count": 17,
   "id": "0b783a36",
   "metadata": {
    "ExecuteTime": {
     "end_time": "2023-01-06T15:11:17.142569Z",
     "start_time": "2023-01-06T15:11:17.027928Z"
    }
   },
   "outputs": [
    {
     "data": {
      "text/html": [
       "<div>\n",
       "<style scoped>\n",
       "    .dataframe tbody tr th:only-of-type {\n",
       "        vertical-align: middle;\n",
       "    }\n",
       "\n",
       "    .dataframe tbody tr th {\n",
       "        vertical-align: top;\n",
       "    }\n",
       "\n",
       "    .dataframe thead th {\n",
       "        text-align: right;\n",
       "    }\n",
       "</style>\n",
       "<table border=\"1\" class=\"dataframe\">\n",
       "  <thead>\n",
       "    <tr style=\"text-align: right;\">\n",
       "      <th></th>\n",
       "      <th>request_number</th>\n",
       "      <th>stock</th>\n",
       "      <th>date</th>\n",
       "      <th>mean_city</th>\n",
       "      <th>var_city</th>\n",
       "      <th>additive_smoothing_city</th>\n",
       "      <th>mean_language</th>\n",
       "      <th>var_language</th>\n",
       "      <th>additive_smoothing_language</th>\n",
       "      <th>mean_mobile</th>\n",
       "      <th>...</th>\n",
       "      <th>additive_smoothing_parking</th>\n",
       "      <th>mean_pool</th>\n",
       "      <th>var_pool</th>\n",
       "      <th>additive_smoothing_pool</th>\n",
       "      <th>mean_children_policy</th>\n",
       "      <th>var_children_policy</th>\n",
       "      <th>additive_smoothing_children_policy</th>\n",
       "      <th>mean_is_same_cl</th>\n",
       "      <th>var_is_same_cl</th>\n",
       "      <th>additive_smoothing_is_same_cl</th>\n",
       "    </tr>\n",
       "  </thead>\n",
       "  <tbody>\n",
       "    <tr>\n",
       "      <th>0</th>\n",
       "      <td>1</td>\n",
       "      <td>3</td>\n",
       "      <td>12</td>\n",
       "      <td>165.55173</td>\n",
       "      <td>5985.767282</td>\n",
       "      <td>166.516354</td>\n",
       "      <td>154.748637</td>\n",
       "      <td>5999.095160</td>\n",
       "      <td>150.843929</td>\n",
       "      <td>159.610475</td>\n",
       "      <td>...</td>\n",
       "      <td>162.905065</td>\n",
       "      <td>142.144634</td>\n",
       "      <td>4905.884746</td>\n",
       "      <td>143.917897</td>\n",
       "      <td>157.313797</td>\n",
       "      <td>6680.118848</td>\n",
       "      <td>159.092193</td>\n",
       "      <td>160.002779</td>\n",
       "      <td>6871.253349</td>\n",
       "      <td>161.778872</td>\n",
       "    </tr>\n",
       "    <tr>\n",
       "      <th>1</th>\n",
       "      <td>1</td>\n",
       "      <td>15</td>\n",
       "      <td>27</td>\n",
       "      <td>165.55173</td>\n",
       "      <td>5985.767282</td>\n",
       "      <td>166.516354</td>\n",
       "      <td>159.636337</td>\n",
       "      <td>6808.807107</td>\n",
       "      <td>158.623704</td>\n",
       "      <td>160.026551</td>\n",
       "      <td>...</td>\n",
       "      <td>162.905065</td>\n",
       "      <td>142.144634</td>\n",
       "      <td>4905.884746</td>\n",
       "      <td>143.917897</td>\n",
       "      <td>157.313797</td>\n",
       "      <td>6680.118848</td>\n",
       "      <td>159.092193</td>\n",
       "      <td>160.002779</td>\n",
       "      <td>6871.253349</td>\n",
       "      <td>161.778872</td>\n",
       "    </tr>\n",
       "    <tr>\n",
       "      <th>2</th>\n",
       "      <td>1</td>\n",
       "      <td>2</td>\n",
       "      <td>11</td>\n",
       "      <td>165.55173</td>\n",
       "      <td>5985.767282</td>\n",
       "      <td>166.516354</td>\n",
       "      <td>156.157476</td>\n",
       "      <td>6641.903925</td>\n",
       "      <td>155.367276</td>\n",
       "      <td>159.610475</td>\n",
       "      <td>...</td>\n",
       "      <td>162.905065</td>\n",
       "      <td>142.144634</td>\n",
       "      <td>4905.884746</td>\n",
       "      <td>143.917897</td>\n",
       "      <td>157.313797</td>\n",
       "      <td>6680.118848</td>\n",
       "      <td>159.092193</td>\n",
       "      <td>160.002779</td>\n",
       "      <td>6871.253349</td>\n",
       "      <td>161.778872</td>\n",
       "    </tr>\n",
       "    <tr>\n",
       "      <th>3</th>\n",
       "      <td>1</td>\n",
       "      <td>14</td>\n",
       "      <td>26</td>\n",
       "      <td>165.55173</td>\n",
       "      <td>5985.767282</td>\n",
       "      <td>166.516354</td>\n",
       "      <td>158.518461</td>\n",
       "      <td>6578.472846</td>\n",
       "      <td>154.689115</td>\n",
       "      <td>160.026551</td>\n",
       "      <td>...</td>\n",
       "      <td>162.905065</td>\n",
       "      <td>142.144634</td>\n",
       "      <td>4905.884746</td>\n",
       "      <td>143.917897</td>\n",
       "      <td>157.313797</td>\n",
       "      <td>6680.118848</td>\n",
       "      <td>159.092193</td>\n",
       "      <td>160.002779</td>\n",
       "      <td>6871.253349</td>\n",
       "      <td>161.778872</td>\n",
       "    </tr>\n",
       "    <tr>\n",
       "      <th>4</th>\n",
       "      <td>1</td>\n",
       "      <td>13</td>\n",
       "      <td>25</td>\n",
       "      <td>165.55173</td>\n",
       "      <td>5985.767282</td>\n",
       "      <td>166.516354</td>\n",
       "      <td>156.713749</td>\n",
       "      <td>6541.710854</td>\n",
       "      <td>152.944919</td>\n",
       "      <td>159.610475</td>\n",
       "      <td>...</td>\n",
       "      <td>162.905065</td>\n",
       "      <td>142.144634</td>\n",
       "      <td>4905.884746</td>\n",
       "      <td>143.917897</td>\n",
       "      <td>157.313797</td>\n",
       "      <td>6680.118848</td>\n",
       "      <td>159.092193</td>\n",
       "      <td>160.002779</td>\n",
       "      <td>6871.253349</td>\n",
       "      <td>161.778872</td>\n",
       "    </tr>\n",
       "    <tr>\n",
       "      <th>...</th>\n",
       "      <td>...</td>\n",
       "      <td>...</td>\n",
       "      <td>...</td>\n",
       "      <td>...</td>\n",
       "      <td>...</td>\n",
       "      <td>...</td>\n",
       "      <td>...</td>\n",
       "      <td>...</td>\n",
       "      <td>...</td>\n",
       "      <td>...</td>\n",
       "      <td>...</td>\n",
       "      <td>...</td>\n",
       "      <td>...</td>\n",
       "      <td>...</td>\n",
       "      <td>...</td>\n",
       "      <td>...</td>\n",
       "      <td>...</td>\n",
       "      <td>...</td>\n",
       "      <td>...</td>\n",
       "      <td>...</td>\n",
       "      <td>...</td>\n",
       "    </tr>\n",
       "    <tr>\n",
       "      <th>916700</th>\n",
       "      <td>1</td>\n",
       "      <td>84</td>\n",
       "      <td>39</td>\n",
       "      <td>165.55173</td>\n",
       "      <td>5985.767282</td>\n",
       "      <td>166.516354</td>\n",
       "      <td>164.508062</td>\n",
       "      <td>7283.720668</td>\n",
       "      <td>159.483584</td>\n",
       "      <td>159.610475</td>\n",
       "      <td>...</td>\n",
       "      <td>162.905065</td>\n",
       "      <td>142.144634</td>\n",
       "      <td>4905.884746</td>\n",
       "      <td>143.917897</td>\n",
       "      <td>157.313797</td>\n",
       "      <td>6680.118848</td>\n",
       "      <td>159.092193</td>\n",
       "      <td>160.002779</td>\n",
       "      <td>6871.253349</td>\n",
       "      <td>161.778872</td>\n",
       "    </tr>\n",
       "    <tr>\n",
       "      <th>916701</th>\n",
       "      <td>1</td>\n",
       "      <td>84</td>\n",
       "      <td>39</td>\n",
       "      <td>165.55173</td>\n",
       "      <td>5985.767282</td>\n",
       "      <td>166.516354</td>\n",
       "      <td>156.456098</td>\n",
       "      <td>6441.953525</td>\n",
       "      <td>153.253943</td>\n",
       "      <td>160.026551</td>\n",
       "      <td>...</td>\n",
       "      <td>162.905065</td>\n",
       "      <td>142.144634</td>\n",
       "      <td>4905.884746</td>\n",
       "      <td>143.917897</td>\n",
       "      <td>157.313797</td>\n",
       "      <td>6680.118848</td>\n",
       "      <td>159.092193</td>\n",
       "      <td>160.002779</td>\n",
       "      <td>6871.253349</td>\n",
       "      <td>161.778872</td>\n",
       "    </tr>\n",
       "    <tr>\n",
       "      <th>916702</th>\n",
       "      <td>1</td>\n",
       "      <td>110</td>\n",
       "      <td>44</td>\n",
       "      <td>165.55173</td>\n",
       "      <td>5985.767282</td>\n",
       "      <td>166.516354</td>\n",
       "      <td>165.404823</td>\n",
       "      <td>7131.140515</td>\n",
       "      <td>164.022882</td>\n",
       "      <td>160.026551</td>\n",
       "      <td>...</td>\n",
       "      <td>162.905065</td>\n",
       "      <td>142.144634</td>\n",
       "      <td>4905.884746</td>\n",
       "      <td>143.917897</td>\n",
       "      <td>157.313797</td>\n",
       "      <td>6680.118848</td>\n",
       "      <td>159.092193</td>\n",
       "      <td>160.002779</td>\n",
       "      <td>6871.253349</td>\n",
       "      <td>161.778872</td>\n",
       "    </tr>\n",
       "    <tr>\n",
       "      <th>916703</th>\n",
       "      <td>1</td>\n",
       "      <td>104</td>\n",
       "      <td>43</td>\n",
       "      <td>165.55173</td>\n",
       "      <td>5985.767282</td>\n",
       "      <td>166.516354</td>\n",
       "      <td>155.846236</td>\n",
       "      <td>6642.503216</td>\n",
       "      <td>152.507311</td>\n",
       "      <td>159.610475</td>\n",
       "      <td>...</td>\n",
       "      <td>162.905065</td>\n",
       "      <td>142.144634</td>\n",
       "      <td>4905.884746</td>\n",
       "      <td>143.917897</td>\n",
       "      <td>157.313797</td>\n",
       "      <td>6680.118848</td>\n",
       "      <td>159.092193</td>\n",
       "      <td>160.002779</td>\n",
       "      <td>6871.253349</td>\n",
       "      <td>161.778872</td>\n",
       "    </tr>\n",
       "    <tr>\n",
       "      <th>916704</th>\n",
       "      <td>1</td>\n",
       "      <td>110</td>\n",
       "      <td>44</td>\n",
       "      <td>165.55173</td>\n",
       "      <td>5985.767282</td>\n",
       "      <td>166.516354</td>\n",
       "      <td>159.243063</td>\n",
       "      <td>7040.080746</td>\n",
       "      <td>154.355552</td>\n",
       "      <td>159.610475</td>\n",
       "      <td>...</td>\n",
       "      <td>162.905065</td>\n",
       "      <td>142.144634</td>\n",
       "      <td>4905.884746</td>\n",
       "      <td>143.917897</td>\n",
       "      <td>157.313797</td>\n",
       "      <td>6680.118848</td>\n",
       "      <td>159.092193</td>\n",
       "      <td>160.002779</td>\n",
       "      <td>6871.253349</td>\n",
       "      <td>161.778872</td>\n",
       "    </tr>\n",
       "  </tbody>\n",
       "</table>\n",
       "<p>916705 rows × 30 columns</p>\n",
       "</div>"
      ],
      "text/plain": [
       "        request_number  stock  date  mean_city     var_city  \\\n",
       "0                    1      3    12  165.55173  5985.767282   \n",
       "1                    1     15    27  165.55173  5985.767282   \n",
       "2                    1      2    11  165.55173  5985.767282   \n",
       "3                    1     14    26  165.55173  5985.767282   \n",
       "4                    1     13    25  165.55173  5985.767282   \n",
       "...                ...    ...   ...        ...          ...   \n",
       "916700               1     84    39  165.55173  5985.767282   \n",
       "916701               1     84    39  165.55173  5985.767282   \n",
       "916702               1    110    44  165.55173  5985.767282   \n",
       "916703               1    104    43  165.55173  5985.767282   \n",
       "916704               1    110    44  165.55173  5985.767282   \n",
       "\n",
       "        additive_smoothing_city  mean_language  var_language  \\\n",
       "0                    166.516354     154.748637   5999.095160   \n",
       "1                    166.516354     159.636337   6808.807107   \n",
       "2                    166.516354     156.157476   6641.903925   \n",
       "3                    166.516354     158.518461   6578.472846   \n",
       "4                    166.516354     156.713749   6541.710854   \n",
       "...                         ...            ...           ...   \n",
       "916700               166.516354     164.508062   7283.720668   \n",
       "916701               166.516354     156.456098   6441.953525   \n",
       "916702               166.516354     165.404823   7131.140515   \n",
       "916703               166.516354     155.846236   6642.503216   \n",
       "916704               166.516354     159.243063   7040.080746   \n",
       "\n",
       "        additive_smoothing_language  mean_mobile  ...  \\\n",
       "0                        150.843929   159.610475  ...   \n",
       "1                        158.623704   160.026551  ...   \n",
       "2                        155.367276   159.610475  ...   \n",
       "3                        154.689115   160.026551  ...   \n",
       "4                        152.944919   159.610475  ...   \n",
       "...                             ...          ...  ...   \n",
       "916700                   159.483584   159.610475  ...   \n",
       "916701                   153.253943   160.026551  ...   \n",
       "916702                   164.022882   160.026551  ...   \n",
       "916703                   152.507311   159.610475  ...   \n",
       "916704                   154.355552   159.610475  ...   \n",
       "\n",
       "        additive_smoothing_parking   mean_pool     var_pool  \\\n",
       "0                       162.905065  142.144634  4905.884746   \n",
       "1                       162.905065  142.144634  4905.884746   \n",
       "2                       162.905065  142.144634  4905.884746   \n",
       "3                       162.905065  142.144634  4905.884746   \n",
       "4                       162.905065  142.144634  4905.884746   \n",
       "...                            ...         ...          ...   \n",
       "916700                  162.905065  142.144634  4905.884746   \n",
       "916701                  162.905065  142.144634  4905.884746   \n",
       "916702                  162.905065  142.144634  4905.884746   \n",
       "916703                  162.905065  142.144634  4905.884746   \n",
       "916704                  162.905065  142.144634  4905.884746   \n",
       "\n",
       "        additive_smoothing_pool  mean_children_policy  var_children_policy  \\\n",
       "0                    143.917897            157.313797          6680.118848   \n",
       "1                    143.917897            157.313797          6680.118848   \n",
       "2                    143.917897            157.313797          6680.118848   \n",
       "3                    143.917897            157.313797          6680.118848   \n",
       "4                    143.917897            157.313797          6680.118848   \n",
       "...                         ...                   ...                  ...   \n",
       "916700               143.917897            157.313797          6680.118848   \n",
       "916701               143.917897            157.313797          6680.118848   \n",
       "916702               143.917897            157.313797          6680.118848   \n",
       "916703               143.917897            157.313797          6680.118848   \n",
       "916704               143.917897            157.313797          6680.118848   \n",
       "\n",
       "        additive_smoothing_children_policy  mean_is_same_cl  var_is_same_cl  \\\n",
       "0                               159.092193       160.002779     6871.253349   \n",
       "1                               159.092193       160.002779     6871.253349   \n",
       "2                               159.092193       160.002779     6871.253349   \n",
       "3                               159.092193       160.002779     6871.253349   \n",
       "4                               159.092193       160.002779     6871.253349   \n",
       "...                                    ...              ...             ...   \n",
       "916700                          159.092193       160.002779     6871.253349   \n",
       "916701                          159.092193       160.002779     6871.253349   \n",
       "916702                          159.092193       160.002779     6871.253349   \n",
       "916703                          159.092193       160.002779     6871.253349   \n",
       "916704                          159.092193       160.002779     6871.253349   \n",
       "\n",
       "        additive_smoothing_is_same_cl  \n",
       "0                          161.778872  \n",
       "1                          161.778872  \n",
       "2                          161.778872  \n",
       "3                          161.778872  \n",
       "4                          161.778872  \n",
       "...                               ...  \n",
       "916700                     161.778872  \n",
       "916701                     161.778872  \n",
       "916702                     161.778872  \n",
       "916703                     161.778872  \n",
       "916704                     161.778872  \n",
       "\n",
       "[916705 rows x 30 columns]"
      ]
     },
     "execution_count": 17,
     "metadata": {},
     "output_type": "execute_result"
    }
   ],
   "source": [
    "X_train"
   ]
  },
  {
   "cell_type": "code",
   "execution_count": 19,
   "id": "9c68abae",
   "metadata": {
    "ExecuteTime": {
     "end_time": "2023-01-06T15:47:35.125588Z",
     "start_time": "2023-01-06T15:13:34.864254Z"
    },
    "scrolled": true
   },
   "outputs": [
    {
     "name": "stdout",
     "output_type": "stream",
     "text": [
      "      Iter       Train Loss      OOB Improve   Remaining Time \n",
      "         1        6625.9880         236.7315           28.62m\n",
      "         2        6400.5810         227.8382           28.36m\n",
      "         3        6127.9613         219.1769           28.62m\n",
      "         4        5956.9103         210.7144           28.98m\n",
      "         5        5818.9556         201.8372           28.97m\n",
      "         6        5541.5158         194.1658           28.92m\n",
      "         7        5405.4958         186.8154           28.78m\n",
      "         8        5170.4459         179.7322           28.67m\n",
      "         9        5002.3840         173.2711           28.72m\n",
      "        10        4856.5649         165.7229           28.61m\n",
      "        20        3495.3357         112.9255           28.75m\n",
      "        30        2594.7882          76.7821           28.86m\n",
      "        40        1971.0378          52.6011           28.87m\n",
      "        50        1533.6797          36.2118           28.77m\n",
      "        60        1235.7556          25.5393           28.69m\n",
      "        70        1022.0440          17.7975           28.60m\n",
      "        80         875.5105          12.3945           28.55m\n",
      "        90         764.4347           8.9613           28.49m\n",
      "       100         691.4269           6.8114           28.43m\n",
      "       200         448.5014           0.6420           28.49m\n",
      "       300         401.4840           0.3476           28.64m\n",
      "       400         369.3998           0.0818           28.71m\n",
      "       500         349.3344           0.0781           28.72m\n",
      "       600         330.6951           0.0419           28.29m\n",
      "       700         325.4093           0.0376           27.85m\n",
      "       800         315.7877           0.0461           27.30m\n",
      "       900         309.5770           0.0115           26.75m\n",
      "      1000         302.2681           0.0397           26.14m\n",
      "      2000         275.6128           0.0303           19.81m\n",
      "      3000         262.1114           0.0105           13.26m\n",
      "      4000         255.8997           0.0013            6.67m\n",
      "      5000         251.9855           0.0129            0.00s\n"
     ]
    }
   ],
   "source": [
    "from sklearn.ensemble import GradientBoostingRegressor\n",
    "\n",
    "GBR = GradientBoostingRegressor()\n",
    "\n",
    "GBR.set_params(learning_rate = .02,\n",
    "               max_depth = 4,\n",
    "               n_estimators = 5000,\n",
    "               validation_fraction = .2,\n",
    "               criterion = 'friedman_mse',\n",
    "               subsample = .2,\n",
    "               max_leaf_nodes = 50,\n",
    "               max_features = 1.0,\n",
    "               verbose = 1)\n",
    "\n",
    "fit = GBR.fit(X_train,Y_train)"
   ]
  },
  {
   "cell_type": "code",
   "execution_count": null,
   "id": "23fcc56c",
   "metadata": {
    "ExecuteTime": {
     "end_time": "2022-12-24T19:12:00.488546Z",
     "start_time": "2022-12-24T19:12:00.472920Z"
    }
   },
   "outputs": [],
   "source": [
    "# GBR.get_params().keys()"
   ]
  },
  {
   "cell_type": "code",
   "execution_count": 20,
   "id": "789ba28f",
   "metadata": {
    "ExecuteTime": {
     "end_time": "2023-01-06T15:48:11.611708Z",
     "start_time": "2023-01-06T15:48:11.274776Z"
    }
   },
   "outputs": [],
   "source": [
    "y_pred = fit.predict(X_test)"
   ]
  },
  {
   "cell_type": "code",
   "execution_count": 21,
   "id": "a7d11fc7",
   "metadata": {
    "ExecuteTime": {
     "end_time": "2023-01-06T15:48:12.518057Z",
     "start_time": "2023-01-06T15:48:12.513618Z"
    }
   },
   "outputs": [
    {
     "data": {
      "text/plain": [
       "array([105.2317202 , 135.68128139,  69.41514648, ..., 156.71843755,\n",
       "       178.27597186, 156.71843755])"
      ]
     },
     "execution_count": 21,
     "metadata": {},
     "output_type": "execute_result"
    }
   ],
   "source": [
    "y_pred"
   ]
  },
  {
   "cell_type": "code",
   "execution_count": 37,
   "id": "46f26cf1",
   "metadata": {
    "ExecuteTime": {
     "end_time": "2023-01-06T16:03:48.066387Z",
     "start_time": "2023-01-06T16:03:48.064399Z"
    }
   },
   "outputs": [],
   "source": [
    "# from joblib import dump, load\n",
    "# dump(GBR, 'model/target_encoding.pkl')"
   ]
  },
  {
   "cell_type": "markdown",
   "id": "e6350ded",
   "metadata": {
    "heading_collapsed": true
   },
   "source": [
    "# xgboost classique"
   ]
  },
  {
   "cell_type": "code",
   "execution_count": null,
   "id": "011284a2",
   "metadata": {
    "ExecuteTime": {
     "end_time": "2022-12-23T09:53:21.103998Z",
     "start_time": "2022-12-23T09:53:13.805555Z"
    },
    "hidden": true
   },
   "outputs": [],
   "source": [
    "import xgboost as xgb\n",
    "\n",
    "def custom_loss(preds, dtrain):\n",
    "    labels = dtrain.get_label()\n",
    "    return 'custom_loss', np.sqrt(np.mean((preds - labels)**2))\n",
    "\n",
    "# Charger les données d'apprentissage et de test\n",
    "X_train, y_train = df_RF , y\n",
    "X_test, y_test = df_RF_test , None\n",
    "\n",
    "# Convertir les données en format DMatrix pour XGBoost\n",
    "dtrain = xgb.DMatrix(X_train, label=y_train)\n",
    "dtest = xgb.DMatrix(X_test, label=y_test)\n",
    "\n",
    "# Définir les paramètres du modèle\n",
    "param = {'max_depth': 4,\n",
    "         'eta': 0.5, # learning rate\n",
    "         'gamma': 1,\n",
    "         'min_child_weight': 1,\n",
    "         'subsample': 0.2,\n",
    "         'max_leaves': 10,\n",
    "         'objective': 'reg:squarederror'}\n",
    "\n",
    "# Entraîner le modèle\n",
    "model = xgb.train(param, dtrain, num_boost_round=10) #, custom_metric=custom_loss)\n",
    "\n",
    "# Faire des prévisions sur les données de test\n",
    "predictions = model.predict(dtest)\n",
    "\n",
    "# Afficher les prévisions\n",
    "print(predictions)"
   ]
  },
  {
   "cell_type": "markdown",
   "id": "7ca9e2b4",
   "metadata": {},
   "source": [
    "# Cross Validation"
   ]
  },
  {
   "cell_type": "code",
   "execution_count": null,
   "id": "b0cebe6c",
   "metadata": {
    "ExecuteTime": {
     "end_time": "2022-12-22T11:24:55.847539Z",
     "start_time": "2022-12-22T11:24:17.078429Z"
    }
   },
   "outputs": [],
   "source": [
    "import xgboost as xgb\n",
    "\n",
    "def custom_loss(preds, dtrain):\n",
    "    labels = dtrain.get_label()\n",
    "    return 'custom_loss', np.sqrt(np.mean((preds - labels)**2))\n",
    "\n",
    "# Charger les données\n",
    "X, y = X_train, Y_train\n",
    "\n",
    "# Convertir les données en format DMatrix pour XGBoost\n",
    "dmatrix = xgb.DMatrix(X, label=y)\n",
    "\n",
    "# Définir les paramètres du modèle\n",
    "param = {'max_depth': 4,\n",
    "         'eta': 0.5, # learning rate\n",
    "         'gamma': 1,\n",
    "         'min_child_weight': 1,\n",
    "         'subsample': 0.2,\n",
    "         'max_leaves': 10,\n",
    "         'objective': 'reg:squarederror'}\n",
    "\n",
    "# Définir les paramètres de la validation croisée\n",
    "cv_params = {'num_boost_round': 10, 'nfold': 5, 'metrics': 'rmse', 'seed': 0}\n",
    "\n",
    "# Entraîner le modèle en utilisant la validation croisée\n",
    "cv_results = xgb.cv(param, dmatrix, **cv_params)\n",
    "\n",
    "# Afficher les résultats de la validation croisée\n",
    "print(cv_results)"
   ]
  },
  {
   "cell_type": "markdown",
   "id": "4c798d93",
   "metadata": {},
   "source": [
    "# GridSearch"
   ]
  },
  {
   "cell_type": "code",
   "execution_count": 45,
   "id": "17023b4d",
   "metadata": {
    "ExecuteTime": {
     "end_time": "2023-01-06T16:49:53.776174Z",
     "start_time": "2023-01-06T16:45:49.480914Z"
    },
    "scrolled": true
   },
   "outputs": [
    {
     "name": "stderr",
     "output_type": "stream",
     "text": [
      "/usr/local/insa/anaconda/lib/python3.9/site-packages/xgboost/data.py:262: FutureWarning: pandas.Int64Index is deprecated and will be removed from pandas in a future version. Use pandas.Index with the appropriate dtype instead.\n",
      "  elif isinstance(data.columns, (pd.Int64Index, pd.RangeIndex)):\n"
     ]
    },
    {
     "name": "stdout",
     "output_type": "stream",
     "text": [
      "Fitting 6 folds for each of 5 candidates, totalling 30 fits\n",
      "[17:45:49] WARNING: /home/conda/feedstock_root/build_artifacts/xgboost-split_1645117766796/work/src/learner.cc:576: \n",
      "Parameters: { \"metrics\", \"nfold\", \"num_boost_round\" } might not be used.\n",
      "\n",
      "  This could be a false alarm, with some parameters getting used by language bindings but\n",
      "  then being mistakenly passed down to XGBoost core, or some parameter actually being used\n",
      "  but getting flagged wrongly here. Please open an issue if you find any such cases.\n",
      "\n",
      "\n"
     ]
    },
    {
     "name": "stderr",
     "output_type": "stream",
     "text": [
      "/usr/local/insa/anaconda/lib/python3.9/site-packages/sklearn/model_selection/_validation.py:776: UserWarning: Scoring failed. The score on this train-test partition for these parameters will be set to nan. Details: \n",
      "Traceback (most recent call last):\n",
      "  File \"/usr/local/insa/anaconda/lib/python3.9/site-packages/sklearn/model_selection/_validation.py\", line 767, in _score\n",
      "    scores = scorer(estimator, X_test, y_test)\n",
      "  File \"/usr/local/insa/anaconda/lib/python3.9/site-packages/sklearn/metrics/_scorer.py\", line 219, in __call__\n",
      "    return self._score(\n",
      "  File \"/usr/local/insa/anaconda/lib/python3.9/site-packages/sklearn/metrics/_scorer.py\", line 267, in _score\n",
      "    return self._sign * self._score_func(y_true, y_pred, **self._kwargs)\n",
      "  File \"/usr/local/insa/anaconda/lib/python3.9/site-packages/sklearn/metrics/_classification.py\", line 211, in accuracy_score\n",
      "    y_type, y_true, y_pred = _check_targets(y_true, y_pred)\n",
      "  File \"/usr/local/insa/anaconda/lib/python3.9/site-packages/sklearn/metrics/_classification.py\", line 93, in _check_targets\n",
      "    raise ValueError(\n",
      "ValueError: Classification metrics can't handle a mix of multiclass and continuous targets\n",
      "\n",
      "  warnings.warn(\n",
      "/usr/local/insa/anaconda/lib/python3.9/site-packages/xgboost/data.py:262: FutureWarning: pandas.Int64Index is deprecated and will be removed from pandas in a future version. Use pandas.Index with the appropriate dtype instead.\n",
      "  elif isinstance(data.columns, (pd.Int64Index, pd.RangeIndex)):\n"
     ]
    },
    {
     "name": "stdout",
     "output_type": "stream",
     "text": [
      "[17:45:57] WARNING: /home/conda/feedstock_root/build_artifacts/xgboost-split_1645117766796/work/src/learner.cc:576: \n",
      "Parameters: { \"metrics\", \"nfold\", \"num_boost_round\" } might not be used.\n",
      "\n",
      "  This could be a false alarm, with some parameters getting used by language bindings but\n",
      "  then being mistakenly passed down to XGBoost core, or some parameter actually being used\n",
      "  but getting flagged wrongly here. Please open an issue if you find any such cases.\n",
      "\n",
      "\n"
     ]
    },
    {
     "name": "stderr",
     "output_type": "stream",
     "text": [
      "/usr/local/insa/anaconda/lib/python3.9/site-packages/sklearn/model_selection/_validation.py:776: UserWarning: Scoring failed. The score on this train-test partition for these parameters will be set to nan. Details: \n",
      "Traceback (most recent call last):\n",
      "  File \"/usr/local/insa/anaconda/lib/python3.9/site-packages/sklearn/model_selection/_validation.py\", line 767, in _score\n",
      "    scores = scorer(estimator, X_test, y_test)\n",
      "  File \"/usr/local/insa/anaconda/lib/python3.9/site-packages/sklearn/metrics/_scorer.py\", line 219, in __call__\n",
      "    return self._score(\n",
      "  File \"/usr/local/insa/anaconda/lib/python3.9/site-packages/sklearn/metrics/_scorer.py\", line 267, in _score\n",
      "    return self._sign * self._score_func(y_true, y_pred, **self._kwargs)\n",
      "  File \"/usr/local/insa/anaconda/lib/python3.9/site-packages/sklearn/metrics/_classification.py\", line 211, in accuracy_score\n",
      "    y_type, y_true, y_pred = _check_targets(y_true, y_pred)\n",
      "  File \"/usr/local/insa/anaconda/lib/python3.9/site-packages/sklearn/metrics/_classification.py\", line 93, in _check_targets\n",
      "    raise ValueError(\n",
      "ValueError: Classification metrics can't handle a mix of multiclass and continuous targets\n",
      "\n",
      "  warnings.warn(\n",
      "/usr/local/insa/anaconda/lib/python3.9/site-packages/xgboost/data.py:262: FutureWarning: pandas.Int64Index is deprecated and will be removed from pandas in a future version. Use pandas.Index with the appropriate dtype instead.\n",
      "  elif isinstance(data.columns, (pd.Int64Index, pd.RangeIndex)):\n"
     ]
    },
    {
     "name": "stdout",
     "output_type": "stream",
     "text": [
      "[17:46:03] WARNING: /home/conda/feedstock_root/build_artifacts/xgboost-split_1645117766796/work/src/learner.cc:576: \n",
      "Parameters: { \"metrics\", \"nfold\", \"num_boost_round\" } might not be used.\n",
      "\n",
      "  This could be a false alarm, with some parameters getting used by language bindings but\n",
      "  then being mistakenly passed down to XGBoost core, or some parameter actually being used\n",
      "  but getting flagged wrongly here. Please open an issue if you find any such cases.\n",
      "\n",
      "\n"
     ]
    },
    {
     "name": "stderr",
     "output_type": "stream",
     "text": [
      "/usr/local/insa/anaconda/lib/python3.9/site-packages/sklearn/model_selection/_validation.py:776: UserWarning: Scoring failed. The score on this train-test partition for these parameters will be set to nan. Details: \n",
      "Traceback (most recent call last):\n",
      "  File \"/usr/local/insa/anaconda/lib/python3.9/site-packages/sklearn/model_selection/_validation.py\", line 767, in _score\n",
      "    scores = scorer(estimator, X_test, y_test)\n",
      "  File \"/usr/local/insa/anaconda/lib/python3.9/site-packages/sklearn/metrics/_scorer.py\", line 219, in __call__\n",
      "    return self._score(\n",
      "  File \"/usr/local/insa/anaconda/lib/python3.9/site-packages/sklearn/metrics/_scorer.py\", line 267, in _score\n",
      "    return self._sign * self._score_func(y_true, y_pred, **self._kwargs)\n",
      "  File \"/usr/local/insa/anaconda/lib/python3.9/site-packages/sklearn/metrics/_classification.py\", line 211, in accuracy_score\n",
      "    y_type, y_true, y_pred = _check_targets(y_true, y_pred)\n",
      "  File \"/usr/local/insa/anaconda/lib/python3.9/site-packages/sklearn/metrics/_classification.py\", line 93, in _check_targets\n",
      "    raise ValueError(\n",
      "ValueError: Classification metrics can't handle a mix of multiclass and continuous targets\n",
      "\n",
      "  warnings.warn(\n",
      "/usr/local/insa/anaconda/lib/python3.9/site-packages/xgboost/data.py:262: FutureWarning: pandas.Int64Index is deprecated and will be removed from pandas in a future version. Use pandas.Index with the appropriate dtype instead.\n",
      "  elif isinstance(data.columns, (pd.Int64Index, pd.RangeIndex)):\n"
     ]
    },
    {
     "name": "stdout",
     "output_type": "stream",
     "text": [
      "[17:46:10] WARNING: /home/conda/feedstock_root/build_artifacts/xgboost-split_1645117766796/work/src/learner.cc:576: \n",
      "Parameters: { \"metrics\", \"nfold\", \"num_boost_round\" } might not be used.\n",
      "\n",
      "  This could be a false alarm, with some parameters getting used by language bindings but\n",
      "  then being mistakenly passed down to XGBoost core, or some parameter actually being used\n",
      "  but getting flagged wrongly here. Please open an issue if you find any such cases.\n",
      "\n",
      "\n"
     ]
    },
    {
     "name": "stderr",
     "output_type": "stream",
     "text": [
      "/usr/local/insa/anaconda/lib/python3.9/site-packages/sklearn/model_selection/_validation.py:776: UserWarning: Scoring failed. The score on this train-test partition for these parameters will be set to nan. Details: \n",
      "Traceback (most recent call last):\n",
      "  File \"/usr/local/insa/anaconda/lib/python3.9/site-packages/sklearn/model_selection/_validation.py\", line 767, in _score\n",
      "    scores = scorer(estimator, X_test, y_test)\n",
      "  File \"/usr/local/insa/anaconda/lib/python3.9/site-packages/sklearn/metrics/_scorer.py\", line 219, in __call__\n",
      "    return self._score(\n",
      "  File \"/usr/local/insa/anaconda/lib/python3.9/site-packages/sklearn/metrics/_scorer.py\", line 267, in _score\n",
      "    return self._sign * self._score_func(y_true, y_pred, **self._kwargs)\n",
      "  File \"/usr/local/insa/anaconda/lib/python3.9/site-packages/sklearn/metrics/_classification.py\", line 211, in accuracy_score\n",
      "    y_type, y_true, y_pred = _check_targets(y_true, y_pred)\n",
      "  File \"/usr/local/insa/anaconda/lib/python3.9/site-packages/sklearn/metrics/_classification.py\", line 93, in _check_targets\n",
      "    raise ValueError(\n",
      "ValueError: Classification metrics can't handle a mix of multiclass and continuous targets\n",
      "\n",
      "  warnings.warn(\n",
      "/usr/local/insa/anaconda/lib/python3.9/site-packages/xgboost/data.py:262: FutureWarning: pandas.Int64Index is deprecated and will be removed from pandas in a future version. Use pandas.Index with the appropriate dtype instead.\n",
      "  elif isinstance(data.columns, (pd.Int64Index, pd.RangeIndex)):\n"
     ]
    },
    {
     "name": "stdout",
     "output_type": "stream",
     "text": [
      "[17:46:17] WARNING: /home/conda/feedstock_root/build_artifacts/xgboost-split_1645117766796/work/src/learner.cc:576: \n",
      "Parameters: { \"metrics\", \"nfold\", \"num_boost_round\" } might not be used.\n",
      "\n",
      "  This could be a false alarm, with some parameters getting used by language bindings but\n",
      "  then being mistakenly passed down to XGBoost core, or some parameter actually being used\n",
      "  but getting flagged wrongly here. Please open an issue if you find any such cases.\n",
      "\n",
      "\n"
     ]
    },
    {
     "name": "stderr",
     "output_type": "stream",
     "text": [
      "/usr/local/insa/anaconda/lib/python3.9/site-packages/sklearn/model_selection/_validation.py:776: UserWarning: Scoring failed. The score on this train-test partition for these parameters will be set to nan. Details: \n",
      "Traceback (most recent call last):\n",
      "  File \"/usr/local/insa/anaconda/lib/python3.9/site-packages/sklearn/model_selection/_validation.py\", line 767, in _score\n",
      "    scores = scorer(estimator, X_test, y_test)\n",
      "  File \"/usr/local/insa/anaconda/lib/python3.9/site-packages/sklearn/metrics/_scorer.py\", line 219, in __call__\n",
      "    return self._score(\n",
      "  File \"/usr/local/insa/anaconda/lib/python3.9/site-packages/sklearn/metrics/_scorer.py\", line 267, in _score\n",
      "    return self._sign * self._score_func(y_true, y_pred, **self._kwargs)\n",
      "  File \"/usr/local/insa/anaconda/lib/python3.9/site-packages/sklearn/metrics/_classification.py\", line 211, in accuracy_score\n",
      "    y_type, y_true, y_pred = _check_targets(y_true, y_pred)\n",
      "  File \"/usr/local/insa/anaconda/lib/python3.9/site-packages/sklearn/metrics/_classification.py\", line 93, in _check_targets\n",
      "    raise ValueError(\n",
      "ValueError: Classification metrics can't handle a mix of multiclass and continuous targets\n",
      "\n",
      "  warnings.warn(\n",
      "/usr/local/insa/anaconda/lib/python3.9/site-packages/xgboost/data.py:262: FutureWarning: pandas.Int64Index is deprecated and will be removed from pandas in a future version. Use pandas.Index with the appropriate dtype instead.\n",
      "  elif isinstance(data.columns, (pd.Int64Index, pd.RangeIndex)):\n"
     ]
    },
    {
     "name": "stdout",
     "output_type": "stream",
     "text": [
      "[17:46:24] WARNING: /home/conda/feedstock_root/build_artifacts/xgboost-split_1645117766796/work/src/learner.cc:576: \n",
      "Parameters: { \"metrics\", \"nfold\", \"num_boost_round\" } might not be used.\n",
      "\n",
      "  This could be a false alarm, with some parameters getting used by language bindings but\n",
      "  then being mistakenly passed down to XGBoost core, or some parameter actually being used\n",
      "  but getting flagged wrongly here. Please open an issue if you find any such cases.\n",
      "\n",
      "\n"
     ]
    },
    {
     "name": "stderr",
     "output_type": "stream",
     "text": [
      "/usr/local/insa/anaconda/lib/python3.9/site-packages/sklearn/model_selection/_validation.py:776: UserWarning: Scoring failed. The score on this train-test partition for these parameters will be set to nan. Details: \n",
      "Traceback (most recent call last):\n",
      "  File \"/usr/local/insa/anaconda/lib/python3.9/site-packages/sklearn/model_selection/_validation.py\", line 767, in _score\n",
      "    scores = scorer(estimator, X_test, y_test)\n",
      "  File \"/usr/local/insa/anaconda/lib/python3.9/site-packages/sklearn/metrics/_scorer.py\", line 219, in __call__\n",
      "    return self._score(\n",
      "  File \"/usr/local/insa/anaconda/lib/python3.9/site-packages/sklearn/metrics/_scorer.py\", line 267, in _score\n",
      "    return self._sign * self._score_func(y_true, y_pred, **self._kwargs)\n",
      "  File \"/usr/local/insa/anaconda/lib/python3.9/site-packages/sklearn/metrics/_classification.py\", line 211, in accuracy_score\n",
      "    y_type, y_true, y_pred = _check_targets(y_true, y_pred)\n",
      "  File \"/usr/local/insa/anaconda/lib/python3.9/site-packages/sklearn/metrics/_classification.py\", line 93, in _check_targets\n",
      "    raise ValueError(\n",
      "ValueError: Classification metrics can't handle a mix of multiclass and continuous targets\n",
      "\n",
      "  warnings.warn(\n",
      "/usr/local/insa/anaconda/lib/python3.9/site-packages/xgboost/data.py:262: FutureWarning: pandas.Int64Index is deprecated and will be removed from pandas in a future version. Use pandas.Index with the appropriate dtype instead.\n",
      "  elif isinstance(data.columns, (pd.Int64Index, pd.RangeIndex)):\n"
     ]
    },
    {
     "name": "stdout",
     "output_type": "stream",
     "text": [
      "[17:46:30] WARNING: /home/conda/feedstock_root/build_artifacts/xgboost-split_1645117766796/work/src/learner.cc:576: \n",
      "Parameters: { \"metrics\", \"nfold\", \"num_boost_round\" } might not be used.\n",
      "\n",
      "  This could be a false alarm, with some parameters getting used by language bindings but\n",
      "  then being mistakenly passed down to XGBoost core, or some parameter actually being used\n",
      "  but getting flagged wrongly here. Please open an issue if you find any such cases.\n",
      "\n",
      "\n"
     ]
    },
    {
     "name": "stderr",
     "output_type": "stream",
     "text": [
      "/usr/local/insa/anaconda/lib/python3.9/site-packages/sklearn/model_selection/_validation.py:776: UserWarning: Scoring failed. The score on this train-test partition for these parameters will be set to nan. Details: \n",
      "Traceback (most recent call last):\n",
      "  File \"/usr/local/insa/anaconda/lib/python3.9/site-packages/sklearn/model_selection/_validation.py\", line 767, in _score\n",
      "    scores = scorer(estimator, X_test, y_test)\n",
      "  File \"/usr/local/insa/anaconda/lib/python3.9/site-packages/sklearn/metrics/_scorer.py\", line 219, in __call__\n",
      "    return self._score(\n",
      "  File \"/usr/local/insa/anaconda/lib/python3.9/site-packages/sklearn/metrics/_scorer.py\", line 267, in _score\n",
      "    return self._sign * self._score_func(y_true, y_pred, **self._kwargs)\n",
      "  File \"/usr/local/insa/anaconda/lib/python3.9/site-packages/sklearn/metrics/_classification.py\", line 211, in accuracy_score\n",
      "    y_type, y_true, y_pred = _check_targets(y_true, y_pred)\n",
      "  File \"/usr/local/insa/anaconda/lib/python3.9/site-packages/sklearn/metrics/_classification.py\", line 93, in _check_targets\n",
      "    raise ValueError(\n",
      "ValueError: Classification metrics can't handle a mix of multiclass and continuous targets\n",
      "\n",
      "  warnings.warn(\n",
      "/usr/local/insa/anaconda/lib/python3.9/site-packages/xgboost/data.py:262: FutureWarning: pandas.Int64Index is deprecated and will be removed from pandas in a future version. Use pandas.Index with the appropriate dtype instead.\n",
      "  elif isinstance(data.columns, (pd.Int64Index, pd.RangeIndex)):\n"
     ]
    },
    {
     "name": "stdout",
     "output_type": "stream",
     "text": [
      "[17:46:40] WARNING: /home/conda/feedstock_root/build_artifacts/xgboost-split_1645117766796/work/src/learner.cc:576: \n",
      "Parameters: { \"metrics\", \"nfold\", \"num_boost_round\" } might not be used.\n",
      "\n",
      "  This could be a false alarm, with some parameters getting used by language bindings but\n",
      "  then being mistakenly passed down to XGBoost core, or some parameter actually being used\n",
      "  but getting flagged wrongly here. Please open an issue if you find any such cases.\n",
      "\n",
      "\n"
     ]
    },
    {
     "name": "stderr",
     "output_type": "stream",
     "text": [
      "/usr/local/insa/anaconda/lib/python3.9/site-packages/sklearn/model_selection/_validation.py:776: UserWarning: Scoring failed. The score on this train-test partition for these parameters will be set to nan. Details: \n",
      "Traceback (most recent call last):\n",
      "  File \"/usr/local/insa/anaconda/lib/python3.9/site-packages/sklearn/model_selection/_validation.py\", line 767, in _score\n",
      "    scores = scorer(estimator, X_test, y_test)\n",
      "  File \"/usr/local/insa/anaconda/lib/python3.9/site-packages/sklearn/metrics/_scorer.py\", line 219, in __call__\n",
      "    return self._score(\n",
      "  File \"/usr/local/insa/anaconda/lib/python3.9/site-packages/sklearn/metrics/_scorer.py\", line 267, in _score\n",
      "    return self._sign * self._score_func(y_true, y_pred, **self._kwargs)\n",
      "  File \"/usr/local/insa/anaconda/lib/python3.9/site-packages/sklearn/metrics/_classification.py\", line 211, in accuracy_score\n",
      "    y_type, y_true, y_pred = _check_targets(y_true, y_pred)\n",
      "  File \"/usr/local/insa/anaconda/lib/python3.9/site-packages/sklearn/metrics/_classification.py\", line 93, in _check_targets\n",
      "    raise ValueError(\n",
      "ValueError: Classification metrics can't handle a mix of multiclass and continuous targets\n",
      "\n",
      "  warnings.warn(\n",
      "/usr/local/insa/anaconda/lib/python3.9/site-packages/xgboost/data.py:262: FutureWarning: pandas.Int64Index is deprecated and will be removed from pandas in a future version. Use pandas.Index with the appropriate dtype instead.\n",
      "  elif isinstance(data.columns, (pd.Int64Index, pd.RangeIndex)):\n"
     ]
    },
    {
     "name": "stdout",
     "output_type": "stream",
     "text": [
      "[17:46:50] WARNING: /home/conda/feedstock_root/build_artifacts/xgboost-split_1645117766796/work/src/learner.cc:576: \n",
      "Parameters: { \"metrics\", \"nfold\", \"num_boost_round\" } might not be used.\n",
      "\n",
      "  This could be a false alarm, with some parameters getting used by language bindings but\n",
      "  then being mistakenly passed down to XGBoost core, or some parameter actually being used\n",
      "  but getting flagged wrongly here. Please open an issue if you find any such cases.\n",
      "\n",
      "\n"
     ]
    },
    {
     "name": "stderr",
     "output_type": "stream",
     "text": [
      "/usr/local/insa/anaconda/lib/python3.9/site-packages/sklearn/model_selection/_validation.py:776: UserWarning: Scoring failed. The score on this train-test partition for these parameters will be set to nan. Details: \n",
      "Traceback (most recent call last):\n",
      "  File \"/usr/local/insa/anaconda/lib/python3.9/site-packages/sklearn/model_selection/_validation.py\", line 767, in _score\n",
      "    scores = scorer(estimator, X_test, y_test)\n",
      "  File \"/usr/local/insa/anaconda/lib/python3.9/site-packages/sklearn/metrics/_scorer.py\", line 219, in __call__\n",
      "    return self._score(\n",
      "  File \"/usr/local/insa/anaconda/lib/python3.9/site-packages/sklearn/metrics/_scorer.py\", line 267, in _score\n",
      "    return self._sign * self._score_func(y_true, y_pred, **self._kwargs)\n",
      "  File \"/usr/local/insa/anaconda/lib/python3.9/site-packages/sklearn/metrics/_classification.py\", line 211, in accuracy_score\n",
      "    y_type, y_true, y_pred = _check_targets(y_true, y_pred)\n",
      "  File \"/usr/local/insa/anaconda/lib/python3.9/site-packages/sklearn/metrics/_classification.py\", line 93, in _check_targets\n",
      "    raise ValueError(\n",
      "ValueError: Classification metrics can't handle a mix of multiclass and continuous targets\n",
      "\n",
      "  warnings.warn(\n",
      "/usr/local/insa/anaconda/lib/python3.9/site-packages/xgboost/data.py:262: FutureWarning: pandas.Int64Index is deprecated and will be removed from pandas in a future version. Use pandas.Index with the appropriate dtype instead.\n",
      "  elif isinstance(data.columns, (pd.Int64Index, pd.RangeIndex)):\n"
     ]
    },
    {
     "name": "stdout",
     "output_type": "stream",
     "text": [
      "[17:47:00] WARNING: /home/conda/feedstock_root/build_artifacts/xgboost-split_1645117766796/work/src/learner.cc:576: \n",
      "Parameters: { \"metrics\", \"nfold\", \"num_boost_round\" } might not be used.\n",
      "\n",
      "  This could be a false alarm, with some parameters getting used by language bindings but\n",
      "  then being mistakenly passed down to XGBoost core, or some parameter actually being used\n",
      "  but getting flagged wrongly here. Please open an issue if you find any such cases.\n",
      "\n",
      "\n"
     ]
    },
    {
     "name": "stderr",
     "output_type": "stream",
     "text": [
      "/usr/local/insa/anaconda/lib/python3.9/site-packages/sklearn/model_selection/_validation.py:776: UserWarning: Scoring failed. The score on this train-test partition for these parameters will be set to nan. Details: \n",
      "Traceback (most recent call last):\n",
      "  File \"/usr/local/insa/anaconda/lib/python3.9/site-packages/sklearn/model_selection/_validation.py\", line 767, in _score\n",
      "    scores = scorer(estimator, X_test, y_test)\n",
      "  File \"/usr/local/insa/anaconda/lib/python3.9/site-packages/sklearn/metrics/_scorer.py\", line 219, in __call__\n",
      "    return self._score(\n",
      "  File \"/usr/local/insa/anaconda/lib/python3.9/site-packages/sklearn/metrics/_scorer.py\", line 267, in _score\n",
      "    return self._sign * self._score_func(y_true, y_pred, **self._kwargs)\n",
      "  File \"/usr/local/insa/anaconda/lib/python3.9/site-packages/sklearn/metrics/_classification.py\", line 211, in accuracy_score\n",
      "    y_type, y_true, y_pred = _check_targets(y_true, y_pred)\n",
      "  File \"/usr/local/insa/anaconda/lib/python3.9/site-packages/sklearn/metrics/_classification.py\", line 93, in _check_targets\n",
      "    raise ValueError(\n",
      "ValueError: Classification metrics can't handle a mix of multiclass and continuous targets\n",
      "\n",
      "  warnings.warn(\n",
      "/usr/local/insa/anaconda/lib/python3.9/site-packages/xgboost/data.py:262: FutureWarning: pandas.Int64Index is deprecated and will be removed from pandas in a future version. Use pandas.Index with the appropriate dtype instead.\n",
      "  elif isinstance(data.columns, (pd.Int64Index, pd.RangeIndex)):\n"
     ]
    },
    {
     "name": "stdout",
     "output_type": "stream",
     "text": [
      "[17:47:10] WARNING: /home/conda/feedstock_root/build_artifacts/xgboost-split_1645117766796/work/src/learner.cc:576: \n",
      "Parameters: { \"metrics\", \"nfold\", \"num_boost_round\" } might not be used.\n",
      "\n",
      "  This could be a false alarm, with some parameters getting used by language bindings but\n",
      "  then being mistakenly passed down to XGBoost core, or some parameter actually being used\n",
      "  but getting flagged wrongly here. Please open an issue if you find any such cases.\n",
      "\n",
      "\n"
     ]
    },
    {
     "name": "stderr",
     "output_type": "stream",
     "text": [
      "/usr/local/insa/anaconda/lib/python3.9/site-packages/sklearn/model_selection/_validation.py:776: UserWarning: Scoring failed. The score on this train-test partition for these parameters will be set to nan. Details: \n",
      "Traceback (most recent call last):\n",
      "  File \"/usr/local/insa/anaconda/lib/python3.9/site-packages/sklearn/model_selection/_validation.py\", line 767, in _score\n",
      "    scores = scorer(estimator, X_test, y_test)\n",
      "  File \"/usr/local/insa/anaconda/lib/python3.9/site-packages/sklearn/metrics/_scorer.py\", line 219, in __call__\n",
      "    return self._score(\n",
      "  File \"/usr/local/insa/anaconda/lib/python3.9/site-packages/sklearn/metrics/_scorer.py\", line 267, in _score\n",
      "    return self._sign * self._score_func(y_true, y_pred, **self._kwargs)\n",
      "  File \"/usr/local/insa/anaconda/lib/python3.9/site-packages/sklearn/metrics/_classification.py\", line 211, in accuracy_score\n",
      "    y_type, y_true, y_pred = _check_targets(y_true, y_pred)\n",
      "  File \"/usr/local/insa/anaconda/lib/python3.9/site-packages/sklearn/metrics/_classification.py\", line 93, in _check_targets\n",
      "    raise ValueError(\n",
      "ValueError: Classification metrics can't handle a mix of multiclass and continuous targets\n",
      "\n",
      "  warnings.warn(\n",
      "/usr/local/insa/anaconda/lib/python3.9/site-packages/xgboost/data.py:262: FutureWarning: pandas.Int64Index is deprecated and will be removed from pandas in a future version. Use pandas.Index with the appropriate dtype instead.\n",
      "  elif isinstance(data.columns, (pd.Int64Index, pd.RangeIndex)):\n"
     ]
    },
    {
     "name": "stdout",
     "output_type": "stream",
     "text": [
      "[17:47:19] WARNING: /home/conda/feedstock_root/build_artifacts/xgboost-split_1645117766796/work/src/learner.cc:576: \n",
      "Parameters: { \"metrics\", \"nfold\", \"num_boost_round\" } might not be used.\n",
      "\n",
      "  This could be a false alarm, with some parameters getting used by language bindings but\n",
      "  then being mistakenly passed down to XGBoost core, or some parameter actually being used\n",
      "  but getting flagged wrongly here. Please open an issue if you find any such cases.\n",
      "\n",
      "\n"
     ]
    },
    {
     "name": "stderr",
     "output_type": "stream",
     "text": [
      "/usr/local/insa/anaconda/lib/python3.9/site-packages/sklearn/model_selection/_validation.py:776: UserWarning: Scoring failed. The score on this train-test partition for these parameters will be set to nan. Details: \n",
      "Traceback (most recent call last):\n",
      "  File \"/usr/local/insa/anaconda/lib/python3.9/site-packages/sklearn/model_selection/_validation.py\", line 767, in _score\n",
      "    scores = scorer(estimator, X_test, y_test)\n",
      "  File \"/usr/local/insa/anaconda/lib/python3.9/site-packages/sklearn/metrics/_scorer.py\", line 219, in __call__\n",
      "    return self._score(\n",
      "  File \"/usr/local/insa/anaconda/lib/python3.9/site-packages/sklearn/metrics/_scorer.py\", line 267, in _score\n",
      "    return self._sign * self._score_func(y_true, y_pred, **self._kwargs)\n",
      "  File \"/usr/local/insa/anaconda/lib/python3.9/site-packages/sklearn/metrics/_classification.py\", line 211, in accuracy_score\n",
      "    y_type, y_true, y_pred = _check_targets(y_true, y_pred)\n",
      "  File \"/usr/local/insa/anaconda/lib/python3.9/site-packages/sklearn/metrics/_classification.py\", line 93, in _check_targets\n",
      "    raise ValueError(\n",
      "ValueError: Classification metrics can't handle a mix of multiclass and continuous targets\n",
      "\n",
      "  warnings.warn(\n",
      "/usr/local/insa/anaconda/lib/python3.9/site-packages/xgboost/data.py:262: FutureWarning: pandas.Int64Index is deprecated and will be removed from pandas in a future version. Use pandas.Index with the appropriate dtype instead.\n",
      "  elif isinstance(data.columns, (pd.Int64Index, pd.RangeIndex)):\n"
     ]
    },
    {
     "name": "stdout",
     "output_type": "stream",
     "text": [
      "[17:47:29] WARNING: /home/conda/feedstock_root/build_artifacts/xgboost-split_1645117766796/work/src/learner.cc:576: \n",
      "Parameters: { \"metrics\", \"nfold\", \"num_boost_round\" } might not be used.\n",
      "\n",
      "  This could be a false alarm, with some parameters getting used by language bindings but\n",
      "  then being mistakenly passed down to XGBoost core, or some parameter actually being used\n",
      "  but getting flagged wrongly here. Please open an issue if you find any such cases.\n",
      "\n",
      "\n"
     ]
    },
    {
     "name": "stderr",
     "output_type": "stream",
     "text": [
      "/usr/local/insa/anaconda/lib/python3.9/site-packages/sklearn/model_selection/_validation.py:776: UserWarning: Scoring failed. The score on this train-test partition for these parameters will be set to nan. Details: \n",
      "Traceback (most recent call last):\n",
      "  File \"/usr/local/insa/anaconda/lib/python3.9/site-packages/sklearn/model_selection/_validation.py\", line 767, in _score\n",
      "    scores = scorer(estimator, X_test, y_test)\n",
      "  File \"/usr/local/insa/anaconda/lib/python3.9/site-packages/sklearn/metrics/_scorer.py\", line 219, in __call__\n",
      "    return self._score(\n",
      "  File \"/usr/local/insa/anaconda/lib/python3.9/site-packages/sklearn/metrics/_scorer.py\", line 267, in _score\n",
      "    return self._sign * self._score_func(y_true, y_pred, **self._kwargs)\n",
      "  File \"/usr/local/insa/anaconda/lib/python3.9/site-packages/sklearn/metrics/_classification.py\", line 211, in accuracy_score\n",
      "    y_type, y_true, y_pred = _check_targets(y_true, y_pred)\n",
      "  File \"/usr/local/insa/anaconda/lib/python3.9/site-packages/sklearn/metrics/_classification.py\", line 93, in _check_targets\n",
      "    raise ValueError(\n",
      "ValueError: Classification metrics can't handle a mix of multiclass and continuous targets\n",
      "\n",
      "  warnings.warn(\n",
      "/usr/local/insa/anaconda/lib/python3.9/site-packages/xgboost/data.py:262: FutureWarning: pandas.Int64Index is deprecated and will be removed from pandas in a future version. Use pandas.Index with the appropriate dtype instead.\n",
      "  elif isinstance(data.columns, (pd.Int64Index, pd.RangeIndex)):\n"
     ]
    },
    {
     "name": "stdout",
     "output_type": "stream",
     "text": [
      "[17:47:34] WARNING: /home/conda/feedstock_root/build_artifacts/xgboost-split_1645117766796/work/src/learner.cc:576: \n",
      "Parameters: { \"metrics\", \"nfold\", \"num_boost_round\" } might not be used.\n",
      "\n",
      "  This could be a false alarm, with some parameters getting used by language bindings but\n",
      "  then being mistakenly passed down to XGBoost core, or some parameter actually being used\n",
      "  but getting flagged wrongly here. Please open an issue if you find any such cases.\n",
      "\n",
      "\n"
     ]
    },
    {
     "name": "stderr",
     "output_type": "stream",
     "text": [
      "/usr/local/insa/anaconda/lib/python3.9/site-packages/sklearn/model_selection/_validation.py:776: UserWarning: Scoring failed. The score on this train-test partition for these parameters will be set to nan. Details: \n",
      "Traceback (most recent call last):\n",
      "  File \"/usr/local/insa/anaconda/lib/python3.9/site-packages/sklearn/model_selection/_validation.py\", line 767, in _score\n",
      "    scores = scorer(estimator, X_test, y_test)\n",
      "  File \"/usr/local/insa/anaconda/lib/python3.9/site-packages/sklearn/metrics/_scorer.py\", line 219, in __call__\n",
      "    return self._score(\n",
      "  File \"/usr/local/insa/anaconda/lib/python3.9/site-packages/sklearn/metrics/_scorer.py\", line 267, in _score\n",
      "    return self._sign * self._score_func(y_true, y_pred, **self._kwargs)\n",
      "  File \"/usr/local/insa/anaconda/lib/python3.9/site-packages/sklearn/metrics/_classification.py\", line 211, in accuracy_score\n",
      "    y_type, y_true, y_pred = _check_targets(y_true, y_pred)\n",
      "  File \"/usr/local/insa/anaconda/lib/python3.9/site-packages/sklearn/metrics/_classification.py\", line 93, in _check_targets\n",
      "    raise ValueError(\n",
      "ValueError: Classification metrics can't handle a mix of multiclass and continuous targets\n",
      "\n",
      "  warnings.warn(\n",
      "/usr/local/insa/anaconda/lib/python3.9/site-packages/xgboost/data.py:262: FutureWarning: pandas.Int64Index is deprecated and will be removed from pandas in a future version. Use pandas.Index with the appropriate dtype instead.\n",
      "  elif isinstance(data.columns, (pd.Int64Index, pd.RangeIndex)):\n"
     ]
    },
    {
     "name": "stdout",
     "output_type": "stream",
     "text": [
      "[17:47:39] WARNING: /home/conda/feedstock_root/build_artifacts/xgboost-split_1645117766796/work/src/learner.cc:576: \n",
      "Parameters: { \"metrics\", \"nfold\", \"num_boost_round\" } might not be used.\n",
      "\n",
      "  This could be a false alarm, with some parameters getting used by language bindings but\n",
      "  then being mistakenly passed down to XGBoost core, or some parameter actually being used\n",
      "  but getting flagged wrongly here. Please open an issue if you find any such cases.\n",
      "\n",
      "\n"
     ]
    },
    {
     "name": "stderr",
     "output_type": "stream",
     "text": [
      "/usr/local/insa/anaconda/lib/python3.9/site-packages/sklearn/model_selection/_validation.py:776: UserWarning: Scoring failed. The score on this train-test partition for these parameters will be set to nan. Details: \n",
      "Traceback (most recent call last):\n",
      "  File \"/usr/local/insa/anaconda/lib/python3.9/site-packages/sklearn/model_selection/_validation.py\", line 767, in _score\n",
      "    scores = scorer(estimator, X_test, y_test)\n",
      "  File \"/usr/local/insa/anaconda/lib/python3.9/site-packages/sklearn/metrics/_scorer.py\", line 219, in __call__\n",
      "    return self._score(\n",
      "  File \"/usr/local/insa/anaconda/lib/python3.9/site-packages/sklearn/metrics/_scorer.py\", line 267, in _score\n",
      "    return self._sign * self._score_func(y_true, y_pred, **self._kwargs)\n",
      "  File \"/usr/local/insa/anaconda/lib/python3.9/site-packages/sklearn/metrics/_classification.py\", line 211, in accuracy_score\n",
      "    y_type, y_true, y_pred = _check_targets(y_true, y_pred)\n",
      "  File \"/usr/local/insa/anaconda/lib/python3.9/site-packages/sklearn/metrics/_classification.py\", line 93, in _check_targets\n",
      "    raise ValueError(\n",
      "ValueError: Classification metrics can't handle a mix of multiclass and continuous targets\n",
      "\n",
      "  warnings.warn(\n",
      "/usr/local/insa/anaconda/lib/python3.9/site-packages/xgboost/data.py:262: FutureWarning: pandas.Int64Index is deprecated and will be removed from pandas in a future version. Use pandas.Index with the appropriate dtype instead.\n",
      "  elif isinstance(data.columns, (pd.Int64Index, pd.RangeIndex)):\n"
     ]
    },
    {
     "name": "stdout",
     "output_type": "stream",
     "text": [
      "[17:47:44] WARNING: /home/conda/feedstock_root/build_artifacts/xgboost-split_1645117766796/work/src/learner.cc:576: \n",
      "Parameters: { \"metrics\", \"nfold\", \"num_boost_round\" } might not be used.\n",
      "\n",
      "  This could be a false alarm, with some parameters getting used by language bindings but\n",
      "  then being mistakenly passed down to XGBoost core, or some parameter actually being used\n",
      "  but getting flagged wrongly here. Please open an issue if you find any such cases.\n",
      "\n",
      "\n"
     ]
    },
    {
     "name": "stderr",
     "output_type": "stream",
     "text": [
      "/usr/local/insa/anaconda/lib/python3.9/site-packages/sklearn/model_selection/_validation.py:776: UserWarning: Scoring failed. The score on this train-test partition for these parameters will be set to nan. Details: \n",
      "Traceback (most recent call last):\n",
      "  File \"/usr/local/insa/anaconda/lib/python3.9/site-packages/sklearn/model_selection/_validation.py\", line 767, in _score\n",
      "    scores = scorer(estimator, X_test, y_test)\n",
      "  File \"/usr/local/insa/anaconda/lib/python3.9/site-packages/sklearn/metrics/_scorer.py\", line 219, in __call__\n",
      "    return self._score(\n",
      "  File \"/usr/local/insa/anaconda/lib/python3.9/site-packages/sklearn/metrics/_scorer.py\", line 267, in _score\n",
      "    return self._sign * self._score_func(y_true, y_pred, **self._kwargs)\n",
      "  File \"/usr/local/insa/anaconda/lib/python3.9/site-packages/sklearn/metrics/_classification.py\", line 211, in accuracy_score\n",
      "    y_type, y_true, y_pred = _check_targets(y_true, y_pred)\n",
      "  File \"/usr/local/insa/anaconda/lib/python3.9/site-packages/sklearn/metrics/_classification.py\", line 93, in _check_targets\n",
      "    raise ValueError(\n",
      "ValueError: Classification metrics can't handle a mix of multiclass and continuous targets\n",
      "\n",
      "  warnings.warn(\n",
      "/usr/local/insa/anaconda/lib/python3.9/site-packages/xgboost/data.py:262: FutureWarning: pandas.Int64Index is deprecated and will be removed from pandas in a future version. Use pandas.Index with the appropriate dtype instead.\n",
      "  elif isinstance(data.columns, (pd.Int64Index, pd.RangeIndex)):\n"
     ]
    },
    {
     "name": "stdout",
     "output_type": "stream",
     "text": [
      "[17:47:49] WARNING: /home/conda/feedstock_root/build_artifacts/xgboost-split_1645117766796/work/src/learner.cc:576: \n",
      "Parameters: { \"metrics\", \"nfold\", \"num_boost_round\" } might not be used.\n",
      "\n",
      "  This could be a false alarm, with some parameters getting used by language bindings but\n",
      "  then being mistakenly passed down to XGBoost core, or some parameter actually being used\n",
      "  but getting flagged wrongly here. Please open an issue if you find any such cases.\n",
      "\n",
      "\n"
     ]
    },
    {
     "name": "stderr",
     "output_type": "stream",
     "text": [
      "/usr/local/insa/anaconda/lib/python3.9/site-packages/sklearn/model_selection/_validation.py:776: UserWarning: Scoring failed. The score on this train-test partition for these parameters will be set to nan. Details: \n",
      "Traceback (most recent call last):\n",
      "  File \"/usr/local/insa/anaconda/lib/python3.9/site-packages/sklearn/model_selection/_validation.py\", line 767, in _score\n",
      "    scores = scorer(estimator, X_test, y_test)\n",
      "  File \"/usr/local/insa/anaconda/lib/python3.9/site-packages/sklearn/metrics/_scorer.py\", line 219, in __call__\n",
      "    return self._score(\n",
      "  File \"/usr/local/insa/anaconda/lib/python3.9/site-packages/sklearn/metrics/_scorer.py\", line 267, in _score\n",
      "    return self._sign * self._score_func(y_true, y_pred, **self._kwargs)\n",
      "  File \"/usr/local/insa/anaconda/lib/python3.9/site-packages/sklearn/metrics/_classification.py\", line 211, in accuracy_score\n",
      "    y_type, y_true, y_pred = _check_targets(y_true, y_pred)\n",
      "  File \"/usr/local/insa/anaconda/lib/python3.9/site-packages/sklearn/metrics/_classification.py\", line 93, in _check_targets\n",
      "    raise ValueError(\n",
      "ValueError: Classification metrics can't handle a mix of multiclass and continuous targets\n",
      "\n",
      "  warnings.warn(\n",
      "/usr/local/insa/anaconda/lib/python3.9/site-packages/xgboost/data.py:262: FutureWarning: pandas.Int64Index is deprecated and will be removed from pandas in a future version. Use pandas.Index with the appropriate dtype instead.\n",
      "  elif isinstance(data.columns, (pd.Int64Index, pd.RangeIndex)):\n"
     ]
    },
    {
     "name": "stdout",
     "output_type": "stream",
     "text": [
      "[17:47:54] WARNING: /home/conda/feedstock_root/build_artifacts/xgboost-split_1645117766796/work/src/learner.cc:576: \n",
      "Parameters: { \"metrics\", \"nfold\", \"num_boost_round\" } might not be used.\n",
      "\n",
      "  This could be a false alarm, with some parameters getting used by language bindings but\n",
      "  then being mistakenly passed down to XGBoost core, or some parameter actually being used\n",
      "  but getting flagged wrongly here. Please open an issue if you find any such cases.\n",
      "\n",
      "\n"
     ]
    },
    {
     "name": "stderr",
     "output_type": "stream",
     "text": [
      "/usr/local/insa/anaconda/lib/python3.9/site-packages/sklearn/model_selection/_validation.py:776: UserWarning: Scoring failed. The score on this train-test partition for these parameters will be set to nan. Details: \n",
      "Traceback (most recent call last):\n",
      "  File \"/usr/local/insa/anaconda/lib/python3.9/site-packages/sklearn/model_selection/_validation.py\", line 767, in _score\n",
      "    scores = scorer(estimator, X_test, y_test)\n",
      "  File \"/usr/local/insa/anaconda/lib/python3.9/site-packages/sklearn/metrics/_scorer.py\", line 219, in __call__\n",
      "    return self._score(\n",
      "  File \"/usr/local/insa/anaconda/lib/python3.9/site-packages/sklearn/metrics/_scorer.py\", line 267, in _score\n",
      "    return self._sign * self._score_func(y_true, y_pred, **self._kwargs)\n",
      "  File \"/usr/local/insa/anaconda/lib/python3.9/site-packages/sklearn/metrics/_classification.py\", line 211, in accuracy_score\n",
      "    y_type, y_true, y_pred = _check_targets(y_true, y_pred)\n",
      "  File \"/usr/local/insa/anaconda/lib/python3.9/site-packages/sklearn/metrics/_classification.py\", line 93, in _check_targets\n",
      "    raise ValueError(\n",
      "ValueError: Classification metrics can't handle a mix of multiclass and continuous targets\n",
      "\n",
      "  warnings.warn(\n",
      "/usr/local/insa/anaconda/lib/python3.9/site-packages/xgboost/data.py:262: FutureWarning: pandas.Int64Index is deprecated and will be removed from pandas in a future version. Use pandas.Index with the appropriate dtype instead.\n",
      "  elif isinstance(data.columns, (pd.Int64Index, pd.RangeIndex)):\n"
     ]
    },
    {
     "name": "stdout",
     "output_type": "stream",
     "text": [
      "[17:48:00] WARNING: /home/conda/feedstock_root/build_artifacts/xgboost-split_1645117766796/work/src/learner.cc:576: \n",
      "Parameters: { \"metrics\", \"nfold\", \"num_boost_round\" } might not be used.\n",
      "\n",
      "  This could be a false alarm, with some parameters getting used by language bindings but\n",
      "  then being mistakenly passed down to XGBoost core, or some parameter actually being used\n",
      "  but getting flagged wrongly here. Please open an issue if you find any such cases.\n",
      "\n",
      "\n"
     ]
    },
    {
     "name": "stderr",
     "output_type": "stream",
     "text": [
      "/usr/local/insa/anaconda/lib/python3.9/site-packages/sklearn/model_selection/_validation.py:776: UserWarning: Scoring failed. The score on this train-test partition for these parameters will be set to nan. Details: \n",
      "Traceback (most recent call last):\n",
      "  File \"/usr/local/insa/anaconda/lib/python3.9/site-packages/sklearn/model_selection/_validation.py\", line 767, in _score\n",
      "    scores = scorer(estimator, X_test, y_test)\n",
      "  File \"/usr/local/insa/anaconda/lib/python3.9/site-packages/sklearn/metrics/_scorer.py\", line 219, in __call__\n",
      "    return self._score(\n",
      "  File \"/usr/local/insa/anaconda/lib/python3.9/site-packages/sklearn/metrics/_scorer.py\", line 267, in _score\n",
      "    return self._sign * self._score_func(y_true, y_pred, **self._kwargs)\n",
      "  File \"/usr/local/insa/anaconda/lib/python3.9/site-packages/sklearn/metrics/_classification.py\", line 211, in accuracy_score\n",
      "    y_type, y_true, y_pred = _check_targets(y_true, y_pred)\n",
      "  File \"/usr/local/insa/anaconda/lib/python3.9/site-packages/sklearn/metrics/_classification.py\", line 93, in _check_targets\n",
      "    raise ValueError(\n",
      "ValueError: Classification metrics can't handle a mix of multiclass and continuous targets\n",
      "\n",
      "  warnings.warn(\n",
      "/usr/local/insa/anaconda/lib/python3.9/site-packages/xgboost/data.py:262: FutureWarning: pandas.Int64Index is deprecated and will be removed from pandas in a future version. Use pandas.Index with the appropriate dtype instead.\n",
      "  elif isinstance(data.columns, (pd.Int64Index, pd.RangeIndex)):\n"
     ]
    },
    {
     "name": "stdout",
     "output_type": "stream",
     "text": [
      "[17:48:08] WARNING: /home/conda/feedstock_root/build_artifacts/xgboost-split_1645117766796/work/src/learner.cc:576: \n",
      "Parameters: { \"metrics\", \"nfold\", \"num_boost_round\" } might not be used.\n",
      "\n",
      "  This could be a false alarm, with some parameters getting used by language bindings but\n",
      "  then being mistakenly passed down to XGBoost core, or some parameter actually being used\n",
      "  but getting flagged wrongly here. Please open an issue if you find any such cases.\n",
      "\n",
      "\n"
     ]
    },
    {
     "name": "stderr",
     "output_type": "stream",
     "text": [
      "/usr/local/insa/anaconda/lib/python3.9/site-packages/sklearn/model_selection/_validation.py:776: UserWarning: Scoring failed. The score on this train-test partition for these parameters will be set to nan. Details: \n",
      "Traceback (most recent call last):\n",
      "  File \"/usr/local/insa/anaconda/lib/python3.9/site-packages/sklearn/model_selection/_validation.py\", line 767, in _score\n",
      "    scores = scorer(estimator, X_test, y_test)\n",
      "  File \"/usr/local/insa/anaconda/lib/python3.9/site-packages/sklearn/metrics/_scorer.py\", line 219, in __call__\n",
      "    return self._score(\n",
      "  File \"/usr/local/insa/anaconda/lib/python3.9/site-packages/sklearn/metrics/_scorer.py\", line 267, in _score\n",
      "    return self._sign * self._score_func(y_true, y_pred, **self._kwargs)\n",
      "  File \"/usr/local/insa/anaconda/lib/python3.9/site-packages/sklearn/metrics/_classification.py\", line 211, in accuracy_score\n",
      "    y_type, y_true, y_pred = _check_targets(y_true, y_pred)\n",
      "  File \"/usr/local/insa/anaconda/lib/python3.9/site-packages/sklearn/metrics/_classification.py\", line 93, in _check_targets\n",
      "    raise ValueError(\n",
      "ValueError: Classification metrics can't handle a mix of multiclass and continuous targets\n",
      "\n",
      "  warnings.warn(\n",
      "/usr/local/insa/anaconda/lib/python3.9/site-packages/xgboost/data.py:262: FutureWarning: pandas.Int64Index is deprecated and will be removed from pandas in a future version. Use pandas.Index with the appropriate dtype instead.\n",
      "  elif isinstance(data.columns, (pd.Int64Index, pd.RangeIndex)):\n"
     ]
    },
    {
     "name": "stdout",
     "output_type": "stream",
     "text": [
      "[17:48:16] WARNING: /home/conda/feedstock_root/build_artifacts/xgboost-split_1645117766796/work/src/learner.cc:576: \n",
      "Parameters: { \"metrics\", \"nfold\", \"num_boost_round\" } might not be used.\n",
      "\n",
      "  This could be a false alarm, with some parameters getting used by language bindings but\n",
      "  then being mistakenly passed down to XGBoost core, or some parameter actually being used\n",
      "  but getting flagged wrongly here. Please open an issue if you find any such cases.\n",
      "\n",
      "\n"
     ]
    },
    {
     "name": "stderr",
     "output_type": "stream",
     "text": [
      "/usr/local/insa/anaconda/lib/python3.9/site-packages/sklearn/model_selection/_validation.py:776: UserWarning: Scoring failed. The score on this train-test partition for these parameters will be set to nan. Details: \n",
      "Traceback (most recent call last):\n",
      "  File \"/usr/local/insa/anaconda/lib/python3.9/site-packages/sklearn/model_selection/_validation.py\", line 767, in _score\n",
      "    scores = scorer(estimator, X_test, y_test)\n",
      "  File \"/usr/local/insa/anaconda/lib/python3.9/site-packages/sklearn/metrics/_scorer.py\", line 219, in __call__\n",
      "    return self._score(\n",
      "  File \"/usr/local/insa/anaconda/lib/python3.9/site-packages/sklearn/metrics/_scorer.py\", line 267, in _score\n",
      "    return self._sign * self._score_func(y_true, y_pred, **self._kwargs)\n",
      "  File \"/usr/local/insa/anaconda/lib/python3.9/site-packages/sklearn/metrics/_classification.py\", line 211, in accuracy_score\n",
      "    y_type, y_true, y_pred = _check_targets(y_true, y_pred)\n",
      "  File \"/usr/local/insa/anaconda/lib/python3.9/site-packages/sklearn/metrics/_classification.py\", line 93, in _check_targets\n",
      "    raise ValueError(\n",
      "ValueError: Classification metrics can't handle a mix of multiclass and continuous targets\n",
      "\n",
      "  warnings.warn(\n",
      "/usr/local/insa/anaconda/lib/python3.9/site-packages/xgboost/data.py:262: FutureWarning: pandas.Int64Index is deprecated and will be removed from pandas in a future version. Use pandas.Index with the appropriate dtype instead.\n",
      "  elif isinstance(data.columns, (pd.Int64Index, pd.RangeIndex)):\n"
     ]
    },
    {
     "name": "stdout",
     "output_type": "stream",
     "text": [
      "[17:48:25] WARNING: /home/conda/feedstock_root/build_artifacts/xgboost-split_1645117766796/work/src/learner.cc:576: \n",
      "Parameters: { \"metrics\", \"nfold\", \"num_boost_round\" } might not be used.\n",
      "\n",
      "  This could be a false alarm, with some parameters getting used by language bindings but\n",
      "  then being mistakenly passed down to XGBoost core, or some parameter actually being used\n",
      "  but getting flagged wrongly here. Please open an issue if you find any such cases.\n",
      "\n",
      "\n"
     ]
    },
    {
     "name": "stderr",
     "output_type": "stream",
     "text": [
      "/usr/local/insa/anaconda/lib/python3.9/site-packages/sklearn/model_selection/_validation.py:776: UserWarning: Scoring failed. The score on this train-test partition for these parameters will be set to nan. Details: \n",
      "Traceback (most recent call last):\n",
      "  File \"/usr/local/insa/anaconda/lib/python3.9/site-packages/sklearn/model_selection/_validation.py\", line 767, in _score\n",
      "    scores = scorer(estimator, X_test, y_test)\n",
      "  File \"/usr/local/insa/anaconda/lib/python3.9/site-packages/sklearn/metrics/_scorer.py\", line 219, in __call__\n",
      "    return self._score(\n",
      "  File \"/usr/local/insa/anaconda/lib/python3.9/site-packages/sklearn/metrics/_scorer.py\", line 267, in _score\n",
      "    return self._sign * self._score_func(y_true, y_pred, **self._kwargs)\n",
      "  File \"/usr/local/insa/anaconda/lib/python3.9/site-packages/sklearn/metrics/_classification.py\", line 211, in accuracy_score\n",
      "    y_type, y_true, y_pred = _check_targets(y_true, y_pred)\n",
      "  File \"/usr/local/insa/anaconda/lib/python3.9/site-packages/sklearn/metrics/_classification.py\", line 93, in _check_targets\n",
      "    raise ValueError(\n",
      "ValueError: Classification metrics can't handle a mix of multiclass and continuous targets\n",
      "\n",
      "  warnings.warn(\n",
      "/usr/local/insa/anaconda/lib/python3.9/site-packages/xgboost/data.py:262: FutureWarning: pandas.Int64Index is deprecated and will be removed from pandas in a future version. Use pandas.Index with the appropriate dtype instead.\n",
      "  elif isinstance(data.columns, (pd.Int64Index, pd.RangeIndex)):\n"
     ]
    },
    {
     "name": "stdout",
     "output_type": "stream",
     "text": [
      "[17:48:33] WARNING: /home/conda/feedstock_root/build_artifacts/xgboost-split_1645117766796/work/src/learner.cc:576: \n",
      "Parameters: { \"metrics\", \"nfold\", \"num_boost_round\" } might not be used.\n",
      "\n",
      "  This could be a false alarm, with some parameters getting used by language bindings but\n",
      "  then being mistakenly passed down to XGBoost core, or some parameter actually being used\n",
      "  but getting flagged wrongly here. Please open an issue if you find any such cases.\n",
      "\n",
      "\n"
     ]
    },
    {
     "name": "stderr",
     "output_type": "stream",
     "text": [
      "/usr/local/insa/anaconda/lib/python3.9/site-packages/sklearn/model_selection/_validation.py:776: UserWarning: Scoring failed. The score on this train-test partition for these parameters will be set to nan. Details: \n",
      "Traceback (most recent call last):\n",
      "  File \"/usr/local/insa/anaconda/lib/python3.9/site-packages/sklearn/model_selection/_validation.py\", line 767, in _score\n",
      "    scores = scorer(estimator, X_test, y_test)\n",
      "  File \"/usr/local/insa/anaconda/lib/python3.9/site-packages/sklearn/metrics/_scorer.py\", line 219, in __call__\n",
      "    return self._score(\n",
      "  File \"/usr/local/insa/anaconda/lib/python3.9/site-packages/sklearn/metrics/_scorer.py\", line 267, in _score\n",
      "    return self._sign * self._score_func(y_true, y_pred, **self._kwargs)\n",
      "  File \"/usr/local/insa/anaconda/lib/python3.9/site-packages/sklearn/metrics/_classification.py\", line 211, in accuracy_score\n",
      "    y_type, y_true, y_pred = _check_targets(y_true, y_pred)\n",
      "  File \"/usr/local/insa/anaconda/lib/python3.9/site-packages/sklearn/metrics/_classification.py\", line 93, in _check_targets\n",
      "    raise ValueError(\n",
      "ValueError: Classification metrics can't handle a mix of multiclass and continuous targets\n",
      "\n",
      "  warnings.warn(\n",
      "/usr/local/insa/anaconda/lib/python3.9/site-packages/xgboost/data.py:262: FutureWarning: pandas.Int64Index is deprecated and will be removed from pandas in a future version. Use pandas.Index with the appropriate dtype instead.\n",
      "  elif isinstance(data.columns, (pd.Int64Index, pd.RangeIndex)):\n"
     ]
    },
    {
     "name": "stdout",
     "output_type": "stream",
     "text": [
      "[17:48:41] WARNING: /home/conda/feedstock_root/build_artifacts/xgboost-split_1645117766796/work/src/learner.cc:576: \n",
      "Parameters: { \"metrics\", \"nfold\", \"num_boost_round\" } might not be used.\n",
      "\n",
      "  This could be a false alarm, with some parameters getting used by language bindings but\n",
      "  then being mistakenly passed down to XGBoost core, or some parameter actually being used\n",
      "  but getting flagged wrongly here. Please open an issue if you find any such cases.\n",
      "\n",
      "\n"
     ]
    },
    {
     "name": "stderr",
     "output_type": "stream",
     "text": [
      "/usr/local/insa/anaconda/lib/python3.9/site-packages/sklearn/model_selection/_validation.py:776: UserWarning: Scoring failed. The score on this train-test partition for these parameters will be set to nan. Details: \n",
      "Traceback (most recent call last):\n",
      "  File \"/usr/local/insa/anaconda/lib/python3.9/site-packages/sklearn/model_selection/_validation.py\", line 767, in _score\n",
      "    scores = scorer(estimator, X_test, y_test)\n",
      "  File \"/usr/local/insa/anaconda/lib/python3.9/site-packages/sklearn/metrics/_scorer.py\", line 219, in __call__\n",
      "    return self._score(\n",
      "  File \"/usr/local/insa/anaconda/lib/python3.9/site-packages/sklearn/metrics/_scorer.py\", line 267, in _score\n",
      "    return self._sign * self._score_func(y_true, y_pred, **self._kwargs)\n",
      "  File \"/usr/local/insa/anaconda/lib/python3.9/site-packages/sklearn/metrics/_classification.py\", line 211, in accuracy_score\n",
      "    y_type, y_true, y_pred = _check_targets(y_true, y_pred)\n",
      "  File \"/usr/local/insa/anaconda/lib/python3.9/site-packages/sklearn/metrics/_classification.py\", line 93, in _check_targets\n",
      "    raise ValueError(\n",
      "ValueError: Classification metrics can't handle a mix of multiclass and continuous targets\n",
      "\n",
      "  warnings.warn(\n",
      "/usr/local/insa/anaconda/lib/python3.9/site-packages/xgboost/data.py:262: FutureWarning: pandas.Int64Index is deprecated and will be removed from pandas in a future version. Use pandas.Index with the appropriate dtype instead.\n",
      "  elif isinstance(data.columns, (pd.Int64Index, pd.RangeIndex)):\n"
     ]
    },
    {
     "name": "stdout",
     "output_type": "stream",
     "text": [
      "[17:48:49] WARNING: /home/conda/feedstock_root/build_artifacts/xgboost-split_1645117766796/work/src/learner.cc:576: \n",
      "Parameters: { \"metrics\", \"nfold\", \"num_boost_round\" } might not be used.\n",
      "\n",
      "  This could be a false alarm, with some parameters getting used by language bindings but\n",
      "  then being mistakenly passed down to XGBoost core, or some parameter actually being used\n",
      "  but getting flagged wrongly here. Please open an issue if you find any such cases.\n",
      "\n",
      "\n"
     ]
    },
    {
     "name": "stderr",
     "output_type": "stream",
     "text": [
      "/usr/local/insa/anaconda/lib/python3.9/site-packages/sklearn/model_selection/_validation.py:776: UserWarning: Scoring failed. The score on this train-test partition for these parameters will be set to nan. Details: \n",
      "Traceback (most recent call last):\n",
      "  File \"/usr/local/insa/anaconda/lib/python3.9/site-packages/sklearn/model_selection/_validation.py\", line 767, in _score\n",
      "    scores = scorer(estimator, X_test, y_test)\n",
      "  File \"/usr/local/insa/anaconda/lib/python3.9/site-packages/sklearn/metrics/_scorer.py\", line 219, in __call__\n",
      "    return self._score(\n",
      "  File \"/usr/local/insa/anaconda/lib/python3.9/site-packages/sklearn/metrics/_scorer.py\", line 267, in _score\n",
      "    return self._sign * self._score_func(y_true, y_pred, **self._kwargs)\n",
      "  File \"/usr/local/insa/anaconda/lib/python3.9/site-packages/sklearn/metrics/_classification.py\", line 211, in accuracy_score\n",
      "    y_type, y_true, y_pred = _check_targets(y_true, y_pred)\n",
      "  File \"/usr/local/insa/anaconda/lib/python3.9/site-packages/sklearn/metrics/_classification.py\", line 93, in _check_targets\n",
      "    raise ValueError(\n",
      "ValueError: Classification metrics can't handle a mix of multiclass and continuous targets\n",
      "\n",
      "  warnings.warn(\n",
      "/usr/local/insa/anaconda/lib/python3.9/site-packages/xgboost/data.py:262: FutureWarning: pandas.Int64Index is deprecated and will be removed from pandas in a future version. Use pandas.Index with the appropriate dtype instead.\n",
      "  elif isinstance(data.columns, (pd.Int64Index, pd.RangeIndex)):\n"
     ]
    },
    {
     "name": "stdout",
     "output_type": "stream",
     "text": [
      "[17:48:59] WARNING: /home/conda/feedstock_root/build_artifacts/xgboost-split_1645117766796/work/src/learner.cc:576: \n",
      "Parameters: { \"metrics\", \"nfold\", \"num_boost_round\" } might not be used.\n",
      "\n",
      "  This could be a false alarm, with some parameters getting used by language bindings but\n",
      "  then being mistakenly passed down to XGBoost core, or some parameter actually being used\n",
      "  but getting flagged wrongly here. Please open an issue if you find any such cases.\n",
      "\n",
      "\n"
     ]
    },
    {
     "name": "stderr",
     "output_type": "stream",
     "text": [
      "/usr/local/insa/anaconda/lib/python3.9/site-packages/sklearn/model_selection/_validation.py:776: UserWarning: Scoring failed. The score on this train-test partition for these parameters will be set to nan. Details: \n",
      "Traceback (most recent call last):\n",
      "  File \"/usr/local/insa/anaconda/lib/python3.9/site-packages/sklearn/model_selection/_validation.py\", line 767, in _score\n",
      "    scores = scorer(estimator, X_test, y_test)\n",
      "  File \"/usr/local/insa/anaconda/lib/python3.9/site-packages/sklearn/metrics/_scorer.py\", line 219, in __call__\n",
      "    return self._score(\n",
      "  File \"/usr/local/insa/anaconda/lib/python3.9/site-packages/sklearn/metrics/_scorer.py\", line 267, in _score\n",
      "    return self._sign * self._score_func(y_true, y_pred, **self._kwargs)\n",
      "  File \"/usr/local/insa/anaconda/lib/python3.9/site-packages/sklearn/metrics/_classification.py\", line 211, in accuracy_score\n",
      "    y_type, y_true, y_pred = _check_targets(y_true, y_pred)\n",
      "  File \"/usr/local/insa/anaconda/lib/python3.9/site-packages/sklearn/metrics/_classification.py\", line 93, in _check_targets\n",
      "    raise ValueError(\n",
      "ValueError: Classification metrics can't handle a mix of multiclass and continuous targets\n",
      "\n",
      "  warnings.warn(\n",
      "/usr/local/insa/anaconda/lib/python3.9/site-packages/xgboost/data.py:262: FutureWarning: pandas.Int64Index is deprecated and will be removed from pandas in a future version. Use pandas.Index with the appropriate dtype instead.\n",
      "  elif isinstance(data.columns, (pd.Int64Index, pd.RangeIndex)):\n"
     ]
    },
    {
     "name": "stdout",
     "output_type": "stream",
     "text": [
      "[17:49:08] WARNING: /home/conda/feedstock_root/build_artifacts/xgboost-split_1645117766796/work/src/learner.cc:576: \n",
      "Parameters: { \"metrics\", \"nfold\", \"num_boost_round\" } might not be used.\n",
      "\n",
      "  This could be a false alarm, with some parameters getting used by language bindings but\n",
      "  then being mistakenly passed down to XGBoost core, or some parameter actually being used\n",
      "  but getting flagged wrongly here. Please open an issue if you find any such cases.\n",
      "\n",
      "\n"
     ]
    },
    {
     "name": "stderr",
     "output_type": "stream",
     "text": [
      "/usr/local/insa/anaconda/lib/python3.9/site-packages/sklearn/model_selection/_validation.py:776: UserWarning: Scoring failed. The score on this train-test partition for these parameters will be set to nan. Details: \n",
      "Traceback (most recent call last):\n",
      "  File \"/usr/local/insa/anaconda/lib/python3.9/site-packages/sklearn/model_selection/_validation.py\", line 767, in _score\n",
      "    scores = scorer(estimator, X_test, y_test)\n",
      "  File \"/usr/local/insa/anaconda/lib/python3.9/site-packages/sklearn/metrics/_scorer.py\", line 219, in __call__\n",
      "    return self._score(\n",
      "  File \"/usr/local/insa/anaconda/lib/python3.9/site-packages/sklearn/metrics/_scorer.py\", line 267, in _score\n",
      "    return self._sign * self._score_func(y_true, y_pred, **self._kwargs)\n",
      "  File \"/usr/local/insa/anaconda/lib/python3.9/site-packages/sklearn/metrics/_classification.py\", line 211, in accuracy_score\n",
      "    y_type, y_true, y_pred = _check_targets(y_true, y_pred)\n",
      "  File \"/usr/local/insa/anaconda/lib/python3.9/site-packages/sklearn/metrics/_classification.py\", line 93, in _check_targets\n",
      "    raise ValueError(\n",
      "ValueError: Classification metrics can't handle a mix of multiclass and continuous targets\n",
      "\n",
      "  warnings.warn(\n",
      "/usr/local/insa/anaconda/lib/python3.9/site-packages/xgboost/data.py:262: FutureWarning: pandas.Int64Index is deprecated and will be removed from pandas in a future version. Use pandas.Index with the appropriate dtype instead.\n",
      "  elif isinstance(data.columns, (pd.Int64Index, pd.RangeIndex)):\n"
     ]
    },
    {
     "name": "stdout",
     "output_type": "stream",
     "text": [
      "[17:49:17] WARNING: /home/conda/feedstock_root/build_artifacts/xgboost-split_1645117766796/work/src/learner.cc:576: \n",
      "Parameters: { \"metrics\", \"nfold\", \"num_boost_round\" } might not be used.\n",
      "\n",
      "  This could be a false alarm, with some parameters getting used by language bindings but\n",
      "  then being mistakenly passed down to XGBoost core, or some parameter actually being used\n",
      "  but getting flagged wrongly here. Please open an issue if you find any such cases.\n",
      "\n",
      "\n"
     ]
    },
    {
     "name": "stderr",
     "output_type": "stream",
     "text": [
      "/usr/local/insa/anaconda/lib/python3.9/site-packages/sklearn/model_selection/_validation.py:776: UserWarning: Scoring failed. The score on this train-test partition for these parameters will be set to nan. Details: \n",
      "Traceback (most recent call last):\n",
      "  File \"/usr/local/insa/anaconda/lib/python3.9/site-packages/sklearn/model_selection/_validation.py\", line 767, in _score\n",
      "    scores = scorer(estimator, X_test, y_test)\n",
      "  File \"/usr/local/insa/anaconda/lib/python3.9/site-packages/sklearn/metrics/_scorer.py\", line 219, in __call__\n",
      "    return self._score(\n",
      "  File \"/usr/local/insa/anaconda/lib/python3.9/site-packages/sklearn/metrics/_scorer.py\", line 267, in _score\n",
      "    return self._sign * self._score_func(y_true, y_pred, **self._kwargs)\n",
      "  File \"/usr/local/insa/anaconda/lib/python3.9/site-packages/sklearn/metrics/_classification.py\", line 211, in accuracy_score\n",
      "    y_type, y_true, y_pred = _check_targets(y_true, y_pred)\n",
      "  File \"/usr/local/insa/anaconda/lib/python3.9/site-packages/sklearn/metrics/_classification.py\", line 93, in _check_targets\n",
      "    raise ValueError(\n",
      "ValueError: Classification metrics can't handle a mix of multiclass and continuous targets\n",
      "\n",
      "  warnings.warn(\n",
      "/usr/local/insa/anaconda/lib/python3.9/site-packages/xgboost/data.py:262: FutureWarning: pandas.Int64Index is deprecated and will be removed from pandas in a future version. Use pandas.Index with the appropriate dtype instead.\n",
      "  elif isinstance(data.columns, (pd.Int64Index, pd.RangeIndex)):\n"
     ]
    },
    {
     "name": "stdout",
     "output_type": "stream",
     "text": [
      "[17:49:26] WARNING: /home/conda/feedstock_root/build_artifacts/xgboost-split_1645117766796/work/src/learner.cc:576: \n",
      "Parameters: { \"metrics\", \"nfold\", \"num_boost_round\" } might not be used.\n",
      "\n",
      "  This could be a false alarm, with some parameters getting used by language bindings but\n",
      "  then being mistakenly passed down to XGBoost core, or some parameter actually being used\n",
      "  but getting flagged wrongly here. Please open an issue if you find any such cases.\n",
      "\n",
      "\n"
     ]
    },
    {
     "name": "stderr",
     "output_type": "stream",
     "text": [
      "/usr/local/insa/anaconda/lib/python3.9/site-packages/sklearn/model_selection/_validation.py:776: UserWarning: Scoring failed. The score on this train-test partition for these parameters will be set to nan. Details: \n",
      "Traceback (most recent call last):\n",
      "  File \"/usr/local/insa/anaconda/lib/python3.9/site-packages/sklearn/model_selection/_validation.py\", line 767, in _score\n",
      "    scores = scorer(estimator, X_test, y_test)\n",
      "  File \"/usr/local/insa/anaconda/lib/python3.9/site-packages/sklearn/metrics/_scorer.py\", line 219, in __call__\n",
      "    return self._score(\n",
      "  File \"/usr/local/insa/anaconda/lib/python3.9/site-packages/sklearn/metrics/_scorer.py\", line 267, in _score\n",
      "    return self._sign * self._score_func(y_true, y_pred, **self._kwargs)\n",
      "  File \"/usr/local/insa/anaconda/lib/python3.9/site-packages/sklearn/metrics/_classification.py\", line 211, in accuracy_score\n",
      "    y_type, y_true, y_pred = _check_targets(y_true, y_pred)\n",
      "  File \"/usr/local/insa/anaconda/lib/python3.9/site-packages/sklearn/metrics/_classification.py\", line 93, in _check_targets\n",
      "    raise ValueError(\n",
      "ValueError: Classification metrics can't handle a mix of multiclass and continuous targets\n",
      "\n",
      "  warnings.warn(\n",
      "/usr/local/insa/anaconda/lib/python3.9/site-packages/xgboost/data.py:262: FutureWarning: pandas.Int64Index is deprecated and will be removed from pandas in a future version. Use pandas.Index with the appropriate dtype instead.\n",
      "  elif isinstance(data.columns, (pd.Int64Index, pd.RangeIndex)):\n"
     ]
    },
    {
     "name": "stdout",
     "output_type": "stream",
     "text": [
      "[17:49:35] WARNING: /home/conda/feedstock_root/build_artifacts/xgboost-split_1645117766796/work/src/learner.cc:576: \n",
      "Parameters: { \"metrics\", \"nfold\", \"num_boost_round\" } might not be used.\n",
      "\n",
      "  This could be a false alarm, with some parameters getting used by language bindings but\n",
      "  then being mistakenly passed down to XGBoost core, or some parameter actually being used\n",
      "  but getting flagged wrongly here. Please open an issue if you find any such cases.\n",
      "\n",
      "\n"
     ]
    },
    {
     "name": "stderr",
     "output_type": "stream",
     "text": [
      "/usr/local/insa/anaconda/lib/python3.9/site-packages/sklearn/model_selection/_validation.py:776: UserWarning: Scoring failed. The score on this train-test partition for these parameters will be set to nan. Details: \n",
      "Traceback (most recent call last):\n",
      "  File \"/usr/local/insa/anaconda/lib/python3.9/site-packages/sklearn/model_selection/_validation.py\", line 767, in _score\n",
      "    scores = scorer(estimator, X_test, y_test)\n",
      "  File \"/usr/local/insa/anaconda/lib/python3.9/site-packages/sklearn/metrics/_scorer.py\", line 219, in __call__\n",
      "    return self._score(\n",
      "  File \"/usr/local/insa/anaconda/lib/python3.9/site-packages/sklearn/metrics/_scorer.py\", line 267, in _score\n",
      "    return self._sign * self._score_func(y_true, y_pred, **self._kwargs)\n",
      "  File \"/usr/local/insa/anaconda/lib/python3.9/site-packages/sklearn/metrics/_classification.py\", line 211, in accuracy_score\n",
      "    y_type, y_true, y_pred = _check_targets(y_true, y_pred)\n",
      "  File \"/usr/local/insa/anaconda/lib/python3.9/site-packages/sklearn/metrics/_classification.py\", line 93, in _check_targets\n",
      "    raise ValueError(\n",
      "ValueError: Classification metrics can't handle a mix of multiclass and continuous targets\n",
      "\n",
      "  warnings.warn(\n",
      "/usr/local/insa/anaconda/lib/python3.9/site-packages/sklearn/model_selection/_search.py:953: UserWarning: One or more of the test scores are non-finite: [nan nan nan nan nan]\n",
      "  warnings.warn(\n",
      "/usr/local/insa/anaconda/lib/python3.9/site-packages/xgboost/data.py:262: FutureWarning: pandas.Int64Index is deprecated and will be removed from pandas in a future version. Use pandas.Index with the appropriate dtype instead.\n",
      "  elif isinstance(data.columns, (pd.Int64Index, pd.RangeIndex)):\n"
     ]
    },
    {
     "name": "stdout",
     "output_type": "stream",
     "text": [
      "[17:49:45] WARNING: /home/conda/feedstock_root/build_artifacts/xgboost-split_1645117766796/work/src/learner.cc:576: \n",
      "Parameters: { \"metrics\", \"nfold\", \"num_boost_round\" } might not be used.\n",
      "\n",
      "  This could be a false alarm, with some parameters getting used by language bindings but\n",
      "  then being mistakenly passed down to XGBoost core, or some parameter actually being used\n",
      "  but getting flagged wrongly here. Please open an issue if you find any such cases.\n",
      "\n",
      "\n",
      "{'subsample': 0.23, 'objective': 'reg:squarederror', 'max_depth': 4, 'gamma': 2.5, 'eta': 0.08, 'colsample_bytree': 0.223}\n"
     ]
    }
   ],
   "source": [
    "import xgboost as xgb\n",
    "from sklearn.model_selection import RandomizedSearchCV\n",
    "\n",
    "X, y = X_train, Y_train\n",
    "dmatrix = xgb.DMatrix(X, label=y)\n",
    "\n",
    "param_grid = {\n",
    "    'max_depth': [4],\n",
    "    'gamma' : [2.5],\n",
    "    'subsample': [.23],\n",
    "    'eta': np.linspace(.01,.115,10), # learning rate\n",
    "    'colsample_bytree':np.linspace(.001,1,10),\n",
    "    'objective': ['reg:squarederror'],\n",
    "}\n",
    "\n",
    "cv_params = {'num_boost_round': 15, 'nfold': 6, 'metrics': 'rmse', 'seed': 0}\n",
    "\n",
    "xgb_model = xgb.XGBModel(**cv_params)\n",
    "\n",
    "random_search = RandomizedSearchCV(xgb_model,\n",
    "                                   param_grid,\n",
    "                                   n_iter=5,\n",
    "                                   cv=6,\n",
    "                                   scoring='accuracy',\n",
    "                                   random_state=0,\n",
    "                                   verbose=True)\n",
    "\n",
    "random_search.fit(X, y)\n",
    "\n",
    "print(random_search.best_params_)"
   ]
  },
  {
   "cell_type": "code",
   "execution_count": 50,
   "id": "ce67d498",
   "metadata": {
    "ExecuteTime": {
     "end_time": "2023-01-06T16:51:51.864477Z",
     "start_time": "2023-01-06T16:51:51.847116Z"
    }
   },
   "outputs": [
    {
     "name": "stdout",
     "output_type": "stream",
     "text": [
      "[111.76069 134.29666  66.89325 ... 138.23439 167.6618  138.23439]\n"
     ]
    },
    {
     "name": "stderr",
     "output_type": "stream",
     "text": [
      "/usr/local/insa/anaconda/lib/python3.9/site-packages/xgboost/data.py:262: FutureWarning: pandas.Int64Index is deprecated and will be removed from pandas in a future version. Use pandas.Index with the appropriate dtype instead.\n",
      "  elif isinstance(data.columns, (pd.Int64Index, pd.RangeIndex)):\n"
     ]
    }
   ],
   "source": [
    "# Charger les données de test\n",
    "X_test, y_test = X_test, Y_test\n",
    "\n",
    "# Faire une prédiction avec le modèle XGBoost entraîné\n",
    "predictions = random_search.predict(X_test)\n",
    "\n",
    "# Afficher les prédictions\n",
    "print(predictions)"
   ]
  },
  {
   "cell_type": "code",
   "execution_count": 51,
   "id": "66f01ca8",
   "metadata": {
    "ExecuteTime": {
     "end_time": "2023-01-06T16:51:55.210227Z",
     "start_time": "2023-01-06T16:51:55.203064Z"
    }
   },
   "outputs": [
    {
     "data": {
      "text/plain": [
       "array([111.76069, 134.29666,  66.89325, ..., 138.23439, 167.6618 ,\n",
       "       138.23439], dtype=float32)"
      ]
     },
     "execution_count": 51,
     "metadata": {},
     "output_type": "execute_result"
    }
   ],
   "source": [
    "predictions"
   ]
  },
  {
   "cell_type": "markdown",
   "id": "0e4d09a7",
   "metadata": {
    "heading_collapsed": true
   },
   "source": [
    "# Optuna"
   ]
  },
  {
   "cell_type": "code",
   "execution_count": null,
   "id": "6f00fe06",
   "metadata": {
    "ExecuteTime": {
     "end_time": "2022-12-22T14:43:15.195780Z",
     "start_time": "2022-12-22T14:38:11.353234Z"
    },
    "hidden": true,
    "scrolled": true
   },
   "outputs": [],
   "source": [
    "import optuna\n",
    "import xgboost as xgb\n",
    "    \n",
    "def objective(trial):\n",
    "    # Charger les données\n",
    "    X, y = X_train, Y_train\n",
    "\n",
    "    # Convertir les données en format DMatrix pour XGBoost\n",
    "    dmatrix = xgb.DMatrix(X, label=y)\n",
    "\n",
    "    # Définir les paramètres du modèle\n",
    "    param = {\n",
    "        'max_depth': trial.suggest_int('max_depth', 2, 8),\n",
    "        'eta': trial.suggest_uniform('eta', 0.01, 0.4),\n",
    "        'subsample': trial.suggest_uniform('subsample', 0.1, 1.0),\n",
    "        'colsample_bytree': trial.suggest_uniform('colsample_bytree', 0.5, 1.0),\n",
    "        'objective': 'reg:squarederror',\n",
    "    }\n",
    "\n",
    "    # Définir les paramètres de la validation croisée\n",
    "    cv_params = {'num_boost_round': 10, 'nfold': 5, 'metrics': 'rmse', 'seed': 7}\n",
    "\n",
    "    # Entraîner le modèle en utilisant la validation croisée\n",
    "    cv_results = xgb.cv(param, dmatrix, **cv_params)\n",
    "\n",
    "    print(cv_results['test-rmse-mean'])\n",
    "\n",
    "    # Récupérer la métrique de performance\n",
    "    mean_error = cv_results['test-rmse-mean'].min()\n",
    "    \n",
    "    # Inverser la métrique pour l'optimiser\n",
    "    return 1.0 - mean_error\n",
    "\n",
    "# Définir l'étude Optuna\n",
    "study = optuna.create_study()\n",
    "\n",
    "# Rechercher les meilleurs paramètres en utilisant Optuna\n",
    "study.optimize(objective, n_trials=10)\n",
    "\n",
    "# Afficher les meilleurs paramètres\n",
    "print(study.best_params)"
   ]
  },
  {
   "cell_type": "code",
   "execution_count": null,
   "id": "12f8fd59",
   "metadata": {
    "ExecuteTime": {
     "end_time": "2022-12-22T15:00:29.113071Z",
     "start_time": "2022-12-22T15:00:29.095130Z"
    },
    "hidden": true
   },
   "outputs": [],
   "source": [
    "y_pred = pd.read_csv('a.csv')"
   ]
  },
  {
   "cell_type": "code",
   "execution_count": null,
   "id": "0f18a522",
   "metadata": {
    "ExecuteTime": {
     "end_time": "2022-12-22T15:00:44.719905Z",
     "start_time": "2022-12-22T15:00:44.704250Z"
    },
    "hidden": true
   },
   "outputs": [],
   "source": [
    "predictions = y_pred+28"
   ]
  },
  {
   "cell_type": "code",
   "execution_count": null,
   "id": "9dddfe01",
   "metadata": {
    "ExecuteTime": {
     "end_time": "2022-12-22T15:00:32.341730Z",
     "start_time": "2022-12-22T15:00:32.250973Z"
    },
    "hidden": true
   },
   "outputs": [],
   "source": [
    "# Convertir les données en format DMatrix pour XGBoost\n",
    "dmatrix_test = xgb.DMatrix(X_test, label = y_pred.price)\n",
    "xgb_model = xgb.train(study.best_params, dmatrix_test)\n",
    "y_pred = xgb_model.predict(dmatrix_test)"
   ]
  },
  {
   "cell_type": "code",
   "execution_count": null,
   "id": "be6a97ab",
   "metadata": {
    "hidden": true
   },
   "outputs": [],
   "source": [
    "import optuna\n",
    "\n",
    "# Définir l'étude Optuna\n",
    "study = optuna.create_study()\n",
    "\n",
    "# Rechercher les meilleurs paramètres en utilisant Optuna\n",
    "study.optimize(objective, n_trials=10)\n",
    "\n",
    "# Enregistrer l'étude dans un fichier\n",
    "study.trials_dataframe().to_pickle('example.pkl')"
   ]
  },
  {
   "cell_type": "code",
   "execution_count": null,
   "id": "294736d5",
   "metadata": {
    "hidden": true
   },
   "outputs": [],
   "source": [
    "import optuna\n",
    "\n",
    "# Charger l'étude à partir d'un fichier\n",
    "study = optuna.load_study(study_name='my_study', storage='sqlite:///example.db')\n",
    "\n",
    "# Continuer la recherche de paramètres en utilisant Optuna\n",
    "study.optimize(objective, n_trials=10)\n",
    "\n",
    "# Afficher les meilleurs paramètres\n",
    "print(study.best_params)"
   ]
  },
  {
   "cell_type": "code",
   "execution_count": null,
   "id": "827263a3",
   "metadata": {
    "ExecuteTime": {
     "end_time": "2022-12-22T14:37:23.660328Z",
     "start_time": "2022-12-22T14:37:22.892218Z"
    },
    "hidden": true
   },
   "outputs": [],
   "source": [
    " X, y = X_train, Y_train\n",
    "\n",
    "# Convertir les données en format DMatrix pour XGBoost\n",
    "dmatrix = xgb.DMatrix(X, label=y)\n",
    "\n",
    "# Définir les paramètres du modèle\n",
    "param = {}\n",
    "\n",
    "# Définir les paramètres de la validation croisée\n",
    "cv_params = {'num_boost_round': 10, 'nfold': 5, 'metrics': 'rmse', 'seed': 7}\n",
    "\n",
    "# Entraîner le modèle en utilisant la validation croisée\n",
    "cv_results = xgb.cv(param, dmatrix, **cv_params)\n",
    "\n",
    "\n",
    "xgb.cv(param, dmatrix, **cv_params)"
   ]
  },
  {
   "cell_type": "markdown",
   "id": "4db7204c",
   "metadata": {},
   "source": [
    "# Submit"
   ]
  },
  {
   "cell_type": "code",
   "execution_count": 47,
   "id": "963c81ba",
   "metadata": {
    "ExecuteTime": {
     "end_time": "2023-01-06T16:50:50.967499Z",
     "start_time": "2023-01-06T16:50:50.963403Z"
    }
   },
   "outputs": [],
   "source": [
    "predictions = y_pred"
   ]
  },
  {
   "cell_type": "code",
   "execution_count": 52,
   "id": "d28abce0",
   "metadata": {
    "ExecuteTime": {
     "end_time": "2023-01-06T16:52:14.986697Z",
     "start_time": "2023-01-06T16:52:14.949127Z"
    }
   },
   "outputs": [],
   "source": [
    "# save\n",
    "_round = False # tester aussi des arrondis au dessus ou en dessous\n",
    "\n",
    "name = 'grid_search'\n",
    "\n",
    "if _round : y_pred = np.round(predictions)\n",
    "else : y_pred = predictions.copy()\n",
    "\n",
    "sub = pd.DataFrame(y_pred)\n",
    "sub.to_csv(path + 'submit/' + name + '.csv',index=True, header=['price'], index_label = 'index')"
   ]
  },
  {
   "cell_type": "code",
   "execution_count": null,
   "id": "00b90535",
   "metadata": {},
   "outputs": [],
   "source": []
  },
  {
   "cell_type": "code",
   "execution_count": null,
   "id": "05d72547",
   "metadata": {},
   "outputs": [],
   "source": [
    "# en dessous on fait la moyenne de plusieurs fichiers d'un dossier "
   ]
  },
  {
   "cell_type": "code",
   "execution_count": null,
   "id": "0a01ff8c",
   "metadata": {
    "ExecuteTime": {
     "end_time": "2022-12-22T15:12:48.493355Z",
     "start_time": "2022-12-22T15:12:48.333091Z"
    }
   },
   "outputs": [],
   "source": [
    "import pandas as pd\n",
    "import os\n",
    "\n",
    "def create_dataframe(directory_path):\n",
    "    # Initialiser le dataframe\n",
    "    df = pd.DataFrame()\n",
    "\n",
    "    # Pour chaque fichier dans le dossier\n",
    "    for file_name in os.listdir(directory_path):\n",
    "        # Charger les données du fichier\n",
    "        file_data = pd.read_csv(os.path.join(directory_path, file_name))\n",
    "\n",
    "        # Ajouter une colonne\n",
    "        df[file_name] = file_data.price\n",
    "    return df\n",
    "\n",
    "# Utiliser la fonction\n",
    "df = create_dataframe('../data/best_sub/')"
   ]
  },
  {
   "cell_type": "code",
   "execution_count": null,
   "id": "cadcbd12",
   "metadata": {
    "ExecuteTime": {
     "end_time": "2022-12-22T15:12:50.487605Z",
     "start_time": "2022-12-22T15:12:50.416758Z"
    }
   },
   "outputs": [],
   "source": [
    "df"
   ]
  },
  {
   "cell_type": "code",
   "execution_count": null,
   "id": "3f17750e",
   "metadata": {
    "ExecuteTime": {
     "end_time": "2022-12-22T15:13:40.149089Z",
     "start_time": "2022-12-22T15:13:40.137122Z"
    }
   },
   "outputs": [],
   "source": [
    "# Calculer la moyenne de chaque ligne\n",
    "mean_by_row = df.mean(axis=1)"
   ]
  },
  {
   "cell_type": "code",
   "execution_count": null,
   "id": "0d25c268",
   "metadata": {
    "ExecuteTime": {
     "end_time": "2022-12-22T15:14:20.116497Z",
     "start_time": "2022-12-22T15:14:20.097230Z"
    }
   },
   "outputs": [],
   "source": [
    "predictions = mean_by_row"
   ]
  },
  {
   "cell_type": "code",
   "execution_count": null,
   "id": "5eaa91da",
   "metadata": {
    "ExecuteTime": {
     "end_time": "2022-12-23T10:01:08.153752Z",
     "start_time": "2022-12-23T10:00:25.066512Z"
    }
   },
   "outputs": [],
   "source": [
    "X_train.to_csv('train.csv',index=True)"
   ]
  },
  {
   "cell_type": "code",
   "execution_count": null,
   "id": "f98d4c1f",
   "metadata": {
    "ExecuteTime": {
     "end_time": "2022-12-23T10:01:14.787827Z",
     "start_time": "2022-12-23T10:01:14.383136Z"
    }
   },
   "outputs": [],
   "source": [
    "X_test.to_csv('test.csv',index=True)"
   ]
  },
  {
   "cell_type": "code",
   "execution_count": null,
   "id": "f132883c",
   "metadata": {},
   "outputs": [],
   "source": []
  }
 ],
 "metadata": {
  "kernelspec": {
   "display_name": "Python 3 (ipykernel)",
   "language": "python",
   "name": "python3"
  },
  "language_info": {
   "codemirror_mode": {
    "name": "ipython",
    "version": 3
   },
   "file_extension": ".py",
   "mimetype": "text/x-python",
   "name": "python",
   "nbconvert_exporter": "python",
   "pygments_lexer": "ipython3",
   "version": "3.9.12"
  },
  "toc": {
   "base_numbering": 1,
   "nav_menu": {},
   "number_sections": true,
   "sideBar": true,
   "skip_h1_title": false,
   "title_cell": "Table of Contents",
   "title_sidebar": "Contents",
   "toc_cell": false,
   "toc_position": {},
   "toc_section_display": true,
   "toc_window_display": false
  },
  "varInspector": {
   "cols": {
    "lenName": 16,
    "lenType": 16,
    "lenVar": 40
   },
   "kernels_config": {
    "python": {
     "delete_cmd_postfix": "",
     "delete_cmd_prefix": "del ",
     "library": "var_list.py",
     "varRefreshCmd": "print(var_dic_list())"
    },
    "r": {
     "delete_cmd_postfix": ") ",
     "delete_cmd_prefix": "rm(",
     "library": "var_list.r",
     "varRefreshCmd": "cat(var_dic_list()) "
    }
   },
   "types_to_exclude": [
    "module",
    "function",
    "builtin_function_or_method",
    "instance",
    "_Feature"
   ],
   "window_display": false
  }
 },
 "nbformat": 4,
 "nbformat_minor": 5
}
