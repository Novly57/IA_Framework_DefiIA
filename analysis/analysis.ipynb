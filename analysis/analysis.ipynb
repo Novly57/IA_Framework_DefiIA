{
 "cells": [
  {
   "cell_type": "code",
   "execution_count": 1,
   "id": "58553bdf",
   "metadata": {
    "ExecuteTime": {
     "end_time": "2022-11-17T13:27:08.491161Z",
     "start_time": "2022-11-17T13:27:08.472871Z"
    }
   },
   "outputs": [
    {
     "data": {
      "text/html": [
       "<style>.container { width:80% !important; }</style>"
      ],
      "text/plain": [
       "<IPython.core.display.HTML object>"
      ]
     },
     "metadata": {},
     "output_type": "display_data"
    }
   ],
   "source": [
    "from IPython.display import display, HTML\n",
    "display(HTML(\"<style>.container { width:80% !important; }</style>\"))"
   ]
  },
  {
   "cell_type": "code",
   "execution_count": 2,
   "id": "1f88d0c9",
   "metadata": {
    "ExecuteTime": {
     "end_time": "2022-11-17T13:27:11.238888Z",
     "start_time": "2022-11-17T13:27:09.272888Z"
    }
   },
   "outputs": [],
   "source": [
    "import pandas as pd\n",
    "import numpy as np\n",
    "import seaborn as sns\n",
    "%matplotlib inline\n",
    "import matplotlib.pyplot as plt\n",
    "from math import sqrt, log\n",
    "sns.set_style(\"darkgrid\")\n",
    "from tqdm.notebook import tqdm, trange\n",
    "\n",
    "from sklearn.ensemble import RandomForestRegressor \n",
    "from sklearn.metrics import mean_squared_error\n",
    "from sklearn.metrics import r2_score\n",
    "from sklearn.ensemble import GradientBoostingRegressor\n",
    "from sklearn.model_selection import GridSearchCV\n",
    "from sklearn.model_selection import train_test_split  \n",
    "from pandas.plotting import scatter_matrix\n",
    "from sklearn.preprocessing import StandardScaler  "
   ]
  },
  {
   "cell_type": "code",
   "execution_count": 3,
   "id": "5041d5d2",
   "metadata": {
    "ExecuteTime": {
     "end_time": "2022-11-17T13:27:11.757062Z",
     "start_time": "2022-11-17T13:27:11.752152Z"
    }
   },
   "outputs": [],
   "source": [
    "prints = False"
   ]
  },
  {
   "cell_type": "markdown",
   "id": "5bf0dd63",
   "metadata": {},
   "source": [
    "# Import des données"
   ]
  },
  {
   "cell_type": "code",
   "execution_count": 4,
   "id": "0eb82943",
   "metadata": {
    "ExecuteTime": {
     "end_time": "2022-11-17T13:27:12.972885Z",
     "start_time": "2022-11-17T13:27:12.615715Z"
    }
   },
   "outputs": [],
   "source": [
    "path = '../data/' \n",
    "hotels = pd.read_csv(path + '/features_hotels.csv')\n",
    "data = pd.read_csv(path + 'data.csv')\n",
    "data_test = pd.read_csv(path + 'test_set.csv')"
   ]
  },
  {
   "cell_type": "code",
   "execution_count": 5,
   "id": "f8326ea6",
   "metadata": {
    "ExecuteTime": {
     "end_time": "2022-11-17T13:27:13.954274Z",
     "start_time": "2022-11-17T13:27:13.384672Z"
    }
   },
   "outputs": [],
   "source": [
    "# création de la colonne request_number dans le test set\n",
    "data_test['request_number'] = 1\n",
    "for avatar in np.unique(data_test['avatar_id']):\n",
    "    data_test.loc[data_test['avatar_id'] == avatar, 'request_number'] = data_test['order_requests'].loc[data_test['avatar_id']== avatar] - min(data_test['order_requests'].loc[data_test['avatar_id']== avatar])+1"
   ]
  },
  {
   "cell_type": "code",
   "execution_count": 6,
   "id": "9058466f",
   "metadata": {
    "ExecuteTime": {
     "end_time": "2022-11-17T13:27:14.189038Z",
     "start_time": "2022-11-17T13:27:14.169085Z"
    }
   },
   "outputs": [
    {
     "data": {
      "text/html": [
       "<div>\n",
       "<style scoped>\n",
       "    .dataframe tbody tr th:only-of-type {\n",
       "        vertical-align: middle;\n",
       "    }\n",
       "\n",
       "    .dataframe tbody tr th {\n",
       "        vertical-align: top;\n",
       "    }\n",
       "\n",
       "    .dataframe thead th {\n",
       "        text-align: right;\n",
       "    }\n",
       "</style>\n",
       "<table border=\"1\" class=\"dataframe\">\n",
       "  <thead>\n",
       "    <tr style=\"text-align: right;\">\n",
       "      <th></th>\n",
       "      <th>index</th>\n",
       "      <th>order_requests</th>\n",
       "      <th>city</th>\n",
       "      <th>date</th>\n",
       "      <th>language</th>\n",
       "      <th>mobile</th>\n",
       "      <th>avatar_id</th>\n",
       "      <th>hotel_id</th>\n",
       "      <th>stock</th>\n",
       "      <th>request_number</th>\n",
       "    </tr>\n",
       "  </thead>\n",
       "  <tbody>\n",
       "    <tr>\n",
       "      <th>0</th>\n",
       "      <td>0</td>\n",
       "      <td>1</td>\n",
       "      <td>vilnius</td>\n",
       "      <td>21</td>\n",
       "      <td>romanian</td>\n",
       "      <td>0</td>\n",
       "      <td>1</td>\n",
       "      <td>161</td>\n",
       "      <td>46</td>\n",
       "      <td>1</td>\n",
       "    </tr>\n",
       "    <tr>\n",
       "      <th>1</th>\n",
       "      <td>1</td>\n",
       "      <td>1</td>\n",
       "      <td>vilnius</td>\n",
       "      <td>21</td>\n",
       "      <td>romanian</td>\n",
       "      <td>0</td>\n",
       "      <td>1</td>\n",
       "      <td>187</td>\n",
       "      <td>32</td>\n",
       "      <td>1</td>\n",
       "    </tr>\n",
       "    <tr>\n",
       "      <th>2</th>\n",
       "      <td>2</td>\n",
       "      <td>1</td>\n",
       "      <td>vilnius</td>\n",
       "      <td>21</td>\n",
       "      <td>romanian</td>\n",
       "      <td>0</td>\n",
       "      <td>1</td>\n",
       "      <td>279</td>\n",
       "      <td>12</td>\n",
       "      <td>1</td>\n",
       "    </tr>\n",
       "    <tr>\n",
       "      <th>3</th>\n",
       "      <td>3</td>\n",
       "      <td>1</td>\n",
       "      <td>vilnius</td>\n",
       "      <td>21</td>\n",
       "      <td>romanian</td>\n",
       "      <td>0</td>\n",
       "      <td>1</td>\n",
       "      <td>395</td>\n",
       "      <td>10</td>\n",
       "      <td>1</td>\n",
       "    </tr>\n",
       "    <tr>\n",
       "      <th>4</th>\n",
       "      <td>4</td>\n",
       "      <td>1</td>\n",
       "      <td>vilnius</td>\n",
       "      <td>21</td>\n",
       "      <td>romanian</td>\n",
       "      <td>0</td>\n",
       "      <td>1</td>\n",
       "      <td>488</td>\n",
       "      <td>42</td>\n",
       "      <td>1</td>\n",
       "    </tr>\n",
       "    <tr>\n",
       "      <th>...</th>\n",
       "      <td>...</td>\n",
       "      <td>...</td>\n",
       "      <td>...</td>\n",
       "      <td>...</td>\n",
       "      <td>...</td>\n",
       "      <td>...</td>\n",
       "      <td>...</td>\n",
       "      <td>...</td>\n",
       "      <td>...</td>\n",
       "      <td>...</td>\n",
       "    </tr>\n",
       "    <tr>\n",
       "      <th>6639</th>\n",
       "      <td>6639</td>\n",
       "      <td>843</td>\n",
       "      <td>rome</td>\n",
       "      <td>5</td>\n",
       "      <td>irish</td>\n",
       "      <td>0</td>\n",
       "      <td>794</td>\n",
       "      <td>987</td>\n",
       "      <td>1</td>\n",
       "      <td>3</td>\n",
       "    </tr>\n",
       "    <tr>\n",
       "      <th>6640</th>\n",
       "      <td>6640</td>\n",
       "      <td>844</td>\n",
       "      <td>vienna</td>\n",
       "      <td>1</td>\n",
       "      <td>irish</td>\n",
       "      <td>1</td>\n",
       "      <td>794</td>\n",
       "      <td>26</td>\n",
       "      <td>1</td>\n",
       "      <td>4</td>\n",
       "    </tr>\n",
       "    <tr>\n",
       "      <th>6641</th>\n",
       "      <td>6641</td>\n",
       "      <td>844</td>\n",
       "      <td>vienna</td>\n",
       "      <td>1</td>\n",
       "      <td>irish</td>\n",
       "      <td>1</td>\n",
       "      <td>794</td>\n",
       "      <td>263</td>\n",
       "      <td>0</td>\n",
       "      <td>4</td>\n",
       "    </tr>\n",
       "    <tr>\n",
       "      <th>6642</th>\n",
       "      <td>6642</td>\n",
       "      <td>844</td>\n",
       "      <td>vienna</td>\n",
       "      <td>1</td>\n",
       "      <td>irish</td>\n",
       "      <td>1</td>\n",
       "      <td>794</td>\n",
       "      <td>456</td>\n",
       "      <td>0</td>\n",
       "      <td>4</td>\n",
       "    </tr>\n",
       "    <tr>\n",
       "      <th>6643</th>\n",
       "      <td>6643</td>\n",
       "      <td>844</td>\n",
       "      <td>vienna</td>\n",
       "      <td>1</td>\n",
       "      <td>irish</td>\n",
       "      <td>1</td>\n",
       "      <td>794</td>\n",
       "      <td>699</td>\n",
       "      <td>0</td>\n",
       "      <td>4</td>\n",
       "    </tr>\n",
       "  </tbody>\n",
       "</table>\n",
       "<p>6644 rows × 10 columns</p>\n",
       "</div>"
      ],
      "text/plain": [
       "      index  order_requests     city  date  language  mobile  avatar_id  \\\n",
       "0         0               1  vilnius    21  romanian       0          1   \n",
       "1         1               1  vilnius    21  romanian       0          1   \n",
       "2         2               1  vilnius    21  romanian       0          1   \n",
       "3         3               1  vilnius    21  romanian       0          1   \n",
       "4         4               1  vilnius    21  romanian       0          1   \n",
       "...     ...             ...      ...   ...       ...     ...        ...   \n",
       "6639   6639             843     rome     5     irish       0        794   \n",
       "6640   6640             844   vienna     1     irish       1        794   \n",
       "6641   6641             844   vienna     1     irish       1        794   \n",
       "6642   6642             844   vienna     1     irish       1        794   \n",
       "6643   6643             844   vienna     1     irish       1        794   \n",
       "\n",
       "      hotel_id  stock  request_number  \n",
       "0          161     46               1  \n",
       "1          187     32               1  \n",
       "2          279     12               1  \n",
       "3          395     10               1  \n",
       "4          488     42               1  \n",
       "...        ...    ...             ...  \n",
       "6639       987      1               3  \n",
       "6640        26      1               4  \n",
       "6641       263      0               4  \n",
       "6642       456      0               4  \n",
       "6643       699      0               4  \n",
       "\n",
       "[6644 rows x 10 columns]"
      ]
     },
     "execution_count": 6,
     "metadata": {},
     "output_type": "execute_result"
    }
   ],
   "source": [
    "data_test"
   ]
  },
  {
   "cell_type": "code",
   "execution_count": 7,
   "id": "4cf534a6",
   "metadata": {
    "ExecuteTime": {
     "end_time": "2022-11-17T13:27:14.556227Z",
     "start_time": "2022-11-17T13:27:14.364333Z"
    }
   },
   "outputs": [],
   "source": [
    "# ajout des caractéristiques des hotels\n",
    "data = data.merge(hotels, on=['hotel_id','city'])\n",
    "data_test = data_test.merge(hotels, on=['hotel_id','city'])\n",
    "data_test = data_test.sort_values('index')    "
   ]
  },
  {
   "cell_type": "code",
   "execution_count": 8,
   "id": "e966cb6f",
   "metadata": {
    "ExecuteTime": {
     "end_time": "2022-11-17T13:27:15.202975Z",
     "start_time": "2022-11-17T13:27:15.047729Z"
    }
   },
   "outputs": [],
   "source": [
    "# suppression de la requête de l'avatar_id 134 qui pose problème\n",
    "# print(data.loc[data.avatar_id == 134])\n",
    "data = data.drop(index = data.loc[data.avatar_id == 134].index)"
   ]
  },
  {
   "cell_type": "markdown",
   "id": "ead2e1fb",
   "metadata": {},
   "source": [
    "# Approche naïve\n",
    "\n",
    "Ici on génère des prix en utilisant les requêtes les plus proches."
   ]
  },
  {
   "cell_type": "code",
   "execution_count": 9,
   "id": "5a02fc32",
   "metadata": {
    "ExecuteTime": {
     "end_time": "2022-11-17T13:27:15.854195Z",
     "start_time": "2022-11-17T13:27:15.849576Z"
    }
   },
   "outputs": [],
   "source": [
    "# y_pred = []\n",
    "\n",
    "# for i in tqdm(data_test.index) :\n",
    "#     _, order, city, date, lang, mob, avatar, hotel, stock, req, group, brand, park, pool, child = data_test.iloc[i].values\n",
    "#     data_tmp = data.loc[data.hotel_id == hotel]\n",
    "#     delta_date = data_tmp.date.values - date\n",
    "    \n",
    "#     y_pred.append(data_tmp.iloc[np.argmin(delta_date)].price)"
   ]
  },
  {
   "cell_type": "markdown",
   "id": "1c03a97a",
   "metadata": {},
   "source": [
    "# Mise en forme des données"
   ]
  },
  {
   "cell_type": "code",
   "execution_count": 10,
   "id": "ba99085c",
   "metadata": {
    "ExecuteTime": {
     "end_time": "2022-11-17T13:27:16.322447Z",
     "start_time": "2022-11-17T13:27:16.315382Z"
    }
   },
   "outputs": [],
   "source": [
    "colQT = ['request_number', 'stock', 'date']\n",
    "colBool = ['mobile', 'pool', 'parking']\n",
    "colQL = ['city', 'language', 'group', 'brand', 'children_policy']"
   ]
  },
  {
   "cell_type": "code",
   "execution_count": 11,
   "id": "4f6f4d68",
   "metadata": {
    "ExecuteTime": {
     "end_time": "2022-11-17T13:27:17.202251Z",
     "start_time": "2022-11-17T13:27:16.968568Z"
    }
   },
   "outputs": [],
   "source": [
    "for col in ['city', 'language', 'avatar_id', 'hotel_id', 'group', 'brand','children_policy','mobile','parking','pool'] :\n",
    "    data[col] = pd.Categorical(data[col],ordered=False)\n",
    "    data_test[col] = pd.Categorical(data_test[col],ordered=False)"
   ]
  },
  {
   "cell_type": "markdown",
   "id": "fd7c7575",
   "metadata": {},
   "source": [
    "## Transformation des variables QL en QT"
   ]
  },
  {
   "cell_type": "code",
   "execution_count": 12,
   "id": "b6cd6cd2",
   "metadata": {
    "ExecuteTime": {
     "end_time": "2022-11-17T13:27:18.000367Z",
     "start_time": "2022-11-17T13:27:17.992411Z"
    }
   },
   "outputs": [],
   "source": [
    "def additive_smoothing(x,alpha= 1.96):\n",
    "    \"\"\" alpha = 1.96 borne à 95% pour la loi normale  \"\"\"\n",
    "    moy = (x+alpha).mean()\n",
    "    d = x.max()-x.min()\n",
    "    N = x.count()\n",
    "    return N*moy/(N+alpha*d)\n",
    "\n",
    "additive_smoothing.__name__ = 'additive_smoothing'"
   ]
  },
  {
   "cell_type": "code",
   "execution_count": 13,
   "id": "4ae956ca",
   "metadata": {
    "ExecuteTime": {
     "end_time": "2022-11-17T13:27:20.142965Z",
     "start_time": "2022-11-17T13:27:20.137546Z"
    }
   },
   "outputs": [],
   "source": [
    "hotelId = False\n",
    "if hotelId:\n",
    "    colQL = ['hotel_id']\n",
    "    colBool = ['mobile']"
   ]
  },
  {
   "cell_type": "code",
   "execution_count": 14,
   "id": "4da1c0f3",
   "metadata": {
    "ExecuteTime": {
     "end_time": "2022-11-17T13:27:22.513780Z",
     "start_time": "2022-11-17T13:27:22.056891Z"
    }
   },
   "outputs": [],
   "source": [
    "for i in colQL :\n",
    "    df_tmp = data[[i,'price']].groupby(i).agg({'price':['mean','var',additive_smoothing]}).price\n",
    "    df_tmp = df_tmp.add_suffix('_'+i)\n",
    "    colQT+= list(df_tmp.columns.unique())\n",
    "    data = data.join(df_tmp, on = i)\n",
    "    data_test = data_test.join(df_tmp, on = i)\n",
    "\n",
    "\n",
    "colQL = []"
   ]
  },
  {
   "cell_type": "code",
   "execution_count": 15,
   "id": "b548bcdd",
   "metadata": {
    "ExecuteTime": {
     "end_time": "2022-11-17T13:27:23.313903Z",
     "start_time": "2022-11-17T13:27:23.308994Z"
    }
   },
   "outputs": [],
   "source": [
    "colQT += ['price']"
   ]
  },
  {
   "cell_type": "markdown",
   "id": "ce410a61",
   "metadata": {},
   "source": [
    "# Analyse de stock"
   ]
  },
  {
   "cell_type": "code",
   "execution_count": 16,
   "id": "eff313cd",
   "metadata": {
    "ExecuteTime": {
     "end_time": "2022-11-17T13:27:25.891551Z",
     "start_time": "2022-11-17T13:27:25.528189Z"
    }
   },
   "outputs": [
    {
     "data": {
      "image/png": "[encoded data removed]",
      "text/plain": [
       "<Figure size 640x480 with 1 Axes>"
      ]
     },
     "metadata": {},
     "output_type": "display_data"
    }
   ],
   "source": [
    "df_stock = data[['hotel_id','date','stock']].groupby(['hotel_id','date']).mean().reset_index()\n",
    "test = df_stock.loc[df_stock.hotel_id == 500]\n",
    "\n",
    "sns.scatterplot(data = test, x = 'date', y = 'stock')\n",
    "plt.show()"
   ]
  },
  {
   "cell_type": "markdown",
   "id": "f3b17ee8",
   "metadata": {
    "ExecuteTime": {
     "end_time": "2022-11-16T13:32:10.491549Z",
     "start_time": "2022-11-16T13:32:10.466471Z"
    }
   },
   "source": [
    "# Exploration"
   ]
  },
  {
   "cell_type": "code",
   "execution_count": 17,
   "id": "1b05a7b4",
   "metadata": {
    "ExecuteTime": {
     "end_time": "2022-11-17T13:27:27.265042Z",
     "start_time": "2022-11-17T13:27:27.258820Z"
    }
   },
   "outputs": [],
   "source": [
    "if prints :\n",
    "    plt.figure()\n",
    "    sns.histplot(data['price'])\n",
    "    plt.show()"
   ]
  },
  {
   "cell_type": "markdown",
   "id": "7dbbd1a8",
   "metadata": {},
   "source": [
    "## Unidimensionnelle"
   ]
  },
  {
   "cell_type": "markdown",
   "id": "13f0ce6b",
   "metadata": {},
   "source": [
    "### QL"
   ]
  },
  {
   "cell_type": "code",
   "execution_count": 18,
   "id": "0ada761e",
   "metadata": {
    "ExecuteTime": {
     "end_time": "2022-11-17T13:27:29.488277Z",
     "start_time": "2022-11-17T13:27:29.479870Z"
    },
    "scrolled": true
   },
   "outputs": [],
   "source": [
    "if prints :\n",
    "    for col in colQL:\n",
    "        fig, axes = plt.subplots(1, 2, figsize=(20, 3))\n",
    "        sns.histplot(ax = axes[0], x = data[col])\n",
    "        sns.histplot(ax = axes[1], x = data_test[col])\n",
    "        axes[0].tick_params(labelrotation=45)\n",
    "        axes[1].tick_params(labelrotation=45)\n",
    "        axes[0].set_title('train set')\n",
    "        axes[1].set_title('test set')\n",
    "        plt.show()"
   ]
  },
  {
   "cell_type": "markdown",
   "id": "347cf2f6",
   "metadata": {},
   "source": [
    "### QT"
   ]
  },
  {
   "cell_type": "code",
   "execution_count": 19,
   "id": "9f746d05",
   "metadata": {
    "ExecuteTime": {
     "end_time": "2022-11-17T13:27:31.028110Z",
     "start_time": "2022-11-17T13:27:31.016467Z"
    },
    "scrolled": true
   },
   "outputs": [],
   "source": [
    "if prints :\n",
    "    for col in colQT[:-1]:\n",
    "        fig, axes = plt.subplots(1, 2, figsize=(20, 3))\n",
    "        sns.histplot(ax = axes[0], x = data[col])\n",
    "        sns.histplot(ax = axes[1], x = data_test[col])\n",
    "        axes[0].tick_params(labelrotation=45)\n",
    "        axes[1].tick_params(labelrotation=45)\n",
    "        axes[0].set_title('train set')\n",
    "        axes[1].set_title('test set')\n",
    "        plt.show()"
   ]
  },
  {
   "cell_type": "markdown",
   "id": "6c2efa08",
   "metadata": {},
   "source": [
    "## Bidimensionnelle"
   ]
  },
  {
   "cell_type": "code",
   "execution_count": 20,
   "id": "82b190c0",
   "metadata": {
    "ExecuteTime": {
     "end_time": "2022-11-17T13:27:32.076228Z",
     "start_time": "2022-11-17T13:27:32.070578Z"
    }
   },
   "outputs": [],
   "source": [
    "if prints :\n",
    "    scatter_matrix(data[colQT], alpha=0.2, figsize=(10, 10), diagonal='kde')\n",
    "    plt.tight_layout()\n",
    "    plt.show()"
   ]
  },
  {
   "cell_type": "code",
   "execution_count": 21,
   "id": "db5183f8",
   "metadata": {
    "ExecuteTime": {
     "end_time": "2022-11-17T13:27:32.844600Z",
     "start_time": "2022-11-17T13:27:32.841656Z"
    }
   },
   "outputs": [],
   "source": [
    "if prints :\n",
    "    scatter_matrix(data_test[colQT[:-1]], alpha=0.2, figsize=(10, 10), diagonal='kde')\n",
    "    plt.tight_layout()\n",
    "    plt.show()"
   ]
  },
  {
   "cell_type": "markdown",
   "id": "add0c0cf",
   "metadata": {},
   "source": [
    "# Transformations"
   ]
  },
  {
   "cell_type": "code",
   "execution_count": 22,
   "id": "c047664b",
   "metadata": {
    "ExecuteTime": {
     "end_time": "2022-11-17T13:27:33.850208Z",
     "start_time": "2022-11-17T13:27:33.845873Z"
    }
   },
   "outputs": [],
   "source": [
    "transfo = False"
   ]
  },
  {
   "cell_type": "code",
   "execution_count": 23,
   "id": "13eeb31b",
   "metadata": {
    "ExecuteTime": {
     "end_time": "2022-11-17T13:27:34.715397Z",
     "start_time": "2022-11-17T13:27:34.709883Z"
    }
   },
   "outputs": [],
   "source": [
    "if prints :\n",
    "    plt.figure()\n",
    "    sns.histplot(data['price'].map(lambda x: x**(1/3)))\n",
    "    plt.show()"
   ]
  },
  {
   "cell_type": "code",
   "execution_count": 24,
   "id": "fe1bc4f7",
   "metadata": {
    "ExecuteTime": {
     "end_time": "2022-11-17T13:27:35.479007Z",
     "start_time": "2022-11-17T13:27:35.475686Z"
    }
   },
   "outputs": [],
   "source": [
    "if transfo :\n",
    "    data['SRprice'] = data['price'].map(lambda x: x**(1/3))\n",
    "    colQT[-1] = 'SRprice'"
   ]
  },
  {
   "cell_type": "markdown",
   "id": "636b29c4",
   "metadata": {},
   "source": [
    "# Préparation des datasets "
   ]
  },
  {
   "cell_type": "code",
   "execution_count": 25,
   "id": "c4cd10ec",
   "metadata": {
    "ExecuteTime": {
     "end_time": "2022-11-17T13:27:40.412588Z",
     "start_time": "2022-11-17T13:27:40.407910Z"
    }
   },
   "outputs": [],
   "source": [
    "dummies = False"
   ]
  },
  {
   "cell_type": "code",
   "execution_count": 26,
   "id": "8d30ba9e",
   "metadata": {
    "ExecuteTime": {
     "end_time": "2022-11-17T13:27:41.224642Z",
     "start_time": "2022-11-17T13:27:41.219494Z"
    }
   },
   "outputs": [],
   "source": [
    "if dummies :\n",
    "    dataDum = pd.get_dummies(data[colQL])\n",
    "    dataDum_test = pd.get_dummies(data_test[colQL])\n",
    "    if dataDum.shape[1] != dataDum_test.shape[1]:\n",
    "        print('nombre de colonnes différent')\n",
    "else:\n",
    "    dataDum = None\n",
    "    dataDum_test = None"
   ]
  },
  {
   "cell_type": "code",
   "execution_count": 27,
   "id": "721e4ce8",
   "metadata": {
    "ExecuteTime": {
     "end_time": "2022-11-17T13:27:42.109505Z",
     "start_time": "2022-11-17T13:27:42.070205Z"
    }
   },
   "outputs": [],
   "source": [
    "dataQT = data[colQT[:-1]]\n",
    "dataQT_test = data_test[colQT[:-1]]"
   ]
  },
  {
   "cell_type": "code",
   "execution_count": 28,
   "id": "bc85f9c0",
   "metadata": {
    "ExecuteTime": {
     "end_time": "2022-11-17T13:27:43.075201Z",
     "start_time": "2022-11-17T13:27:43.064533Z"
    }
   },
   "outputs": [],
   "source": [
    "dataBool = data[colBool]\n",
    "dataBool_test = data_test[colBool]"
   ]
  },
  {
   "cell_type": "code",
   "execution_count": 29,
   "id": "b76d2a6d",
   "metadata": {
    "ExecuteTime": {
     "end_time": "2022-11-17T13:27:43.994155Z",
     "start_time": "2022-11-17T13:27:43.948295Z"
    }
   },
   "outputs": [
    {
     "data": {
      "text/html": [
       "<div>\n",
       "<style scoped>\n",
       "    .dataframe tbody tr th:only-of-type {\n",
       "        vertical-align: middle;\n",
       "    }\n",
       "\n",
       "    .dataframe tbody tr th {\n",
       "        vertical-align: top;\n",
       "    }\n",
       "\n",
       "    .dataframe thead th {\n",
       "        text-align: right;\n",
       "    }\n",
       "</style>\n",
       "<table border=\"1\" class=\"dataframe\">\n",
       "  <thead>\n",
       "    <tr style=\"text-align: right;\">\n",
       "      <th></th>\n",
       "      <th>request_number</th>\n",
       "      <th>stock</th>\n",
       "      <th>date</th>\n",
       "      <th>mean_city</th>\n",
       "      <th>var_city</th>\n",
       "      <th>additive_smoothing_city</th>\n",
       "      <th>mean_language</th>\n",
       "      <th>var_language</th>\n",
       "      <th>additive_smoothing_language</th>\n",
       "      <th>mean_group</th>\n",
       "      <th>...</th>\n",
       "      <th>additive_smoothing_group</th>\n",
       "      <th>mean_brand</th>\n",
       "      <th>var_brand</th>\n",
       "      <th>additive_smoothing_brand</th>\n",
       "      <th>mean_children_policy</th>\n",
       "      <th>var_children_policy</th>\n",
       "      <th>additive_smoothing_children_policy</th>\n",
       "      <th>mobile</th>\n",
       "      <th>pool</th>\n",
       "      <th>parking</th>\n",
       "    </tr>\n",
       "  </thead>\n",
       "  <tbody>\n",
       "    <tr>\n",
       "      <th>1</th>\n",
       "      <td>1</td>\n",
       "      <td>49</td>\n",
       "      <td>32</td>\n",
       "      <td>149.037867</td>\n",
       "      <td>4297.655923</td>\n",
       "      <td>143.572342</td>\n",
       "      <td>163.048393</td>\n",
       "      <td>7736.373496</td>\n",
       "      <td>159.330436</td>\n",
       "      <td>139.689729</td>\n",
       "      <td>...</td>\n",
       "      <td>141.120474</td>\n",
       "      <td>128.490623</td>\n",
       "      <td>871.587405</td>\n",
       "      <td>129.568157</td>\n",
       "      <td>163.727362</td>\n",
       "      <td>7470.946181</td>\n",
       "      <td>165.39358</td>\n",
       "      <td>1</td>\n",
       "      <td>0</td>\n",
       "      <td>1</td>\n",
       "    </tr>\n",
       "    <tr>\n",
       "      <th>2</th>\n",
       "      <td>1</td>\n",
       "      <td>49</td>\n",
       "      <td>32</td>\n",
       "      <td>149.037867</td>\n",
       "      <td>4297.655923</td>\n",
       "      <td>143.572342</td>\n",
       "      <td>159.659293</td>\n",
       "      <td>7029.581497</td>\n",
       "      <td>159.340991</td>\n",
       "      <td>139.689729</td>\n",
       "      <td>...</td>\n",
       "      <td>141.120474</td>\n",
       "      <td>128.490623</td>\n",
       "      <td>871.587405</td>\n",
       "      <td>129.568157</td>\n",
       "      <td>163.727362</td>\n",
       "      <td>7470.946181</td>\n",
       "      <td>165.39358</td>\n",
       "      <td>0</td>\n",
       "      <td>0</td>\n",
       "      <td>1</td>\n",
       "    </tr>\n",
       "    <tr>\n",
       "      <th>3</th>\n",
       "      <td>1</td>\n",
       "      <td>0</td>\n",
       "      <td>5</td>\n",
       "      <td>149.037867</td>\n",
       "      <td>4297.655923</td>\n",
       "      <td>143.572342</td>\n",
       "      <td>166.795040</td>\n",
       "      <td>7254.519574</td>\n",
       "      <td>163.852530</td>\n",
       "      <td>139.689729</td>\n",
       "      <td>...</td>\n",
       "      <td>141.120474</td>\n",
       "      <td>128.490623</td>\n",
       "      <td>871.587405</td>\n",
       "      <td>129.568157</td>\n",
       "      <td>163.727362</td>\n",
       "      <td>7470.946181</td>\n",
       "      <td>165.39358</td>\n",
       "      <td>1</td>\n",
       "      <td>0</td>\n",
       "      <td>1</td>\n",
       "    </tr>\n",
       "    <tr>\n",
       "      <th>4</th>\n",
       "      <td>1</td>\n",
       "      <td>64</td>\n",
       "      <td>36</td>\n",
       "      <td>149.037867</td>\n",
       "      <td>4297.655923</td>\n",
       "      <td>143.572342</td>\n",
       "      <td>166.795040</td>\n",
       "      <td>7254.519574</td>\n",
       "      <td>163.852530</td>\n",
       "      <td>139.689729</td>\n",
       "      <td>...</td>\n",
       "      <td>141.120474</td>\n",
       "      <td>128.490623</td>\n",
       "      <td>871.587405</td>\n",
       "      <td>129.568157</td>\n",
       "      <td>163.727362</td>\n",
       "      <td>7470.946181</td>\n",
       "      <td>165.39358</td>\n",
       "      <td>1</td>\n",
       "      <td>0</td>\n",
       "      <td>1</td>\n",
       "    </tr>\n",
       "    <tr>\n",
       "      <th>5</th>\n",
       "      <td>1</td>\n",
       "      <td>53</td>\n",
       "      <td>33</td>\n",
       "      <td>149.037867</td>\n",
       "      <td>4297.655923</td>\n",
       "      <td>143.572342</td>\n",
       "      <td>164.477429</td>\n",
       "      <td>7345.704258</td>\n",
       "      <td>156.393579</td>\n",
       "      <td>139.689729</td>\n",
       "      <td>...</td>\n",
       "      <td>141.120474</td>\n",
       "      <td>128.490623</td>\n",
       "      <td>871.587405</td>\n",
       "      <td>129.568157</td>\n",
       "      <td>163.727362</td>\n",
       "      <td>7470.946181</td>\n",
       "      <td>165.39358</td>\n",
       "      <td>0</td>\n",
       "      <td>0</td>\n",
       "      <td>1</td>\n",
       "    </tr>\n",
       "  </tbody>\n",
       "</table>\n",
       "<p>5 rows × 21 columns</p>\n",
       "</div>"
      ],
      "text/plain": [
       "   request_number  stock  date   mean_city     var_city  \\\n",
       "1               1     49    32  149.037867  4297.655923   \n",
       "2               1     49    32  149.037867  4297.655923   \n",
       "3               1      0     5  149.037867  4297.655923   \n",
       "4               1     64    36  149.037867  4297.655923   \n",
       "5               1     53    33  149.037867  4297.655923   \n",
       "\n",
       "   additive_smoothing_city  mean_language  var_language  \\\n",
       "1               143.572342     163.048393   7736.373496   \n",
       "2               143.572342     159.659293   7029.581497   \n",
       "3               143.572342     166.795040   7254.519574   \n",
       "4               143.572342     166.795040   7254.519574   \n",
       "5               143.572342     164.477429   7345.704258   \n",
       "\n",
       "   additive_smoothing_language  mean_group  ...  additive_smoothing_group  \\\n",
       "1                   159.330436  139.689729  ...                141.120474   \n",
       "2                   159.340991  139.689729  ...                141.120474   \n",
       "3                   163.852530  139.689729  ...                141.120474   \n",
       "4                   163.852530  139.689729  ...                141.120474   \n",
       "5                   156.393579  139.689729  ...                141.120474   \n",
       "\n",
       "   mean_brand   var_brand  additive_smoothing_brand  mean_children_policy  \\\n",
       "1  128.490623  871.587405                129.568157            163.727362   \n",
       "2  128.490623  871.587405                129.568157            163.727362   \n",
       "3  128.490623  871.587405                129.568157            163.727362   \n",
       "4  128.490623  871.587405                129.568157            163.727362   \n",
       "5  128.490623  871.587405                129.568157            163.727362   \n",
       "\n",
       "   var_children_policy  additive_smoothing_children_policy  mobile pool  \\\n",
       "1          7470.946181                           165.39358       1    0   \n",
       "2          7470.946181                           165.39358       0    0   \n",
       "3          7470.946181                           165.39358       1    0   \n",
       "4          7470.946181                           165.39358       1    0   \n",
       "5          7470.946181                           165.39358       0    0   \n",
       "\n",
       "  parking  \n",
       "1       1  \n",
       "2       1  \n",
       "3       1  \n",
       "4       1  \n",
       "5       1  \n",
       "\n",
       "[5 rows x 21 columns]"
      ]
     },
     "execution_count": 29,
     "metadata": {},
     "output_type": "execute_result"
    }
   ],
   "source": [
    "df = pd.concat([dataDum,dataQT, dataBool],axis=1)\n",
    "df_test = pd.concat([dataDum_test,dataQT_test, dataBool_test],axis=1)\n",
    "df.head()"
   ]
  },
  {
   "cell_type": "code",
   "execution_count": 30,
   "id": "7c0178b8",
   "metadata": {
    "ExecuteTime": {
     "end_time": "2022-11-17T13:27:47.262172Z",
     "start_time": "2022-11-17T13:27:47.257151Z"
    }
   },
   "outputs": [],
   "source": [
    "# variable à expliquer\n",
    "y = data[colQT[-1]]"
   ]
  },
  {
   "cell_type": "markdown",
   "id": "8edfbd9b",
   "metadata": {
    "ExecuteTime": {
     "end_time": "2022-11-16T14:07:03.805368Z",
     "start_time": "2022-11-16T14:07:03.800645Z"
    }
   },
   "source": [
    "# Séparation des données"
   ]
  },
  {
   "cell_type": "code",
   "execution_count": 31,
   "id": "dffcaa5c",
   "metadata": {
    "ExecuteTime": {
     "end_time": "2022-11-17T13:27:50.477922Z",
     "start_time": "2022-11-17T13:27:50.473241Z"
    }
   },
   "outputs": [],
   "source": [
    "submit = True"
   ]
  },
  {
   "cell_type": "code",
   "execution_count": 32,
   "id": "2cbeb6cd",
   "metadata": {
    "ExecuteTime": {
     "end_time": "2022-11-17T13:27:52.048566Z",
     "start_time": "2022-11-17T13:27:52.045688Z"
    }
   },
   "outputs": [],
   "source": [
    "# séparation pour les tests et tunner les modèles\n",
    "if submit :\n",
    "    X_train = df\n",
    "    X_test = df_test\n",
    "    Y_train = y\n",
    "    Y_test = None\n",
    "else :\n",
    "    X_train, X_test, Y_train, Y_test = train_test_split(df,y,test_size=.1,random_state=11) #25% pour le test_size"
   ]
  },
  {
   "cell_type": "markdown",
   "id": "21ea6ee6",
   "metadata": {},
   "source": [
    "# Standardisation des données"
   ]
  },
  {
   "cell_type": "code",
   "execution_count": 33,
   "id": "fe680c18",
   "metadata": {
    "ExecuteTime": {
     "end_time": "2022-11-17T13:27:54.195794Z",
     "start_time": "2022-11-17T13:27:54.193294Z"
    }
   },
   "outputs": [],
   "source": [
    "stand = False"
   ]
  },
  {
   "cell_type": "code",
   "execution_count": 34,
   "id": "793bd770",
   "metadata": {
    "ExecuteTime": {
     "end_time": "2022-11-17T13:27:56.734686Z",
     "start_time": "2022-11-17T13:27:56.728288Z"
    }
   },
   "outputs": [],
   "source": [
    "if stand :\n",
    "    # standardisation des données\n",
    "    scaler = StandardScaler()  \n",
    "    scaler.fit(X_train)\n",
    "    X_train_nonScale, X_test_nonScale = X_train.copy(), X_test.copy()\n",
    "    X_train = scaler.transform(X_train)  \n",
    "    # Meme transformation sur le test\n",
    "    X_test = scaler.transform(X_test)"
   ]
  },
  {
   "cell_type": "markdown",
   "id": "1665eead",
   "metadata": {},
   "source": [
    "# Boosting"
   ]
  },
  {
   "cell_type": "code",
   "execution_count": null,
   "id": "7e5593f9",
   "metadata": {
    "ExecuteTime": {
     "start_time": "2022-11-17T13:28:16.008Z"
    }
   },
   "outputs": [],
   "source": [
    "# définition des paramètres\n",
    "# boost = GradientBoostingRegressor()\n",
    "\n",
    "GBR = GradientBoostingRegressor()\n",
    "\n",
    "parameters = {'learning_rate': [0.01,0.02,0.03,0.04],\n",
    "                  'subsample'    : [0.9, 0.5, 0.2, 0.1],\n",
    "                  'n_estimators' : [100,500,1000, 1500],\n",
    "                  'max_depth'    : [4,6,8,10]}\n",
    "\n",
    "grid_GBR = GridSearchCV(estimator=GBR, param_grid = parameters, cv = 2, n_jobs=-1)\n",
    "\n",
    "grid_GBR.fit(X_train, Y_train)\n",
    "\n",
    "print(\" Results from Grid Search \" )\n",
    "print(\"\\n The best estimator across ALL searched params:\\n\",grid_GBR.best_estimator_)\n",
    "print(\"\\n The best score across ALL searched params:\\n\",grid_GBR.best_score_)\n",
    "print(\"\\n The best parameters across ALL searched params:\\n\",grid_GBR.best_params_)"
   ]
  },
  {
   "cell_type": "code",
   "execution_count": null,
   "id": "8be0d2c4",
   "metadata": {
    "ExecuteTime": {
     "end_time": "2022-11-17T13:25:08.446056Z",
     "start_time": "2022-11-17T13:23:28.297614Z"
    }
   },
   "outputs": [],
   "source": [
    "# apprentissage\n",
    "rfFit = GBR.fit(X_train,Y_train)"
   ]
  },
  {
   "cell_type": "code",
   "execution_count": null,
   "id": "84be2466",
   "metadata": {
    "ExecuteTime": {
     "end_time": "2022-11-17T13:25:32.887181Z",
     "start_time": "2022-11-17T13:25:32.871951Z"
    }
   },
   "outputs": [],
   "source": [
    "feature_importances = zip(X_train.columns,GBR.feature_importances_)\n",
    "x = dict(feature_importances)\n",
    "{k: v for k, v in sorted(x.items(), key=lambda item: -item[1])}"
   ]
  },
  {
   "cell_type": "code",
   "execution_count": null,
   "id": "d1a93d46",
   "metadata": {
    "ExecuteTime": {
     "end_time": "2022-11-17T13:25:39.104457Z",
     "start_time": "2022-11-17T13:25:39.096362Z"
    }
   },
   "outputs": [],
   "source": [
    "if not submit:\n",
    "# erreur de prédiction sur le test\n",
    "    1-rfFit.score(X_test,Y_test)"
   ]
  },
  {
   "cell_type": "code",
   "execution_count": null,
   "id": "bd354104",
   "metadata": {
    "ExecuteTime": {
     "end_time": "2022-11-17T13:25:40.738401Z",
     "start_time": "2022-11-17T13:25:40.712696Z"
    }
   },
   "outputs": [],
   "source": [
    "# prédiction\n",
    "y_pred = rfFit.predict(X_test)\n",
    "if not submit:\n",
    "    print(\"RMSE =\",np.sqrt(mean_squared_error(y_pred,Y_test)))\n",
    "    print(\"R2 =\",r2_score(Y_test,y_pred))"
   ]
  },
  {
   "cell_type": "markdown",
   "id": "67856cb7",
   "metadata": {},
   "source": [
    "# Random Forest"
   ]
  },
  {
   "cell_type": "code",
   "execution_count": null,
   "id": "1e3994f0",
   "metadata": {
    "ExecuteTime": {
     "end_time": "2022-11-16T15:37:11.976182Z",
     "start_time": "2022-11-16T15:20:54.685532Z"
    }
   },
   "outputs": [],
   "source": [
    "# définition des paramètres\n",
    "forest = RandomForestRegressor(n_estimators=500,\n",
    "                               max_depth=None,\n",
    "                               min_samples_split=2, min_samples_leaf=1, \n",
    "                               max_features=1.0, max_leaf_nodes=None,\n",
    "                               bootstrap=True, oob_score=True)\n",
    "# apprentissage\n",
    "rfFit = forest.fit(X_train,Y_train)\n",
    "print(1-rfFit.oob_score_)"
   ]
  },
  {
   "cell_type": "code",
   "execution_count": null,
   "id": "ae99695a",
   "metadata": {
    "ExecuteTime": {
     "end_time": "2022-11-16T15:48:52.218144Z",
     "start_time": "2022-11-16T15:37:14.496728Z"
    }
   },
   "outputs": [],
   "source": [
    "param=[{\"max_features\":list(range(2,10,1))}]\n",
    "rf= GridSearchCV(RandomForestRegressor(n_estimators=100),param,cv=5,n_jobs=-1)\n",
    "rfOpt=rf.fit(X_train, Y_train)\n",
    "# paramètre optimal\n",
    "print(\"Meilleur score = %f, Meilleur paramètre = %s\" % (1. - rfOpt.best_score_,rfOpt.best_params_))"
   ]
  },
  {
   "cell_type": "code",
   "execution_count": null,
   "id": "2eeb0135",
   "metadata": {
    "ExecuteTime": {
     "end_time": "2022-11-16T15:48:55.241338Z",
     "start_time": "2022-11-16T15:48:55.237352Z"
    }
   },
   "outputs": [],
   "source": [
    "if not submit:\n",
    "# erreur de prévision sur le test\n",
    "    1-rfOpt.score(X_test,Y_test)"
   ]
  },
  {
   "cell_type": "code",
   "execution_count": null,
   "id": "4e9e16dd",
   "metadata": {
    "ExecuteTime": {
     "end_time": "2022-11-16T15:48:58.095169Z",
     "start_time": "2022-11-16T15:48:57.803388Z"
    }
   },
   "outputs": [],
   "source": [
    "# prévision\n",
    "y_pred = rfOpt.predict(X_test)\n",
    "if not submit :\n",
    "    print(\"RMSE =\",np.sqrt(mean_squared_error(y_pred,Y_test)))\n",
    "    print(\"R2=\",r2_score(Y_test,y_pred))"
   ]
  },
  {
   "cell_type": "markdown",
   "id": "49352ea1",
   "metadata": {},
   "source": [
    "# Export submission"
   ]
  },
  {
   "cell_type": "code",
   "execution_count": null,
   "id": "f3ae3c83",
   "metadata": {
    "ExecuteTime": {
     "end_time": "2022-11-17T13:25:43.777880Z",
     "start_time": "2022-11-17T13:25:43.770696Z"
    }
   },
   "outputs": [],
   "source": [
    "print(y_pred)"
   ]
  },
  {
   "cell_type": "code",
   "execution_count": null,
   "id": "58035bac",
   "metadata": {
    "ExecuteTime": {
     "end_time": "2022-11-17T13:26:09.244241Z",
     "start_time": "2022-11-17T13:26:09.210359Z"
    }
   },
   "outputs": [],
   "source": [
    "# save\n",
    "newY = np.round(y_pred)\n",
    "if transfo:\n",
    "    newY = y_pred**3\n",
    "if submit :\n",
    "    sub = pd.DataFrame(newY)\n",
    "    sub.to_csv(path + 'submit/boostQT_hotel_all.csv',index=True, header=['price'], index_label = 'index')"
   ]
  },
  {
   "cell_type": "markdown",
   "id": "cc94e08a",
   "metadata": {},
   "source": [
    "# A faire"
   ]
  },
  {
   "cell_type": "markdown",
   "id": "8a15b041",
   "metadata": {},
   "source": [
    "> gridsearch sur alpha \n",
    "\n",
    "> ajouter une variable écart de temps\n",
    "\n",
    "> fusionner children policy 1 et 2\n",
    "\n",
    "> transfos sur le prix\n",
    "\n",
    "> transfos sur autres variables QT"
   ]
  },
  {
   "cell_type": "markdown",
   "id": "7bb67c05",
   "metadata": {},
   "source": [
    "> soumission à faire:\n",
    "\n",
    "\n",
    "1) RF \n",
    "\n",
    "\n",
    "2) tester hotelId = True \n"
   ]
  },
  {
   "cell_type": "code",
   "execution_count": null,
   "id": "15203f10",
   "metadata": {},
   "outputs": [],
   "source": []
  }
 ],
 "metadata": {
  "kernelspec": {
   "display_name": "Python 3 (ipykernel)",
   "language": "python",
   "name": "python3"
  },
  "language_info": {
   "codemirror_mode": {
    "name": "ipython",
    "version": 3
   },
   "file_extension": ".py",
   "mimetype": "text/x-python",
   "name": "python",
   "nbconvert_exporter": "python",
   "pygments_lexer": "ipython3",
   "version": "3.9.12"
  },
  "toc": {
   "base_numbering": 1,
   "nav_menu": {},
   "number_sections": true,
   "sideBar": true,
   "skip_h1_title": false,
   "title_cell": "Table of Contents",
   "title_sidebar": "Contents",
   "toc_cell": false,
   "toc_position": {},
   "toc_section_display": true,
   "toc_window_display": false
  },
  "varInspector": {
   "cols": {
    "lenName": 16,
    "lenType": 16,
    "lenVar": 40
   },
   "kernels_config": {
    "python": {
     "delete_cmd_postfix": "",
     "delete_cmd_prefix": "del ",
     "library": "var_list.py",
     "varRefreshCmd": "print(var_dic_list())"
    },
    "r": {
     "delete_cmd_postfix": ") ",
     "delete_cmd_prefix": "rm(",
     "library": "var_list.r",
     "varRefreshCmd": "cat(var_dic_list()) "
    }
   },
   "types_to_exclude": [
    "module",
    "function",
    "builtin_function_or_method",
    "instance",
    "_Feature"
   ],
   "window_display": false
  }
 },
 "nbformat": 4,
 "nbformat_minor": 5
}
