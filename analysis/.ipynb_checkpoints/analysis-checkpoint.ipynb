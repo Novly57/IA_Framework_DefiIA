{
 "cells": [
  {
   "cell_type": "code",
   "execution_count": null,
   "id": "58553bdf",
   "metadata": {
    "ExecuteTime": {
     "end_time": "2022-11-23T14:30:13.311785Z",
     "start_time": "2022-11-23T14:30:13.301955Z"
    }
   },
   "outputs": [],
   "source": [
    "from IPython.display import display, HTML\n",
    "display(HTML(\"<style>.container { width:80% !important; }</style>\"))"
   ]
  },
  {
   "cell_type": "code",
   "execution_count": null,
   "id": "1f88d0c9",
   "metadata": {
    "ExecuteTime": {
     "end_time": "2022-11-23T14:30:14.398271Z",
     "start_time": "2022-11-23T14:30:14.388287Z"
    }
   },
   "outputs": [],
   "source": [
    "import pandas as pd\n",
    "import numpy as np\n",
    "import seaborn as sns\n",
    "%matplotlib inline\n",
    "import matplotlib.pyplot as plt\n",
    "from math import sqrt, log\n",
    "sns.set_style(\"darkgrid\")\n",
    "from tqdm.notebook import tqdm, trange\n",
    "\n",
    "from sklearn.ensemble import RandomForestRegressor \n",
    "from sklearn.metrics import mean_squared_error\n",
    "from sklearn.metrics import r2_score\n",
    "from sklearn.ensemble import GradientBoostingRegressor\n",
    "from sklearn.model_selection import GridSearchCV\n",
    "from sklearn.model_selection import train_test_split  \n",
    "from pandas.plotting import scatter_matrix\n",
    "from sklearn.preprocessing import StandardScaler  "
   ]
  },
  {
   "cell_type": "code",
   "execution_count": null,
   "id": "5041d5d2",
   "metadata": {
    "ExecuteTime": {
     "end_time": "2022-11-23T14:30:15.427880Z",
     "start_time": "2022-11-23T14:30:15.425837Z"
    }
   },
   "outputs": [],
   "source": [
    "prints = False"
   ]
  },
  {
   "cell_type": "code",
   "execution_count": null,
   "id": "3901d824",
   "metadata": {
    "ExecuteTime": {
     "end_time": "2022-11-23T14:30:16.440291Z",
     "start_time": "2022-11-23T14:30:16.433154Z"
    }
   },
   "outputs": [],
   "source": [
    "def timer(start_time=None):\n",
    "    if not start_time:\n",
    "        start_time = datetime.now()\n",
    "        return start_time\n",
    "    elif start_time:\n",
    "        thour, temp_sec = divmod((datetime.now() - start_time).total_seconds(), 3600)\n",
    "        tmin, tsec = divmod(temp_sec, 60)\n",
    "        print('\\n Time taken: %i hours %i minutes and %s seconds.' % (thour, tmin, round(tsec, 2)))"
   ]
  },
  {
   "cell_type": "markdown",
   "id": "5bf0dd63",
   "metadata": {},
   "source": [
    "# Import des données"
   ]
  },
  {
   "cell_type": "code",
   "execution_count": null,
   "id": "0eb82943",
   "metadata": {
    "ExecuteTime": {
     "end_time": "2022-11-23T14:30:17.847507Z",
     "start_time": "2022-11-23T14:30:17.459734Z"
    }
   },
   "outputs": [],
   "source": [
    "path = '../data/' \n",
    "hotels = pd.read_csv(path + '/features_hotels.csv')\n",
    "data = pd.read_csv(path + 'data.csv')\n",
    "data_test = pd.read_csv(path + 'test_set.csv')"
   ]
  },
  {
   "cell_type": "code",
   "execution_count": null,
   "id": "f8326ea6",
   "metadata": {
    "ExecuteTime": {
     "end_time": "2022-11-23T14:30:19.022096Z",
     "start_time": "2022-11-23T14:30:18.407484Z"
    }
   },
   "outputs": [],
   "source": [
    "# création de la colonne request_number dans le test set\n",
    "data_test['request_number'] = 1\n",
    "for avatar in np.unique(data_test['avatar_id']):\n",
    "    data_test.loc[data_test['avatar_id'] == avatar, 'request_number'] = data_test['order_requests'].loc[data_test['avatar_id']== avatar] - min(data_test['order_requests'].loc[data_test['avatar_id']== avatar])+1"
   ]
  },
  {
   "cell_type": "code",
   "execution_count": null,
   "id": "9058466f",
   "metadata": {
    "ExecuteTime": {
     "end_time": "2022-11-23T14:30:19.583283Z",
     "start_time": "2022-11-23T14:30:19.568940Z"
    }
   },
   "outputs": [],
   "source": [
    "data_test"
   ]
  },
  {
   "cell_type": "code",
   "execution_count": null,
   "id": "e966cb6f",
   "metadata": {
    "ExecuteTime": {
     "end_time": "2022-11-23T14:30:20.182167Z",
     "start_time": "2022-11-23T14:30:20.140186Z"
    }
   },
   "outputs": [],
   "source": [
    "# suppression de la requête de l'avatar_id 134 qui pose problème\n",
    "# print(data.loc[data.avatar_id == 134])\n",
    "data = data.drop(index = data.loc[data.avatar_id == 134].index)"
   ]
  },
  {
   "cell_type": "code",
   "execution_count": null,
   "id": "2baddd3f",
   "metadata": {
    "ExecuteTime": {
     "end_time": "2022-11-23T14:30:21.028383Z",
     "start_time": "2022-11-23T14:30:21.013038Z"
    }
   },
   "outputs": [],
   "source": [
    "data"
   ]
  },
  {
   "cell_type": "code",
   "execution_count": null,
   "id": "91a05479",
   "metadata": {
    "ExecuteTime": {
     "end_time": "2022-11-23T14:30:22.037280Z",
     "start_time": "2022-11-23T14:30:21.855627Z"
    }
   },
   "outputs": [],
   "source": [
    "data = data.drop(['avatar_id'], axis = 1).drop_duplicates()"
   ]
  },
  {
   "cell_type": "code",
   "execution_count": null,
   "id": "df9f6b37",
   "metadata": {
    "ExecuteTime": {
     "end_time": "2022-11-23T14:30:22.837058Z",
     "start_time": "2022-11-23T14:30:22.813093Z"
    }
   },
   "outputs": [],
   "source": [
    "data"
   ]
  },
  {
   "cell_type": "code",
   "execution_count": null,
   "id": "4cf534a6",
   "metadata": {
    "ExecuteTime": {
     "end_time": "2022-11-23T14:30:23.739222Z",
     "start_time": "2022-11-23T14:30:23.591291Z"
    }
   },
   "outputs": [],
   "source": [
    "# ajout des caractéristiques des hotels\n",
    "data = data.merge(hotels, on=['hotel_id','city'])\n",
    "data_test = data_test.merge(hotels, on=['hotel_id','city'])\n",
    "data_test = data_test.sort_values('index')    "
   ]
  },
  {
   "cell_type": "markdown",
   "id": "ead2e1fb",
   "metadata": {},
   "source": [
    "# Approche naïve\n",
    "\n",
    "Ici on génère des prix en utilisant les requêtes les plus proches."
   ]
  },
  {
   "cell_type": "code",
   "execution_count": null,
   "id": "5a02fc32",
   "metadata": {
    "ExecuteTime": {
     "end_time": "2022-11-23T14:30:24.535701Z",
     "start_time": "2022-11-23T14:30:24.526758Z"
    }
   },
   "outputs": [],
   "source": [
    "# y_pred = []\n",
    "\n",
    "# for i in tqdm(data_test.index) :\n",
    "#     _, order, city, date, lang, mob, avatar, hotel, stock, req, group, brand, park, pool, child = data_test.iloc[i].values\n",
    "#     data_tmp = data.loc[data.hotel_id == hotel]\n",
    "#     delta_date = data_tmp.date.values - date\n",
    "    \n",
    "#     y_pred.append(data_tmp.iloc[np.argmin(delta_date)].price)"
   ]
  },
  {
   "cell_type": "markdown",
   "id": "1c03a97a",
   "metadata": {},
   "source": [
    "# Mise en forme des données"
   ]
  },
  {
   "cell_type": "code",
   "execution_count": null,
   "id": "ba99085c",
   "metadata": {
    "ExecuteTime": {
     "end_time": "2022-11-23T14:30:25.505276Z",
     "start_time": "2022-11-23T14:30:25.494594Z"
    }
   },
   "outputs": [],
   "source": [
    "colQT = ['request_number', 'stock', 'date']\n",
    "colBool = ['mobile', 'pool', 'parking']\n",
    "colQL = ['city', 'language', 'group', 'brand', 'children_policy']"
   ]
  },
  {
   "cell_type": "code",
   "execution_count": null,
   "id": "4f6f4d68",
   "metadata": {
    "ExecuteTime": {
     "end_time": "2022-11-23T14:30:39.263478Z",
     "start_time": "2022-11-23T14:30:39.126295Z"
    }
   },
   "outputs": [],
   "source": [
    "for col in ['city', 'language', 'hotel_id', 'group', 'brand','children_policy','mobile','parking','pool'] :\n",
    "    data[col] = pd.Categorical(data[col],ordered=False)\n",
    "    data_test[col] = pd.Categorical(data_test[col],ordered=False)"
   ]
  },
  {
   "cell_type": "code",
   "execution_count": null,
   "id": "93b28534",
   "metadata": {
    "ExecuteTime": {
     "end_time": "2022-11-23T14:30:40.175771Z",
     "start_time": "2022-11-23T14:30:40.169541Z"
    }
   },
   "outputs": [],
   "source": [
    "for col in colBool :\n",
    "    print(data[col].dtypes)"
   ]
  },
  {
   "cell_type": "markdown",
   "id": "fd7c7575",
   "metadata": {},
   "source": [
    "## Transformation des variables QL en QT"
   ]
  },
  {
   "cell_type": "code",
   "execution_count": null,
   "id": "b6cd6cd2",
   "metadata": {
    "ExecuteTime": {
     "end_time": "2022-11-23T14:30:42.732659Z",
     "start_time": "2022-11-23T14:30:42.722734Z"
    }
   },
   "outputs": [],
   "source": [
    "def additive_smoothing(x,alpha= 1.96):\n",
    "    \"\"\" alpha = 1.96 borne à 95% pour la loi normale  \"\"\"\n",
    "    moy = (x+alpha).mean()\n",
    "    d = x.max()-x.min()\n",
    "    N = x.count()\n",
    "    return N*moy/(N+alpha*d)\n",
    "\n",
    "additive_smoothing.__name__ = 'additive_smoothing'"
   ]
  },
  {
   "cell_type": "code",
   "execution_count": null,
   "id": "4ae956ca",
   "metadata": {
    "ExecuteTime": {
     "end_time": "2022-11-23T14:30:43.646984Z",
     "start_time": "2022-11-23T14:30:43.636871Z"
    }
   },
   "outputs": [],
   "source": [
    "hotelId = False\n",
    "if hotelId:\n",
    "    colQL = ['hotel_id']\n",
    "    colBool = ['mobile']"
   ]
  },
  {
   "cell_type": "code",
   "execution_count": null,
   "id": "4da1c0f3",
   "metadata": {
    "ExecuteTime": {
     "end_time": "2022-11-23T14:30:45.000312Z",
     "start_time": "2022-11-23T14:30:44.526561Z"
    }
   },
   "outputs": [],
   "source": [
    "for i in colQL :\n",
    "    df_tmp = data[[i,'price']].groupby(i).agg({'price':['mean','var',additive_smoothing]}).price\n",
    "    df_tmp = df_tmp.add_suffix('_'+i)\n",
    "    colQT+= list(df_tmp.columns.unique())\n",
    "    data = data.join(df_tmp, on = i)\n",
    "    data_test = data_test.join(df_tmp, on = i)\n",
    "\n",
    "\n",
    "colQL = []"
   ]
  },
  {
   "cell_type": "code",
   "execution_count": null,
   "id": "b548bcdd",
   "metadata": {
    "ExecuteTime": {
     "end_time": "2022-11-23T14:30:45.948728Z",
     "start_time": "2022-11-23T14:30:45.946209Z"
    }
   },
   "outputs": [],
   "source": [
    "colQT += ['price']"
   ]
  },
  {
   "cell_type": "markdown",
   "id": "ce410a61",
   "metadata": {},
   "source": [
    "# Analyse de stock"
   ]
  },
  {
   "cell_type": "code",
   "execution_count": null,
   "id": "eff313cd",
   "metadata": {
    "ExecuteTime": {
     "end_time": "2022-11-23T14:30:47.145388Z",
     "start_time": "2022-11-23T14:30:46.882620Z"
    }
   },
   "outputs": [],
   "source": [
    "df_stock = data[['hotel_id','date','stock']].groupby(['hotel_id','date']).mean().reset_index()\n",
    "test = df_stock.loc[df_stock.hotel_id == 500]\n",
    "\n",
    "sns.scatterplot(data = test, x = 'date', y = 'stock')\n",
    "plt.show()"
   ]
  },
  {
   "cell_type": "markdown",
   "id": "f3b17ee8",
   "metadata": {
    "ExecuteTime": {
     "end_time": "2022-11-16T13:32:10.491549Z",
     "start_time": "2022-11-16T13:32:10.466471Z"
    }
   },
   "source": [
    "# Exploration"
   ]
  },
  {
   "cell_type": "code",
   "execution_count": null,
   "id": "1b05a7b4",
   "metadata": {
    "ExecuteTime": {
     "end_time": "2022-11-23T14:30:47.832562Z",
     "start_time": "2022-11-23T14:30:47.825164Z"
    }
   },
   "outputs": [],
   "source": [
    "if prints :\n",
    "    plt.figure()\n",
    "    sns.histplot(data['price'])\n",
    "    plt.show()"
   ]
  },
  {
   "cell_type": "markdown",
   "id": "7dbbd1a8",
   "metadata": {},
   "source": [
    "## Unidimensionnelle"
   ]
  },
  {
   "cell_type": "markdown",
   "id": "13f0ce6b",
   "metadata": {},
   "source": [
    "### QL"
   ]
  },
  {
   "cell_type": "code",
   "execution_count": null,
   "id": "0ada761e",
   "metadata": {
    "ExecuteTime": {
     "end_time": "2022-11-23T14:30:48.490523Z",
     "start_time": "2022-11-23T14:30:48.477259Z"
    },
    "scrolled": true
   },
   "outputs": [],
   "source": [
    "if prints :\n",
    "    for col in colQL:\n",
    "        fig, axes = plt.subplots(1, 2, figsize=(20, 3))\n",
    "        sns.histplot(ax = axes[0], x = data[col])\n",
    "        sns.histplot(ax = axes[1], x = data_test[col])\n",
    "        axes[0].tick_params(labelrotation=45)\n",
    "        axes[1].tick_params(labelrotation=45)\n",
    "        axes[0].set_title('train set')\n",
    "        axes[1].set_title('test set')\n",
    "        plt.show()"
   ]
  },
  {
   "cell_type": "markdown",
   "id": "347cf2f6",
   "metadata": {},
   "source": [
    "### QT"
   ]
  },
  {
   "cell_type": "code",
   "execution_count": null,
   "id": "9f746d05",
   "metadata": {
    "ExecuteTime": {
     "end_time": "2022-11-23T14:30:49.181232Z",
     "start_time": "2022-11-23T14:30:49.177033Z"
    },
    "scrolled": true
   },
   "outputs": [],
   "source": [
    "if prints :\n",
    "    for col in colQT[:-1]:\n",
    "        fig, axes = plt.subplots(1, 2, figsize=(20, 3))\n",
    "        sns.histplot(ax = axes[0], x = data[col])\n",
    "        sns.histplot(ax = axes[1], x = data_test[col])\n",
    "        axes[0].tick_params(labelrotation=45)\n",
    "        axes[1].tick_params(labelrotation=45)\n",
    "        axes[0].set_title('train set')\n",
    "        axes[1].set_title('test set')\n",
    "        plt.show()"
   ]
  },
  {
   "cell_type": "markdown",
   "id": "6c2efa08",
   "metadata": {},
   "source": [
    "## Bidimensionnelle"
   ]
  },
  {
   "cell_type": "code",
   "execution_count": null,
   "id": "82b190c0",
   "metadata": {
    "ExecuteTime": {
     "end_time": "2022-11-23T14:30:49.860090Z",
     "start_time": "2022-11-23T14:30:49.856772Z"
    }
   },
   "outputs": [],
   "source": [
    "if prints :\n",
    "    scatter_matrix(data[colQT], alpha=0.2, figsize=(10, 10), diagonal='kde')\n",
    "    plt.tight_layout()\n",
    "    plt.show()"
   ]
  },
  {
   "cell_type": "code",
   "execution_count": null,
   "id": "db5183f8",
   "metadata": {
    "ExecuteTime": {
     "end_time": "2022-11-23T14:30:50.515652Z",
     "start_time": "2022-11-23T14:30:50.506374Z"
    }
   },
   "outputs": [],
   "source": [
    "if prints :\n",
    "    scatter_matrix(data_test[colQT[:-1]], alpha=0.2, figsize=(10, 10), diagonal='kde')\n",
    "    plt.tight_layout()\n",
    "    plt.show()"
   ]
  },
  {
   "cell_type": "markdown",
   "id": "add0c0cf",
   "metadata": {},
   "source": [
    "# Transformations"
   ]
  },
  {
   "cell_type": "code",
   "execution_count": null,
   "id": "c047664b",
   "metadata": {
    "ExecuteTime": {
     "end_time": "2022-11-23T14:30:51.202737Z",
     "start_time": "2022-11-23T14:30:51.198868Z"
    }
   },
   "outputs": [],
   "source": [
    "transfo = False"
   ]
  },
  {
   "cell_type": "code",
   "execution_count": null,
   "id": "13eeb31b",
   "metadata": {
    "ExecuteTime": {
     "end_time": "2022-11-23T14:30:51.894199Z",
     "start_time": "2022-11-23T14:30:51.883331Z"
    }
   },
   "outputs": [],
   "source": [
    "if prints :\n",
    "    plt.figure()\n",
    "    sns.histplot(data['price'].map(lambda x: x**(1/3)))\n",
    "    plt.show()"
   ]
  },
  {
   "cell_type": "code",
   "execution_count": null,
   "id": "fe1bc4f7",
   "metadata": {
    "ExecuteTime": {
     "end_time": "2022-11-23T14:30:52.575251Z",
     "start_time": "2022-11-23T14:30:52.569407Z"
    }
   },
   "outputs": [],
   "source": [
    "if transfo :\n",
    "    data['SRprice'] = data['price'].map(lambda x: x**(1/3))\n",
    "    colQT[-1] = 'SRprice'"
   ]
  },
  {
   "cell_type": "markdown",
   "id": "636b29c4",
   "metadata": {},
   "source": [
    "# Préparation des datasets "
   ]
  },
  {
   "cell_type": "code",
   "execution_count": null,
   "id": "c4cd10ec",
   "metadata": {
    "ExecuteTime": {
     "end_time": "2022-11-23T14:30:53.261086Z",
     "start_time": "2022-11-23T14:30:53.255990Z"
    }
   },
   "outputs": [],
   "source": [
    "dummies = False"
   ]
  },
  {
   "cell_type": "code",
   "execution_count": null,
   "id": "8d30ba9e",
   "metadata": {
    "ExecuteTime": {
     "end_time": "2022-11-23T14:30:53.934916Z",
     "start_time": "2022-11-23T14:30:53.929975Z"
    }
   },
   "outputs": [],
   "source": [
    "if dummies :\n",
    "    dataDum = pd.get_dummies(data[colQL])\n",
    "    dataDum_test = pd.get_dummies(data_test[colQL])\n",
    "    if dataDum.shape[1] != dataDum_test.shape[1]:\n",
    "        print('nombre de colonnes différent')\n",
    "else:\n",
    "    dataDum = None\n",
    "    dataDum_test = None"
   ]
  },
  {
   "cell_type": "code",
   "execution_count": null,
   "id": "721e4ce8",
   "metadata": {
    "ExecuteTime": {
     "end_time": "2022-11-23T14:30:54.646854Z",
     "start_time": "2022-11-23T14:30:54.622415Z"
    }
   },
   "outputs": [],
   "source": [
    "dataQT = data[colQT[:-1]]\n",
    "dataQT_test = data_test[colQT[:-1]]"
   ]
  },
  {
   "cell_type": "code",
   "execution_count": null,
   "id": "bc85f9c0",
   "metadata": {
    "ExecuteTime": {
     "end_time": "2022-11-23T14:30:54.664557Z",
     "start_time": "2022-11-23T14:30:54.648632Z"
    }
   },
   "outputs": [],
   "source": [
    "dataBool = data[colBool]\n",
    "dataBool_test = data_test[colBool]"
   ]
  },
  {
   "cell_type": "code",
   "execution_count": null,
   "id": "b76d2a6d",
   "metadata": {
    "ExecuteTime": {
     "end_time": "2022-11-23T14:30:54.705676Z",
     "start_time": "2022-11-23T14:30:54.666330Z"
    }
   },
   "outputs": [],
   "source": [
    "df = pd.concat([dataDum,dataQT, dataBool],axis=1)\n",
    "df_test = pd.concat([dataDum_test,dataQT_test, dataBool_test],axis=1)\n",
    "df.head()"
   ]
  },
  {
   "cell_type": "code",
   "execution_count": null,
   "id": "7c0178b8",
   "metadata": {
    "ExecuteTime": {
     "end_time": "2022-11-23T14:30:57.654586Z",
     "start_time": "2022-11-23T14:30:57.652187Z"
    }
   },
   "outputs": [],
   "source": [
    "# variable à expliquer\n",
    "y = data[colQT[-1]]"
   ]
  },
  {
   "cell_type": "markdown",
   "id": "8edfbd9b",
   "metadata": {
    "ExecuteTime": {
     "end_time": "2022-11-16T14:07:03.805368Z",
     "start_time": "2022-11-16T14:07:03.800645Z"
    }
   },
   "source": [
    "# Séparation des données"
   ]
  },
  {
   "cell_type": "code",
   "execution_count": null,
   "id": "dffcaa5c",
   "metadata": {
    "ExecuteTime": {
     "end_time": "2022-11-23T14:30:58.662528Z",
     "start_time": "2022-11-23T14:30:58.657819Z"
    }
   },
   "outputs": [],
   "source": [
    "submit = True"
   ]
  },
  {
   "cell_type": "code",
   "execution_count": null,
   "id": "2cbeb6cd",
   "metadata": {
    "ExecuteTime": {
     "end_time": "2022-11-23T14:30:59.651011Z",
     "start_time": "2022-11-23T14:30:59.648108Z"
    }
   },
   "outputs": [],
   "source": [
    "# séparation pour les tests et tunner les modèles\n",
    "if submit :\n",
    "    X_train = df\n",
    "    X_test = df_test\n",
    "    Y_train = y\n",
    "    Y_test = None\n",
    "else :\n",
    "    X_train, X_test, Y_train, Y_test = train_test_split(df,y,test_size=.1,random_state=11) #25% pour le test_size"
   ]
  },
  {
   "cell_type": "markdown",
   "id": "21ea6ee6",
   "metadata": {},
   "source": [
    "# Standardisation des données"
   ]
  },
  {
   "cell_type": "code",
   "execution_count": null,
   "id": "fe680c18",
   "metadata": {
    "ExecuteTime": {
     "end_time": "2022-11-23T14:31:00.648369Z",
     "start_time": "2022-11-23T14:31:00.639310Z"
    }
   },
   "outputs": [],
   "source": [
    "stand = False"
   ]
  },
  {
   "cell_type": "code",
   "execution_count": null,
   "id": "793bd770",
   "metadata": {
    "ExecuteTime": {
     "end_time": "2022-11-23T14:31:01.645144Z",
     "start_time": "2022-11-23T14:31:01.642173Z"
    }
   },
   "outputs": [],
   "source": [
    "if stand :\n",
    "    # standardisation des données\n",
    "    scaler = StandardScaler()  \n",
    "    scaler.fit(X_train)\n",
    "    X_train_nonScale, X_test_nonScale = X_train.copy(), X_test.copy()\n",
    "    X_train = scaler.transform(X_train)  \n",
    "    # Meme transformation sur le test\n",
    "    X_test = scaler.transform(X_test)"
   ]
  },
  {
   "cell_type": "markdown",
   "id": "1665eead",
   "metadata": {},
   "source": [
    "# Boosting"
   ]
  },
  {
   "cell_type": "code",
   "execution_count": null,
   "id": "22e02a92",
   "metadata": {
    "ExecuteTime": {
     "end_time": "2022-11-23T14:31:02.614256Z",
     "start_time": "2022-11-23T14:31:02.608008Z"
    }
   },
   "outputs": [],
   "source": [
    "# # A parameter grid for XGBoost\n",
    "# params = {\n",
    "#         'min_child_weight': [1, 5, 10],\n",
    "#         'gamma': [0.5, 1, 1.5, 2, 5],\n",
    "#         'subsample': [0.6, 0.8, 1.0],\n",
    "#         'colsample_bytree': [0.6, 0.8, 1.0],\n",
    "#         'max_depth': [3, 5, 7, 10],\n",
    "#         'learning_rate': [0.01, 0.02, 0.05]    \n",
    "#         }\n",
    "\n",
    "\n",
    "# parameters = {'learning_rate': [0.01,0.02,0.03,0.04],\n",
    "#                   'subsample'    : [0.9, 0.5, 0.2, 0.1],\n",
    "#                   'n_estimators' : [100,500,1000, 1500],\n",
    "#                   'max_depth'    : [4,6,8,10]}"
   ]
  },
  {
   "cell_type": "markdown",
   "id": "f2d8b718",
   "metadata": {},
   "source": [
    " class sklearn.ensemble.GradientBoostingRegressor(*, loss='squared_error', learning_rate=0.1, n_estimators=100, subsample=1.0, criterion='friedman_mse', min_samples_split=2, min_samples_leaf=1, min_weight_fraction_leaf=0.0, max_depth=3, min_impurity_decrease=0.0, init=None, random_state=None, max_features=None, alpha=0.9, verbose=0, max_leaf_nodes=None, warm_start=False, validation_fraction=0.1, n_iter_no_change=None, tol=0.0001, ccp_alpha=0.0)[source]¶"
   ]
  },
  {
   "cell_type": "markdown",
   "id": "a722042a",
   "metadata": {},
   "source": [
    "> max_depth : test 4, 8, keep 4\n",
    "\n",
    "> n_estimators : test 100,500,1000, keep 1000, test more ? \n",
    "\n",
    "> subsample : test 0.9, 0.5, 0.2, 0.1, keep 0.2 \n",
    "\n",
    "> learning_rate : test .02, .05, keep ? and n_estimators : test 1000, 1500 keep ? and subsample : 0.2, 1., keep ? and max_depth : 2, 4, keep ? \n",
    " {'criterion': 'friedman_mse', 'learning_rate': 0.05, 'max_depth': 4, 'n_estimators': 1500, 'subsample': 0.2}"
   ]
  },
  {
   "cell_type": "code",
   "execution_count": null,
   "id": "c0fbf40e",
   "metadata": {
    "ExecuteTime": {
     "end_time": "2022-11-23T14:28:51.130133Z",
     "start_time": "2022-11-23T14:28:48.215318Z"
    }
   },
   "outputs": [],
   "source": [
    "%%time\n",
    "# définition des paramètres\n",
    "# boost = GradientBoostingRegressor()\n",
    "\n",
    "GBR = GradientBoostingRegressor()\n",
    "\n",
    "parameters = {'learning_rate': [0.02],\n",
    "              'subsample'    : [0.2],\n",
    "              'n_estimators' : [1000],\n",
    "              'max_depth'    : [4],\n",
    "              'criterion'    : ['friedman_mse'],\n",
    "             }\n",
    "\n",
    "grid_GBR = GridSearchCV(estimator=GBR, param_grid = parameters, cv = 2, n_jobs=-1)\n",
    "\n",
    "rfFit = grid_GBR.fit(X_train, Y_train)\n",
    "\n",
    "print(\" Results from Grid Search \" )\n",
    "print(\"\\n The best estimator across ALL searched params:\\n\",grid_GBR.best_estimator_)\n",
    "print(\"\\n The best score across ALL searched params:\\n\",grid_GBR.best_score_)\n",
    "print(\"\\n The best parameters across ALL searched params:\\n\",grid_GBR.best_params_)"
   ]
  },
  {
   "cell_type": "code",
   "execution_count": null,
   "id": "8be0d2c4",
   "metadata": {
    "ExecuteTime": {
     "start_time": "2022-11-22T07:35:25.668Z"
    }
   },
   "outputs": [],
   "source": [
    "# apprentissage\n",
    "# rfFit = GBR.fit(X_train,Y_train)"
   ]
  },
  {
   "cell_type": "code",
   "execution_count": null,
   "id": "84be2466",
   "metadata": {
    "ExecuteTime": {
     "end_time": "2022-11-23T09:29:59.104238Z",
     "start_time": "2022-11-23T09:29:58.687834Z"
    }
   },
   "outputs": [],
   "source": [
    "feature_importances = zip(X_train.columns,GBR.feature_importances_)\n",
    "x = dict(feature_importances)\n",
    "{k: v for k, v in sorted(x.items(), key=lambda item: -item[1])}"
   ]
  },
  {
   "cell_type": "code",
   "execution_count": null,
   "id": "d1a93d46",
   "metadata": {
    "ExecuteTime": {
     "end_time": "2022-11-23T09:30:00.398409Z",
     "start_time": "2022-11-23T09:30:00.390164Z"
    }
   },
   "outputs": [],
   "source": [
    "if not submit:\n",
    "# erreur de prédiction sur le test\n",
    "    1-rfFit.score(X_test,Y_test)"
   ]
  },
  {
   "cell_type": "code",
   "execution_count": null,
   "id": "bd354104",
   "metadata": {
    "ExecuteTime": {
     "end_time": "2022-11-23T10:50:23.102546Z",
     "start_time": "2022-11-23T10:50:22.971605Z"
    }
   },
   "outputs": [],
   "source": [
    "# prédiction\n",
    "y_pred = rfFit.predict(X_test)\n",
    "if not submit:\n",
    "    print(\"RMSE =\",np.sqrt(mean_squared_error(y_pred,Y_test)))\n",
    "    print(\"R2 =\",r2_score(Y_test,y_pred))"
   ]
  },
  {
   "cell_type": "markdown",
   "id": "67856cb7",
   "metadata": {},
   "source": [
    "# Random Forest"
   ]
  },
  {
   "cell_type": "code",
   "execution_count": null,
   "id": "1e3994f0",
   "metadata": {
    "ExecuteTime": {
     "end_time": "2022-11-16T15:37:11.976182Z",
     "start_time": "2022-11-16T15:20:54.685532Z"
    }
   },
   "outputs": [],
   "source": [
    "# définition des paramètres\n",
    "forest = RandomForestRegressor(n_estimators=500,\n",
    "                               max_depth=None,\n",
    "                               min_samples_split=2, min_samples_leaf=1, \n",
    "                               max_features=1.0, max_leaf_nodes=None,\n",
    "                               bootstrap=True, oob_score=True)\n",
    "# apprentissage\n",
    "rfFit = forest.fit(X_train,Y_train)\n",
    "print(1-rfFit.oob_score_)"
   ]
  },
  {
   "cell_type": "code",
   "execution_count": null,
   "id": "ae99695a",
   "metadata": {
    "ExecuteTime": {
     "end_time": "2022-11-16T15:48:52.218144Z",
     "start_time": "2022-11-16T15:37:14.496728Z"
    }
   },
   "outputs": [],
   "source": [
    "param=[{\"max_features\":list(range(2,10,1))}]\n",
    "rf= GridSearchCV(RandomForestRegressor(n_estimators=100),param,cv=5,n_jobs=-1)\n",
    "rfOpt=rf.fit(X_train, Y_train)\n",
    "# paramètre optimal\n",
    "print(\"Meilleur score = %f, Meilleur paramètre = %s\" % (1. - rfOpt.best_score_,rfOpt.best_params_))"
   ]
  },
  {
   "cell_type": "code",
   "execution_count": null,
   "id": "2eeb0135",
   "metadata": {
    "ExecuteTime": {
     "end_time": "2022-11-16T15:48:55.241338Z",
     "start_time": "2022-11-16T15:48:55.237352Z"
    }
   },
   "outputs": [],
   "source": [
    "if not submit:\n",
    "# erreur de prévision sur le test\n",
    "    1-rfOpt.score(X_test,Y_test)"
   ]
  },
  {
   "cell_type": "code",
   "execution_count": null,
   "id": "4e9e16dd",
   "metadata": {
    "ExecuteTime": {
     "end_time": "2022-11-16T15:48:58.095169Z",
     "start_time": "2022-11-16T15:48:57.803388Z"
    }
   },
   "outputs": [],
   "source": [
    "# prévision\n",
    "y_pred = rfOpt.predict(X_test)\n",
    "if not submit :\n",
    "    print(\"RMSE =\",np.sqrt(mean_squared_error(y_pred,Y_test)))\n",
    "    print(\"R2=\",r2_score(Y_test,y_pred))"
   ]
  },
  {
   "cell_type": "markdown",
   "id": "49352ea1",
   "metadata": {},
   "source": [
    "# Export submission"
   ]
  },
  {
   "cell_type": "code",
   "execution_count": null,
   "id": "f3ae3c83",
   "metadata": {
    "ExecuteTime": {
     "end_time": "2022-11-23T10:50:26.012035Z",
     "start_time": "2022-11-23T10:50:26.007751Z"
    }
   },
   "outputs": [],
   "source": [
    "print(y_pred)"
   ]
  },
  {
   "cell_type": "code",
   "execution_count": null,
   "id": "58035bac",
   "metadata": {
    "ExecuteTime": {
     "end_time": "2022-11-23T10:50:28.952613Z",
     "start_time": "2022-11-23T10:50:28.894881Z"
    }
   },
   "outputs": [],
   "source": [
    "# save\n",
    "name = 'boostingBasicGS5'\n",
    "\n",
    "newY = np.round(y_pred)\n",
    "if transfo:\n",
    "    newY = y_pred**3\n",
    "if submit :\n",
    "    sub = pd.DataFrame(newY)\n",
    "    sub.to_csv(path + 'submit/' + name + '.csv',index=True, header=['price'], index_label = 'index')"
   ]
  },
  {
   "cell_type": "markdown",
   "id": "cc94e08a",
   "metadata": {},
   "source": [
    "# A faire"
   ]
  },
  {
   "cell_type": "markdown",
   "id": "8a15b041",
   "metadata": {},
   "source": [
    "> gridsearch sur alpha \n",
    "\n",
    "> ajouter une variable écart de temps\n",
    "\n",
    "> fusionner children policy 1 et 2\n",
    "\n",
    "> transfos sur le prix\n",
    "\n",
    "> transfos sur autres variables QT"
   ]
  },
  {
   "cell_type": "markdown",
   "id": "7bb67c05",
   "metadata": {},
   "source": [
    "> soumission à faire:\n",
    "\n",
    "\n",
    "1) RF \n",
    "\n",
    "\n",
    "2) tester hotelId = True \n"
   ]
  },
  {
   "cell_type": "code",
   "execution_count": null,
   "id": "15203f10",
   "metadata": {},
   "outputs": [],
   "source": []
  }
 ],
 "metadata": {
  "kernelspec": {
   "display_name": "Python 3 (ipykernel)",
   "language": "python",
   "name": "python3"
  },
  "language_info": {
   "codemirror_mode": {
    "name": "ipython",
    "version": 3
   },
   "file_extension": ".py",
   "mimetype": "text/x-python",
   "name": "python",
   "nbconvert_exporter": "python",
   "pygments_lexer": "ipython3",
   "version": "3.9.12"
  },
  "toc": {
   "base_numbering": 1,
   "nav_menu": {},
   "number_sections": true,
   "sideBar": true,
   "skip_h1_title": false,
   "title_cell": "Table of Contents",
   "title_sidebar": "Contents",
   "toc_cell": false,
   "toc_position": {},
   "toc_section_display": true,
   "toc_window_display": false
  },
  "varInspector": {
   "cols": {
    "lenName": 16,
    "lenType": 16,
    "lenVar": 40
   },
   "kernels_config": {
    "python": {
     "delete_cmd_postfix": "",
     "delete_cmd_prefix": "del ",
     "library": "var_list.py",
     "varRefreshCmd": "print(var_dic_list())"
    },
    "r": {
     "delete_cmd_postfix": ") ",
     "delete_cmd_prefix": "rm(",
     "library": "var_list.r",
     "varRefreshCmd": "cat(var_dic_list()) "
    }
   },
   "types_to_exclude": [
    "module",
    "function",
    "builtin_function_or_method",
    "instance",
    "_Feature"
   ],
   "window_display": false
  }
 },
 "nbformat": 4,
 "nbformat_minor": 5
}
