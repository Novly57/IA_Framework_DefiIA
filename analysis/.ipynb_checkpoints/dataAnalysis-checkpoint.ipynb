{
 "cells": [
  {
   "cell_type": "code",
   "execution_count": 1,
   "id": "af852220",
   "metadata": {
    "ExecuteTime": {
     "end_time": "2022-11-16T10:02:37.313338Z",
     "start_time": "2022-11-16T10:02:37.292246Z"
    }
   },
   "outputs": [
    {
     "name": "stderr",
     "output_type": "stream",
     "text": [
      "/tmp/ipykernel_2431/82325636.py:1: DeprecationWarning: Importing display from IPython.core.display is deprecated since IPython 7.14, please import from IPython display\n",
      "  from IPython.core.display import display, HTML\n"
     ]
    },
    {
     "data": {
      "text/html": [
       "<style>.container { width:80% !important; }</style>"
      ],
      "text/plain": [
       "<IPython.core.display.HTML object>"
      ]
     },
     "metadata": {},
     "output_type": "display_data"
    }
   ],
   "source": [
    "from IPython.core.display import display, HTML\n",
    "display(HTML(\"<style>.container { width:80% !important; }</style>\"))"
   ]
  },
  {
   "cell_type": "code",
   "execution_count": 2,
   "id": "7287b63f",
   "metadata": {
    "ExecuteTime": {
     "end_time": "2022-11-16T10:02:55.251748Z",
     "start_time": "2022-11-16T10:02:37.316517Z"
    }
   },
   "outputs": [],
   "source": [
    "import pandas as pd\n",
    "import numpy as np\n",
    "import seaborn as sns\n",
    "%matplotlib inline\n",
    "import matplotlib.pyplot as plt\n",
    "from math import sqrt, log\n",
    "sns.set_style(\"darkgrid\")\n",
    "\n",
    "from sklearn.ensemble import RandomForestRegressor \n",
    "from sklearn.metrics import mean_squared_error\n",
    "from sklearn.metrics import r2_score\n",
    "from sklearn.ensemble import GradientBoostingRegressor\n",
    "from sklearn.model_selection import GridSearchCV\n",
    "from sklearn.model_selection import train_test_split  \n",
    "from pandas.plotting import scatter_matrix\n"
   ]
  },
  {
   "cell_type": "code",
   "execution_count": 3,
   "id": "47c1bd0a",
   "metadata": {
    "ExecuteTime": {
     "end_time": "2022-11-16T10:05:13.812019Z",
     "start_time": "2022-11-16T10:05:13.806335Z"
    }
   },
   "outputs": [],
   "source": [
    "_prints = False"
   ]
  },
  {
   "cell_type": "code",
   "execution_count": 4,
   "id": "deeeee60",
   "metadata": {
    "ExecuteTime": {
     "end_time": "2022-11-16T10:05:28.784879Z",
     "start_time": "2022-11-16T10:05:25.303958Z"
    }
   },
   "outputs": [
    {
     "data": {
      "text/html": [
       "<div>\n",
       "<style scoped>\n",
       "    .dataframe tbody tr th:only-of-type {\n",
       "        vertical-align: middle;\n",
       "    }\n",
       "\n",
       "    .dataframe tbody tr th {\n",
       "        vertical-align: top;\n",
       "    }\n",
       "\n",
       "    .dataframe thead th {\n",
       "        text-align: right;\n",
       "    }\n",
       "</style>\n",
       "<table border=\"1\" class=\"dataframe\">\n",
       "  <thead>\n",
       "    <tr style=\"text-align: right;\">\n",
       "      <th></th>\n",
       "      <th>index</th>\n",
       "      <th>city</th>\n",
       "      <th>date</th>\n",
       "      <th>language</th>\n",
       "      <th>mobile</th>\n",
       "      <th>request_number</th>\n",
       "      <th>avatar_id</th>\n",
       "      <th>hotel_id</th>\n",
       "      <th>price</th>\n",
       "      <th>stock</th>\n",
       "      <th>group</th>\n",
       "      <th>brand</th>\n",
       "      <th>parking</th>\n",
       "      <th>pool</th>\n",
       "      <th>children_policy</th>\n",
       "    </tr>\n",
       "  </thead>\n",
       "  <tbody>\n",
       "    <tr>\n",
       "      <th>486635</th>\n",
       "      <td>588423</td>\n",
       "      <td>madrid</td>\n",
       "      <td>6</td>\n",
       "      <td>finnish</td>\n",
       "      <td>0</td>\n",
       "      <td>1</td>\n",
       "      <td>149073</td>\n",
       "      <td>154</td>\n",
       "      <td>353</td>\n",
       "      <td>6</td>\n",
       "      <td>Accar Hotels</td>\n",
       "      <td>Safitel</td>\n",
       "      <td>1</td>\n",
       "      <td>1</td>\n",
       "      <td>0</td>\n",
       "    </tr>\n",
       "    <tr>\n",
       "      <th>450590</th>\n",
       "      <td>588424</td>\n",
       "      <td>madrid</td>\n",
       "      <td>6</td>\n",
       "      <td>finnish</td>\n",
       "      <td>0</td>\n",
       "      <td>1</td>\n",
       "      <td>149073</td>\n",
       "      <td>873</td>\n",
       "      <td>234</td>\n",
       "      <td>14</td>\n",
       "      <td>Accar Hotels</td>\n",
       "      <td>Safitel</td>\n",
       "      <td>1</td>\n",
       "      <td>1</td>\n",
       "      <td>0</td>\n",
       "    </tr>\n",
       "    <tr>\n",
       "      <th>488213</th>\n",
       "      <td>588425</td>\n",
       "      <td>madrid</td>\n",
       "      <td>6</td>\n",
       "      <td>finnish</td>\n",
       "      <td>0</td>\n",
       "      <td>1</td>\n",
       "      <td>149073</td>\n",
       "      <td>478</td>\n",
       "      <td>119</td>\n",
       "      <td>4</td>\n",
       "      <td>Accar Hotels</td>\n",
       "      <td>Navatel</td>\n",
       "      <td>0</td>\n",
       "      <td>0</td>\n",
       "      <td>0</td>\n",
       "    </tr>\n",
       "    <tr>\n",
       "      <th>471632</th>\n",
       "      <td>588426</td>\n",
       "      <td>madrid</td>\n",
       "      <td>6</td>\n",
       "      <td>finnish</td>\n",
       "      <td>0</td>\n",
       "      <td>1</td>\n",
       "      <td>149073</td>\n",
       "      <td>936</td>\n",
       "      <td>161</td>\n",
       "      <td>5</td>\n",
       "      <td>Boss Western</td>\n",
       "      <td>J.Halliday Inn</td>\n",
       "      <td>1</td>\n",
       "      <td>0</td>\n",
       "      <td>0</td>\n",
       "    </tr>\n",
       "    <tr>\n",
       "      <th>493957</th>\n",
       "      <td>588427</td>\n",
       "      <td>madrid</td>\n",
       "      <td>6</td>\n",
       "      <td>finnish</td>\n",
       "      <td>0</td>\n",
       "      <td>1</td>\n",
       "      <td>149073</td>\n",
       "      <td>261</td>\n",
       "      <td>154</td>\n",
       "      <td>4</td>\n",
       "      <td>Boss Western</td>\n",
       "      <td>Boss Western</td>\n",
       "      <td>0</td>\n",
       "      <td>0</td>\n",
       "      <td>0</td>\n",
       "    </tr>\n",
       "  </tbody>\n",
       "</table>\n",
       "</div>"
      ],
      "text/plain": [
       "         index    city  date language  mobile  request_number  avatar_id  \\\n",
       "486635  588423  madrid     6  finnish       0               1     149073   \n",
       "450590  588424  madrid     6  finnish       0               1     149073   \n",
       "488213  588425  madrid     6  finnish       0               1     149073   \n",
       "471632  588426  madrid     6  finnish       0               1     149073   \n",
       "493957  588427  madrid     6  finnish       0               1     149073   \n",
       "\n",
       "        hotel_id  price  stock         group           brand  parking  pool  \\\n",
       "486635       154    353      6  Accar Hotels         Safitel        1     1   \n",
       "450590       873    234     14  Accar Hotels         Safitel        1     1   \n",
       "488213       478    119      4  Accar Hotels         Navatel        0     0   \n",
       "471632       936    161      5  Boss Western  J.Halliday Inn        1     0   \n",
       "493957       261    154      4  Boss Western    Boss Western        0     0   \n",
       "\n",
       "        children_policy  \n",
       "486635                0  \n",
       "450590                0  \n",
       "488213                0  \n",
       "471632                0  \n",
       "493957                0  "
      ]
     },
     "execution_count": 4,
     "metadata": {},
     "output_type": "execute_result"
    }
   ],
   "source": [
    "local = True\n",
    "\n",
    "path = '../data/' \n",
    "hotels = pd.read_csv('../data/features_hotels.csv') # à tester, sans ces données\n",
    "\n",
    "if local : \n",
    "    data = pd.read_csv(path+\"data.csv\")#,index_col=0)\n",
    "else :\n",
    "    url = 'https://drive.google.com/file/d/10sNct4HjylkBudNAQNfvMpI7qgvsspwj/view?usp=sharing'\n",
    "    path = 'https://drive.google.com/uc?export=download&id='+url.split('/')[-2]\n",
    "    data = pd.read_csv(path)\n",
    "data = data.reset_index()   \n",
    "data = data.merge(hotels, on=['hotel_id','city'])\n",
    "data = data.sort_values(by='index')\n",
    "\n",
    "data_test = pd.read_csv(path+'test_set.csv') # ignore index\n",
    "data_test['request_number'] = 1\n",
    "for avatar in np.unique(data_test['avatar_id']):\n",
    "    data_test.loc[data_test['avatar_id'] == avatar, 'request_number'] = data_test['order_requests'].loc[data_test['avatar_id']== avatar] - min(data_test['order_requests'].loc[data_test['avatar_id']== avatar])+1\n",
    "\n",
    "data_test = data_test.reset_index()    \n",
    "data_test = data_test.merge(hotels, on=['hotel_id','city'])     \n",
    "data_test = data_test.sort_values('index')    \n",
    "data = data.drop(index = data.loc[data.avatar_id == 134].index)\n",
    "data.tail()"
   ]
  },
  {
   "cell_type": "code",
   "execution_count": 5,
   "id": "4d2ee023",
   "metadata": {
    "ExecuteTime": {
     "end_time": "2022-11-16T10:05:32.236186Z",
     "start_time": "2022-11-16T10:05:32.213653Z"
    }
   },
   "outputs": [
    {
     "data": {
      "text/html": [
       "<div>\n",
       "<style scoped>\n",
       "    .dataframe tbody tr th:only-of-type {\n",
       "        vertical-align: middle;\n",
       "    }\n",
       "\n",
       "    .dataframe tbody tr th {\n",
       "        vertical-align: top;\n",
       "    }\n",
       "\n",
       "    .dataframe thead th {\n",
       "        text-align: right;\n",
       "    }\n",
       "</style>\n",
       "<table border=\"1\" class=\"dataframe\">\n",
       "  <thead>\n",
       "    <tr style=\"text-align: right;\">\n",
       "      <th></th>\n",
       "      <th>level_0</th>\n",
       "      <th>index</th>\n",
       "      <th>order_requests</th>\n",
       "      <th>city</th>\n",
       "      <th>date</th>\n",
       "      <th>language</th>\n",
       "      <th>mobile</th>\n",
       "      <th>avatar_id</th>\n",
       "      <th>hotel_id</th>\n",
       "      <th>stock</th>\n",
       "      <th>request_number</th>\n",
       "      <th>group</th>\n",
       "      <th>brand</th>\n",
       "      <th>parking</th>\n",
       "      <th>pool</th>\n",
       "      <th>children_policy</th>\n",
       "    </tr>\n",
       "  </thead>\n",
       "  <tbody>\n",
       "    <tr>\n",
       "      <th>0</th>\n",
       "      <td>0</td>\n",
       "      <td>0</td>\n",
       "      <td>1</td>\n",
       "      <td>vilnius</td>\n",
       "      <td>21</td>\n",
       "      <td>romanian</td>\n",
       "      <td>0</td>\n",
       "      <td>1</td>\n",
       "      <td>161</td>\n",
       "      <td>46</td>\n",
       "      <td>1</td>\n",
       "      <td>Boss Western</td>\n",
       "      <td>J.Halliday Inn</td>\n",
       "      <td>1</td>\n",
       "      <td>0</td>\n",
       "      <td>0</td>\n",
       "    </tr>\n",
       "    <tr>\n",
       "      <th>29</th>\n",
       "      <td>1</td>\n",
       "      <td>1</td>\n",
       "      <td>1</td>\n",
       "      <td>vilnius</td>\n",
       "      <td>21</td>\n",
       "      <td>romanian</td>\n",
       "      <td>0</td>\n",
       "      <td>1</td>\n",
       "      <td>187</td>\n",
       "      <td>32</td>\n",
       "      <td>1</td>\n",
       "      <td>Accar Hotels</td>\n",
       "      <td>Marcure</td>\n",
       "      <td>1</td>\n",
       "      <td>1</td>\n",
       "      <td>0</td>\n",
       "    </tr>\n",
       "    <tr>\n",
       "      <th>58</th>\n",
       "      <td>2</td>\n",
       "      <td>2</td>\n",
       "      <td>1</td>\n",
       "      <td>vilnius</td>\n",
       "      <td>21</td>\n",
       "      <td>romanian</td>\n",
       "      <td>0</td>\n",
       "      <td>1</td>\n",
       "      <td>279</td>\n",
       "      <td>12</td>\n",
       "      <td>1</td>\n",
       "      <td>Independant</td>\n",
       "      <td>Independant</td>\n",
       "      <td>1</td>\n",
       "      <td>0</td>\n",
       "      <td>0</td>\n",
       "    </tr>\n",
       "    <tr>\n",
       "      <th>87</th>\n",
       "      <td>3</td>\n",
       "      <td>3</td>\n",
       "      <td>1</td>\n",
       "      <td>vilnius</td>\n",
       "      <td>21</td>\n",
       "      <td>romanian</td>\n",
       "      <td>0</td>\n",
       "      <td>1</td>\n",
       "      <td>395</td>\n",
       "      <td>10</td>\n",
       "      <td>1</td>\n",
       "      <td>Accar Hotels</td>\n",
       "      <td>Ibas</td>\n",
       "      <td>0</td>\n",
       "      <td>0</td>\n",
       "      <td>0</td>\n",
       "    </tr>\n",
       "    <tr>\n",
       "      <th>176</th>\n",
       "      <td>4</td>\n",
       "      <td>4</td>\n",
       "      <td>1</td>\n",
       "      <td>vilnius</td>\n",
       "      <td>21</td>\n",
       "      <td>romanian</td>\n",
       "      <td>0</td>\n",
       "      <td>1</td>\n",
       "      <td>488</td>\n",
       "      <td>42</td>\n",
       "      <td>1</td>\n",
       "      <td>Accar Hotels</td>\n",
       "      <td>Safitel</td>\n",
       "      <td>1</td>\n",
       "      <td>1</td>\n",
       "      <td>1</td>\n",
       "    </tr>\n",
       "  </tbody>\n",
       "</table>\n",
       "</div>"
      ],
      "text/plain": [
       "     level_0  index  order_requests     city  date  language  mobile  \\\n",
       "0          0      0               1  vilnius    21  romanian       0   \n",
       "29         1      1               1  vilnius    21  romanian       0   \n",
       "58         2      2               1  vilnius    21  romanian       0   \n",
       "87         3      3               1  vilnius    21  romanian       0   \n",
       "176        4      4               1  vilnius    21  romanian       0   \n",
       "\n",
       "     avatar_id  hotel_id  stock  request_number         group           brand  \\\n",
       "0            1       161     46               1  Boss Western  J.Halliday Inn   \n",
       "29           1       187     32               1  Accar Hotels         Marcure   \n",
       "58           1       279     12               1   Independant     Independant   \n",
       "87           1       395     10               1  Accar Hotels            Ibas   \n",
       "176          1       488     42               1  Accar Hotels         Safitel   \n",
       "\n",
       "     parking  pool  children_policy  \n",
       "0          1     0                0  \n",
       "29         1     1                0  \n",
       "58         1     0                0  \n",
       "87         0     0                0  \n",
       "176        1     1                1  "
      ]
     },
     "execution_count": 5,
     "metadata": {},
     "output_type": "execute_result"
    }
   ],
   "source": [
    "data_test.head()"
   ]
  },
  {
   "cell_type": "markdown",
   "id": "0b73b264",
   "metadata": {},
   "source": [
    "> ajouter une variable écart de temps\n",
    "\n",
    "> fusionner children policy 1 et 2\n",
    "\n",
    "> hotel_ID en QT\n",
    "\n",
    "> transfos sur le prix\n",
    "\n",
    "> transfos sur autres variables QT"
   ]
  },
  {
   "cell_type": "code",
   "execution_count": 6,
   "id": "36d095d9",
   "metadata": {
    "ExecuteTime": {
     "end_time": "2022-11-16T10:05:37.016193Z",
     "start_time": "2022-11-16T10:05:36.785689Z"
    }
   },
   "outputs": [
    {
     "data": {
      "text/plain": [
       "index                 int64\n",
       "city               category\n",
       "date                  int64\n",
       "language           category\n",
       "mobile             category\n",
       "request_number        int64\n",
       "avatar_id          category\n",
       "hotel_id           category\n",
       "price                 int64\n",
       "stock                 int64\n",
       "group              category\n",
       "brand              category\n",
       "parking            category\n",
       "pool               category\n",
       "children_policy    category\n",
       "dtype: object"
      ]
     },
     "execution_count": 6,
     "metadata": {},
     "output_type": "execute_result"
    }
   ],
   "source": [
    "for col in ['city', 'language', 'avatar_id', 'hotel_id', 'group', 'brand','children_policy','mobile','parking','pool'] :\n",
    "    data[col] = pd.Categorical(data[col],ordered=False)\n",
    "    data_test[col] = pd.Categorical(data_test[col],ordered=False)\n",
    "    \n",
    "data.dtypes"
   ]
  },
  {
   "cell_type": "code",
   "execution_count": 7,
   "id": "47e1b06f",
   "metadata": {
    "ExecuteTime": {
     "end_time": "2022-11-16T10:05:37.131780Z",
     "start_time": "2022-11-16T10:05:37.126691Z"
    }
   },
   "outputs": [],
   "source": [
    "colQT = ['request_number', 'stock', 'date','price']\n",
    "colBool = ['mobile', 'pool', 'parking']\n",
    "colQL = ['city', 'language', 'group', 'brand', 'children_policy']"
   ]
  },
  {
   "cell_type": "code",
   "execution_count": 8,
   "id": "4f824d54",
   "metadata": {
    "ExecuteTime": {
     "end_time": "2022-11-16T10:05:37.433021Z",
     "start_time": "2022-11-16T10:05:37.428018Z"
    }
   },
   "outputs": [],
   "source": [
    "colQT = ['stock', 'date','price']\n",
    "colBool = ['mobile', 'pool', 'parking']\n",
    "colQL = ['city', 'language', 'group', 'brand', 'children_policy']"
   ]
  },
  {
   "cell_type": "code",
   "execution_count": 9,
   "id": "cc4b64d4",
   "metadata": {
    "ExecuteTime": {
     "end_time": "2022-11-16T10:05:37.637438Z",
     "start_time": "2022-11-16T10:05:37.632270Z"
    }
   },
   "outputs": [],
   "source": [
    "if _prints :\n",
    "    plt.figure()\n",
    "    sns.histplot(data['price'])\n",
    "    plt.show()"
   ]
  },
  {
   "cell_type": "code",
   "execution_count": 10,
   "id": "8e92ee91",
   "metadata": {
    "ExecuteTime": {
     "end_time": "2022-11-16T10:05:38.456695Z",
     "start_time": "2022-11-16T10:05:38.450385Z"
    }
   },
   "outputs": [],
   "source": [
    "if _prints :\n",
    "    plt.figure()\n",
    "    sns.histplot(data['price'].map(lambda x: x**(1/3)))\n",
    "    plt.show()"
   ]
  },
  {
   "cell_type": "code",
   "execution_count": 11,
   "id": "33b9f737",
   "metadata": {
    "ExecuteTime": {
     "end_time": "2022-11-16T10:05:38.664565Z",
     "start_time": "2022-11-16T10:05:38.658957Z"
    }
   },
   "outputs": [],
   "source": [
    "transfo = False\n",
    "if transfo :\n",
    "    data['SRprice'] = data['price'].map(lambda x: x**(1/3))"
   ]
  },
  {
   "cell_type": "code",
   "execution_count": 12,
   "id": "e899ee0c",
   "metadata": {
    "ExecuteTime": {
     "end_time": "2022-11-16T10:05:38.821174Z",
     "start_time": "2022-11-16T10:05:38.815615Z"
    },
    "code_folding": []
   },
   "outputs": [],
   "source": [
    "if _prints :\n",
    "    for col in colQL:\n",
    "        plt.figure(figsize=(8,3))\n",
    "        sns.histplot(data[col])\n",
    "        plt.xticks(rotation=45)\n",
    "        plt.show()"
   ]
  },
  {
   "cell_type": "code",
   "execution_count": 13,
   "id": "4f7341a6",
   "metadata": {
    "ExecuteTime": {
     "end_time": "2022-11-16T10:05:38.985637Z",
     "start_time": "2022-11-16T10:05:38.979556Z"
    }
   },
   "outputs": [],
   "source": [
    "if _prints :\n",
    "    for col in colQL:\n",
    "        plt.figure(figsize=(8,3))\n",
    "        sns.histplot(data_test[col])\n",
    "        plt.xticks(rotation=45)\n",
    "        plt.show()"
   ]
  },
  {
   "cell_type": "code",
   "execution_count": 14,
   "id": "6e4abab6",
   "metadata": {
    "ExecuteTime": {
     "end_time": "2022-11-16T10:05:39.640094Z",
     "start_time": "2022-11-16T10:05:39.633444Z"
    }
   },
   "outputs": [],
   "source": [
    "if _prints :\n",
    "    scatter_matrix(data[colQT], alpha=0.2, figsize=(10, 10), diagonal='kde')\n",
    "    plt.tight_layout()\n",
    "    plt.show()"
   ]
  },
  {
   "cell_type": "code",
   "execution_count": 15,
   "id": "ff01db84",
   "metadata": {
    "ExecuteTime": {
     "end_time": "2022-11-16T10:05:39.815236Z",
     "start_time": "2022-11-16T10:05:39.810059Z"
    }
   },
   "outputs": [],
   "source": [
    "if _prints :\n",
    "    scatter_matrix(data_test[colQT], alpha=0.2, figsize=(10, 10), diagonal='kde')\n",
    "    plt.tight_layout()\n",
    "    plt.show()"
   ]
  },
  {
   "cell_type": "markdown",
   "id": "ccb3274f",
   "metadata": {
    "ExecuteTime": {
     "end_time": "2022-11-10T13:02:55.565212Z",
     "start_time": "2022-11-10T13:02:55.551569Z"
    }
   },
   "source": [
    "QT vs QL"
   ]
  },
  {
   "cell_type": "code",
   "execution_count": 16,
   "id": "c0df70ae",
   "metadata": {
    "ExecuteTime": {
     "end_time": "2022-11-16T10:05:40.758330Z",
     "start_time": "2022-11-16T10:05:40.753191Z"
    }
   },
   "outputs": [],
   "source": [
    "# dataDum = pd.get_dummies(data[['city','language','mobile','hotel_id','group','brand','parking','pool','children_policy']])\n",
    "# del dataDum['city_amsterdam']\n",
    "# del dataDum['language_austrian']\n",
    "# del dataDum['mobile_0']\n",
    "# del dataDum['hotel_id_0']\n",
    "# del dataDum['group_Accar Hotels']\n",
    "# del dataDum['brand_8 Premium']\n",
    "# del dataDum['parking_0']\n",
    "# del dataDum['pool_0']\n",
    "# del dataDum['children_policy_0']\n",
    "\n",
    "# # on Test Set\n",
    "\n",
    "# dataDum_test = pd.get_dummies(data_test[['city','language','mobile','hotel_id','group','brand','parking','pool','children_policy']])\n",
    "# del dataDum_test['city_amsterdam']\n",
    "# del dataDum_test['language_austrian']\n",
    "# del dataDum_test['mobile_0']\n",
    "# del dataDum_test['hotel_id_0']\n",
    "# del dataDum_test['group_Accar Hotels']\n",
    "# del dataDum_test['brand_8 Premium']\n",
    "# del dataDum_test['parking_0']\n",
    "# del dataDum_test['pool_0']\n",
    "# del dataDum_test['children_policy_0']"
   ]
  },
  {
   "cell_type": "code",
   "execution_count": 17,
   "id": "d293cc95",
   "metadata": {
    "ExecuteTime": {
     "end_time": "2022-11-16T10:05:41.016199Z",
     "start_time": "2022-11-16T10:05:40.932302Z"
    }
   },
   "outputs": [],
   "source": [
    "dataDum = pd.get_dummies(data[colQL])\n",
    "\n",
    "# on Test Set\n",
    "\n",
    "dataDum_test = pd.get_dummies(data_test[colQL])"
   ]
  },
  {
   "cell_type": "code",
   "execution_count": 18,
   "id": "ea8bae56",
   "metadata": {
    "ExecuteTime": {
     "end_time": "2022-11-16T10:05:41.658640Z",
     "start_time": "2022-11-16T10:05:41.649770Z"
    }
   },
   "outputs": [],
   "source": [
    "for i in dataDum.columns:\n",
    "    if i not in dataDum_test.columns:\n",
    "        dataDum_test[i] = 0\n",
    "dataDum_test = dataDum_test[dataDum.columns]"
   ]
  },
  {
   "cell_type": "code",
   "execution_count": 19,
   "id": "89f67625",
   "metadata": {
    "ExecuteTime": {
     "end_time": "2022-11-16T10:05:41.904777Z",
     "start_time": "2022-11-16T10:05:41.884569Z"
    }
   },
   "outputs": [
    {
     "data": {
      "text/html": [
       "<div>\n",
       "<style scoped>\n",
       "    .dataframe tbody tr th:only-of-type {\n",
       "        vertical-align: middle;\n",
       "    }\n",
       "\n",
       "    .dataframe tbody tr th {\n",
       "        vertical-align: top;\n",
       "    }\n",
       "\n",
       "    .dataframe thead th {\n",
       "        text-align: right;\n",
       "    }\n",
       "</style>\n",
       "<table border=\"1\" class=\"dataframe\">\n",
       "  <thead>\n",
       "    <tr style=\"text-align: right;\">\n",
       "      <th></th>\n",
       "      <th>city_amsterdam</th>\n",
       "      <th>city_copenhagen</th>\n",
       "      <th>city_madrid</th>\n",
       "      <th>city_paris</th>\n",
       "      <th>city_rome</th>\n",
       "      <th>city_sofia</th>\n",
       "      <th>city_valletta</th>\n",
       "      <th>city_vienna</th>\n",
       "      <th>city_vilnius</th>\n",
       "      <th>language_austrian</th>\n",
       "      <th>...</th>\n",
       "      <th>brand_Marcure</th>\n",
       "      <th>brand_Morriot</th>\n",
       "      <th>brand_Navatel</th>\n",
       "      <th>brand_Quadrupletree</th>\n",
       "      <th>brand_Royal Lotus</th>\n",
       "      <th>brand_Safitel</th>\n",
       "      <th>brand_Tripletree</th>\n",
       "      <th>children_policy_0</th>\n",
       "      <th>children_policy_1</th>\n",
       "      <th>children_policy_2</th>\n",
       "    </tr>\n",
       "  </thead>\n",
       "  <tbody>\n",
       "    <tr>\n",
       "      <th>0</th>\n",
       "      <td>0</td>\n",
       "      <td>0</td>\n",
       "      <td>0</td>\n",
       "      <td>0</td>\n",
       "      <td>0</td>\n",
       "      <td>0</td>\n",
       "      <td>0</td>\n",
       "      <td>0</td>\n",
       "      <td>1</td>\n",
       "      <td>0</td>\n",
       "      <td>...</td>\n",
       "      <td>0</td>\n",
       "      <td>0</td>\n",
       "      <td>0</td>\n",
       "      <td>0</td>\n",
       "      <td>0</td>\n",
       "      <td>0</td>\n",
       "      <td>0</td>\n",
       "      <td>1</td>\n",
       "      <td>0</td>\n",
       "      <td>0</td>\n",
       "    </tr>\n",
       "    <tr>\n",
       "      <th>29</th>\n",
       "      <td>0</td>\n",
       "      <td>0</td>\n",
       "      <td>0</td>\n",
       "      <td>0</td>\n",
       "      <td>0</td>\n",
       "      <td>0</td>\n",
       "      <td>0</td>\n",
       "      <td>0</td>\n",
       "      <td>1</td>\n",
       "      <td>0</td>\n",
       "      <td>...</td>\n",
       "      <td>1</td>\n",
       "      <td>0</td>\n",
       "      <td>0</td>\n",
       "      <td>0</td>\n",
       "      <td>0</td>\n",
       "      <td>0</td>\n",
       "      <td>0</td>\n",
       "      <td>1</td>\n",
       "      <td>0</td>\n",
       "      <td>0</td>\n",
       "    </tr>\n",
       "    <tr>\n",
       "      <th>58</th>\n",
       "      <td>0</td>\n",
       "      <td>0</td>\n",
       "      <td>0</td>\n",
       "      <td>0</td>\n",
       "      <td>0</td>\n",
       "      <td>0</td>\n",
       "      <td>0</td>\n",
       "      <td>0</td>\n",
       "      <td>1</td>\n",
       "      <td>0</td>\n",
       "      <td>...</td>\n",
       "      <td>0</td>\n",
       "      <td>0</td>\n",
       "      <td>0</td>\n",
       "      <td>0</td>\n",
       "      <td>0</td>\n",
       "      <td>0</td>\n",
       "      <td>0</td>\n",
       "      <td>1</td>\n",
       "      <td>0</td>\n",
       "      <td>0</td>\n",
       "    </tr>\n",
       "    <tr>\n",
       "      <th>87</th>\n",
       "      <td>0</td>\n",
       "      <td>0</td>\n",
       "      <td>0</td>\n",
       "      <td>0</td>\n",
       "      <td>0</td>\n",
       "      <td>0</td>\n",
       "      <td>0</td>\n",
       "      <td>0</td>\n",
       "      <td>1</td>\n",
       "      <td>0</td>\n",
       "      <td>...</td>\n",
       "      <td>0</td>\n",
       "      <td>0</td>\n",
       "      <td>0</td>\n",
       "      <td>0</td>\n",
       "      <td>0</td>\n",
       "      <td>0</td>\n",
       "      <td>0</td>\n",
       "      <td>1</td>\n",
       "      <td>0</td>\n",
       "      <td>0</td>\n",
       "    </tr>\n",
       "    <tr>\n",
       "      <th>176</th>\n",
       "      <td>0</td>\n",
       "      <td>0</td>\n",
       "      <td>0</td>\n",
       "      <td>0</td>\n",
       "      <td>0</td>\n",
       "      <td>0</td>\n",
       "      <td>0</td>\n",
       "      <td>0</td>\n",
       "      <td>1</td>\n",
       "      <td>0</td>\n",
       "      <td>...</td>\n",
       "      <td>0</td>\n",
       "      <td>0</td>\n",
       "      <td>0</td>\n",
       "      <td>0</td>\n",
       "      <td>0</td>\n",
       "      <td>1</td>\n",
       "      <td>0</td>\n",
       "      <td>0</td>\n",
       "      <td>1</td>\n",
       "      <td>0</td>\n",
       "    </tr>\n",
       "  </tbody>\n",
       "</table>\n",
       "<p>5 rows × 61 columns</p>\n",
       "</div>"
      ],
      "text/plain": [
       "     city_amsterdam  city_copenhagen  city_madrid  city_paris  city_rome  \\\n",
       "0                 0                0            0           0          0   \n",
       "29                0                0            0           0          0   \n",
       "58                0                0            0           0          0   \n",
       "87                0                0            0           0          0   \n",
       "176               0                0            0           0          0   \n",
       "\n",
       "     city_sofia  city_valletta  city_vienna  city_vilnius  language_austrian  \\\n",
       "0             0              0            0             1                  0   \n",
       "29            0              0            0             1                  0   \n",
       "58            0              0            0             1                  0   \n",
       "87            0              0            0             1                  0   \n",
       "176           0              0            0             1                  0   \n",
       "\n",
       "     ...  brand_Marcure  brand_Morriot  brand_Navatel  brand_Quadrupletree  \\\n",
       "0    ...              0              0              0                    0   \n",
       "29   ...              1              0              0                    0   \n",
       "58   ...              0              0              0                    0   \n",
       "87   ...              0              0              0                    0   \n",
       "176  ...              0              0              0                    0   \n",
       "\n",
       "     brand_Royal Lotus  brand_Safitel  brand_Tripletree  children_policy_0  \\\n",
       "0                    0              0                 0                  1   \n",
       "29                   0              0                 0                  1   \n",
       "58                   0              0                 0                  1   \n",
       "87                   0              0                 0                  1   \n",
       "176                  0              1                 0                  0   \n",
       "\n",
       "     children_policy_1  children_policy_2  \n",
       "0                    0                  0  \n",
       "29                   0                  0  \n",
       "58                   0                  0  \n",
       "87                   0                  0  \n",
       "176                  1                  0  \n",
       "\n",
       "[5 rows x 61 columns]"
      ]
     },
     "execution_count": 19,
     "metadata": {},
     "output_type": "execute_result"
    }
   ],
   "source": [
    "dataDum_test.head()"
   ]
  },
  {
   "cell_type": "code",
   "execution_count": 20,
   "id": "8bd7e966",
   "metadata": {
    "ExecuteTime": {
     "end_time": "2022-11-16T10:05:42.699510Z",
     "start_time": "2022-11-16T10:05:42.675251Z"
    }
   },
   "outputs": [
    {
     "data": {
      "text/html": [
       "<div>\n",
       "<style scoped>\n",
       "    .dataframe tbody tr th:only-of-type {\n",
       "        vertical-align: middle;\n",
       "    }\n",
       "\n",
       "    .dataframe tbody tr th {\n",
       "        vertical-align: top;\n",
       "    }\n",
       "\n",
       "    .dataframe thead th {\n",
       "        text-align: right;\n",
       "    }\n",
       "</style>\n",
       "<table border=\"1\" class=\"dataframe\">\n",
       "  <thead>\n",
       "    <tr style=\"text-align: right;\">\n",
       "      <th></th>\n",
       "      <th>city_amsterdam</th>\n",
       "      <th>city_copenhagen</th>\n",
       "      <th>city_madrid</th>\n",
       "      <th>city_paris</th>\n",
       "      <th>city_rome</th>\n",
       "      <th>city_sofia</th>\n",
       "      <th>city_valletta</th>\n",
       "      <th>city_vienna</th>\n",
       "      <th>city_vilnius</th>\n",
       "      <th>language_austrian</th>\n",
       "      <th>...</th>\n",
       "      <th>brand_Marcure</th>\n",
       "      <th>brand_Morriot</th>\n",
       "      <th>brand_Navatel</th>\n",
       "      <th>brand_Quadrupletree</th>\n",
       "      <th>brand_Royal Lotus</th>\n",
       "      <th>brand_Safitel</th>\n",
       "      <th>brand_Tripletree</th>\n",
       "      <th>children_policy_0</th>\n",
       "      <th>children_policy_1</th>\n",
       "      <th>children_policy_2</th>\n",
       "    </tr>\n",
       "  </thead>\n",
       "  <tbody>\n",
       "    <tr>\n",
       "      <th>13663</th>\n",
       "      <td>1</td>\n",
       "      <td>0</td>\n",
       "      <td>0</td>\n",
       "      <td>0</td>\n",
       "      <td>0</td>\n",
       "      <td>0</td>\n",
       "      <td>0</td>\n",
       "      <td>0</td>\n",
       "      <td>0</td>\n",
       "      <td>0</td>\n",
       "      <td>...</td>\n",
       "      <td>0</td>\n",
       "      <td>0</td>\n",
       "      <td>0</td>\n",
       "      <td>0</td>\n",
       "      <td>0</td>\n",
       "      <td>0</td>\n",
       "      <td>0</td>\n",
       "      <td>1</td>\n",
       "      <td>0</td>\n",
       "      <td>0</td>\n",
       "    </tr>\n",
       "    <tr>\n",
       "      <th>14411</th>\n",
       "      <td>1</td>\n",
       "      <td>0</td>\n",
       "      <td>0</td>\n",
       "      <td>0</td>\n",
       "      <td>0</td>\n",
       "      <td>0</td>\n",
       "      <td>0</td>\n",
       "      <td>0</td>\n",
       "      <td>0</td>\n",
       "      <td>0</td>\n",
       "      <td>...</td>\n",
       "      <td>0</td>\n",
       "      <td>0</td>\n",
       "      <td>0</td>\n",
       "      <td>0</td>\n",
       "      <td>0</td>\n",
       "      <td>0</td>\n",
       "      <td>0</td>\n",
       "      <td>1</td>\n",
       "      <td>0</td>\n",
       "      <td>0</td>\n",
       "    </tr>\n",
       "    <tr>\n",
       "      <th>15159</th>\n",
       "      <td>1</td>\n",
       "      <td>0</td>\n",
       "      <td>0</td>\n",
       "      <td>0</td>\n",
       "      <td>0</td>\n",
       "      <td>0</td>\n",
       "      <td>0</td>\n",
       "      <td>0</td>\n",
       "      <td>0</td>\n",
       "      <td>0</td>\n",
       "      <td>...</td>\n",
       "      <td>0</td>\n",
       "      <td>0</td>\n",
       "      <td>0</td>\n",
       "      <td>0</td>\n",
       "      <td>0</td>\n",
       "      <td>0</td>\n",
       "      <td>0</td>\n",
       "      <td>1</td>\n",
       "      <td>0</td>\n",
       "      <td>0</td>\n",
       "    </tr>\n",
       "    <tr>\n",
       "      <th>15907</th>\n",
       "      <td>1</td>\n",
       "      <td>0</td>\n",
       "      <td>0</td>\n",
       "      <td>0</td>\n",
       "      <td>0</td>\n",
       "      <td>0</td>\n",
       "      <td>0</td>\n",
       "      <td>0</td>\n",
       "      <td>0</td>\n",
       "      <td>0</td>\n",
       "      <td>...</td>\n",
       "      <td>0</td>\n",
       "      <td>0</td>\n",
       "      <td>0</td>\n",
       "      <td>0</td>\n",
       "      <td>0</td>\n",
       "      <td>1</td>\n",
       "      <td>0</td>\n",
       "      <td>1</td>\n",
       "      <td>0</td>\n",
       "      <td>0</td>\n",
       "    </tr>\n",
       "    <tr>\n",
       "      <th>16489</th>\n",
       "      <td>1</td>\n",
       "      <td>0</td>\n",
       "      <td>0</td>\n",
       "      <td>0</td>\n",
       "      <td>0</td>\n",
       "      <td>0</td>\n",
       "      <td>0</td>\n",
       "      <td>0</td>\n",
       "      <td>0</td>\n",
       "      <td>0</td>\n",
       "      <td>...</td>\n",
       "      <td>0</td>\n",
       "      <td>0</td>\n",
       "      <td>0</td>\n",
       "      <td>0</td>\n",
       "      <td>0</td>\n",
       "      <td>0</td>\n",
       "      <td>0</td>\n",
       "      <td>1</td>\n",
       "      <td>0</td>\n",
       "      <td>0</td>\n",
       "    </tr>\n",
       "  </tbody>\n",
       "</table>\n",
       "<p>5 rows × 61 columns</p>\n",
       "</div>"
      ],
      "text/plain": [
       "       city_amsterdam  city_copenhagen  city_madrid  city_paris  city_rome  \\\n",
       "13663               1                0            0           0          0   \n",
       "14411               1                0            0           0          0   \n",
       "15159               1                0            0           0          0   \n",
       "15907               1                0            0           0          0   \n",
       "16489               1                0            0           0          0   \n",
       "\n",
       "       city_sofia  city_valletta  city_vienna  city_vilnius  \\\n",
       "13663           0              0            0             0   \n",
       "14411           0              0            0             0   \n",
       "15159           0              0            0             0   \n",
       "15907           0              0            0             0   \n",
       "16489           0              0            0             0   \n",
       "\n",
       "       language_austrian  ...  brand_Marcure  brand_Morriot  brand_Navatel  \\\n",
       "13663                  0  ...              0              0              0   \n",
       "14411                  0  ...              0              0              0   \n",
       "15159                  0  ...              0              0              0   \n",
       "15907                  0  ...              0              0              0   \n",
       "16489                  0  ...              0              0              0   \n",
       "\n",
       "       brand_Quadrupletree  brand_Royal Lotus  brand_Safitel  \\\n",
       "13663                    0                  0              0   \n",
       "14411                    0                  0              0   \n",
       "15159                    0                  0              0   \n",
       "15907                    0                  0              1   \n",
       "16489                    0                  0              0   \n",
       "\n",
       "       brand_Tripletree  children_policy_0  children_policy_1  \\\n",
       "13663                 0                  1                  0   \n",
       "14411                 0                  1                  0   \n",
       "15159                 0                  1                  0   \n",
       "15907                 0                  1                  0   \n",
       "16489                 0                  1                  0   \n",
       "\n",
       "       children_policy_2  \n",
       "13663                  0  \n",
       "14411                  0  \n",
       "15159                  0  \n",
       "15907                  0  \n",
       "16489                  0  \n",
       "\n",
       "[5 rows x 61 columns]"
      ]
     },
     "execution_count": 20,
     "metadata": {},
     "output_type": "execute_result"
    }
   ],
   "source": [
    "dataDum.head()"
   ]
  },
  {
   "cell_type": "code",
   "execution_count": 21,
   "id": "402da96a",
   "metadata": {
    "ExecuteTime": {
     "end_time": "2022-11-16T10:05:42.874891Z",
     "start_time": "2022-11-16T10:05:42.864330Z"
    }
   },
   "outputs": [],
   "source": [
    "dataQT = data[colQT[:-1]]\n",
    "dataQT_test = data_test[colQT[:-1]]"
   ]
  },
  {
   "cell_type": "code",
   "execution_count": 22,
   "id": "f0fd8b8c",
   "metadata": {
    "ExecuteTime": {
     "end_time": "2022-11-16T10:05:43.546152Z",
     "start_time": "2022-11-16T10:05:43.537893Z"
    }
   },
   "outputs": [],
   "source": [
    "dataBool = data[colBool]\n",
    "dataBool_test = data_test[colBool]"
   ]
  },
  {
   "cell_type": "code",
   "execution_count": 23,
   "id": "364f2d32",
   "metadata": {
    "ExecuteTime": {
     "end_time": "2022-11-16T10:05:43.745363Z",
     "start_time": "2022-11-16T10:05:43.713039Z"
    }
   },
   "outputs": [
    {
     "data": {
      "text/html": [
       "<div>\n",
       "<style scoped>\n",
       "    .dataframe tbody tr th:only-of-type {\n",
       "        vertical-align: middle;\n",
       "    }\n",
       "\n",
       "    .dataframe tbody tr th {\n",
       "        vertical-align: top;\n",
       "    }\n",
       "\n",
       "    .dataframe thead th {\n",
       "        text-align: right;\n",
       "    }\n",
       "</style>\n",
       "<table border=\"1\" class=\"dataframe\">\n",
       "  <thead>\n",
       "    <tr style=\"text-align: right;\">\n",
       "      <th></th>\n",
       "      <th>city_amsterdam</th>\n",
       "      <th>city_copenhagen</th>\n",
       "      <th>city_madrid</th>\n",
       "      <th>city_paris</th>\n",
       "      <th>city_rome</th>\n",
       "      <th>city_sofia</th>\n",
       "      <th>city_valletta</th>\n",
       "      <th>city_vienna</th>\n",
       "      <th>city_vilnius</th>\n",
       "      <th>language_austrian</th>\n",
       "      <th>...</th>\n",
       "      <th>brand_Safitel</th>\n",
       "      <th>brand_Tripletree</th>\n",
       "      <th>children_policy_0</th>\n",
       "      <th>children_policy_1</th>\n",
       "      <th>children_policy_2</th>\n",
       "      <th>stock</th>\n",
       "      <th>date</th>\n",
       "      <th>mobile</th>\n",
       "      <th>pool</th>\n",
       "      <th>parking</th>\n",
       "    </tr>\n",
       "  </thead>\n",
       "  <tbody>\n",
       "    <tr>\n",
       "      <th>13663</th>\n",
       "      <td>1</td>\n",
       "      <td>0</td>\n",
       "      <td>0</td>\n",
       "      <td>0</td>\n",
       "      <td>0</td>\n",
       "      <td>0</td>\n",
       "      <td>0</td>\n",
       "      <td>0</td>\n",
       "      <td>0</td>\n",
       "      <td>0</td>\n",
       "      <td>...</td>\n",
       "      <td>0</td>\n",
       "      <td>0</td>\n",
       "      <td>1</td>\n",
       "      <td>0</td>\n",
       "      <td>0</td>\n",
       "      <td>3</td>\n",
       "      <td>12</td>\n",
       "      <td>1</td>\n",
       "      <td>0</td>\n",
       "      <td>1</td>\n",
       "    </tr>\n",
       "    <tr>\n",
       "      <th>14411</th>\n",
       "      <td>1</td>\n",
       "      <td>0</td>\n",
       "      <td>0</td>\n",
       "      <td>0</td>\n",
       "      <td>0</td>\n",
       "      <td>0</td>\n",
       "      <td>0</td>\n",
       "      <td>0</td>\n",
       "      <td>0</td>\n",
       "      <td>0</td>\n",
       "      <td>...</td>\n",
       "      <td>0</td>\n",
       "      <td>0</td>\n",
       "      <td>1</td>\n",
       "      <td>0</td>\n",
       "      <td>0</td>\n",
       "      <td>0</td>\n",
       "      <td>12</td>\n",
       "      <td>1</td>\n",
       "      <td>0</td>\n",
       "      <td>0</td>\n",
       "    </tr>\n",
       "    <tr>\n",
       "      <th>15159</th>\n",
       "      <td>1</td>\n",
       "      <td>0</td>\n",
       "      <td>0</td>\n",
       "      <td>0</td>\n",
       "      <td>0</td>\n",
       "      <td>0</td>\n",
       "      <td>0</td>\n",
       "      <td>0</td>\n",
       "      <td>0</td>\n",
       "      <td>0</td>\n",
       "      <td>...</td>\n",
       "      <td>0</td>\n",
       "      <td>0</td>\n",
       "      <td>1</td>\n",
       "      <td>0</td>\n",
       "      <td>0</td>\n",
       "      <td>12</td>\n",
       "      <td>12</td>\n",
       "      <td>1</td>\n",
       "      <td>0</td>\n",
       "      <td>0</td>\n",
       "    </tr>\n",
       "    <tr>\n",
       "      <th>15907</th>\n",
       "      <td>1</td>\n",
       "      <td>0</td>\n",
       "      <td>0</td>\n",
       "      <td>0</td>\n",
       "      <td>0</td>\n",
       "      <td>0</td>\n",
       "      <td>0</td>\n",
       "      <td>0</td>\n",
       "      <td>0</td>\n",
       "      <td>0</td>\n",
       "      <td>...</td>\n",
       "      <td>1</td>\n",
       "      <td>0</td>\n",
       "      <td>1</td>\n",
       "      <td>0</td>\n",
       "      <td>0</td>\n",
       "      <td>20</td>\n",
       "      <td>12</td>\n",
       "      <td>1</td>\n",
       "      <td>0</td>\n",
       "      <td>0</td>\n",
       "    </tr>\n",
       "    <tr>\n",
       "      <th>16489</th>\n",
       "      <td>1</td>\n",
       "      <td>0</td>\n",
       "      <td>0</td>\n",
       "      <td>0</td>\n",
       "      <td>0</td>\n",
       "      <td>0</td>\n",
       "      <td>0</td>\n",
       "      <td>0</td>\n",
       "      <td>0</td>\n",
       "      <td>0</td>\n",
       "      <td>...</td>\n",
       "      <td>0</td>\n",
       "      <td>0</td>\n",
       "      <td>1</td>\n",
       "      <td>0</td>\n",
       "      <td>0</td>\n",
       "      <td>18</td>\n",
       "      <td>12</td>\n",
       "      <td>1</td>\n",
       "      <td>1</td>\n",
       "      <td>1</td>\n",
       "    </tr>\n",
       "  </tbody>\n",
       "</table>\n",
       "<p>5 rows × 66 columns</p>\n",
       "</div>"
      ],
      "text/plain": [
       "       city_amsterdam  city_copenhagen  city_madrid  city_paris  city_rome  \\\n",
       "13663               1                0            0           0          0   \n",
       "14411               1                0            0           0          0   \n",
       "15159               1                0            0           0          0   \n",
       "15907               1                0            0           0          0   \n",
       "16489               1                0            0           0          0   \n",
       "\n",
       "       city_sofia  city_valletta  city_vienna  city_vilnius  \\\n",
       "13663           0              0            0             0   \n",
       "14411           0              0            0             0   \n",
       "15159           0              0            0             0   \n",
       "15907           0              0            0             0   \n",
       "16489           0              0            0             0   \n",
       "\n",
       "       language_austrian  ...  brand_Safitel  brand_Tripletree  \\\n",
       "13663                  0  ...              0                 0   \n",
       "14411                  0  ...              0                 0   \n",
       "15159                  0  ...              0                 0   \n",
       "15907                  0  ...              1                 0   \n",
       "16489                  0  ...              0                 0   \n",
       "\n",
       "       children_policy_0  children_policy_1  children_policy_2  stock  date  \\\n",
       "13663                  1                  0                  0      3    12   \n",
       "14411                  1                  0                  0      0    12   \n",
       "15159                  1                  0                  0     12    12   \n",
       "15907                  1                  0                  0     20    12   \n",
       "16489                  1                  0                  0     18    12   \n",
       "\n",
       "       mobile  pool  parking  \n",
       "13663       1     0        1  \n",
       "14411       1     0        0  \n",
       "15159       1     0        0  \n",
       "15907       1     0        0  \n",
       "16489       1     1        1  \n",
       "\n",
       "[5 rows x 66 columns]"
      ]
     },
     "execution_count": 23,
     "metadata": {},
     "output_type": "execute_result"
    }
   ],
   "source": [
    "df = pd.concat([dataDum,dataQT, dataBool],axis=1)\n",
    "df_test = pd.concat([dataDum_test,dataQT_test, dataBool_test],axis=1)\n",
    "df.head()"
   ]
  },
  {
   "cell_type": "code",
   "execution_count": 24,
   "id": "6e53170e",
   "metadata": {
    "ExecuteTime": {
     "end_time": "2022-11-16T10:05:43.873964Z",
     "start_time": "2022-11-16T10:05:43.856814Z"
    }
   },
   "outputs": [
    {
     "data": {
      "text/html": [
       "<div>\n",
       "<style scoped>\n",
       "    .dataframe tbody tr th:only-of-type {\n",
       "        vertical-align: middle;\n",
       "    }\n",
       "\n",
       "    .dataframe tbody tr th {\n",
       "        vertical-align: top;\n",
       "    }\n",
       "\n",
       "    .dataframe thead th {\n",
       "        text-align: right;\n",
       "    }\n",
       "</style>\n",
       "<table border=\"1\" class=\"dataframe\">\n",
       "  <thead>\n",
       "    <tr style=\"text-align: right;\">\n",
       "      <th></th>\n",
       "      <th>city_amsterdam</th>\n",
       "      <th>city_copenhagen</th>\n",
       "      <th>city_madrid</th>\n",
       "      <th>city_paris</th>\n",
       "      <th>city_rome</th>\n",
       "      <th>city_sofia</th>\n",
       "      <th>city_valletta</th>\n",
       "      <th>city_vienna</th>\n",
       "      <th>city_vilnius</th>\n",
       "      <th>language_austrian</th>\n",
       "      <th>...</th>\n",
       "      <th>brand_Safitel</th>\n",
       "      <th>brand_Tripletree</th>\n",
       "      <th>children_policy_0</th>\n",
       "      <th>children_policy_1</th>\n",
       "      <th>children_policy_2</th>\n",
       "      <th>stock</th>\n",
       "      <th>date</th>\n",
       "      <th>mobile</th>\n",
       "      <th>pool</th>\n",
       "      <th>parking</th>\n",
       "    </tr>\n",
       "  </thead>\n",
       "  <tbody>\n",
       "    <tr>\n",
       "      <th>0</th>\n",
       "      <td>0</td>\n",
       "      <td>0</td>\n",
       "      <td>0</td>\n",
       "      <td>0</td>\n",
       "      <td>0</td>\n",
       "      <td>0</td>\n",
       "      <td>0</td>\n",
       "      <td>0</td>\n",
       "      <td>1</td>\n",
       "      <td>0</td>\n",
       "      <td>...</td>\n",
       "      <td>0</td>\n",
       "      <td>0</td>\n",
       "      <td>1</td>\n",
       "      <td>0</td>\n",
       "      <td>0</td>\n",
       "      <td>46</td>\n",
       "      <td>21</td>\n",
       "      <td>0</td>\n",
       "      <td>0</td>\n",
       "      <td>1</td>\n",
       "    </tr>\n",
       "    <tr>\n",
       "      <th>29</th>\n",
       "      <td>0</td>\n",
       "      <td>0</td>\n",
       "      <td>0</td>\n",
       "      <td>0</td>\n",
       "      <td>0</td>\n",
       "      <td>0</td>\n",
       "      <td>0</td>\n",
       "      <td>0</td>\n",
       "      <td>1</td>\n",
       "      <td>0</td>\n",
       "      <td>...</td>\n",
       "      <td>0</td>\n",
       "      <td>0</td>\n",
       "      <td>1</td>\n",
       "      <td>0</td>\n",
       "      <td>0</td>\n",
       "      <td>32</td>\n",
       "      <td>21</td>\n",
       "      <td>0</td>\n",
       "      <td>1</td>\n",
       "      <td>1</td>\n",
       "    </tr>\n",
       "    <tr>\n",
       "      <th>58</th>\n",
       "      <td>0</td>\n",
       "      <td>0</td>\n",
       "      <td>0</td>\n",
       "      <td>0</td>\n",
       "      <td>0</td>\n",
       "      <td>0</td>\n",
       "      <td>0</td>\n",
       "      <td>0</td>\n",
       "      <td>1</td>\n",
       "      <td>0</td>\n",
       "      <td>...</td>\n",
       "      <td>0</td>\n",
       "      <td>0</td>\n",
       "      <td>1</td>\n",
       "      <td>0</td>\n",
       "      <td>0</td>\n",
       "      <td>12</td>\n",
       "      <td>21</td>\n",
       "      <td>0</td>\n",
       "      <td>0</td>\n",
       "      <td>1</td>\n",
       "    </tr>\n",
       "    <tr>\n",
       "      <th>87</th>\n",
       "      <td>0</td>\n",
       "      <td>0</td>\n",
       "      <td>0</td>\n",
       "      <td>0</td>\n",
       "      <td>0</td>\n",
       "      <td>0</td>\n",
       "      <td>0</td>\n",
       "      <td>0</td>\n",
       "      <td>1</td>\n",
       "      <td>0</td>\n",
       "      <td>...</td>\n",
       "      <td>0</td>\n",
       "      <td>0</td>\n",
       "      <td>1</td>\n",
       "      <td>0</td>\n",
       "      <td>0</td>\n",
       "      <td>10</td>\n",
       "      <td>21</td>\n",
       "      <td>0</td>\n",
       "      <td>0</td>\n",
       "      <td>0</td>\n",
       "    </tr>\n",
       "    <tr>\n",
       "      <th>176</th>\n",
       "      <td>0</td>\n",
       "      <td>0</td>\n",
       "      <td>0</td>\n",
       "      <td>0</td>\n",
       "      <td>0</td>\n",
       "      <td>0</td>\n",
       "      <td>0</td>\n",
       "      <td>0</td>\n",
       "      <td>1</td>\n",
       "      <td>0</td>\n",
       "      <td>...</td>\n",
       "      <td>1</td>\n",
       "      <td>0</td>\n",
       "      <td>0</td>\n",
       "      <td>1</td>\n",
       "      <td>0</td>\n",
       "      <td>42</td>\n",
       "      <td>21</td>\n",
       "      <td>0</td>\n",
       "      <td>1</td>\n",
       "      <td>1</td>\n",
       "    </tr>\n",
       "  </tbody>\n",
       "</table>\n",
       "<p>5 rows × 66 columns</p>\n",
       "</div>"
      ],
      "text/plain": [
       "     city_amsterdam  city_copenhagen  city_madrid  city_paris  city_rome  \\\n",
       "0                 0                0            0           0          0   \n",
       "29                0                0            0           0          0   \n",
       "58                0                0            0           0          0   \n",
       "87                0                0            0           0          0   \n",
       "176               0                0            0           0          0   \n",
       "\n",
       "     city_sofia  city_valletta  city_vienna  city_vilnius  language_austrian  \\\n",
       "0             0              0            0             1                  0   \n",
       "29            0              0            0             1                  0   \n",
       "58            0              0            0             1                  0   \n",
       "87            0              0            0             1                  0   \n",
       "176           0              0            0             1                  0   \n",
       "\n",
       "     ...  brand_Safitel  brand_Tripletree  children_policy_0  \\\n",
       "0    ...              0                 0                  1   \n",
       "29   ...              0                 0                  1   \n",
       "58   ...              0                 0                  1   \n",
       "87   ...              0                 0                  1   \n",
       "176  ...              1                 0                  0   \n",
       "\n",
       "     children_policy_1  children_policy_2  stock  date  mobile  pool  parking  \n",
       "0                    0                  0     46    21       0     0        1  \n",
       "29                   0                  0     32    21       0     1        1  \n",
       "58                   0                  0     12    21       0     0        1  \n",
       "87                   0                  0     10    21       0     0        0  \n",
       "176                  1                  0     42    21       0     1        1  \n",
       "\n",
       "[5 rows x 66 columns]"
      ]
     },
     "execution_count": 24,
     "metadata": {},
     "output_type": "execute_result"
    }
   ],
   "source": [
    "df_test.head()"
   ]
  },
  {
   "cell_type": "code",
   "execution_count": 25,
   "id": "07807cd6",
   "metadata": {
    "ExecuteTime": {
     "end_time": "2022-11-16T10:05:44.536103Z",
     "start_time": "2022-11-16T10:05:44.529837Z"
    }
   },
   "outputs": [],
   "source": [
    "# variable à expliquer réelle\n",
    "if transfo :\n",
    "    Y = data['SRprice']\n",
    "else :\n",
    "    Y = data['price']"
   ]
  },
  {
   "cell_type": "code",
   "execution_count": 26,
   "id": "4eeb0292",
   "metadata": {
    "ExecuteTime": {
     "end_time": "2022-11-16T10:05:44.707434Z",
     "start_time": "2022-11-16T10:05:44.704169Z"
    }
   },
   "outputs": [],
   "source": [
    "# # séparation pour les tests et tunner les modèles\n",
    "# X_train,X_test,Y_train,Y_test=train_test_split(df,Y,test_size=.25,random_state=11) #25% pour le test_size\n",
    "# submit = False"
   ]
  },
  {
   "cell_type": "code",
   "execution_count": 27,
   "id": "0c8e252d",
   "metadata": {
    "ExecuteTime": {
     "end_time": "2022-11-16T10:05:45.383859Z",
     "start_time": "2022-11-16T10:05:45.378045Z"
    }
   },
   "outputs": [],
   "source": [
    "# séparation pour submit\n",
    "X_train = df\n",
    "X_test = df_test\n",
    "Y_train = Y\n",
    "Y_test = None\n",
    "submit = True"
   ]
  },
  {
   "cell_type": "code",
   "execution_count": 28,
   "id": "519d70c5",
   "metadata": {
    "ExecuteTime": {
     "end_time": "2022-11-16T10:05:46.365414Z",
     "start_time": "2022-11-16T10:05:45.584732Z"
    }
   },
   "outputs": [],
   "source": [
    "# standardisation des données\n",
    "from sklearn.preprocessing import StandardScaler  \n",
    "scaler = StandardScaler()  \n",
    "scaler.fit(X_train)  \n",
    "X_stand_train = scaler.transform(X_train)  \n",
    "# Meme transformation sur le test\n",
    "X_stand_test = scaler.transform(X_test)"
   ]
  },
  {
   "cell_type": "markdown",
   "id": "188ce7bf",
   "metadata": {},
   "source": [
    "# Boosting"
   ]
  },
  {
   "cell_type": "markdown",
   "id": "0cd7adda",
   "metadata": {},
   "source": [
    "https://xgboost.readthedocs.io/en/stable/python/python_intro.html"
   ]
  },
  {
   "cell_type": "code",
   "execution_count": 33,
   "id": "776f81df",
   "metadata": {
    "ExecuteTime": {
     "end_time": "2022-11-15T16:58:59.060556Z",
     "start_time": "2022-11-15T16:57:56.108536Z"
    }
   },
   "outputs": [],
   "source": [
    "# définition des paramètres\n",
    "boost = GradientBoostingRegressor()\n",
    "# apprentissage\n",
    "rfFit = boost.fit(X_train,Y_train)"
   ]
  },
  {
   "cell_type": "code",
   "execution_count": 34,
   "id": "a79bc31b",
   "metadata": {
    "ExecuteTime": {
     "end_time": "2022-11-15T16:58:59.376786Z",
     "start_time": "2022-11-15T16:58:59.374478Z"
    }
   },
   "outputs": [],
   "source": [
    "if not submit:\n",
    "# erreur de prédiction sur le test\n",
    "    1-rfFit.score(X_test,Y_test)"
   ]
  },
  {
   "cell_type": "code",
   "execution_count": 35,
   "id": "d04bfe5d",
   "metadata": {
    "ExecuteTime": {
     "end_time": "2022-11-15T16:58:59.684267Z",
     "start_time": "2022-11-15T16:58:59.671513Z"
    }
   },
   "outputs": [],
   "source": [
    "# prédiction\n",
    "y_pred = rfFit.predict(X_test)\n",
    "if not submit:\n",
    "    print(\"MSE =\",mean_squared_error(y_pred,Y_test))\n",
    "    print(\"R2 =\",r2_score(Y_test,y_pred))"
   ]
  },
  {
   "cell_type": "markdown",
   "id": "bcbc8e16",
   "metadata": {
    "heading_collapsed": true
   },
   "source": [
    "# Random Forest"
   ]
  },
  {
   "cell_type": "code",
   "execution_count": null,
   "id": "a91d8faa",
   "metadata": {
    "ExecuteTime": {
     "start_time": "2022-11-16T10:06:36.374Z"
    },
    "code_folding": [],
    "hidden": true
   },
   "outputs": [],
   "source": [
    "# définition des paramètres\n",
    "forest = RandomForestRegressor(n_estimators=500,\n",
    "                               max_depth=None,\n",
    "                               min_samples_split=2, min_samples_leaf=1, \n",
    "                               max_features=1.0, max_leaf_nodes=None,\n",
    "                               bootstrap=True, oob_score=True)\n",
    "# apprentissage\n",
    "rfFit = forest.fit(X_train,Y_train)\n",
    "print(1-rfFit.oob_score_)"
   ]
  },
  {
   "cell_type": "code",
   "execution_count": null,
   "id": "be32c2b1",
   "metadata": {
    "ExecuteTime": {
     "start_time": "2022-11-16T06:57:26.357Z"
    },
    "hidden": true
   },
   "outputs": [],
   "source": [
    "param=[{\"max_features\":list(range(2,10,1))}]\n",
    "rf= GridSearchCV(RandomForestRegressor(n_estimators=100),param,cv=5,n_jobs=-1)\n",
    "rfOpt=rf.fit(X_train, Y_train)\n",
    "# paramètre optimal\n",
    "print(\"Meilleur score = %f, Meilleur paramètre = %s\" % (1. - rfOpt.best_score_,rfOpt.best_params_))"
   ]
  },
  {
   "cell_type": "code",
   "execution_count": null,
   "id": "9408f805",
   "metadata": {
    "ExecuteTime": {
     "start_time": "2022-11-16T06:57:26.741Z"
    },
    "code_folding": [],
    "hidden": true
   },
   "outputs": [],
   "source": [
    "if not submit:\n",
    "# erreur de prévision sur le test\n",
    "    1-rfOpt.score(X_test,Y_test)"
   ]
  },
  {
   "cell_type": "code",
   "execution_count": null,
   "id": "db16e647",
   "metadata": {
    "ExecuteTime": {
     "start_time": "2022-11-16T06:57:27.861Z"
    },
    "code_folding": [],
    "hidden": true
   },
   "outputs": [],
   "source": [
    "# prévision\n",
    "y_pred = rfOpt.predict(X_test)\n",
    "if not submit :\n",
    "    print(\"MSE=\",mean_squared_error(y_pred,Y_test))\n",
    "    print(\"R2=\",r2_score(Y_test,y_pred))"
   ]
  },
  {
   "cell_type": "markdown",
   "id": "d20fcb09",
   "metadata": {
    "ExecuteTime": {
     "end_time": "2022-10-21T10:28:48.083688Z",
     "start_time": "2022-10-21T10:28:48.081464Z"
    }
   },
   "source": [
    "# Export predictions"
   ]
  },
  {
   "cell_type": "code",
   "execution_count": null,
   "id": "548c6ba2",
   "metadata": {
    "ExecuteTime": {
     "start_time": "2022-11-16T06:57:29.725Z"
    }
   },
   "outputs": [],
   "source": [
    "y_pred"
   ]
  },
  {
   "cell_type": "code",
   "execution_count": null,
   "id": "cca32b90",
   "metadata": {
    "ExecuteTime": {
     "start_time": "2022-11-16T06:57:30.956Z"
    }
   },
   "outputs": [],
   "source": [
    "# save\n",
    "if transfo:\n",
    "    y_pred = y_pred**3\n",
    "if submit :\n",
    "    sub = pd.DataFrame(y_pred)\n",
    "    sub.to_csv('first_submit_RF.csv',index=True, header=['price'], index_label = 'index')"
   ]
  },
  {
   "cell_type": "code",
   "execution_count": 38,
   "id": "38f8e811",
   "metadata": {
    "ExecuteTime": {
     "end_time": "2022-11-15T16:59:35.249774Z",
     "start_time": "2022-11-15T16:59:34.986544Z"
    }
   },
   "outputs": [
    {
     "data": {
      "text/plain": [
       "<AxesSubplot:ylabel='Count'>"
      ]
     },
     "execution_count": 38,
     "metadata": {},
     "output_type": "execute_result"
    },
    {
     "data": {
      "image/png": "[encoded data removed]",
      "text/plain": [
       "<Figure size 640x480 with 1 Axes>"
      ]
     },
     "metadata": {},
     "output_type": "display_data"
    }
   ],
   "source": [
    "sns.histplot(y_pred)"
   ]
  },
  {
   "cell_type": "code",
   "execution_count": null,
   "id": "e2ad209f",
   "metadata": {},
   "outputs": [],
   "source": []
  }
 ],
 "metadata": {
  "kernelspec": {
   "display_name": "Python 3 (ipykernel)",
   "language": "python",
   "name": "python3"
  },
  "language_info": {
   "codemirror_mode": {
    "name": "ipython",
    "version": 3
   },
   "file_extension": ".py",
   "mimetype": "text/x-python",
   "name": "python",
   "nbconvert_exporter": "python",
   "pygments_lexer": "ipython3",
   "version": "3.9.12"
  },
  "toc": {
   "base_numbering": 1,
   "nav_menu": {},
   "number_sections": true,
   "sideBar": true,
   "skip_h1_title": false,
   "title_cell": "Table of Contents",
   "title_sidebar": "Contents",
   "toc_cell": false,
   "toc_position": {},
   "toc_section_display": true,
   "toc_window_display": false
  },
  "varInspector": {
   "cols": {
    "lenName": 16,
    "lenType": 16,
    "lenVar": 40
   },
   "kernels_config": {
    "python": {
     "delete_cmd_postfix": "",
     "delete_cmd_prefix": "del ",
     "library": "var_list.py",
     "varRefreshCmd": "print(var_dic_list())"
    },
    "r": {
     "delete_cmd_postfix": ") ",
     "delete_cmd_prefix": "rm(",
     "library": "var_list.r",
     "varRefreshCmd": "cat(var_dic_list()) "
    }
   },
   "types_to_exclude": [
    "module",
    "function",
    "builtin_function_or_method",
    "instance",
    "_Feature"
   ],
   "window_display": false
  }
 },
 "nbformat": 4,
 "nbformat_minor": 5
}
