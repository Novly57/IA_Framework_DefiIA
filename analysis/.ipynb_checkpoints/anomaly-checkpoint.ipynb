{
 "cells": [
  {
   "cell_type": "code",
   "execution_count": 1,
   "id": "6f67dea0",
   "metadata": {
    "ExecuteTime": {
     "end_time": "2023-01-09T10:19:48.825365Z",
     "start_time": "2023-01-09T10:19:46.991185Z"
    }
   },
   "outputs": [],
   "source": [
    "import pandas as pd\n",
    "import numpy as np \n",
    "from sklearn.preprocessing import OneHotEncoder\n",
    "from sklearn.ensemble import GradientBoostingRegressor"
   ]
  },
  {
   "cell_type": "code",
   "execution_count": 2,
   "id": "80853c49",
   "metadata": {
    "ExecuteTime": {
     "end_time": "2023-01-09T10:19:49.590488Z",
     "start_time": "2023-01-09T10:19:48.867235Z"
    }
   },
   "outputs": [],
   "source": [
    "path = '../data/' \n",
    "hotels = pd.read_csv(path + '/features_hotels.csv')\n",
    "data = pd.read_csv(path + 'data.csv')\n",
    "data_test = pd.read_csv(path + 'test_set.csv')"
   ]
  },
  {
   "cell_type": "code",
   "execution_count": 3,
   "id": "75cdefca",
   "metadata": {
    "ExecuteTime": {
     "end_time": "2023-01-09T10:19:49.887588Z",
     "start_time": "2023-01-09T10:19:49.659293Z"
    }
   },
   "outputs": [
    {
     "name": "stdout",
     "output_type": "stream",
     "text": [
      "Nombre de requêtes uniques : 8329\n"
     ]
    }
   ],
   "source": [
    "to_exclude = data[['city', 'language','mobile','request_number','date']].drop_duplicates()\n",
    "# to_exclude.to_csv('to_exclude.csv', index = False)\n",
    "print('Nombre de requêtes uniques :', to_exclude.shape[0])"
   ]
  },
  {
   "cell_type": "code",
   "execution_count": 4,
   "id": "14ddd471",
   "metadata": {
    "ExecuteTime": {
     "end_time": "2023-01-09T10:19:50.161203Z",
     "start_time": "2023-01-09T10:19:50.048934Z"
    }
   },
   "outputs": [
    {
     "name": "stdout",
     "output_type": "stream",
     "text": [
      "Estimation du nombre total de requêtes : 11171\n"
     ]
    }
   ],
   "source": [
    "tot = 0 \n",
    "for i in range(7):\n",
    "    tot += np.unique(data.loc[data.request_number == i].avatar_id.values).shape[0]\n",
    "\n",
    "print('Estimation du nombre total de requêtes :', tot)"
   ]
  },
  {
   "cell_type": "code",
   "execution_count": 5,
   "id": "f193c5d1",
   "metadata": {
    "ExecuteTime": {
     "end_time": "2023-01-09T10:19:51.310728Z",
     "start_time": "2023-01-09T10:19:51.244168Z"
    }
   },
   "outputs": [],
   "source": [
    "# exclusion des avatar posant problème\n",
    "# data = data.drop(index = data.loc[data.avatar_id == 134].index)\n",
    "# to_drop = [108,134,135,136,137,138,141]\n",
    "to_drop = [134]\n",
    "data = data.loc[~data.avatar_id.isin(to_drop)]"
   ]
  },
  {
   "cell_type": "code",
   "execution_count": 6,
   "id": "88d716f9",
   "metadata": {
    "ExecuteTime": {
     "end_time": "2023-01-09T10:19:52.776254Z",
     "start_time": "2023-01-09T10:19:52.448554Z"
    }
   },
   "outputs": [],
   "source": [
    "data = data.drop(['avatar_id'], axis = 1).drop_duplicates()"
   ]
  },
  {
   "cell_type": "code",
   "execution_count": 7,
   "id": "a7a5cd79",
   "metadata": {
    "ExecuteTime": {
     "end_time": "2023-01-09T10:19:53.087593Z",
     "start_time": "2023-01-09T10:19:52.839624Z"
    }
   },
   "outputs": [],
   "source": [
    "# ajout des caractéristiques des hotels\n",
    "data = data.merge(hotels, on=['hotel_id','city'])\n",
    "data_test = data_test.merge(hotels, on=['hotel_id','city'])\n",
    "data_test = data_test.sort_values('index').reset_index(drop=True).drop(['index'], axis = 1)"
   ]
  },
  {
   "cell_type": "code",
   "execution_count": 8,
   "id": "93c494ab",
   "metadata": {
    "ExecuteTime": {
     "end_time": "2023-01-09T10:19:54.326648Z",
     "start_time": "2023-01-09T10:19:53.739792Z"
    }
   },
   "outputs": [],
   "source": [
    "# création de la colonne request_number dans le test set\n",
    "data_test['request_number'] = 1\n",
    "for avatar in np.unique(data_test['avatar_id']):\n",
    "    data_test.loc[data_test['avatar_id'] == avatar, 'request_number'] = data_test['order_requests'].loc[data_test['avatar_id']== avatar] - min(data_test['order_requests'].loc[data_test['avatar_id']== avatar])+1"
   ]
  },
  {
   "cell_type": "code",
   "execution_count": 9,
   "id": "426bd959",
   "metadata": {
    "ExecuteTime": {
     "end_time": "2023-01-09T10:19:54.500705Z",
     "start_time": "2023-01-09T10:19:54.394984Z"
    }
   },
   "outputs": [],
   "source": [
    "# ajout de la variable ville == langue\n",
    "lang_cit = True\n",
    "\n",
    "if lang_cit == True: \n",
    "    dic_lang = {'amsterdam':'dutch', 'copenhagen':'danish', 'madrid':'spanish', 'paris':'french', 'rome':'italian', 'sofia':'bulgarian', 'valletta':'maltese', 'vienna':'austrian' ,'vilnius':'lithuanian'}\n",
    "    data['city_language'] = data['city'].map(dic_lang)\n",
    "    data['is_same_cl'] = data['city_language']==data['language']\n",
    "    data_test['city_language'] = data_test['city'].map(dic_lang)\n",
    "    data_test['is_same_cl'] = data_test['city_language']==data_test['language']"
   ]
  },
  {
   "cell_type": "code",
   "execution_count": 10,
   "id": "42cbd80c",
   "metadata": {
    "ExecuteTime": {
     "end_time": "2023-01-09T10:19:54.784226Z",
     "start_time": "2023-01-09T10:19:54.778393Z"
    }
   },
   "outputs": [],
   "source": [
    "colQT = ['date', 'request_number', 'stock','price']\n",
    "colQL = ['city', 'language', 'mobile', 'group', 'brand', 'parking', 'pool', 'children_policy', 'is_same_cl']"
   ]
  },
  {
   "cell_type": "code",
   "execution_count": 11,
   "id": "7ec82aad",
   "metadata": {
    "ExecuteTime": {
     "end_time": "2023-01-09T10:19:58.102433Z",
     "start_time": "2023-01-09T10:19:56.283289Z"
    }
   },
   "outputs": [],
   "source": [
    "encoder = OneHotEncoder()\n",
    "\n",
    "train_data = encoder.fit_transform(data[colQL]).toarray()\n",
    "\n",
    "test_data = encoder.transform(data_test[colQL]).toarray()\n",
    "\n",
    "X_train = np.concatenate((train_data, data[colQT[:-1]].values), axis = 1)\n",
    "X_test = np.concatenate((test_data, data_test[colQT[:-1]].values), axis = 1)\n",
    "\n",
    "y = data.price.values"
   ]
  },
  {
   "cell_type": "code",
   "execution_count": 12,
   "id": "3749b441",
   "metadata": {
    "ExecuteTime": {
     "end_time": "2023-01-09T10:19:58.374181Z",
     "start_time": "2023-01-09T10:19:58.189508Z"
    }
   },
   "outputs": [],
   "source": [
    "X_no_anomaly = X_test.copy()\n",
    "X_with_anomalies = X_train.copy()"
   ]
  },
  {
   "cell_type": "code",
   "execution_count": null,
   "id": "179d89eb",
   "metadata": {
    "ExecuteTime": {
     "start_time": "2023-01-09T10:20:16.954Z"
    }
   },
   "outputs": [],
   "source": [
    "from sklearn.cluster import MeanShift\n",
    "\n",
    "# Entraîner Mean-Shift sur les données labellisées valides\n",
    "meanshift = MeanShift(n_jobs=-1)\n",
    "meanshift.fit(X_with_anomalies)"
   ]
  },
  {
   "cell_type": "code",
   "execution_count": null,
   "id": "39f8aaac",
   "metadata": {
    "ExecuteTime": {
     "end_time": "2023-01-09T10:15:57.233181Z",
     "start_time": "2023-01-09T10:15:57.213905Z"
    }
   },
   "outputs": [],
   "source": [
    "np.unique(meanshift.labels_)"
   ]
  },
  {
   "cell_type": "code",
   "execution_count": null,
   "id": "162f7d25",
   "metadata": {
    "ExecuteTime": {
     "end_time": "2023-01-09T10:16:06.884231Z",
     "start_time": "2023-01-09T10:16:06.716810Z"
    }
   },
   "outputs": [],
   "source": [
    "# Prédire les clusters pour les données dans lesquelles vous souhaitez détecter les anomalies\n",
    "predictions = meanshift.predict(X_no)"
   ]
  },
  {
   "cell_type": "code",
   "execution_count": null,
   "id": "cd594b35",
   "metadata": {
    "ExecuteTime": {
     "end_time": "2023-01-09T10:16:31.582793Z",
     "start_time": "2023-01-09T10:16:31.550259Z"
    }
   },
   "outputs": [],
   "source": [
    "np.unique(predictions)"
   ]
  },
  {
   "cell_type": "code",
   "execution_count": null,
   "id": "b54ef619",
   "metadata": {
    "ExecuteTime": {
     "end_time": "2023-01-09T10:16:43.974648Z",
     "start_time": "2023-01-09T10:16:39.105747Z"
    }
   },
   "outputs": [],
   "source": [
    "# Identifier les observations qui sont considérées comme des anomalies (i.e., qui sont classées dans un cluster différent de ceux formés à partir des données labellisées valides)\n",
    "anomalies = [i for i, y in enumerate(predictions) if y not in meanshift.labels_]"
   ]
  },
  {
   "cell_type": "code",
   "execution_count": null,
   "id": "21631c65",
   "metadata": {
    "ExecuteTime": {
     "end_time": "2023-01-09T10:16:48.957440Z",
     "start_time": "2023-01-09T10:16:48.940736Z"
    }
   },
   "outputs": [],
   "source": [
    "anomalies"
   ]
  },
  {
   "cell_type": "code",
   "execution_count": null,
   "id": "da068790",
   "metadata": {},
   "outputs": [],
   "source": []
  }
 ],
 "metadata": {
  "kernelspec": {
   "display_name": "Python 3 (ipykernel)",
   "language": "python",
   "name": "python3"
  },
  "language_info": {
   "codemirror_mode": {
    "name": "ipython",
    "version": 3
   },
   "file_extension": ".py",
   "mimetype": "text/x-python",
   "name": "python",
   "nbconvert_exporter": "python",
   "pygments_lexer": "ipython3",
   "version": "3.9.12"
  },
  "toc": {
   "base_numbering": 1,
   "nav_menu": {},
   "number_sections": true,
   "sideBar": true,
   "skip_h1_title": false,
   "title_cell": "Table of Contents",
   "title_sidebar": "Contents",
   "toc_cell": false,
   "toc_position": {},
   "toc_section_display": true,
   "toc_window_display": false
  },
  "varInspector": {
   "cols": {
    "lenName": 16,
    "lenType": 16,
    "lenVar": 40
   },
   "kernels_config": {
    "python": {
     "delete_cmd_postfix": "",
     "delete_cmd_prefix": "del ",
     "library": "var_list.py",
     "varRefreshCmd": "print(var_dic_list())"
    },
    "r": {
     "delete_cmd_postfix": ") ",
     "delete_cmd_prefix": "rm(",
     "library": "var_list.r",
     "varRefreshCmd": "cat(var_dic_list()) "
    }
   },
   "types_to_exclude": [
    "module",
    "function",
    "builtin_function_or_method",
    "instance",
    "_Feature"
   ],
   "window_display": false
  }
 },
 "nbformat": 4,
 "nbformat_minor": 5
}
