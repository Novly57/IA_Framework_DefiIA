{
 "cells": [
  {
   "cell_type": "code",
   "execution_count": 100,
   "id": "af852220",
   "metadata": {
    "ExecuteTime": {
     "end_time": "2022-11-10T13:58:58.538418Z",
     "start_time": "2022-11-10T13:58:58.529797Z"
    }
   },
   "outputs": [
    {
     "name": "stderr",
     "output_type": "stream",
     "text": [
      "/tmp/ipykernel_8259/82325636.py:1: DeprecationWarning: Importing display from IPython.core.display is deprecated since IPython 7.14, please import from IPython display\n",
      "  from IPython.core.display import display, HTML\n"
     ]
    },
    {
     "data": {
      "text/html": [
       "<style>.container { width:80% !important; }</style>"
      ],
      "text/plain": [
       "<IPython.core.display.HTML object>"
      ]
     },
     "metadata": {},
     "output_type": "display_data"
    }
   ],
   "source": [
    "from IPython.core.display import display, HTML\n",
    "display(HTML(\"<style>.container { width:80% !important; }</style>\"))"
   ]
  },
  {
   "cell_type": "code",
   "execution_count": 101,
   "id": "7287b63f",
   "metadata": {
    "ExecuteTime": {
     "end_time": "2022-11-10T13:58:58.940589Z",
     "start_time": "2022-11-10T13:58:58.934072Z"
    }
   },
   "outputs": [],
   "source": [
    "import pandas as pd\n",
    "import numpy as np\n",
    "import seaborn as sns\n",
    "%matplotlib inline\n",
    "import matplotlib.pyplot as plt\n",
    "from math import sqrt, log\n",
    "sns.set_style(\"darkgrid\")\n",
    "\n",
    "from sklearn.ensemble import RandomForestRegressor \n",
    "from sklearn.metrics import mean_squared_error\n",
    "from sklearn.metrics import r2_score\n",
    "from sklearn.ensemble import GradientBoostingRegressor\n",
    "from sklearn.model_selection import GridSearchCV\n",
    "from sklearn.model_selection import train_test_split  \n",
    "from pandas.plotting import scatter_matrix\n"
   ]
  },
  {
   "cell_type": "code",
   "execution_count": 102,
   "id": "47c1bd0a",
   "metadata": {
    "ExecuteTime": {
     "end_time": "2022-11-10T13:58:59.268921Z",
     "start_time": "2022-11-10T13:58:59.264738Z"
    }
   },
   "outputs": [],
   "source": [
    "_prints = False"
   ]
  },
  {
   "cell_type": "code",
   "execution_count": 114,
   "id": "deeeee60",
   "metadata": {
    "ExecuteTime": {
     "end_time": "2022-11-10T14:16:56.510542Z",
     "start_time": "2022-11-10T14:16:55.564109Z"
    }
   },
   "outputs": [
    {
     "data": {
      "text/html": [
       "<div>\n",
       "<style scoped>\n",
       "    .dataframe tbody tr th:only-of-type {\n",
       "        vertical-align: middle;\n",
       "    }\n",
       "\n",
       "    .dataframe tbody tr th {\n",
       "        vertical-align: top;\n",
       "    }\n",
       "\n",
       "    .dataframe thead th {\n",
       "        text-align: right;\n",
       "    }\n",
       "</style>\n",
       "<table border=\"1\" class=\"dataframe\">\n",
       "  <thead>\n",
       "    <tr style=\"text-align: right;\">\n",
       "      <th></th>\n",
       "      <th>city</th>\n",
       "      <th>date</th>\n",
       "      <th>language</th>\n",
       "      <th>mobile</th>\n",
       "      <th>request_number</th>\n",
       "      <th>avatar_id</th>\n",
       "      <th>hotel_id</th>\n",
       "      <th>price</th>\n",
       "      <th>stock</th>\n",
       "      <th>group</th>\n",
       "      <th>brand</th>\n",
       "      <th>parking</th>\n",
       "      <th>pool</th>\n",
       "      <th>children_policy</th>\n",
       "    </tr>\n",
       "  </thead>\n",
       "  <tbody>\n",
       "    <tr>\n",
       "      <th>487145</th>\n",
       "      <td>amsterdam</td>\n",
       "      <td>40</td>\n",
       "      <td>finnish</td>\n",
       "      <td>1</td>\n",
       "      <td>1</td>\n",
       "      <td>103126</td>\n",
       "      <td>30</td>\n",
       "      <td>109</td>\n",
       "      <td>88</td>\n",
       "      <td>Accar Hotels</td>\n",
       "      <td>Navatel</td>\n",
       "      <td>1</td>\n",
       "      <td>0</td>\n",
       "      <td>0</td>\n",
       "    </tr>\n",
       "    <tr>\n",
       "      <th>487146</th>\n",
       "      <td>amsterdam</td>\n",
       "      <td>40</td>\n",
       "      <td>cypriot</td>\n",
       "      <td>1</td>\n",
       "      <td>1</td>\n",
       "      <td>124787</td>\n",
       "      <td>30</td>\n",
       "      <td>107</td>\n",
       "      <td>88</td>\n",
       "      <td>Accar Hotels</td>\n",
       "      <td>Navatel</td>\n",
       "      <td>1</td>\n",
       "      <td>0</td>\n",
       "      <td>0</td>\n",
       "    </tr>\n",
       "    <tr>\n",
       "      <th>487147</th>\n",
       "      <td>amsterdam</td>\n",
       "      <td>40</td>\n",
       "      <td>hungarian</td>\n",
       "      <td>1</td>\n",
       "      <td>1</td>\n",
       "      <td>124846</td>\n",
       "      <td>30</td>\n",
       "      <td>99</td>\n",
       "      <td>88</td>\n",
       "      <td>Accar Hotels</td>\n",
       "      <td>Navatel</td>\n",
       "      <td>1</td>\n",
       "      <td>0</td>\n",
       "      <td>0</td>\n",
       "    </tr>\n",
       "    <tr>\n",
       "      <th>487148</th>\n",
       "      <td>amsterdam</td>\n",
       "      <td>39</td>\n",
       "      <td>lithuanian</td>\n",
       "      <td>0</td>\n",
       "      <td>1</td>\n",
       "      <td>124889</td>\n",
       "      <td>30</td>\n",
       "      <td>105</td>\n",
       "      <td>84</td>\n",
       "      <td>Accar Hotels</td>\n",
       "      <td>Navatel</td>\n",
       "      <td>1</td>\n",
       "      <td>0</td>\n",
       "      <td>0</td>\n",
       "    </tr>\n",
       "    <tr>\n",
       "      <th>487149</th>\n",
       "      <td>amsterdam</td>\n",
       "      <td>40</td>\n",
       "      <td>luxembourgish</td>\n",
       "      <td>1</td>\n",
       "      <td>1</td>\n",
       "      <td>125160</td>\n",
       "      <td>30</td>\n",
       "      <td>101</td>\n",
       "      <td>88</td>\n",
       "      <td>Accar Hotels</td>\n",
       "      <td>Navatel</td>\n",
       "      <td>1</td>\n",
       "      <td>0</td>\n",
       "      <td>0</td>\n",
       "    </tr>\n",
       "  </tbody>\n",
       "</table>\n",
       "</div>"
      ],
      "text/plain": [
       "             city  date       language  mobile  request_number  avatar_id  \\\n",
       "487145  amsterdam    40        finnish       1               1     103126   \n",
       "487146  amsterdam    40        cypriot       1               1     124787   \n",
       "487147  amsterdam    40      hungarian       1               1     124846   \n",
       "487148  amsterdam    39     lithuanian       0               1     124889   \n",
       "487149  amsterdam    40  luxembourgish       1               1     125160   \n",
       "\n",
       "        hotel_id  price  stock         group    brand  parking  pool  \\\n",
       "487145        30    109     88  Accar Hotels  Navatel        1     0   \n",
       "487146        30    107     88  Accar Hotels  Navatel        1     0   \n",
       "487147        30     99     88  Accar Hotels  Navatel        1     0   \n",
       "487148        30    105     84  Accar Hotels  Navatel        1     0   \n",
       "487149        30    101     88  Accar Hotels  Navatel        1     0   \n",
       "\n",
       "        children_policy  \n",
       "487145                0  \n",
       "487146                0  \n",
       "487147                0  \n",
       "487148                0  \n",
       "487149                0  "
      ]
     },
     "execution_count": 114,
     "metadata": {},
     "output_type": "execute_result"
    }
   ],
   "source": [
    "local = True\n",
    "\n",
    "path = '../data/' \n",
    "hotels = pd.read_csv('../data/features_hotels.csv') # à tester, sans ces données\n",
    "\n",
    "if local : \n",
    "    data = pd.read_csv(path+\"data.csv\")\n",
    "else :\n",
    "    url = 'https://drive.google.com/file/d/10sNct4HjylkBudNAQNfvMpI7qgvsspwj/view?usp=sharing'\n",
    "    path = 'https://drive.google.com/uc?export=download&id='+url.split('/')[-2]\n",
    "    data = pd.read_csv(path)\n",
    "    \n",
    "data = data.merge(hotels, on=['hotel_id','city'])\n",
    "data_test = pd.read_csv(path+'test_set.csv') # ignore index \n",
    "data_test['request_number'] = 1\n",
    "data_test = data_test.merge(hotels, on=['hotel_id','city']) \n",
    "\n",
    "for avatar in np.unique(data_test['avatar_id']):\n",
    "    data_test.loc[data_test['avatar_id'] == avatar, 'request_number'] = data_test['order_requests'].loc[data_test['avatar_id']== avatar] - min(data_test['order_requests'].loc[data_test['avatar_id']== avatar])+1\n",
    "\n",
    "data = data.drop(index = data.loc[data.avatar_id == 134].index)\n",
    "data.tail()"
   ]
  },
  {
   "cell_type": "code",
   "execution_count": 104,
   "id": "4d2ee023",
   "metadata": {
    "ExecuteTime": {
     "end_time": "2022-11-10T13:59:02.039889Z",
     "start_time": "2022-11-10T13:59:02.015299Z"
    }
   },
   "outputs": [
    {
     "data": {
      "text/html": [
       "<div>\n",
       "<style scoped>\n",
       "    .dataframe tbody tr th:only-of-type {\n",
       "        vertical-align: middle;\n",
       "    }\n",
       "\n",
       "    .dataframe tbody tr th {\n",
       "        vertical-align: top;\n",
       "    }\n",
       "\n",
       "    .dataframe thead th {\n",
       "        text-align: right;\n",
       "    }\n",
       "</style>\n",
       "<table border=\"1\" class=\"dataframe\">\n",
       "  <thead>\n",
       "    <tr style=\"text-align: right;\">\n",
       "      <th></th>\n",
       "      <th>city</th>\n",
       "      <th>date</th>\n",
       "      <th>language</th>\n",
       "      <th>mobile</th>\n",
       "      <th>request_number</th>\n",
       "      <th>avatar_id</th>\n",
       "      <th>hotel_id</th>\n",
       "      <th>price</th>\n",
       "      <th>stock</th>\n",
       "      <th>group</th>\n",
       "      <th>brand</th>\n",
       "      <th>parking</th>\n",
       "      <th>pool</th>\n",
       "      <th>children_policy</th>\n",
       "    </tr>\n",
       "  </thead>\n",
       "  <tbody>\n",
       "    <tr>\n",
       "      <th>1</th>\n",
       "      <td>valletta</td>\n",
       "      <td>32</td>\n",
       "      <td>bulgarian</td>\n",
       "      <td>1</td>\n",
       "      <td>1</td>\n",
       "      <td>167</td>\n",
       "      <td>55</td>\n",
       "      <td>100</td>\n",
       "      <td>49</td>\n",
       "      <td>Boss Western</td>\n",
       "      <td>Boss Western</td>\n",
       "      <td>1</td>\n",
       "      <td>0</td>\n",
       "      <td>0</td>\n",
       "    </tr>\n",
       "    <tr>\n",
       "      <th>2</th>\n",
       "      <td>valletta</td>\n",
       "      <td>32</td>\n",
       "      <td>hungarian</td>\n",
       "      <td>0</td>\n",
       "      <td>1</td>\n",
       "      <td>179</td>\n",
       "      <td>55</td>\n",
       "      <td>100</td>\n",
       "      <td>49</td>\n",
       "      <td>Boss Western</td>\n",
       "      <td>Boss Western</td>\n",
       "      <td>1</td>\n",
       "      <td>0</td>\n",
       "      <td>0</td>\n",
       "    </tr>\n",
       "    <tr>\n",
       "      <th>3</th>\n",
       "      <td>valletta</td>\n",
       "      <td>5</td>\n",
       "      <td>danish</td>\n",
       "      <td>1</td>\n",
       "      <td>1</td>\n",
       "      <td>197</td>\n",
       "      <td>55</td>\n",
       "      <td>129</td>\n",
       "      <td>0</td>\n",
       "      <td>Boss Western</td>\n",
       "      <td>Boss Western</td>\n",
       "      <td>1</td>\n",
       "      <td>0</td>\n",
       "      <td>0</td>\n",
       "    </tr>\n",
       "    <tr>\n",
       "      <th>4</th>\n",
       "      <td>valletta</td>\n",
       "      <td>36</td>\n",
       "      <td>danish</td>\n",
       "      <td>1</td>\n",
       "      <td>1</td>\n",
       "      <td>203</td>\n",
       "      <td>55</td>\n",
       "      <td>110</td>\n",
       "      <td>64</td>\n",
       "      <td>Boss Western</td>\n",
       "      <td>Boss Western</td>\n",
       "      <td>1</td>\n",
       "      <td>0</td>\n",
       "      <td>0</td>\n",
       "    </tr>\n",
       "    <tr>\n",
       "      <th>5</th>\n",
       "      <td>valletta</td>\n",
       "      <td>33</td>\n",
       "      <td>dutch</td>\n",
       "      <td>0</td>\n",
       "      <td>1</td>\n",
       "      <td>205</td>\n",
       "      <td>55</td>\n",
       "      <td>106</td>\n",
       "      <td>53</td>\n",
       "      <td>Boss Western</td>\n",
       "      <td>Boss Western</td>\n",
       "      <td>1</td>\n",
       "      <td>0</td>\n",
       "      <td>0</td>\n",
       "    </tr>\n",
       "  </tbody>\n",
       "</table>\n",
       "</div>"
      ],
      "text/plain": [
       "       city  date   language  mobile  request_number  avatar_id  hotel_id  \\\n",
       "1  valletta    32  bulgarian       1               1        167        55   \n",
       "2  valletta    32  hungarian       0               1        179        55   \n",
       "3  valletta     5     danish       1               1        197        55   \n",
       "4  valletta    36     danish       1               1        203        55   \n",
       "5  valletta    33      dutch       0               1        205        55   \n",
       "\n",
       "   price  stock         group         brand  parking  pool  children_policy  \n",
       "1    100     49  Boss Western  Boss Western        1     0                0  \n",
       "2    100     49  Boss Western  Boss Western        1     0                0  \n",
       "3    129      0  Boss Western  Boss Western        1     0                0  \n",
       "4    110     64  Boss Western  Boss Western        1     0                0  \n",
       "5    106     53  Boss Western  Boss Western        1     0                0  "
      ]
     },
     "execution_count": 104,
     "metadata": {},
     "output_type": "execute_result"
    }
   ],
   "source": [
    "data.head()"
   ]
  },
  {
   "cell_type": "code",
   "execution_count": 113,
   "id": "3d4b908b",
   "metadata": {
    "ExecuteTime": {
     "end_time": "2022-11-10T14:00:28.731839Z",
     "start_time": "2022-11-10T14:00:28.642804Z"
    }
   },
   "outputs": [
    {
     "data": {
      "text/html": [
       "<div>\n",
       "<style scoped>\n",
       "    .dataframe tbody tr th:only-of-type {\n",
       "        vertical-align: middle;\n",
       "    }\n",
       "\n",
       "    .dataframe tbody tr th {\n",
       "        vertical-align: top;\n",
       "    }\n",
       "\n",
       "    .dataframe thead th {\n",
       "        text-align: right;\n",
       "    }\n",
       "</style>\n",
       "<table border=\"1\" class=\"dataframe\">\n",
       "  <thead>\n",
       "    <tr style=\"text-align: right;\">\n",
       "      <th></th>\n",
       "      <th>city</th>\n",
       "      <th>date</th>\n",
       "      <th>language</th>\n",
       "      <th>mobile</th>\n",
       "      <th>request_number</th>\n",
       "      <th>avatar_id</th>\n",
       "      <th>hotel_id</th>\n",
       "      <th>price</th>\n",
       "      <th>stock</th>\n",
       "      <th>group</th>\n",
       "      <th>brand</th>\n",
       "      <th>parking</th>\n",
       "      <th>pool</th>\n",
       "      <th>children_policy</th>\n",
       "    </tr>\n",
       "  </thead>\n",
       "  <tbody>\n",
       "    <tr>\n",
       "      <th>87425</th>\n",
       "      <td>copenhagen</td>\n",
       "      <td>17</td>\n",
       "      <td>french</td>\n",
       "      <td>0</td>\n",
       "      <td>1</td>\n",
       "      <td>5572</td>\n",
       "      <td>422</td>\n",
       "      <td>401</td>\n",
       "      <td>25</td>\n",
       "      <td>Morriott International</td>\n",
       "      <td>Corlton</td>\n",
       "      <td>0</td>\n",
       "      <td>1</td>\n",
       "      <td>0</td>\n",
       "    </tr>\n",
       "    <tr>\n",
       "      <th>87947</th>\n",
       "      <td>copenhagen</td>\n",
       "      <td>17</td>\n",
       "      <td>french</td>\n",
       "      <td>0</td>\n",
       "      <td>1</td>\n",
       "      <td>5572</td>\n",
       "      <td>849</td>\n",
       "      <td>206</td>\n",
       "      <td>16</td>\n",
       "      <td>Morriott International</td>\n",
       "      <td>CourtYord</td>\n",
       "      <td>0</td>\n",
       "      <td>0</td>\n",
       "      <td>0</td>\n",
       "    </tr>\n",
       "    <tr>\n",
       "      <th>88469</th>\n",
       "      <td>copenhagen</td>\n",
       "      <td>17</td>\n",
       "      <td>french</td>\n",
       "      <td>0</td>\n",
       "      <td>1</td>\n",
       "      <td>5572</td>\n",
       "      <td>96</td>\n",
       "      <td>140</td>\n",
       "      <td>14</td>\n",
       "      <td>Boss Western</td>\n",
       "      <td>Boss Western</td>\n",
       "      <td>0</td>\n",
       "      <td>0</td>\n",
       "      <td>0</td>\n",
       "    </tr>\n",
       "    <tr>\n",
       "      <th>88991</th>\n",
       "      <td>copenhagen</td>\n",
       "      <td>17</td>\n",
       "      <td>french</td>\n",
       "      <td>0</td>\n",
       "      <td>1</td>\n",
       "      <td>5572</td>\n",
       "      <td>487</td>\n",
       "      <td>173</td>\n",
       "      <td>34</td>\n",
       "      <td>Morriott International</td>\n",
       "      <td>CourtYord</td>\n",
       "      <td>0</td>\n",
       "      <td>0</td>\n",
       "      <td>0</td>\n",
       "    </tr>\n",
       "    <tr>\n",
       "      <th>89513</th>\n",
       "      <td>copenhagen</td>\n",
       "      <td>17</td>\n",
       "      <td>french</td>\n",
       "      <td>0</td>\n",
       "      <td>1</td>\n",
       "      <td>5572</td>\n",
       "      <td>711</td>\n",
       "      <td>146</td>\n",
       "      <td>14</td>\n",
       "      <td>Boss Western</td>\n",
       "      <td>Boss Western</td>\n",
       "      <td>0</td>\n",
       "      <td>0</td>\n",
       "      <td>0</td>\n",
       "    </tr>\n",
       "    <tr>\n",
       "      <th>...</th>\n",
       "      <td>...</td>\n",
       "      <td>...</td>\n",
       "      <td>...</td>\n",
       "      <td>...</td>\n",
       "      <td>...</td>\n",
       "      <td>...</td>\n",
       "      <td>...</td>\n",
       "      <td>...</td>\n",
       "      <td>...</td>\n",
       "      <td>...</td>\n",
       "      <td>...</td>\n",
       "      <td>...</td>\n",
       "      <td>...</td>\n",
       "      <td>...</td>\n",
       "    </tr>\n",
       "    <tr>\n",
       "      <th>156459</th>\n",
       "      <td>copenhagen</td>\n",
       "      <td>17</td>\n",
       "      <td>french</td>\n",
       "      <td>0</td>\n",
       "      <td>1</td>\n",
       "      <td>5572</td>\n",
       "      <td>922</td>\n",
       "      <td>258</td>\n",
       "      <td>16</td>\n",
       "      <td>Yin Yang</td>\n",
       "      <td>Royal Lotus</td>\n",
       "      <td>0</td>\n",
       "      <td>1</td>\n",
       "      <td>0</td>\n",
       "    </tr>\n",
       "    <tr>\n",
       "      <th>156967</th>\n",
       "      <td>copenhagen</td>\n",
       "      <td>17</td>\n",
       "      <td>french</td>\n",
       "      <td>0</td>\n",
       "      <td>1</td>\n",
       "      <td>5572</td>\n",
       "      <td>830</td>\n",
       "      <td>93</td>\n",
       "      <td>20</td>\n",
       "      <td>Independant</td>\n",
       "      <td>Independant</td>\n",
       "      <td>0</td>\n",
       "      <td>0</td>\n",
       "      <td>0</td>\n",
       "    </tr>\n",
       "    <tr>\n",
       "      <th>157442</th>\n",
       "      <td>copenhagen</td>\n",
       "      <td>17</td>\n",
       "      <td>french</td>\n",
       "      <td>0</td>\n",
       "      <td>1</td>\n",
       "      <td>5572</td>\n",
       "      <td>358</td>\n",
       "      <td>232</td>\n",
       "      <td>19</td>\n",
       "      <td>Accar Hotels</td>\n",
       "      <td>Marcure</td>\n",
       "      <td>0</td>\n",
       "      <td>0</td>\n",
       "      <td>0</td>\n",
       "    </tr>\n",
       "    <tr>\n",
       "      <th>157964</th>\n",
       "      <td>copenhagen</td>\n",
       "      <td>17</td>\n",
       "      <td>french</td>\n",
       "      <td>0</td>\n",
       "      <td>1</td>\n",
       "      <td>5572</td>\n",
       "      <td>329</td>\n",
       "      <td>249</td>\n",
       "      <td>20</td>\n",
       "      <td>Morriott International</td>\n",
       "      <td>Morriot</td>\n",
       "      <td>1</td>\n",
       "      <td>0</td>\n",
       "      <td>0</td>\n",
       "    </tr>\n",
       "    <tr>\n",
       "      <th>158486</th>\n",
       "      <td>copenhagen</td>\n",
       "      <td>17</td>\n",
       "      <td>french</td>\n",
       "      <td>0</td>\n",
       "      <td>1</td>\n",
       "      <td>5572</td>\n",
       "      <td>826</td>\n",
       "      <td>204</td>\n",
       "      <td>31</td>\n",
       "      <td>Accar Hotels</td>\n",
       "      <td>Marcure</td>\n",
       "      <td>1</td>\n",
       "      <td>1</td>\n",
       "      <td>0</td>\n",
       "    </tr>\n",
       "  </tbody>\n",
       "</table>\n",
       "<p>140 rows × 14 columns</p>\n",
       "</div>"
      ],
      "text/plain": [
       "              city  date language  mobile  request_number  avatar_id  \\\n",
       "87425   copenhagen    17   french       0               1       5572   \n",
       "87947   copenhagen    17   french       0               1       5572   \n",
       "88469   copenhagen    17   french       0               1       5572   \n",
       "88991   copenhagen    17   french       0               1       5572   \n",
       "89513   copenhagen    17   french       0               1       5572   \n",
       "...            ...   ...      ...     ...             ...        ...   \n",
       "156459  copenhagen    17   french       0               1       5572   \n",
       "156967  copenhagen    17   french       0               1       5572   \n",
       "157442  copenhagen    17   french       0               1       5572   \n",
       "157964  copenhagen    17   french       0               1       5572   \n",
       "158486  copenhagen    17   french       0               1       5572   \n",
       "\n",
       "        hotel_id  price  stock                   group         brand  parking  \\\n",
       "87425        422    401     25  Morriott International       Corlton        0   \n",
       "87947        849    206     16  Morriott International     CourtYord        0   \n",
       "88469         96    140     14            Boss Western  Boss Western        0   \n",
       "88991        487    173     34  Morriott International     CourtYord        0   \n",
       "89513        711    146     14            Boss Western  Boss Western        0   \n",
       "...          ...    ...    ...                     ...           ...      ...   \n",
       "156459       922    258     16                Yin Yang   Royal Lotus        0   \n",
       "156967       830     93     20             Independant   Independant        0   \n",
       "157442       358    232     19            Accar Hotels       Marcure        0   \n",
       "157964       329    249     20  Morriott International       Morriot        1   \n",
       "158486       826    204     31            Accar Hotels       Marcure        1   \n",
       "\n",
       "        pool  children_policy  \n",
       "87425      1                0  \n",
       "87947      0                0  \n",
       "88469      0                0  \n",
       "88991      0                0  \n",
       "89513      0                0  \n",
       "...      ...              ...  \n",
       "156459     1                0  \n",
       "156967     0                0  \n",
       "157442     0                0  \n",
       "157964     0                0  \n",
       "158486     1                0  \n",
       "\n",
       "[140 rows x 14 columns]"
      ]
     },
     "execution_count": 113,
     "metadata": {},
     "output_type": "execute_result"
    }
   ],
   "source": [
    "data.loc[data.language == 'french'].loc[data.city == 'copenhagen'].loc[data.date >=17]"
   ]
  },
  {
   "cell_type": "markdown",
   "id": "0b73b264",
   "metadata": {},
   "source": [
    "> ajouter une variable écart de temps\n",
    "\n",
    "> fusionner children policy 1 et 2\n",
    "\n",
    "> hotel_ID en QT\n",
    "\n",
    "> transfos sur le prix\n",
    "\n",
    "> transfos sur autres variables QT"
   ]
  },
  {
   "cell_type": "code",
   "execution_count": 59,
   "id": "36d095d9",
   "metadata": {
    "ExecuteTime": {
     "end_time": "2022-11-10T13:51:00.467351Z",
     "start_time": "2022-11-10T13:51:00.439594Z"
    }
   },
   "outputs": [
    {
     "data": {
      "text/plain": [
       "Unnamed: 0            int64\n",
       "index                 int64\n",
       "hotel_id           category\n",
       "group              category\n",
       "brand              category\n",
       "city               category\n",
       "parking            category\n",
       "pool               category\n",
       "children_policy    category\n",
       "price                 int64\n",
       "stock                 int64\n",
       "date                  int64\n",
       "language           category\n",
       "mobile             category\n",
       "avatar_name          object\n",
       "dtype: object"
      ]
     },
     "execution_count": 59,
     "metadata": {},
     "output_type": "execute_result"
    }
   ],
   "source": [
    "for col in ['city', 'language', 'avatar_id', 'hotel_id', 'group', 'brand','children_policy','mobile','parking','pool'] :\n",
    "    data[col] = pd.Categorical(data[col],ordered=False)\n",
    "    data_test[col] = pd.Categorical(data_test[col],ordered=False)\n",
    "    \n",
    "data.dtypes"
   ]
  },
  {
   "cell_type": "code",
   "execution_count": 7,
   "id": "47e1b06f",
   "metadata": {
    "ExecuteTime": {
     "end_time": "2022-11-10T13:39:12.493917Z",
     "start_time": "2022-11-10T13:39:12.488895Z"
    }
   },
   "outputs": [],
   "source": [
    "# colQT = ['request_number', 'stock', 'date','price']\n",
    "# colBool = ['mobile', 'pool', 'parking']\n",
    "# colQL = ['city', 'language', 'group', 'brand', 'children_policy']"
   ]
  },
  {
   "cell_type": "code",
   "execution_count": 60,
   "id": "4f824d54",
   "metadata": {
    "ExecuteTime": {
     "end_time": "2022-11-10T13:51:07.977218Z",
     "start_time": "2022-11-10T13:51:07.969458Z"
    }
   },
   "outputs": [],
   "source": [
    "colQT = ['stock', 'date','price']\n",
    "colBool = ['mobile', 'pool', 'parking']\n",
    "colQL = ['city', 'language', 'group', 'brand', 'children_policy']"
   ]
  },
  {
   "cell_type": "code",
   "execution_count": 63,
   "id": "cc4b64d4",
   "metadata": {
    "ExecuteTime": {
     "end_time": "2022-11-10T13:51:27.544808Z",
     "start_time": "2022-11-10T13:51:27.249250Z"
    }
   },
   "outputs": [
    {
     "data": {
      "image/png": "[encoded data removed]",
      "text/plain": [
       "<Figure size 640x480 with 1 Axes>"
      ]
     },
     "metadata": {},
     "output_type": "display_data"
    }
   ],
   "source": [
    "if _prints :\n",
    "    plt.figure()\n",
    "    sns.histplot(data['price'])\n",
    "    plt.show()"
   ]
  },
  {
   "cell_type": "code",
   "execution_count": 64,
   "id": "8e92ee91",
   "metadata": {
    "ExecuteTime": {
     "end_time": "2022-11-10T13:51:30.983776Z",
     "start_time": "2022-11-10T13:51:30.766464Z"
    }
   },
   "outputs": [
    {
     "data": {
      "image/png": "[encoded data removed]",
      "text/plain": [
       "<Figure size 640x480 with 1 Axes>"
      ]
     },
     "metadata": {},
     "output_type": "display_data"
    }
   ],
   "source": [
    "if _prints :\n",
    "    plt.figure()\n",
    "    sns.histplot(data['price'].map(lambda x: x**(1/3)))\n",
    "    plt.show()"
   ]
  },
  {
   "cell_type": "code",
   "execution_count": 65,
   "id": "33b9f737",
   "metadata": {
    "ExecuteTime": {
     "end_time": "2022-11-10T13:51:32.359978Z",
     "start_time": "2022-11-10T13:51:32.350572Z"
    }
   },
   "outputs": [],
   "source": [
    "transfo = True\n",
    "if transfo :\n",
    "    data['SRprice'] = data['price'].map(lambda x: x**(1/3))"
   ]
  },
  {
   "cell_type": "code",
   "execution_count": 66,
   "id": "e899ee0c",
   "metadata": {
    "ExecuteTime": {
     "end_time": "2022-11-10T13:51:34.277188Z",
     "start_time": "2022-11-10T13:51:33.522081Z"
    },
    "code_folding": []
   },
   "outputs": [
    {
     "data": {
      "image/png": "[encoded data removed]",
      "text/plain": [
       "<Figure size 800x300 with 1 Axes>"
      ]
     },
     "metadata": {},
     "output_type": "display_data"
    },
    {
     "data": {
      "image/png": "[encoded data removed]",
      "text/plain": [
       "<Figure size 800x300 with 1 Axes>"
      ]
     },
     "metadata": {},
     "output_type": "display_data"
    },
    {
     "data": {
      "image/png": "[encoded data removed]",
      "text/plain": [
       "<Figure size 800x300 with 1 Axes>"
      ]
     },
     "metadata": {},
     "output_type": "display_data"
    },
    {
     "data": {
      "image/png": "[encoded data removed]",
      "text/plain": [
       "<Figure size 800x300 with 1 Axes>"
      ]
     },
     "metadata": {},
     "output_type": "display_data"
    },
    {
     "data": {
      "image/png": "[encoded data removed]",
      "text/plain": [
       "<Figure size 800x300 with 1 Axes>"
      ]
     },
     "metadata": {},
     "output_type": "display_data"
    }
   ],
   "source": [
    "if _prints :\n",
    "    for col in colQL:\n",
    "        plt.figure(figsize=(8,3))\n",
    "        sns.histplot(data[col])\n",
    "        plt.xticks(rotation=45)\n",
    "        plt.show()"
   ]
  },
  {
   "cell_type": "code",
   "execution_count": 67,
   "id": "4f7341a6",
   "metadata": {
    "ExecuteTime": {
     "end_time": "2022-11-10T13:51:40.374465Z",
     "start_time": "2022-11-10T13:51:39.410612Z"
    }
   },
   "outputs": [
    {
     "data": {
      "image/png": "[encoded data removed]",
      "text/plain": [
       "<Figure size 800x300 with 1 Axes>"
      ]
     },
     "metadata": {},
     "output_type": "display_data"
    },
    {
     "data": {
      "image/png": "[encoded data removed]",
      "text/plain": [
       "<Figure size 800x300 with 1 Axes>"
      ]
     },
     "metadata": {},
     "output_type": "display_data"
    },
    {
     "data": {
      "image/png": "[encoded data removed]",
      "text/plain": [
       "<Figure size 800x300 with 1 Axes>"
      ]
     },
     "metadata": {},
     "output_type": "display_data"
    },
    {
     "data": {
      "image/png": "[encoded data removed]",
      "text/plain": [
       "<Figure size 800x300 with 1 Axes>"
      ]
     },
     "metadata": {},
     "output_type": "display_data"
    },
    {
     "data": {
      "image/png": "[encoded data removed]",
      "text/plain": [
       "<Figure size 800x300 with 1 Axes>"
      ]
     },
     "metadata": {},
     "output_type": "display_data"
    }
   ],
   "source": [
    "if _prints :\n",
    "    for col in colQL:\n",
    "        plt.figure(figsize=(8,3))\n",
    "        sns.histplot(data_test[col])\n",
    "        plt.xticks(rotation=45)\n",
    "        plt.show()"
   ]
  },
  {
   "cell_type": "code",
   "execution_count": 28,
   "id": "6e4abab6",
   "metadata": {
    "ExecuteTime": {
     "end_time": "2022-11-10T13:40:49.773840Z",
     "start_time": "2022-11-10T13:40:49.771025Z"
    }
   },
   "outputs": [],
   "source": [
    "if _prints :\n",
    "    scatter_matrix(data[colQT], alpha=0.2, figsize=(10, 10), diagonal='kde')\n",
    "    plt.tight_layout()\n",
    "    plt.show()"
   ]
  },
  {
   "cell_type": "code",
   "execution_count": 29,
   "id": "ff01db84",
   "metadata": {
    "ExecuteTime": {
     "end_time": "2022-11-10T13:40:50.072103Z",
     "start_time": "2022-11-10T13:40:50.068942Z"
    }
   },
   "outputs": [],
   "source": [
    "if _prints :\n",
    "    scatter_matrix(data_test[colQT], alpha=0.2, figsize=(10, 10), diagonal='kde')\n",
    "    plt.tight_layout()\n",
    "    plt.show()"
   ]
  },
  {
   "cell_type": "markdown",
   "id": "ccb3274f",
   "metadata": {
    "ExecuteTime": {
     "end_time": "2022-11-10T13:02:55.565212Z",
     "start_time": "2022-11-10T13:02:55.551569Z"
    }
   },
   "source": [
    "QT vs QL"
   ]
  },
  {
   "cell_type": "code",
   "execution_count": 30,
   "id": "c0df70ae",
   "metadata": {
    "ExecuteTime": {
     "end_time": "2022-11-10T13:40:50.727291Z",
     "start_time": "2022-11-10T13:40:50.721118Z"
    }
   },
   "outputs": [],
   "source": [
    "# dataDum = pd.get_dummies(data[['city','language','mobile','hotel_id','group','brand','parking','pool','children_policy']])\n",
    "# del dataDum['city_amsterdam']\n",
    "# del dataDum['language_austrian']\n",
    "# del dataDum['mobile_0']\n",
    "# del dataDum['hotel_id_0']\n",
    "# del dataDum['group_Accar Hotels']\n",
    "# del dataDum['brand_8 Premium']\n",
    "# del dataDum['parking_0']\n",
    "# del dataDum['pool_0']\n",
    "# del dataDum['children_policy_0']\n",
    "\n",
    "# # on Test Set\n",
    "\n",
    "# dataDum_test = pd.get_dummies(data_test[['city','language','mobile','hotel_id','group','brand','parking','pool','children_policy']])\n",
    "# del dataDum_test['city_amsterdam']\n",
    "# del dataDum_test['language_austrian']\n",
    "# del dataDum_test['mobile_0']\n",
    "# del dataDum_test['hotel_id_0']\n",
    "# del dataDum_test['group_Accar Hotels']\n",
    "# del dataDum_test['brand_8 Premium']\n",
    "# del dataDum_test['parking_0']\n",
    "# del dataDum_test['pool_0']\n",
    "# del dataDum_test['children_policy_0']"
   ]
  },
  {
   "cell_type": "code",
   "execution_count": 68,
   "id": "d293cc95",
   "metadata": {
    "ExecuteTime": {
     "end_time": "2022-11-10T13:51:48.357436Z",
     "start_time": "2022-11-10T13:51:48.334756Z"
    }
   },
   "outputs": [],
   "source": [
    "dataDum = pd.get_dummies(data[colQL])\n",
    "\n",
    "# on Test Set\n",
    "\n",
    "dataDum_test = pd.get_dummies(data_test[colQL])"
   ]
  },
  {
   "cell_type": "code",
   "execution_count": 82,
   "id": "ea8bae56",
   "metadata": {
    "ExecuteTime": {
     "end_time": "2022-11-10T13:53:07.592183Z",
     "start_time": "2022-11-10T13:53:07.583814Z"
    }
   },
   "outputs": [],
   "source": [
    "for i in dataDum.columns:\n",
    "    if i not in dataDum_test.columns:\n",
    "        dataDum_test[i] = 0\n",
    "dataDum_test = dataDum_test[dataDum.columns]"
   ]
  },
  {
   "cell_type": "code",
   "execution_count": 83,
   "id": "89f67625",
   "metadata": {
    "ExecuteTime": {
     "end_time": "2022-11-10T13:53:08.920980Z",
     "start_time": "2022-11-10T13:53:08.894599Z"
    }
   },
   "outputs": [
    {
     "data": {
      "text/html": [
       "<div>\n",
       "<style scoped>\n",
       "    .dataframe tbody tr th:only-of-type {\n",
       "        vertical-align: middle;\n",
       "    }\n",
       "\n",
       "    .dataframe tbody tr th {\n",
       "        vertical-align: top;\n",
       "    }\n",
       "\n",
       "    .dataframe thead th {\n",
       "        text-align: right;\n",
       "    }\n",
       "</style>\n",
       "<table border=\"1\" class=\"dataframe\">\n",
       "  <thead>\n",
       "    <tr style=\"text-align: right;\">\n",
       "      <th></th>\n",
       "      <th>city_copenhagen</th>\n",
       "      <th>city_madrid</th>\n",
       "      <th>city_valletta</th>\n",
       "      <th>city_vilnius</th>\n",
       "      <th>language_austrian</th>\n",
       "      <th>language_belgian</th>\n",
       "      <th>language_czech</th>\n",
       "      <th>language_dutch</th>\n",
       "      <th>language_french</th>\n",
       "      <th>group_Accar Hotels</th>\n",
       "      <th>...</th>\n",
       "      <th>brand_Marcure</th>\n",
       "      <th>brand_Morriot</th>\n",
       "      <th>brand_Navatel</th>\n",
       "      <th>brand_Quadrupletree</th>\n",
       "      <th>brand_Royal Lotus</th>\n",
       "      <th>brand_Safitel</th>\n",
       "      <th>brand_Tripletree</th>\n",
       "      <th>children_policy_0</th>\n",
       "      <th>children_policy_1</th>\n",
       "      <th>children_policy_2</th>\n",
       "    </tr>\n",
       "  </thead>\n",
       "  <tbody>\n",
       "    <tr>\n",
       "      <th>0</th>\n",
       "      <td>0</td>\n",
       "      <td>0</td>\n",
       "      <td>0</td>\n",
       "      <td>1</td>\n",
       "      <td>0</td>\n",
       "      <td>0</td>\n",
       "      <td>0</td>\n",
       "      <td>0</td>\n",
       "      <td>0</td>\n",
       "      <td>0</td>\n",
       "      <td>...</td>\n",
       "      <td>0</td>\n",
       "      <td>0</td>\n",
       "      <td>0</td>\n",
       "      <td>0</td>\n",
       "      <td>0</td>\n",
       "      <td>0</td>\n",
       "      <td>0</td>\n",
       "      <td>1</td>\n",
       "      <td>0</td>\n",
       "      <td>0</td>\n",
       "    </tr>\n",
       "    <tr>\n",
       "      <th>1</th>\n",
       "      <td>0</td>\n",
       "      <td>0</td>\n",
       "      <td>0</td>\n",
       "      <td>1</td>\n",
       "      <td>0</td>\n",
       "      <td>0</td>\n",
       "      <td>0</td>\n",
       "      <td>0</td>\n",
       "      <td>0</td>\n",
       "      <td>0</td>\n",
       "      <td>...</td>\n",
       "      <td>0</td>\n",
       "      <td>0</td>\n",
       "      <td>0</td>\n",
       "      <td>0</td>\n",
       "      <td>0</td>\n",
       "      <td>0</td>\n",
       "      <td>0</td>\n",
       "      <td>1</td>\n",
       "      <td>0</td>\n",
       "      <td>0</td>\n",
       "    </tr>\n",
       "    <tr>\n",
       "      <th>2</th>\n",
       "      <td>0</td>\n",
       "      <td>0</td>\n",
       "      <td>0</td>\n",
       "      <td>1</td>\n",
       "      <td>0</td>\n",
       "      <td>0</td>\n",
       "      <td>0</td>\n",
       "      <td>0</td>\n",
       "      <td>0</td>\n",
       "      <td>0</td>\n",
       "      <td>...</td>\n",
       "      <td>0</td>\n",
       "      <td>0</td>\n",
       "      <td>0</td>\n",
       "      <td>0</td>\n",
       "      <td>0</td>\n",
       "      <td>0</td>\n",
       "      <td>0</td>\n",
       "      <td>1</td>\n",
       "      <td>0</td>\n",
       "      <td>0</td>\n",
       "    </tr>\n",
       "    <tr>\n",
       "      <th>3</th>\n",
       "      <td>0</td>\n",
       "      <td>0</td>\n",
       "      <td>0</td>\n",
       "      <td>1</td>\n",
       "      <td>0</td>\n",
       "      <td>0</td>\n",
       "      <td>0</td>\n",
       "      <td>0</td>\n",
       "      <td>0</td>\n",
       "      <td>0</td>\n",
       "      <td>...</td>\n",
       "      <td>0</td>\n",
       "      <td>0</td>\n",
       "      <td>0</td>\n",
       "      <td>0</td>\n",
       "      <td>0</td>\n",
       "      <td>0</td>\n",
       "      <td>0</td>\n",
       "      <td>1</td>\n",
       "      <td>0</td>\n",
       "      <td>0</td>\n",
       "    </tr>\n",
       "    <tr>\n",
       "      <th>4</th>\n",
       "      <td>0</td>\n",
       "      <td>0</td>\n",
       "      <td>0</td>\n",
       "      <td>1</td>\n",
       "      <td>0</td>\n",
       "      <td>0</td>\n",
       "      <td>0</td>\n",
       "      <td>0</td>\n",
       "      <td>0</td>\n",
       "      <td>0</td>\n",
       "      <td>...</td>\n",
       "      <td>0</td>\n",
       "      <td>0</td>\n",
       "      <td>0</td>\n",
       "      <td>0</td>\n",
       "      <td>0</td>\n",
       "      <td>0</td>\n",
       "      <td>0</td>\n",
       "      <td>1</td>\n",
       "      <td>0</td>\n",
       "      <td>0</td>\n",
       "    </tr>\n",
       "  </tbody>\n",
       "</table>\n",
       "<p>5 rows × 34 columns</p>\n",
       "</div>"
      ],
      "text/plain": [
       "   city_copenhagen  city_madrid  city_valletta  city_vilnius  \\\n",
       "0                0            0              0             1   \n",
       "1                0            0              0             1   \n",
       "2                0            0              0             1   \n",
       "3                0            0              0             1   \n",
       "4                0            0              0             1   \n",
       "\n",
       "   language_austrian  language_belgian  language_czech  language_dutch  \\\n",
       "0                  0                 0               0               0   \n",
       "1                  0                 0               0               0   \n",
       "2                  0                 0               0               0   \n",
       "3                  0                 0               0               0   \n",
       "4                  0                 0               0               0   \n",
       "\n",
       "   language_french  group_Accar Hotels  ...  brand_Marcure  brand_Morriot  \\\n",
       "0                0                   0  ...              0              0   \n",
       "1                0                   0  ...              0              0   \n",
       "2                0                   0  ...              0              0   \n",
       "3                0                   0  ...              0              0   \n",
       "4                0                   0  ...              0              0   \n",
       "\n",
       "   brand_Navatel  brand_Quadrupletree  brand_Royal Lotus  brand_Safitel  \\\n",
       "0              0                    0                  0              0   \n",
       "1              0                    0                  0              0   \n",
       "2              0                    0                  0              0   \n",
       "3              0                    0                  0              0   \n",
       "4              0                    0                  0              0   \n",
       "\n",
       "   brand_Tripletree  children_policy_0  children_policy_1  children_policy_2  \n",
       "0                 0                  1                  0                  0  \n",
       "1                 0                  1                  0                  0  \n",
       "2                 0                  1                  0                  0  \n",
       "3                 0                  1                  0                  0  \n",
       "4                 0                  1                  0                  0  \n",
       "\n",
       "[5 rows x 34 columns]"
      ]
     },
     "execution_count": 83,
     "metadata": {},
     "output_type": "execute_result"
    }
   ],
   "source": [
    "dataDum_test.head()"
   ]
  },
  {
   "cell_type": "code",
   "execution_count": 85,
   "id": "8bd7e966",
   "metadata": {
    "ExecuteTime": {
     "end_time": "2022-11-10T13:53:28.872124Z",
     "start_time": "2022-11-10T13:53:28.846631Z"
    }
   },
   "outputs": [
    {
     "data": {
      "text/html": [
       "<div>\n",
       "<style scoped>\n",
       "    .dataframe tbody tr th:only-of-type {\n",
       "        vertical-align: middle;\n",
       "    }\n",
       "\n",
       "    .dataframe tbody tr th {\n",
       "        vertical-align: top;\n",
       "    }\n",
       "\n",
       "    .dataframe thead th {\n",
       "        text-align: right;\n",
       "    }\n",
       "</style>\n",
       "<table border=\"1\" class=\"dataframe\">\n",
       "  <thead>\n",
       "    <tr style=\"text-align: right;\">\n",
       "      <th></th>\n",
       "      <th>city_copenhagen</th>\n",
       "      <th>city_madrid</th>\n",
       "      <th>city_valletta</th>\n",
       "      <th>city_vilnius</th>\n",
       "      <th>language_austrian</th>\n",
       "      <th>language_belgian</th>\n",
       "      <th>language_czech</th>\n",
       "      <th>language_dutch</th>\n",
       "      <th>language_french</th>\n",
       "      <th>group_Accar Hotels</th>\n",
       "      <th>...</th>\n",
       "      <th>brand_Marcure</th>\n",
       "      <th>brand_Morriot</th>\n",
       "      <th>brand_Navatel</th>\n",
       "      <th>brand_Quadrupletree</th>\n",
       "      <th>brand_Royal Lotus</th>\n",
       "      <th>brand_Safitel</th>\n",
       "      <th>brand_Tripletree</th>\n",
       "      <th>children_policy_0</th>\n",
       "      <th>children_policy_1</th>\n",
       "      <th>children_policy_2</th>\n",
       "    </tr>\n",
       "  </thead>\n",
       "  <tbody>\n",
       "    <tr>\n",
       "      <th>0</th>\n",
       "      <td>1</td>\n",
       "      <td>0</td>\n",
       "      <td>0</td>\n",
       "      <td>0</td>\n",
       "      <td>0</td>\n",
       "      <td>0</td>\n",
       "      <td>0</td>\n",
       "      <td>0</td>\n",
       "      <td>1</td>\n",
       "      <td>0</td>\n",
       "      <td>...</td>\n",
       "      <td>0</td>\n",
       "      <td>0</td>\n",
       "      <td>0</td>\n",
       "      <td>0</td>\n",
       "      <td>1</td>\n",
       "      <td>0</td>\n",
       "      <td>0</td>\n",
       "      <td>1</td>\n",
       "      <td>0</td>\n",
       "      <td>0</td>\n",
       "    </tr>\n",
       "    <tr>\n",
       "      <th>1</th>\n",
       "      <td>1</td>\n",
       "      <td>0</td>\n",
       "      <td>0</td>\n",
       "      <td>0</td>\n",
       "      <td>0</td>\n",
       "      <td>0</td>\n",
       "      <td>0</td>\n",
       "      <td>0</td>\n",
       "      <td>1</td>\n",
       "      <td>0</td>\n",
       "      <td>...</td>\n",
       "      <td>0</td>\n",
       "      <td>0</td>\n",
       "      <td>0</td>\n",
       "      <td>0</td>\n",
       "      <td>0</td>\n",
       "      <td>0</td>\n",
       "      <td>0</td>\n",
       "      <td>1</td>\n",
       "      <td>0</td>\n",
       "      <td>0</td>\n",
       "    </tr>\n",
       "    <tr>\n",
       "      <th>2</th>\n",
       "      <td>1</td>\n",
       "      <td>0</td>\n",
       "      <td>0</td>\n",
       "      <td>0</td>\n",
       "      <td>0</td>\n",
       "      <td>0</td>\n",
       "      <td>0</td>\n",
       "      <td>0</td>\n",
       "      <td>1</td>\n",
       "      <td>0</td>\n",
       "      <td>...</td>\n",
       "      <td>0</td>\n",
       "      <td>0</td>\n",
       "      <td>0</td>\n",
       "      <td>0</td>\n",
       "      <td>0</td>\n",
       "      <td>0</td>\n",
       "      <td>0</td>\n",
       "      <td>1</td>\n",
       "      <td>0</td>\n",
       "      <td>0</td>\n",
       "    </tr>\n",
       "    <tr>\n",
       "      <th>3</th>\n",
       "      <td>1</td>\n",
       "      <td>0</td>\n",
       "      <td>0</td>\n",
       "      <td>0</td>\n",
       "      <td>0</td>\n",
       "      <td>0</td>\n",
       "      <td>0</td>\n",
       "      <td>0</td>\n",
       "      <td>1</td>\n",
       "      <td>0</td>\n",
       "      <td>...</td>\n",
       "      <td>0</td>\n",
       "      <td>1</td>\n",
       "      <td>0</td>\n",
       "      <td>0</td>\n",
       "      <td>0</td>\n",
       "      <td>0</td>\n",
       "      <td>0</td>\n",
       "      <td>1</td>\n",
       "      <td>0</td>\n",
       "      <td>0</td>\n",
       "    </tr>\n",
       "    <tr>\n",
       "      <th>4</th>\n",
       "      <td>1</td>\n",
       "      <td>0</td>\n",
       "      <td>0</td>\n",
       "      <td>0</td>\n",
       "      <td>0</td>\n",
       "      <td>0</td>\n",
       "      <td>0</td>\n",
       "      <td>0</td>\n",
       "      <td>1</td>\n",
       "      <td>0</td>\n",
       "      <td>...</td>\n",
       "      <td>0</td>\n",
       "      <td>0</td>\n",
       "      <td>0</td>\n",
       "      <td>1</td>\n",
       "      <td>0</td>\n",
       "      <td>0</td>\n",
       "      <td>0</td>\n",
       "      <td>1</td>\n",
       "      <td>0</td>\n",
       "      <td>0</td>\n",
       "    </tr>\n",
       "  </tbody>\n",
       "</table>\n",
       "<p>5 rows × 34 columns</p>\n",
       "</div>"
      ],
      "text/plain": [
       "   city_copenhagen  city_madrid  city_valletta  city_vilnius  \\\n",
       "0                1            0              0             0   \n",
       "1                1            0              0             0   \n",
       "2                1            0              0             0   \n",
       "3                1            0              0             0   \n",
       "4                1            0              0             0   \n",
       "\n",
       "   language_austrian  language_belgian  language_czech  language_dutch  \\\n",
       "0                  0                 0               0               0   \n",
       "1                  0                 0               0               0   \n",
       "2                  0                 0               0               0   \n",
       "3                  0                 0               0               0   \n",
       "4                  0                 0               0               0   \n",
       "\n",
       "   language_french  group_Accar Hotels  ...  brand_Marcure  brand_Morriot  \\\n",
       "0                1                   0  ...              0              0   \n",
       "1                1                   0  ...              0              0   \n",
       "2                1                   0  ...              0              0   \n",
       "3                1                   0  ...              0              1   \n",
       "4                1                   0  ...              0              0   \n",
       "\n",
       "   brand_Navatel  brand_Quadrupletree  brand_Royal Lotus  brand_Safitel  \\\n",
       "0              0                    0                  1              0   \n",
       "1              0                    0                  0              0   \n",
       "2              0                    0                  0              0   \n",
       "3              0                    0                  0              0   \n",
       "4              0                    1                  0              0   \n",
       "\n",
       "   brand_Tripletree  children_policy_0  children_policy_1  children_policy_2  \n",
       "0                 0                  1                  0                  0  \n",
       "1                 0                  1                  0                  0  \n",
       "2                 0                  1                  0                  0  \n",
       "3                 0                  1                  0                  0  \n",
       "4                 0                  1                  0                  0  \n",
       "\n",
       "[5 rows x 34 columns]"
      ]
     },
     "execution_count": 85,
     "metadata": {},
     "output_type": "execute_result"
    }
   ],
   "source": [
    "dataDum.head()"
   ]
  },
  {
   "cell_type": "code",
   "execution_count": 86,
   "id": "402da96a",
   "metadata": {
    "ExecuteTime": {
     "end_time": "2022-11-10T13:53:29.669312Z",
     "start_time": "2022-11-10T13:53:29.659850Z"
    }
   },
   "outputs": [],
   "source": [
    "dataQT = data[colQT[:-1]]\n",
    "dataQT_test = data_test[colQT[:-1]]"
   ]
  },
  {
   "cell_type": "code",
   "execution_count": 87,
   "id": "f0fd8b8c",
   "metadata": {
    "ExecuteTime": {
     "end_time": "2022-11-10T13:53:30.306701Z",
     "start_time": "2022-11-10T13:53:30.298542Z"
    }
   },
   "outputs": [],
   "source": [
    "dataBool = data[colBool]\n",
    "dataBool_test = data_test[colBool]"
   ]
  },
  {
   "cell_type": "code",
   "execution_count": 88,
   "id": "364f2d32",
   "metadata": {
    "ExecuteTime": {
     "end_time": "2022-11-10T13:53:32.555926Z",
     "start_time": "2022-11-10T13:53:32.525609Z"
    }
   },
   "outputs": [
    {
     "data": {
      "text/html": [
       "<div>\n",
       "<style scoped>\n",
       "    .dataframe tbody tr th:only-of-type {\n",
       "        vertical-align: middle;\n",
       "    }\n",
       "\n",
       "    .dataframe tbody tr th {\n",
       "        vertical-align: top;\n",
       "    }\n",
       "\n",
       "    .dataframe thead th {\n",
       "        text-align: right;\n",
       "    }\n",
       "</style>\n",
       "<table border=\"1\" class=\"dataframe\">\n",
       "  <thead>\n",
       "    <tr style=\"text-align: right;\">\n",
       "      <th></th>\n",
       "      <th>city_copenhagen</th>\n",
       "      <th>city_madrid</th>\n",
       "      <th>city_valletta</th>\n",
       "      <th>city_vilnius</th>\n",
       "      <th>language_austrian</th>\n",
       "      <th>language_belgian</th>\n",
       "      <th>language_czech</th>\n",
       "      <th>language_dutch</th>\n",
       "      <th>language_french</th>\n",
       "      <th>group_Accar Hotels</th>\n",
       "      <th>...</th>\n",
       "      <th>brand_Safitel</th>\n",
       "      <th>brand_Tripletree</th>\n",
       "      <th>children_policy_0</th>\n",
       "      <th>children_policy_1</th>\n",
       "      <th>children_policy_2</th>\n",
       "      <th>stock</th>\n",
       "      <th>date</th>\n",
       "      <th>mobile</th>\n",
       "      <th>pool</th>\n",
       "      <th>parking</th>\n",
       "    </tr>\n",
       "  </thead>\n",
       "  <tbody>\n",
       "    <tr>\n",
       "      <th>0</th>\n",
       "      <td>1</td>\n",
       "      <td>0</td>\n",
       "      <td>0</td>\n",
       "      <td>0</td>\n",
       "      <td>0</td>\n",
       "      <td>0</td>\n",
       "      <td>0</td>\n",
       "      <td>0</td>\n",
       "      <td>1</td>\n",
       "      <td>0</td>\n",
       "      <td>...</td>\n",
       "      <td>0</td>\n",
       "      <td>0</td>\n",
       "      <td>1</td>\n",
       "      <td>0</td>\n",
       "      <td>0</td>\n",
       "      <td>68</td>\n",
       "      <td>30</td>\n",
       "      <td>0</td>\n",
       "      <td>0</td>\n",
       "      <td>0</td>\n",
       "    </tr>\n",
       "    <tr>\n",
       "      <th>1</th>\n",
       "      <td>1</td>\n",
       "      <td>0</td>\n",
       "      <td>0</td>\n",
       "      <td>0</td>\n",
       "      <td>0</td>\n",
       "      <td>0</td>\n",
       "      <td>0</td>\n",
       "      <td>0</td>\n",
       "      <td>1</td>\n",
       "      <td>0</td>\n",
       "      <td>...</td>\n",
       "      <td>0</td>\n",
       "      <td>0</td>\n",
       "      <td>1</td>\n",
       "      <td>0</td>\n",
       "      <td>0</td>\n",
       "      <td>41</td>\n",
       "      <td>30</td>\n",
       "      <td>0</td>\n",
       "      <td>0</td>\n",
       "      <td>0</td>\n",
       "    </tr>\n",
       "    <tr>\n",
       "      <th>2</th>\n",
       "      <td>1</td>\n",
       "      <td>0</td>\n",
       "      <td>0</td>\n",
       "      <td>0</td>\n",
       "      <td>0</td>\n",
       "      <td>0</td>\n",
       "      <td>0</td>\n",
       "      <td>0</td>\n",
       "      <td>1</td>\n",
       "      <td>0</td>\n",
       "      <td>...</td>\n",
       "      <td>0</td>\n",
       "      <td>0</td>\n",
       "      <td>1</td>\n",
       "      <td>0</td>\n",
       "      <td>0</td>\n",
       "      <td>24</td>\n",
       "      <td>30</td>\n",
       "      <td>0</td>\n",
       "      <td>0</td>\n",
       "      <td>1</td>\n",
       "    </tr>\n",
       "    <tr>\n",
       "      <th>3</th>\n",
       "      <td>1</td>\n",
       "      <td>0</td>\n",
       "      <td>0</td>\n",
       "      <td>0</td>\n",
       "      <td>0</td>\n",
       "      <td>0</td>\n",
       "      <td>0</td>\n",
       "      <td>0</td>\n",
       "      <td>1</td>\n",
       "      <td>0</td>\n",
       "      <td>...</td>\n",
       "      <td>0</td>\n",
       "      <td>0</td>\n",
       "      <td>1</td>\n",
       "      <td>0</td>\n",
       "      <td>0</td>\n",
       "      <td>73</td>\n",
       "      <td>30</td>\n",
       "      <td>0</td>\n",
       "      <td>1</td>\n",
       "      <td>1</td>\n",
       "    </tr>\n",
       "    <tr>\n",
       "      <th>4</th>\n",
       "      <td>1</td>\n",
       "      <td>0</td>\n",
       "      <td>0</td>\n",
       "      <td>0</td>\n",
       "      <td>0</td>\n",
       "      <td>0</td>\n",
       "      <td>0</td>\n",
       "      <td>0</td>\n",
       "      <td>1</td>\n",
       "      <td>0</td>\n",
       "      <td>...</td>\n",
       "      <td>0</td>\n",
       "      <td>0</td>\n",
       "      <td>1</td>\n",
       "      <td>0</td>\n",
       "      <td>0</td>\n",
       "      <td>74</td>\n",
       "      <td>30</td>\n",
       "      <td>0</td>\n",
       "      <td>0</td>\n",
       "      <td>0</td>\n",
       "    </tr>\n",
       "  </tbody>\n",
       "</table>\n",
       "<p>5 rows × 39 columns</p>\n",
       "</div>"
      ],
      "text/plain": [
       "   city_copenhagen  city_madrid  city_valletta  city_vilnius  \\\n",
       "0                1            0              0             0   \n",
       "1                1            0              0             0   \n",
       "2                1            0              0             0   \n",
       "3                1            0              0             0   \n",
       "4                1            0              0             0   \n",
       "\n",
       "   language_austrian  language_belgian  language_czech  language_dutch  \\\n",
       "0                  0                 0               0               0   \n",
       "1                  0                 0               0               0   \n",
       "2                  0                 0               0               0   \n",
       "3                  0                 0               0               0   \n",
       "4                  0                 0               0               0   \n",
       "\n",
       "   language_french  group_Accar Hotels  ...  brand_Safitel  brand_Tripletree  \\\n",
       "0                1                   0  ...              0                 0   \n",
       "1                1                   0  ...              0                 0   \n",
       "2                1                   0  ...              0                 0   \n",
       "3                1                   0  ...              0                 0   \n",
       "4                1                   0  ...              0                 0   \n",
       "\n",
       "   children_policy_0  children_policy_1  children_policy_2  stock  date  \\\n",
       "0                  1                  0                  0     68    30   \n",
       "1                  1                  0                  0     41    30   \n",
       "2                  1                  0                  0     24    30   \n",
       "3                  1                  0                  0     73    30   \n",
       "4                  1                  0                  0     74    30   \n",
       "\n",
       "   mobile  pool  parking  \n",
       "0       0     0        0  \n",
       "1       0     0        0  \n",
       "2       0     0        1  \n",
       "3       0     1        1  \n",
       "4       0     0        0  \n",
       "\n",
       "[5 rows x 39 columns]"
      ]
     },
     "execution_count": 88,
     "metadata": {},
     "output_type": "execute_result"
    }
   ],
   "source": [
    "df = pd.concat([dataDum,dataQT, dataBool],axis=1)\n",
    "df_test = pd.concat([dataDum_test,dataQT_test, dataBool_test],axis=1)\n",
    "df.head()"
   ]
  },
  {
   "cell_type": "code",
   "execution_count": 89,
   "id": "6e53170e",
   "metadata": {
    "ExecuteTime": {
     "end_time": "2022-11-10T13:53:32.921040Z",
     "start_time": "2022-11-10T13:53:32.896610Z"
    }
   },
   "outputs": [
    {
     "data": {
      "text/html": [
       "<div>\n",
       "<style scoped>\n",
       "    .dataframe tbody tr th:only-of-type {\n",
       "        vertical-align: middle;\n",
       "    }\n",
       "\n",
       "    .dataframe tbody tr th {\n",
       "        vertical-align: top;\n",
       "    }\n",
       "\n",
       "    .dataframe thead th {\n",
       "        text-align: right;\n",
       "    }\n",
       "</style>\n",
       "<table border=\"1\" class=\"dataframe\">\n",
       "  <thead>\n",
       "    <tr style=\"text-align: right;\">\n",
       "      <th></th>\n",
       "      <th>city_copenhagen</th>\n",
       "      <th>city_madrid</th>\n",
       "      <th>city_valletta</th>\n",
       "      <th>city_vilnius</th>\n",
       "      <th>language_austrian</th>\n",
       "      <th>language_belgian</th>\n",
       "      <th>language_czech</th>\n",
       "      <th>language_dutch</th>\n",
       "      <th>language_french</th>\n",
       "      <th>group_Accar Hotels</th>\n",
       "      <th>...</th>\n",
       "      <th>brand_Safitel</th>\n",
       "      <th>brand_Tripletree</th>\n",
       "      <th>children_policy_0</th>\n",
       "      <th>children_policy_1</th>\n",
       "      <th>children_policy_2</th>\n",
       "      <th>stock</th>\n",
       "      <th>date</th>\n",
       "      <th>mobile</th>\n",
       "      <th>pool</th>\n",
       "      <th>parking</th>\n",
       "    </tr>\n",
       "  </thead>\n",
       "  <tbody>\n",
       "    <tr>\n",
       "      <th>0</th>\n",
       "      <td>0</td>\n",
       "      <td>0</td>\n",
       "      <td>0</td>\n",
       "      <td>1</td>\n",
       "      <td>0</td>\n",
       "      <td>0</td>\n",
       "      <td>0</td>\n",
       "      <td>0</td>\n",
       "      <td>0</td>\n",
       "      <td>0</td>\n",
       "      <td>...</td>\n",
       "      <td>0</td>\n",
       "      <td>0</td>\n",
       "      <td>1</td>\n",
       "      <td>0</td>\n",
       "      <td>0</td>\n",
       "      <td>46</td>\n",
       "      <td>21</td>\n",
       "      <td>0</td>\n",
       "      <td>0</td>\n",
       "      <td>1</td>\n",
       "    </tr>\n",
       "    <tr>\n",
       "      <th>1</th>\n",
       "      <td>0</td>\n",
       "      <td>0</td>\n",
       "      <td>0</td>\n",
       "      <td>1</td>\n",
       "      <td>0</td>\n",
       "      <td>0</td>\n",
       "      <td>0</td>\n",
       "      <td>0</td>\n",
       "      <td>0</td>\n",
       "      <td>0</td>\n",
       "      <td>...</td>\n",
       "      <td>0</td>\n",
       "      <td>0</td>\n",
       "      <td>1</td>\n",
       "      <td>0</td>\n",
       "      <td>0</td>\n",
       "      <td>36</td>\n",
       "      <td>18</td>\n",
       "      <td>0</td>\n",
       "      <td>0</td>\n",
       "      <td>1</td>\n",
       "    </tr>\n",
       "    <tr>\n",
       "      <th>2</th>\n",
       "      <td>0</td>\n",
       "      <td>0</td>\n",
       "      <td>0</td>\n",
       "      <td>1</td>\n",
       "      <td>0</td>\n",
       "      <td>0</td>\n",
       "      <td>0</td>\n",
       "      <td>0</td>\n",
       "      <td>0</td>\n",
       "      <td>0</td>\n",
       "      <td>...</td>\n",
       "      <td>0</td>\n",
       "      <td>0</td>\n",
       "      <td>1</td>\n",
       "      <td>0</td>\n",
       "      <td>0</td>\n",
       "      <td>44</td>\n",
       "      <td>20</td>\n",
       "      <td>1</td>\n",
       "      <td>0</td>\n",
       "      <td>1</td>\n",
       "    </tr>\n",
       "    <tr>\n",
       "      <th>3</th>\n",
       "      <td>0</td>\n",
       "      <td>0</td>\n",
       "      <td>0</td>\n",
       "      <td>1</td>\n",
       "      <td>0</td>\n",
       "      <td>0</td>\n",
       "      <td>0</td>\n",
       "      <td>0</td>\n",
       "      <td>0</td>\n",
       "      <td>0</td>\n",
       "      <td>...</td>\n",
       "      <td>0</td>\n",
       "      <td>0</td>\n",
       "      <td>1</td>\n",
       "      <td>0</td>\n",
       "      <td>0</td>\n",
       "      <td>36</td>\n",
       "      <td>18</td>\n",
       "      <td>1</td>\n",
       "      <td>0</td>\n",
       "      <td>1</td>\n",
       "    </tr>\n",
       "    <tr>\n",
       "      <th>4</th>\n",
       "      <td>0</td>\n",
       "      <td>0</td>\n",
       "      <td>0</td>\n",
       "      <td>1</td>\n",
       "      <td>0</td>\n",
       "      <td>0</td>\n",
       "      <td>0</td>\n",
       "      <td>0</td>\n",
       "      <td>0</td>\n",
       "      <td>0</td>\n",
       "      <td>...</td>\n",
       "      <td>0</td>\n",
       "      <td>0</td>\n",
       "      <td>1</td>\n",
       "      <td>0</td>\n",
       "      <td>0</td>\n",
       "      <td>30</td>\n",
       "      <td>16</td>\n",
       "      <td>0</td>\n",
       "      <td>0</td>\n",
       "      <td>1</td>\n",
       "    </tr>\n",
       "  </tbody>\n",
       "</table>\n",
       "<p>5 rows × 39 columns</p>\n",
       "</div>"
      ],
      "text/plain": [
       "   city_copenhagen  city_madrid  city_valletta  city_vilnius  \\\n",
       "0                0            0              0             1   \n",
       "1                0            0              0             1   \n",
       "2                0            0              0             1   \n",
       "3                0            0              0             1   \n",
       "4                0            0              0             1   \n",
       "\n",
       "   language_austrian  language_belgian  language_czech  language_dutch  \\\n",
       "0                  0                 0               0               0   \n",
       "1                  0                 0               0               0   \n",
       "2                  0                 0               0               0   \n",
       "3                  0                 0               0               0   \n",
       "4                  0                 0               0               0   \n",
       "\n",
       "   language_french  group_Accar Hotels  ...  brand_Safitel  brand_Tripletree  \\\n",
       "0                0                   0  ...              0                 0   \n",
       "1                0                   0  ...              0                 0   \n",
       "2                0                   0  ...              0                 0   \n",
       "3                0                   0  ...              0                 0   \n",
       "4                0                   0  ...              0                 0   \n",
       "\n",
       "   children_policy_0  children_policy_1  children_policy_2  stock  date  \\\n",
       "0                  1                  0                  0     46    21   \n",
       "1                  1                  0                  0     36    18   \n",
       "2                  1                  0                  0     44    20   \n",
       "3                  1                  0                  0     36    18   \n",
       "4                  1                  0                  0     30    16   \n",
       "\n",
       "   mobile  pool  parking  \n",
       "0       0     0        1  \n",
       "1       0     0        1  \n",
       "2       1     0        1  \n",
       "3       1     0        1  \n",
       "4       0     0        1  \n",
       "\n",
       "[5 rows x 39 columns]"
      ]
     },
     "execution_count": 89,
     "metadata": {},
     "output_type": "execute_result"
    }
   ],
   "source": [
    "df_test.head()"
   ]
  },
  {
   "cell_type": "code",
   "execution_count": 90,
   "id": "07807cd6",
   "metadata": {
    "ExecuteTime": {
     "end_time": "2022-11-10T13:53:33.247541Z",
     "start_time": "2022-11-10T13:53:33.241091Z"
    }
   },
   "outputs": [],
   "source": [
    "# variable à expliquer réelle\n",
    "if transfo :\n",
    "    Y = data['SRprice']\n",
    "else :\n",
    "    Y = data['price']"
   ]
  },
  {
   "cell_type": "code",
   "execution_count": 91,
   "id": "4eeb0292",
   "metadata": {
    "ExecuteTime": {
     "end_time": "2022-11-10T13:53:34.294867Z",
     "start_time": "2022-11-10T13:53:34.290434Z"
    }
   },
   "outputs": [],
   "source": [
    "# # séparation pour les tests et tunner les modèles\n",
    "# X_train,X_test,Y_train,Y_test=train_test_split(df,Y,test_size=.25,random_state=11) #25% pour le test_size\n",
    "# submit = False"
   ]
  },
  {
   "cell_type": "code",
   "execution_count": 92,
   "id": "0c8e252d",
   "metadata": {
    "ExecuteTime": {
     "end_time": "2022-11-10T13:53:34.927650Z",
     "start_time": "2022-11-10T13:53:34.922298Z"
    }
   },
   "outputs": [],
   "source": [
    "# séparation pour submit\n",
    "X_train = df\n",
    "X_test = df_test\n",
    "Y_train = Y\n",
    "Y_test = None\n",
    "submit = True"
   ]
  },
  {
   "cell_type": "code",
   "execution_count": 93,
   "id": "519d70c5",
   "metadata": {
    "ExecuteTime": {
     "end_time": "2022-11-10T13:53:37.142991Z",
     "start_time": "2022-11-10T13:53:37.115462Z"
    }
   },
   "outputs": [],
   "source": [
    "# standardisation des données\n",
    "from sklearn.preprocessing import StandardScaler  \n",
    "scaler = StandardScaler()  \n",
    "scaler.fit(X_train)  \n",
    "X_stand_train = scaler.transform(X_train)  \n",
    "# Meme transformation sur le test\n",
    "X_stand_test = scaler.transform(X_test)"
   ]
  },
  {
   "cell_type": "markdown",
   "id": "188ce7bf",
   "metadata": {},
   "source": [
    "# Boosting"
   ]
  },
  {
   "cell_type": "markdown",
   "id": "0cd7adda",
   "metadata": {},
   "source": [
    "https://xgboost.readthedocs.io/en/stable/python/python_intro.html"
   ]
  },
  {
   "cell_type": "code",
   "execution_count": 94,
   "id": "776f81df",
   "metadata": {
    "ExecuteTime": {
     "end_time": "2022-11-10T13:53:39.476833Z",
     "start_time": "2022-11-10T13:53:39.355352Z"
    }
   },
   "outputs": [],
   "source": [
    "# définition des paramètres\n",
    "boost = GradientBoostingRegressor()\n",
    "# apprentissage\n",
    "rfFit = boost.fit(X_train,Y_train)"
   ]
  },
  {
   "cell_type": "code",
   "execution_count": 95,
   "id": "a79bc31b",
   "metadata": {
    "ExecuteTime": {
     "end_time": "2022-11-10T13:53:40.050979Z",
     "start_time": "2022-11-10T13:53:40.042793Z"
    }
   },
   "outputs": [],
   "source": [
    "if not submit:\n",
    "# erreur de prédiction sur le test\n",
    "    1-rfFit.score(X_test,Y_test)"
   ]
  },
  {
   "cell_type": "code",
   "execution_count": 96,
   "id": "d04bfe5d",
   "metadata": {
    "ExecuteTime": {
     "end_time": "2022-11-10T13:53:40.916713Z",
     "start_time": "2022-11-10T13:53:40.892659Z"
    }
   },
   "outputs": [],
   "source": [
    "# prédiction\n",
    "y_pred = rfFit.predict(X_test)\n",
    "if not submit:\n",
    "    print(\"MSE =\",mean_squared_error(y_pred,Y_test))\n",
    "    print(\"R2 =\",r2_score(Y_test,y_pred))"
   ]
  },
  {
   "cell_type": "markdown",
   "id": "bcbc8e16",
   "metadata": {
    "heading_collapsed": true
   },
   "source": [
    "# Random Forest"
   ]
  },
  {
   "cell_type": "code",
   "execution_count": null,
   "id": "a91d8faa",
   "metadata": {
    "ExecuteTime": {
     "end_time": "2022-10-26T15:22:05.015436Z",
     "start_time": "2022-10-26T15:03:12.219721Z"
    },
    "code_folding": [],
    "hidden": true
   },
   "outputs": [],
   "source": [
    "# définition des paramètres\n",
    "forest = RandomForestRegressor(n_estimators=500,\n",
    "                               max_depth=None,\n",
    "                               min_samples_split=2, min_samples_leaf=1, \n",
    "                               max_features='auto', max_leaf_nodes=None,\n",
    "                               bootstrap=True, oob_score=True)\n",
    "# apprentissage\n",
    "rfFit = forest.fit(X_train,Y_train)\n",
    "print(1-rfFit.oob_score_)"
   ]
  },
  {
   "cell_type": "code",
   "execution_count": null,
   "id": "be32c2b1",
   "metadata": {
    "ExecuteTime": {
     "end_time": "2022-10-26T15:42:26.190175Z",
     "start_time": "2022-10-26T15:22:58.192901Z"
    },
    "hidden": true
   },
   "outputs": [],
   "source": [
    "param=[{\"max_features\":list(range(2,10,1))}]\n",
    "rf= GridSearchCV(RandomForestRegressor(n_estimators=100),param,cv=5,n_jobs=-1)\n",
    "rfOpt=rf.fit(X_train, Y_train)\n",
    "# paramètre optimal\n",
    "print(\"Meilleur score = %f, Meilleur paramètre = %s\" % (1. - rfOpt.best_score_,rfOpt.best_params_))"
   ]
  },
  {
   "cell_type": "code",
   "execution_count": null,
   "id": "9408f805",
   "metadata": {
    "ExecuteTime": {
     "end_time": "2022-10-26T15:45:05.722465Z",
     "start_time": "2022-10-26T15:45:05.693516Z"
    },
    "code_folding": [],
    "hidden": true
   },
   "outputs": [],
   "source": [
    "if not submit:\n",
    "# erreur de prévision sur le test\n",
    "    1-rfOpt.score(X_test,Y_test)"
   ]
  },
  {
   "cell_type": "code",
   "execution_count": null,
   "id": "db16e647",
   "metadata": {
    "ExecuteTime": {
     "end_time": "2022-10-26T15:45:10.904436Z",
     "start_time": "2022-10-26T15:45:10.552104Z"
    },
    "code_folding": [],
    "hidden": true
   },
   "outputs": [],
   "source": [
    "# prévision\n",
    "y_pred = rfOpt.predict(X_test)\n",
    "if not submit :\n",
    "    print(\"MSE=\",mean_squared_error(y_pred,Y_test))\n",
    "    print(\"R2=\",r2_score(Y_test,y_pred))"
   ]
  },
  {
   "cell_type": "markdown",
   "id": "d20fcb09",
   "metadata": {
    "ExecuteTime": {
     "end_time": "2022-10-21T10:28:48.083688Z",
     "start_time": "2022-10-21T10:28:48.081464Z"
    }
   },
   "source": [
    "# Export predictions"
   ]
  },
  {
   "cell_type": "code",
   "execution_count": 99,
   "id": "548c6ba2",
   "metadata": {
    "ExecuteTime": {
     "end_time": "2022-11-10T13:53:49.689403Z",
     "start_time": "2022-11-10T13:53:49.677581Z"
    }
   },
   "outputs": [
    {
     "data": {
      "text/plain": [
       "array([94.63521436, 93.78885949, 92.71306095, ..., 76.19972213,\n",
       "       76.25047647, 76.25047647])"
      ]
     },
     "execution_count": 99,
     "metadata": {},
     "output_type": "execute_result"
    }
   ],
   "source": [
    "y_pred"
   ]
  },
  {
   "cell_type": "code",
   "execution_count": 98,
   "id": "cca32b90",
   "metadata": {
    "ExecuteTime": {
     "end_time": "2022-11-10T13:53:46.397752Z",
     "start_time": "2022-11-10T13:53:46.367448Z"
    }
   },
   "outputs": [],
   "source": [
    "# save\n",
    "if transfo:\n",
    "    y_pred = y_pred**3\n",
    "if submit :\n",
    "    sub = pd.DataFrame(y_pred)\n",
    "    sub.to_csv('boosting.csv',index=True, header=['price'], index_label = 'index')"
   ]
  },
  {
   "cell_type": "code",
   "execution_count": null,
   "id": "38f8e811",
   "metadata": {
    "ExecuteTime": {
     "end_time": "2022-11-10T13:22:45.826337Z",
     "start_time": "2022-11-10T13:22:45.619056Z"
    }
   },
   "outputs": [],
   "source": [
    "sns.histplot(y_pred)"
   ]
  },
  {
   "cell_type": "code",
   "execution_count": null,
   "id": "e2ad209f",
   "metadata": {},
   "outputs": [],
   "source": []
  }
 ],
 "metadata": {
  "kernelspec": {
   "display_name": "Python 3 (ipykernel)",
   "language": "python",
   "name": "python3"
  },
  "language_info": {
   "codemirror_mode": {
    "name": "ipython",
    "version": 3
   },
   "file_extension": ".py",
   "mimetype": "text/x-python",
   "name": "python",
   "nbconvert_exporter": "python",
   "pygments_lexer": "ipython3",
   "version": "3.9.12"
  },
  "toc": {
   "base_numbering": 1,
   "nav_menu": {},
   "number_sections": true,
   "sideBar": true,
   "skip_h1_title": false,
   "title_cell": "Table of Contents",
   "title_sidebar": "Contents",
   "toc_cell": false,
   "toc_position": {},
   "toc_section_display": true,
   "toc_window_display": false
  },
  "varInspector": {
   "cols": {
    "lenName": 16,
    "lenType": 16,
    "lenVar": 40
   },
   "kernels_config": {
    "python": {
     "delete_cmd_postfix": "",
     "delete_cmd_prefix": "del ",
     "library": "var_list.py",
     "varRefreshCmd": "print(var_dic_list())"
    },
    "r": {
     "delete_cmd_postfix": ") ",
     "delete_cmd_prefix": "rm(",
     "library": "var_list.r",
     "varRefreshCmd": "cat(var_dic_list()) "
    }
   },
   "types_to_exclude": [
    "module",
    "function",
    "builtin_function_or_method",
    "instance",
    "_Feature"
   ],
   "window_display": false
  }
 },
 "nbformat": 4,
 "nbformat_minor": 5
}
