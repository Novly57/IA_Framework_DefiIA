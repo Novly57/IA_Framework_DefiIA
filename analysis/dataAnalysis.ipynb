{
 "cells": [
  {
   "cell_type": "code",
   "execution_count": 1,
   "id": "af852220",
   "metadata": {
    "ExecuteTime": {
     "end_time": "2022-10-21T10:59:12.465352Z",
     "start_time": "2022-10-21T10:59:12.438092Z"
    }
   },
   "outputs": [
    {
     "name": "stderr",
     "output_type": "stream",
     "text": [
      "/tmp/ipykernel_6599/82325636.py:1: DeprecationWarning: Importing display from IPython.core.display is deprecated since IPython 7.14, please import from IPython display\n",
      "  from IPython.core.display import display, HTML\n"
     ]
    },
    {
     "data": {
      "text/html": [
       "<style>.container { width:80% !important; }</style>"
      ],
      "text/plain": [
       "<IPython.core.display.HTML object>"
      ]
     },
     "metadata": {},
     "output_type": "display_data"
    }
   ],
   "source": [
    "from IPython.core.display import display, HTML\n",
    "display(HTML(\"<style>.container { width:80% !important; }</style>\"))"
   ]
  },
  {
   "cell_type": "code",
   "execution_count": 2,
   "id": "7287b63f",
   "metadata": {
    "ExecuteTime": {
     "end_time": "2022-10-21T10:59:16.686511Z",
     "start_time": "2022-10-21T10:59:13.767546Z"
    }
   },
   "outputs": [],
   "source": [
    "import pandas as pd\n",
    "import numpy as np\n",
    "import seaborn as sns\n",
    "%matplotlib inline\n",
    "import matplotlib.pyplot as plt\n",
    "from math import sqrt, log\n",
    "sns.set_style(\"darkgrid\")\n",
    "\n",
    "from sklearn.ensemble import RandomForestRegressor \n",
    "from sklearn.metrics import mean_squared_error\n",
    "from sklearn.metrics import r2_score\n",
    "from sklearn.ensemble import GradientBoostingRegressor\n",
    "from sklearn.model_selection import GridSearchCV\n",
    "from sklearn.model_selection import train_test_split  "
   ]
  },
  {
   "cell_type": "code",
   "execution_count": 3,
   "id": "71dea5ab",
   "metadata": {
    "ExecuteTime": {
     "end_time": "2022-10-21T10:59:18.460982Z",
     "start_time": "2022-10-21T10:59:18.455793Z"
    }
   },
   "outputs": [],
   "source": [
    "_prints = False"
   ]
  },
  {
   "cell_type": "code",
   "execution_count": 4,
   "id": "deeeee60",
   "metadata": {
    "ExecuteTime": {
     "end_time": "2022-10-21T10:59:21.421443Z",
     "start_time": "2022-10-21T10:59:20.456689Z"
    }
   },
   "outputs": [
    {
     "name": "stderr",
     "output_type": "stream",
     "text": [
      "/tmp/ipykernel_6599/2280392610.py:19: SettingWithCopyWarning: \n",
      "A value is trying to be set on a copy of a slice from a DataFrame\n",
      "\n",
      "See the caveats in the documentation: https://pandas.pydata.org/pandas-docs/stable/user_guide/indexing.html#returning-a-view-versus-a-copy\n",
      "  data_test['request_number'].loc[data_test['avatar_id'] == avatar] = data_test['order_requests'].loc[data_test['avatar_id']== avatar] - min(data_test['order_requests'].loc[data_test['avatar_id']== avatar]-1)\n"
     ]
    },
    {
     "data": {
      "text/html": [
       "<div>\n",
       "<style scoped>\n",
       "    .dataframe tbody tr th:only-of-type {\n",
       "        vertical-align: middle;\n",
       "    }\n",
       "\n",
       "    .dataframe tbody tr th {\n",
       "        vertical-align: top;\n",
       "    }\n",
       "\n",
       "    .dataframe thead th {\n",
       "        text-align: right;\n",
       "    }\n",
       "</style>\n",
       "<table border=\"1\" class=\"dataframe\">\n",
       "  <thead>\n",
       "    <tr style=\"text-align: right;\">\n",
       "      <th></th>\n",
       "      <th>city</th>\n",
       "      <th>date</th>\n",
       "      <th>language</th>\n",
       "      <th>mobile</th>\n",
       "      <th>request_number</th>\n",
       "      <th>avatar_id</th>\n",
       "      <th>hotel_id</th>\n",
       "      <th>price</th>\n",
       "      <th>stock</th>\n",
       "      <th>group</th>\n",
       "      <th>brand</th>\n",
       "      <th>parking</th>\n",
       "      <th>pool</th>\n",
       "      <th>children_policy</th>\n",
       "    </tr>\n",
       "  </thead>\n",
       "  <tbody>\n",
       "    <tr>\n",
       "      <th>0</th>\n",
       "      <td>valletta</td>\n",
       "      <td>2</td>\n",
       "      <td>bulgarian</td>\n",
       "      <td>1</td>\n",
       "      <td>1</td>\n",
       "      <td>134</td>\n",
       "      <td>55</td>\n",
       "      <td>109</td>\n",
       "      <td>10</td>\n",
       "      <td>Boss Western</td>\n",
       "      <td>Boss Western</td>\n",
       "      <td>1</td>\n",
       "      <td>0</td>\n",
       "      <td>0</td>\n",
       "    </tr>\n",
       "    <tr>\n",
       "      <th>1</th>\n",
       "      <td>valletta</td>\n",
       "      <td>32</td>\n",
       "      <td>bulgarian</td>\n",
       "      <td>1</td>\n",
       "      <td>1</td>\n",
       "      <td>167</td>\n",
       "      <td>55</td>\n",
       "      <td>100</td>\n",
       "      <td>49</td>\n",
       "      <td>Boss Western</td>\n",
       "      <td>Boss Western</td>\n",
       "      <td>1</td>\n",
       "      <td>0</td>\n",
       "      <td>0</td>\n",
       "    </tr>\n",
       "    <tr>\n",
       "      <th>2</th>\n",
       "      <td>valletta</td>\n",
       "      <td>32</td>\n",
       "      <td>hungarian</td>\n",
       "      <td>0</td>\n",
       "      <td>1</td>\n",
       "      <td>179</td>\n",
       "      <td>55</td>\n",
       "      <td>100</td>\n",
       "      <td>49</td>\n",
       "      <td>Boss Western</td>\n",
       "      <td>Boss Western</td>\n",
       "      <td>1</td>\n",
       "      <td>0</td>\n",
       "      <td>0</td>\n",
       "    </tr>\n",
       "    <tr>\n",
       "      <th>3</th>\n",
       "      <td>valletta</td>\n",
       "      <td>5</td>\n",
       "      <td>danish</td>\n",
       "      <td>1</td>\n",
       "      <td>1</td>\n",
       "      <td>197</td>\n",
       "      <td>55</td>\n",
       "      <td>129</td>\n",
       "      <td>0</td>\n",
       "      <td>Boss Western</td>\n",
       "      <td>Boss Western</td>\n",
       "      <td>1</td>\n",
       "      <td>0</td>\n",
       "      <td>0</td>\n",
       "    </tr>\n",
       "    <tr>\n",
       "      <th>4</th>\n",
       "      <td>valletta</td>\n",
       "      <td>36</td>\n",
       "      <td>danish</td>\n",
       "      <td>1</td>\n",
       "      <td>1</td>\n",
       "      <td>203</td>\n",
       "      <td>55</td>\n",
       "      <td>110</td>\n",
       "      <td>64</td>\n",
       "      <td>Boss Western</td>\n",
       "      <td>Boss Western</td>\n",
       "      <td>1</td>\n",
       "      <td>0</td>\n",
       "      <td>0</td>\n",
       "    </tr>\n",
       "  </tbody>\n",
       "</table>\n",
       "</div>"
      ],
      "text/plain": [
       "       city  date   language  mobile  request_number  avatar_id  hotel_id  \\\n",
       "0  valletta     2  bulgarian       1               1        134        55   \n",
       "1  valletta    32  bulgarian       1               1        167        55   \n",
       "2  valletta    32  hungarian       0               1        179        55   \n",
       "3  valletta     5     danish       1               1        197        55   \n",
       "4  valletta    36     danish       1               1        203        55   \n",
       "\n",
       "   price  stock         group         brand  parking  pool  children_policy  \n",
       "0    109     10  Boss Western  Boss Western        1     0                0  \n",
       "1    100     49  Boss Western  Boss Western        1     0                0  \n",
       "2    100     49  Boss Western  Boss Western        1     0                0  \n",
       "3    129      0  Boss Western  Boss Western        1     0                0  \n",
       "4    110     64  Boss Western  Boss Western        1     0                0  "
      ]
     },
     "execution_count": 4,
     "metadata": {},
     "output_type": "execute_result"
    }
   ],
   "source": [
    "local = True\n",
    "\n",
    "path = '../data/' \n",
    "hotels = pd.read_csv('../data/features_hotels.csv') # à tester, sans ces données\n",
    "\n",
    "if local : \n",
    "    data = pd.read_csv(path+\"data.csv\")\n",
    "else :\n",
    "    url = 'https://drive.google.com/file/d/10sNct4HjylkBudNAQNfvMpI7qgvsspwj/view?usp=sharing'\n",
    "    path = 'https://drive.google.com/uc?export=download&id='+url.split('/')[-2]\n",
    "    data = pd.read_csv(path)\n",
    "    \n",
    "data = data.merge(hotels, on=['hotel_id','city'])\n",
    "data_test = pd.read_csv(path+'test_set.csv') # ignore index \n",
    "data_test['request_number'] = 0\n",
    "data_test = data_test.merge(hotels, on=['hotel_id','city']) \n",
    "\n",
    "for avatar in np.unique(data_test['avatar_id']):\n",
    "    data_test['request_number'].loc[data_test['avatar_id'] == avatar] = data_test['order_requests'].loc[data_test['avatar_id']== avatar] - min(data_test['order_requests'].loc[data_test['avatar_id']== avatar]-1)\n",
    "\n",
    "data.head()"
   ]
  },
  {
   "cell_type": "code",
   "execution_count": 5,
   "id": "b5948f43",
   "metadata": {
    "ExecuteTime": {
     "end_time": "2022-10-21T10:59:27.185105Z",
     "start_time": "2022-10-21T10:59:27.175439Z"
    }
   },
   "outputs": [
    {
     "data": {
      "text/plain": [
       "array([1, 2, 3, 4])"
      ]
     },
     "execution_count": 5,
     "metadata": {},
     "output_type": "execute_result"
    }
   ],
   "source": [
    "np.unique(data_test['request_number'])"
   ]
  },
  {
   "cell_type": "code",
   "execution_count": 6,
   "id": "e9df8cf5",
   "metadata": {
    "ExecuteTime": {
     "end_time": "2022-10-21T10:59:27.733839Z",
     "start_time": "2022-10-21T10:59:27.724797Z"
    }
   },
   "outputs": [
    {
     "data": {
      "text/plain": [
       "(281393, 14)"
      ]
     },
     "execution_count": 6,
     "metadata": {},
     "output_type": "execute_result"
    }
   ],
   "source": [
    "data.shape"
   ]
  },
  {
   "cell_type": "code",
   "execution_count": 7,
   "id": "e929a734",
   "metadata": {
    "ExecuteTime": {
     "end_time": "2022-10-21T10:59:30.337590Z",
     "start_time": "2022-10-21T10:59:30.327600Z"
    }
   },
   "outputs": [
    {
     "data": {
      "text/plain": [
       "city               object\n",
       "date                int64\n",
       "language           object\n",
       "mobile              int64\n",
       "request_number      int64\n",
       "avatar_id           int64\n",
       "hotel_id            int64\n",
       "price               int64\n",
       "stock               int64\n",
       "group              object\n",
       "brand              object\n",
       "parking             int64\n",
       "pool                int64\n",
       "children_policy     int64\n",
       "dtype: object"
      ]
     },
     "execution_count": 7,
     "metadata": {},
     "output_type": "execute_result"
    }
   ],
   "source": [
    "data.dtypes"
   ]
  },
  {
   "cell_type": "code",
   "execution_count": 8,
   "id": "36d095d9",
   "metadata": {
    "ExecuteTime": {
     "end_time": "2022-10-21T10:59:31.785777Z",
     "start_time": "2022-10-21T10:59:31.695337Z"
    }
   },
   "outputs": [
    {
     "data": {
      "text/plain": [
       "city               category\n",
       "date                  int64\n",
       "language           category\n",
       "mobile                int64\n",
       "request_number        int64\n",
       "avatar_id          category\n",
       "hotel_id           category\n",
       "price                 int64\n",
       "stock                 int64\n",
       "group              category\n",
       "brand              category\n",
       "parking               int64\n",
       "pool                  int64\n",
       "children_policy    category\n",
       "dtype: object"
      ]
     },
     "execution_count": 8,
     "metadata": {},
     "output_type": "execute_result"
    }
   ],
   "source": [
    "for col in ['city', 'language', 'avatar_id', 'hotel_id', 'group', 'brand','children_policy'] :\n",
    "    data[col] = pd.Categorical(data[col],ordered=False)\n",
    "    data_test[col] = pd.Categorical(data_test[col],ordered=False)\n",
    "    \n",
    "data.dtypes"
   ]
  },
  {
   "cell_type": "code",
   "execution_count": 9,
   "id": "47e1b06f",
   "metadata": {
    "ExecuteTime": {
     "end_time": "2022-10-21T10:59:52.579323Z",
     "start_time": "2022-10-21T10:59:52.569783Z"
    }
   },
   "outputs": [],
   "source": [
    "colQT = ['request_number', 'stock', 'date']"
   ]
  },
  {
   "cell_type": "code",
   "execution_count": 10,
   "id": "cc4b64d4",
   "metadata": {
    "ExecuteTime": {
     "end_time": "2022-10-21T10:59:53.516668Z",
     "start_time": "2022-10-21T10:59:53.508383Z"
    }
   },
   "outputs": [],
   "source": [
    "if _prints :\n",
    "    plt.figure()\n",
    "    sns.histplot(data['price'])\n",
    "    plt.show()"
   ]
  },
  {
   "cell_type": "code",
   "execution_count": 11,
   "id": "8e92ee91",
   "metadata": {
    "ExecuteTime": {
     "end_time": "2022-10-21T10:59:53.786724Z",
     "start_time": "2022-10-21T10:59:53.783511Z"
    }
   },
   "outputs": [],
   "source": [
    "if _prints :\n",
    "    plt.figure()\n",
    "    sns.histplot(data['price'].map(lambda x: x**(1/3)))\n",
    "    plt.show()"
   ]
  },
  {
   "cell_type": "code",
   "execution_count": 12,
   "id": "33b9f737",
   "metadata": {
    "ExecuteTime": {
     "end_time": "2022-10-21T10:59:54.349303Z",
     "start_time": "2022-10-21T10:59:54.251336Z"
    }
   },
   "outputs": [],
   "source": [
    "transfo = True\n",
    "if transfo :\n",
    "    data['SRprice'] = data['price'].map(lambda x: x**(1/3))"
   ]
  },
  {
   "cell_type": "code",
   "execution_count": 13,
   "id": "e899ee0c",
   "metadata": {
    "ExecuteTime": {
     "end_time": "2022-10-21T10:59:55.855639Z",
     "start_time": "2022-10-21T10:59:55.848886Z"
    },
    "code_folding": []
   },
   "outputs": [],
   "source": [
    "if _prints :\n",
    "    for col in data.columns:\n",
    "        plt.figure(figsize=(8,3))\n",
    "        sns.histplot(data[col])\n",
    "        plt.xticks(rotation=45)\n",
    "        plt.show()"
   ]
  },
  {
   "cell_type": "code",
   "execution_count": 14,
   "id": "4f7341a6",
   "metadata": {
    "ExecuteTime": {
     "end_time": "2022-10-21T10:59:57.010609Z",
     "start_time": "2022-10-21T10:59:57.004722Z"
    }
   },
   "outputs": [],
   "source": [
    "if _prints :\n",
    "    for col in data_test.columns:\n",
    "        plt.figure(figsize=(8,3))\n",
    "        sns.histplot(data_test[col])\n",
    "        plt.xticks(rotation=45)\n",
    "        plt.show()"
   ]
  },
  {
   "cell_type": "code",
   "execution_count": 15,
   "id": "c0df70ae",
   "metadata": {
    "ExecuteTime": {
     "end_time": "2022-10-21T11:00:57.859408Z",
     "start_time": "2022-10-21T11:00:57.787674Z"
    }
   },
   "outputs": [],
   "source": [
    "dataDum = pd.get_dummies(data[['city','language','mobile','group','brand','parking','pool','children_policy']])\n",
    "del dataDum['city_amsterdam']\n",
    "del dataDum['language_hungarian']\n",
    "# del dataDum['hotel_id_0']\n",
    "del dataDum['group_Accar Hotels']\n",
    "del dataDum['brand_8 Premium']\n",
    "del dataDum['children_policy_0']\n",
    "\n",
    "# on Test Set\n",
    "\n",
    "dataDum_test = pd.get_dummies(data_test[['city','language','mobile','group','brand','parking','pool','children_policy']])\n",
    "del dataDum_test['city_amsterdam']\n",
    "del dataDum_test['language_hungarian']\n",
    "# del dataDum_test['hotel_id_0']\n",
    "del dataDum_test['group_Accar Hotels']\n",
    "del dataDum_test['brand_8 Premium']\n",
    "del dataDum_test['children_policy_0']"
   ]
  },
  {
   "cell_type": "code",
   "execution_count": null,
   "id": "8c4adf01",
   "metadata": {
    "ExecuteTime": {
     "end_time": "2022-10-21T10:52:34.860575Z",
     "start_time": "2022-10-21T10:52:34.853692Z"
    }
   },
   "outputs": [],
   "source": [
    "# First work without order request \n",
    "# del colQT[0]"
   ]
  },
  {
   "cell_type": "code",
   "execution_count": 17,
   "id": "402da96a",
   "metadata": {
    "ExecuteTime": {
     "end_time": "2022-10-21T11:01:06.332568Z",
     "start_time": "2022-10-21T11:01:06.320498Z"
    }
   },
   "outputs": [],
   "source": [
    "dataQt = data[colQT]\n",
    "dataQt_test = data_test[colQT]"
   ]
  },
  {
   "cell_type": "code",
   "execution_count": 18,
   "id": "364f2d32",
   "metadata": {
    "ExecuteTime": {
     "end_time": "2022-10-21T11:01:06.966922Z",
     "start_time": "2022-10-21T11:01:06.933857Z"
    }
   },
   "outputs": [
    {
     "data": {
      "text/html": [
       "<div>\n",
       "<style scoped>\n",
       "    .dataframe tbody tr th:only-of-type {\n",
       "        vertical-align: middle;\n",
       "    }\n",
       "\n",
       "    .dataframe tbody tr th {\n",
       "        vertical-align: top;\n",
       "    }\n",
       "\n",
       "    .dataframe thead th {\n",
       "        text-align: right;\n",
       "    }\n",
       "</style>\n",
       "<table border=\"1\" class=\"dataframe\">\n",
       "  <thead>\n",
       "    <tr style=\"text-align: right;\">\n",
       "      <th></th>\n",
       "      <th>mobile</th>\n",
       "      <th>parking</th>\n",
       "      <th>pool</th>\n",
       "      <th>city_copenhagen</th>\n",
       "      <th>city_madrid</th>\n",
       "      <th>city_paris</th>\n",
       "      <th>city_rome</th>\n",
       "      <th>city_sofia</th>\n",
       "      <th>city_valletta</th>\n",
       "      <th>city_vienna</th>\n",
       "      <th>...</th>\n",
       "      <th>brand_Navatel</th>\n",
       "      <th>brand_Quadrupletree</th>\n",
       "      <th>brand_Royal Lotus</th>\n",
       "      <th>brand_Safitel</th>\n",
       "      <th>brand_Tripletree</th>\n",
       "      <th>children_policy_1</th>\n",
       "      <th>children_policy_2</th>\n",
       "      <th>request_number</th>\n",
       "      <th>stock</th>\n",
       "      <th>date</th>\n",
       "    </tr>\n",
       "  </thead>\n",
       "  <tbody>\n",
       "    <tr>\n",
       "      <th>0</th>\n",
       "      <td>1</td>\n",
       "      <td>1</td>\n",
       "      <td>0</td>\n",
       "      <td>0</td>\n",
       "      <td>0</td>\n",
       "      <td>0</td>\n",
       "      <td>0</td>\n",
       "      <td>0</td>\n",
       "      <td>1</td>\n",
       "      <td>0</td>\n",
       "      <td>...</td>\n",
       "      <td>0</td>\n",
       "      <td>0</td>\n",
       "      <td>0</td>\n",
       "      <td>0</td>\n",
       "      <td>0</td>\n",
       "      <td>0</td>\n",
       "      <td>0</td>\n",
       "      <td>1</td>\n",
       "      <td>10</td>\n",
       "      <td>2</td>\n",
       "    </tr>\n",
       "    <tr>\n",
       "      <th>1</th>\n",
       "      <td>1</td>\n",
       "      <td>1</td>\n",
       "      <td>0</td>\n",
       "      <td>0</td>\n",
       "      <td>0</td>\n",
       "      <td>0</td>\n",
       "      <td>0</td>\n",
       "      <td>0</td>\n",
       "      <td>1</td>\n",
       "      <td>0</td>\n",
       "      <td>...</td>\n",
       "      <td>0</td>\n",
       "      <td>0</td>\n",
       "      <td>0</td>\n",
       "      <td>0</td>\n",
       "      <td>0</td>\n",
       "      <td>0</td>\n",
       "      <td>0</td>\n",
       "      <td>1</td>\n",
       "      <td>49</td>\n",
       "      <td>32</td>\n",
       "    </tr>\n",
       "    <tr>\n",
       "      <th>2</th>\n",
       "      <td>0</td>\n",
       "      <td>1</td>\n",
       "      <td>0</td>\n",
       "      <td>0</td>\n",
       "      <td>0</td>\n",
       "      <td>0</td>\n",
       "      <td>0</td>\n",
       "      <td>0</td>\n",
       "      <td>1</td>\n",
       "      <td>0</td>\n",
       "      <td>...</td>\n",
       "      <td>0</td>\n",
       "      <td>0</td>\n",
       "      <td>0</td>\n",
       "      <td>0</td>\n",
       "      <td>0</td>\n",
       "      <td>0</td>\n",
       "      <td>0</td>\n",
       "      <td>1</td>\n",
       "      <td>49</td>\n",
       "      <td>32</td>\n",
       "    </tr>\n",
       "    <tr>\n",
       "      <th>3</th>\n",
       "      <td>1</td>\n",
       "      <td>1</td>\n",
       "      <td>0</td>\n",
       "      <td>0</td>\n",
       "      <td>0</td>\n",
       "      <td>0</td>\n",
       "      <td>0</td>\n",
       "      <td>0</td>\n",
       "      <td>1</td>\n",
       "      <td>0</td>\n",
       "      <td>...</td>\n",
       "      <td>0</td>\n",
       "      <td>0</td>\n",
       "      <td>0</td>\n",
       "      <td>0</td>\n",
       "      <td>0</td>\n",
       "      <td>0</td>\n",
       "      <td>0</td>\n",
       "      <td>1</td>\n",
       "      <td>0</td>\n",
       "      <td>5</td>\n",
       "    </tr>\n",
       "    <tr>\n",
       "      <th>4</th>\n",
       "      <td>1</td>\n",
       "      <td>1</td>\n",
       "      <td>0</td>\n",
       "      <td>0</td>\n",
       "      <td>0</td>\n",
       "      <td>0</td>\n",
       "      <td>0</td>\n",
       "      <td>0</td>\n",
       "      <td>1</td>\n",
       "      <td>0</td>\n",
       "      <td>...</td>\n",
       "      <td>0</td>\n",
       "      <td>0</td>\n",
       "      <td>0</td>\n",
       "      <td>0</td>\n",
       "      <td>0</td>\n",
       "      <td>0</td>\n",
       "      <td>0</td>\n",
       "      <td>1</td>\n",
       "      <td>64</td>\n",
       "      <td>36</td>\n",
       "    </tr>\n",
       "  </tbody>\n",
       "</table>\n",
       "<p>5 rows × 62 columns</p>\n",
       "</div>"
      ],
      "text/plain": [
       "   mobile  parking  pool  city_copenhagen  city_madrid  city_paris  city_rome  \\\n",
       "0       1        1     0                0            0           0          0   \n",
       "1       1        1     0                0            0           0          0   \n",
       "2       0        1     0                0            0           0          0   \n",
       "3       1        1     0                0            0           0          0   \n",
       "4       1        1     0                0            0           0          0   \n",
       "\n",
       "   city_sofia  city_valletta  city_vienna  ...  brand_Navatel  \\\n",
       "0           0              1            0  ...              0   \n",
       "1           0              1            0  ...              0   \n",
       "2           0              1            0  ...              0   \n",
       "3           0              1            0  ...              0   \n",
       "4           0              1            0  ...              0   \n",
       "\n",
       "   brand_Quadrupletree  brand_Royal Lotus  brand_Safitel  brand_Tripletree  \\\n",
       "0                    0                  0              0                 0   \n",
       "1                    0                  0              0                 0   \n",
       "2                    0                  0              0                 0   \n",
       "3                    0                  0              0                 0   \n",
       "4                    0                  0              0                 0   \n",
       "\n",
       "   children_policy_1  children_policy_2  request_number  stock  date  \n",
       "0                  0                  0               1     10     2  \n",
       "1                  0                  0               1     49    32  \n",
       "2                  0                  0               1     49    32  \n",
       "3                  0                  0               1      0     5  \n",
       "4                  0                  0               1     64    36  \n",
       "\n",
       "[5 rows x 62 columns]"
      ]
     },
     "execution_count": 18,
     "metadata": {},
     "output_type": "execute_result"
    }
   ],
   "source": [
    "df = pd.concat([dataDum,dataQt],axis=1)\n",
    "df_test = pd.concat([dataDum_test,dataQt_test],axis=1)\n",
    "df.head()"
   ]
  },
  {
   "cell_type": "code",
   "execution_count": 19,
   "id": "07807cd6",
   "metadata": {
    "ExecuteTime": {
     "end_time": "2022-10-21T11:01:10.288710Z",
     "start_time": "2022-10-21T11:01:10.280974Z"
    }
   },
   "outputs": [],
   "source": [
    "# variable à expliquer réelle\n",
    "if transfo :\n",
    "    Yr = data['SRprice']\n",
    "else :\n",
    "    Yr = data['price']"
   ]
  },
  {
   "cell_type": "code",
   "execution_count": 20,
   "id": "4eeb0292",
   "metadata": {
    "ExecuteTime": {
     "end_time": "2022-10-21T11:01:11.175880Z",
     "start_time": "2022-10-21T11:01:11.079656Z"
    }
   },
   "outputs": [],
   "source": [
    "# séparation pour les tests et tunner les modèles\n",
    "X_train,X_test,Yr_train,Yr_test=train_test_split(df,Yr,test_size=.25,random_state=11) #25% pour le test_size\n",
    "submit = False"
   ]
  },
  {
   "cell_type": "code",
   "execution_count": 21,
   "id": "0c8e252d",
   "metadata": {
    "ExecuteTime": {
     "end_time": "2022-10-21T11:01:14.559963Z",
     "start_time": "2022-10-21T11:01:14.553305Z"
    }
   },
   "outputs": [],
   "source": [
    "# séparation pour submit\n",
    "X_train = df\n",
    "X_test = df_test\n",
    "Yr_train = Yr\n",
    "Yr_test = None\n",
    "submit = True"
   ]
  },
  {
   "cell_type": "code",
   "execution_count": 22,
   "id": "519d70c5",
   "metadata": {
    "ExecuteTime": {
     "end_time": "2022-10-21T11:01:16.125205Z",
     "start_time": "2022-10-21T11:01:15.741959Z"
    }
   },
   "outputs": [],
   "source": [
    "# standardisation des données\n",
    "from sklearn.preprocessing import StandardScaler  \n",
    "scaler = StandardScaler()  \n",
    "scaler.fit(X_train)  \n",
    "Xr_train = scaler.transform(X_train)  \n",
    "# Meme transformation sur le test\n",
    "Xr_test = scaler.transform(X_test)"
   ]
  },
  {
   "cell_type": "markdown",
   "id": "188ce7bf",
   "metadata": {},
   "source": [
    "# Boosting"
   ]
  },
  {
   "cell_type": "code",
   "execution_count": 23,
   "id": "776f81df",
   "metadata": {
    "ExecuteTime": {
     "end_time": "2022-10-21T11:01:54.947831Z",
     "start_time": "2022-10-21T11:01:18.713859Z"
    }
   },
   "outputs": [],
   "source": [
    "# définition des paramètres\n",
    "boost = GradientBoostingRegressor()\n",
    "# apprentissage\n",
    "rfFit = boost.fit(Xr_train,Yr_train)"
   ]
  },
  {
   "cell_type": "code",
   "execution_count": 24,
   "id": "a79bc31b",
   "metadata": {
    "ExecuteTime": {
     "end_time": "2022-10-21T11:01:55.726767Z",
     "start_time": "2022-10-21T11:01:55.721370Z"
    }
   },
   "outputs": [],
   "source": [
    "if not submit:\n",
    "# erreur de prédiction sur le test\n",
    "    1-rfFit.score(Xr_test,Yr_test)"
   ]
  },
  {
   "cell_type": "code",
   "execution_count": 25,
   "id": "d04bfe5d",
   "metadata": {
    "ExecuteTime": {
     "end_time": "2022-10-21T11:01:56.467951Z",
     "start_time": "2022-10-21T11:01:56.450105Z"
    }
   },
   "outputs": [],
   "source": [
    "# prédiction\n",
    "y_pred = rfFit.predict(Xr_test)\n",
    "if not submit:\n",
    "    print(\"MSE =\",mean_squared_error(y_pred,Yr_test))\n",
    "    print(\"R2 =\",r2_score(Yr_test,y_pred))"
   ]
  },
  {
   "cell_type": "markdown",
   "id": "bcbc8e16",
   "metadata": {},
   "source": [
    "# Random Forest"
   ]
  },
  {
   "cell_type": "code",
   "execution_count": 28,
   "id": "a91d8faa",
   "metadata": {
    "ExecuteTime": {
     "end_time": "2022-10-21T11:15:25.710383Z",
     "start_time": "2022-10-21T11:04:36.895018Z"
    },
    "code_folding": []
   },
   "outputs": [
    {
     "name": "stderr",
     "output_type": "stream",
     "text": [
      "/usr/local/insa/anaconda/lib/python3.9/site-packages/sklearn/ensemble/_forest.py:416: FutureWarning: `max_features='auto'` has been deprecated in 1.1 and will be removed in 1.3. To keep the past behaviour, explicitly set `max_features=1.0` or remove this parameter as it is also the default value for RandomForestRegressors and ExtraTreesRegressors.\n",
      "  warn(\n"
     ]
    },
    {
     "name": "stdout",
     "output_type": "stream",
     "text": [
      "0.04415187034625545\n"
     ]
    }
   ],
   "source": [
    "# définition des paramètres\n",
    "forest = RandomForestRegressor(n_estimators=500,\n",
    "                               max_depth=None,\n",
    "                               min_samples_split=2, min_samples_leaf=1, \n",
    "                               max_features='auto', max_leaf_nodes=None,\n",
    "                               bootstrap=True, oob_score=True)\n",
    "# apprentissage\n",
    "rfFit = forest.fit(Xr_train,Yr_train)\n",
    "print(1-rfFit.oob_score_)"
   ]
  },
  {
   "cell_type": "code",
   "execution_count": 29,
   "id": "be32c2b1",
   "metadata": {
    "ExecuteTime": {
     "end_time": "2022-10-21T11:22:19.473170Z",
     "start_time": "2022-10-21T11:15:26.463521Z"
    }
   },
   "outputs": [
    {
     "name": "stderr",
     "output_type": "stream",
     "text": [
      "/usr/local/insa/anaconda/lib/python3.9/site-packages/joblib/externals/loky/process_executor.py:702: UserWarning: A worker stopped while some jobs were given to the executor. This can be caused by a too short worker timeout or by a memory leak.\n",
      "  warnings.warn(\n"
     ]
    },
    {
     "name": "stdout",
     "output_type": "stream",
     "text": [
      "Meilleur score = 0.156925, Meilleur paramètre = {'max_features': 9}\n"
     ]
    }
   ],
   "source": [
    "param=[{\"max_features\":list(range(2,10,1))}]\n",
    "rf= GridSearchCV(RandomForestRegressor(n_estimators=100),param,cv=5,n_jobs=-1)\n",
    "rfOpt=rf.fit(Xr_train, Yr_train)\n",
    "# paramètre optimal\n",
    "print(\"Meilleur score = %f, Meilleur paramètre = %s\" % (1. - rfOpt.best_score_,rfOpt.best_params_))"
   ]
  },
  {
   "cell_type": "code",
   "execution_count": 30,
   "id": "9408f805",
   "metadata": {
    "ExecuteTime": {
     "end_time": "2022-10-21T11:22:20.285267Z",
     "start_time": "2022-10-21T11:22:20.280949Z"
    },
    "code_folding": []
   },
   "outputs": [],
   "source": [
    "if not submit:\n",
    "# erreur de prévision sur le test\n",
    "    1-rfOpt.score(Xr_test,Yr_test)"
   ]
  },
  {
   "cell_type": "code",
   "execution_count": 31,
   "id": "db16e647",
   "metadata": {
    "ExecuteTime": {
     "end_time": "2022-10-21T11:22:21.298306Z",
     "start_time": "2022-10-21T11:22:21.091880Z"
    },
    "code_folding": []
   },
   "outputs": [],
   "source": [
    "# prévision\n",
    "y_pred = rfOpt.predict(Xr_test)\n",
    "if not submit :\n",
    "    print(\"MSE=\",mean_squared_error(y_pred,Yr_test))\n",
    "    print(\"R2=\",r2_score(Yr_test,y_pred))"
   ]
  },
  {
   "cell_type": "markdown",
   "id": "a304af32",
   "metadata": {
    "ExecuteTime": {
     "end_time": "2022-10-21T10:28:48.083688Z",
     "start_time": "2022-10-21T10:28:48.081464Z"
    }
   },
   "source": [
    "# Export predictions"
   ]
  },
  {
   "cell_type": "code",
   "execution_count": 33,
   "id": "37dd4fd9",
   "metadata": {
    "ExecuteTime": {
     "end_time": "2022-10-21T11:23:31.725778Z",
     "start_time": "2022-10-21T11:23:31.712920Z"
    }
   },
   "outputs": [
    {
     "data": {
      "text/plain": [
       "array([112.31745036, 111.62393677, 111.49384937, ...,  71.99773707,\n",
       "        72.03957228,  75.81521812])"
      ]
     },
     "execution_count": 33,
     "metadata": {},
     "output_type": "execute_result"
    }
   ],
   "source": [
    "y_pred**3"
   ]
  },
  {
   "cell_type": "code",
   "execution_count": 34,
   "id": "cca32b90",
   "metadata": {
    "ExecuteTime": {
     "end_time": "2022-10-21T11:23:44.168602Z",
     "start_time": "2022-10-21T11:23:44.128972Z"
    }
   },
   "outputs": [],
   "source": [
    "# save\n",
    "if transfo:\n",
    "    y_pred = y_pred**3\n",
    "if submit :\n",
    "    sub = pd.DataFrame(y_pred)\n",
    "    sub.to_csv('second_sub_boostingTransfo.csv',index=True, header=['price'], index_label = 'index')"
   ]
  },
  {
   "cell_type": "code",
   "execution_count": null,
   "id": "a892133d",
   "metadata": {
    "ExecuteTime": {
     "end_time": "2022-10-21T10:56:26.645359Z",
     "start_time": "2022-10-21T10:56:26.314145Z"
    }
   },
   "outputs": [],
   "source": [
    "sns.histplot(y_pred)"
   ]
  },
  {
   "cell_type": "code",
   "execution_count": null,
   "id": "c7fe7292",
   "metadata": {
    "ExecuteTime": {
     "end_time": "2022-10-21T10:56:11.131440Z",
     "start_time": "2022-10-21T10:56:11.097592Z"
    }
   },
   "outputs": [],
   "source": [
    "data_test"
   ]
  },
  {
   "cell_type": "code",
   "execution_count": null,
   "id": "cad377a5",
   "metadata": {},
   "outputs": [],
   "source": []
  }
 ],
 "metadata": {
  "kernelspec": {
   "display_name": "Python 3 (ipykernel)",
   "language": "python",
   "name": "python3"
  },
  "language_info": {
   "codemirror_mode": {
    "name": "ipython",
    "version": 3
   },
   "file_extension": ".py",
   "mimetype": "text/x-python",
   "name": "python",
   "nbconvert_exporter": "python",
   "pygments_lexer": "ipython3",
   "version": "3.9.12"
  },
  "toc": {
   "base_numbering": 1,
   "nav_menu": {},
   "number_sections": true,
   "sideBar": true,
   "skip_h1_title": false,
   "title_cell": "Table of Contents",
   "title_sidebar": "Contents",
   "toc_cell": false,
   "toc_position": {},
   "toc_section_display": true,
   "toc_window_display": false
  },
  "varInspector": {
   "cols": {
    "lenName": 16,
    "lenType": 16,
    "lenVar": 40
   },
   "kernels_config": {
    "python": {
     "delete_cmd_postfix": "",
     "delete_cmd_prefix": "del ",
     "library": "var_list.py",
     "varRefreshCmd": "print(var_dic_list())"
    },
    "r": {
     "delete_cmd_postfix": ") ",
     "delete_cmd_prefix": "rm(",
     "library": "var_list.r",
     "varRefreshCmd": "cat(var_dic_list()) "
    }
   },
   "types_to_exclude": [
    "module",
    "function",
    "builtin_function_or_method",
    "instance",
    "_Feature"
   ],
   "window_display": false
  }
 },
 "nbformat": 4,
 "nbformat_minor": 5
}
