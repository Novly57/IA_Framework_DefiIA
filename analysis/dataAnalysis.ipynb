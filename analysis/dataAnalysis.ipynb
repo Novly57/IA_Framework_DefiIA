{
 "cells": [
  {
   "cell_type": "code",
   "execution_count": 97,
   "id": "af852220",
   "metadata": {
    "ExecuteTime": {
     "end_time": "2022-10-26T14:51:20.482570Z",
     "start_time": "2022-10-26T14:51:20.455645Z"
    }
   },
   "outputs": [
    {
     "data": {
      "text/html": [
       "<style>.container { width:80% !important; }</style>"
      ],
      "text/plain": [
       "<IPython.core.display.HTML object>"
      ]
     },
     "metadata": {},
     "output_type": "display_data"
    }
   ],
   "source": [
    "from IPython.core.display import display, HTML\n",
    "display(HTML(\"<style>.container { width:80% !important; }</style>\"))"
   ]
  },
  {
   "cell_type": "code",
   "execution_count": 98,
   "id": "7287b63f",
   "metadata": {
    "ExecuteTime": {
     "end_time": "2022-10-26T14:51:21.189940Z",
     "start_time": "2022-10-26T14:51:21.150045Z"
    }
   },
   "outputs": [],
   "source": [
    "import pandas as pd\n",
    "import numpy as np\n",
    "import seaborn as sns\n",
    "%matplotlib inline\n",
    "import matplotlib.pyplot as plt\n",
    "from math import sqrt, log\n",
    "sns.set_style(\"darkgrid\")\n",
    "\n",
    "from sklearn.ensemble import RandomForestRegressor \n",
    "from sklearn.metrics import mean_squared_error\n",
    "from sklearn.metrics import r2_score\n",
    "from sklearn.ensemble import GradientBoostingRegressor\n",
    "from sklearn.model_selection import GridSearchCV\n",
    "from sklearn.model_selection import train_test_split  "
   ]
  },
  {
   "cell_type": "code",
   "execution_count": 99,
   "id": "47c1bd0a",
   "metadata": {
    "ExecuteTime": {
     "end_time": "2022-10-26T14:51:21.546032Z",
     "start_time": "2022-10-26T14:51:21.536059Z"
    }
   },
   "outputs": [],
   "source": [
    "_prints = False"
   ]
  },
  {
   "cell_type": "code",
   "execution_count": 100,
   "id": "deeeee60",
   "metadata": {
    "ExecuteTime": {
     "end_time": "2022-10-26T14:51:23.024910Z",
     "start_time": "2022-10-26T14:51:21.730870Z"
    }
   },
   "outputs": [
    {
     "data": {
      "text/html": [
       "<div>\n",
       "<style scoped>\n",
       "    .dataframe tbody tr th:only-of-type {\n",
       "        vertical-align: middle;\n",
       "    }\n",
       "\n",
       "    .dataframe tbody tr th {\n",
       "        vertical-align: top;\n",
       "    }\n",
       "\n",
       "    .dataframe thead th {\n",
       "        text-align: right;\n",
       "    }\n",
       "</style>\n",
       "<table border=\"1\" class=\"dataframe\">\n",
       "  <thead>\n",
       "    <tr style=\"text-align: right;\">\n",
       "      <th></th>\n",
       "      <th>city</th>\n",
       "      <th>date</th>\n",
       "      <th>language</th>\n",
       "      <th>mobile</th>\n",
       "      <th>request_number</th>\n",
       "      <th>avatar_id</th>\n",
       "      <th>hotel_id</th>\n",
       "      <th>price</th>\n",
       "      <th>stock</th>\n",
       "      <th>group</th>\n",
       "      <th>brand</th>\n",
       "      <th>parking</th>\n",
       "      <th>pool</th>\n",
       "      <th>children_policy</th>\n",
       "    </tr>\n",
       "  </thead>\n",
       "  <tbody>\n",
       "    <tr>\n",
       "      <th>0</th>\n",
       "      <td>valletta</td>\n",
       "      <td>2</td>\n",
       "      <td>bulgarian</td>\n",
       "      <td>1</td>\n",
       "      <td>1</td>\n",
       "      <td>134</td>\n",
       "      <td>55</td>\n",
       "      <td>109</td>\n",
       "      <td>10</td>\n",
       "      <td>Boss Western</td>\n",
       "      <td>Boss Western</td>\n",
       "      <td>1</td>\n",
       "      <td>0</td>\n",
       "      <td>0</td>\n",
       "    </tr>\n",
       "    <tr>\n",
       "      <th>1</th>\n",
       "      <td>valletta</td>\n",
       "      <td>32</td>\n",
       "      <td>bulgarian</td>\n",
       "      <td>1</td>\n",
       "      <td>1</td>\n",
       "      <td>167</td>\n",
       "      <td>55</td>\n",
       "      <td>100</td>\n",
       "      <td>49</td>\n",
       "      <td>Boss Western</td>\n",
       "      <td>Boss Western</td>\n",
       "      <td>1</td>\n",
       "      <td>0</td>\n",
       "      <td>0</td>\n",
       "    </tr>\n",
       "    <tr>\n",
       "      <th>2</th>\n",
       "      <td>valletta</td>\n",
       "      <td>32</td>\n",
       "      <td>hungarian</td>\n",
       "      <td>0</td>\n",
       "      <td>1</td>\n",
       "      <td>179</td>\n",
       "      <td>55</td>\n",
       "      <td>100</td>\n",
       "      <td>49</td>\n",
       "      <td>Boss Western</td>\n",
       "      <td>Boss Western</td>\n",
       "      <td>1</td>\n",
       "      <td>0</td>\n",
       "      <td>0</td>\n",
       "    </tr>\n",
       "    <tr>\n",
       "      <th>3</th>\n",
       "      <td>valletta</td>\n",
       "      <td>5</td>\n",
       "      <td>danish</td>\n",
       "      <td>1</td>\n",
       "      <td>1</td>\n",
       "      <td>197</td>\n",
       "      <td>55</td>\n",
       "      <td>129</td>\n",
       "      <td>0</td>\n",
       "      <td>Boss Western</td>\n",
       "      <td>Boss Western</td>\n",
       "      <td>1</td>\n",
       "      <td>0</td>\n",
       "      <td>0</td>\n",
       "    </tr>\n",
       "    <tr>\n",
       "      <th>4</th>\n",
       "      <td>valletta</td>\n",
       "      <td>36</td>\n",
       "      <td>danish</td>\n",
       "      <td>1</td>\n",
       "      <td>1</td>\n",
       "      <td>203</td>\n",
       "      <td>55</td>\n",
       "      <td>110</td>\n",
       "      <td>64</td>\n",
       "      <td>Boss Western</td>\n",
       "      <td>Boss Western</td>\n",
       "      <td>1</td>\n",
       "      <td>0</td>\n",
       "      <td>0</td>\n",
       "    </tr>\n",
       "  </tbody>\n",
       "</table>\n",
       "</div>"
      ],
      "text/plain": [
       "       city  date   language  mobile  request_number  avatar_id  hotel_id  \\\n",
       "0  valletta     2  bulgarian       1               1        134        55   \n",
       "1  valletta    32  bulgarian       1               1        167        55   \n",
       "2  valletta    32  hungarian       0               1        179        55   \n",
       "3  valletta     5     danish       1               1        197        55   \n",
       "4  valletta    36     danish       1               1        203        55   \n",
       "\n",
       "   price  stock         group         brand  parking  pool  children_policy  \n",
       "0    109     10  Boss Western  Boss Western        1     0                0  \n",
       "1    100     49  Boss Western  Boss Western        1     0                0  \n",
       "2    100     49  Boss Western  Boss Western        1     0                0  \n",
       "3    129      0  Boss Western  Boss Western        1     0                0  \n",
       "4    110     64  Boss Western  Boss Western        1     0                0  "
      ]
     },
     "execution_count": 100,
     "metadata": {},
     "output_type": "execute_result"
    }
   ],
   "source": [
    "local = True\n",
    "\n",
    "path = '../data/' \n",
    "hotels = pd.read_csv('../data/features_hotels.csv') # à tester, sans ces données\n",
    "\n",
    "if local : \n",
    "    data = pd.read_csv(path+\"data.csv\")\n",
    "else :\n",
    "    url = 'https://drive.google.com/file/d/10sNct4HjylkBudNAQNfvMpI7qgvsspwj/view?usp=sharing'\n",
    "    path = 'https://drive.google.com/uc?export=download&id='+url.split('/')[-2]\n",
    "    data = pd.read_csv(path)\n",
    "    \n",
    "data = data.merge(hotels, on=['hotel_id','city'])\n",
    "data_test = pd.read_csv(path+'test_set.csv') # ignore index \n",
    "data_test['request_number'] = 0\n",
    "data_test = data_test.merge(hotels, on=['hotel_id','city']) \n",
    "\n",
    "for avatar in np.unique(data_test['avatar_id']):\n",
    "    data_test.loc[data_test['avatar_id'] == avatar, 'request_number'] = data_test['order_requests'].loc[data_test['avatar_id']== avatar] - min(data_test['order_requests'].loc[data_test['avatar_id']== avatar]-1)\n",
    "\n",
    "data.head()"
   ]
  },
  {
   "cell_type": "code",
   "execution_count": 101,
   "id": "e9df8cf5",
   "metadata": {
    "ExecuteTime": {
     "end_time": "2022-10-26T14:51:23.731067Z",
     "start_time": "2022-10-26T14:51:23.714110Z"
    }
   },
   "outputs": [
    {
     "data": {
      "text/plain": [
       "(281393, 14)"
      ]
     },
     "execution_count": 101,
     "metadata": {},
     "output_type": "execute_result"
    }
   ],
   "source": [
    "data.shape"
   ]
  },
  {
   "cell_type": "code",
   "execution_count": 102,
   "id": "e929a734",
   "metadata": {
    "ExecuteTime": {
     "end_time": "2022-10-26T14:51:24.612721Z",
     "start_time": "2022-10-26T14:51:24.595795Z"
    }
   },
   "outputs": [
    {
     "data": {
      "text/plain": [
       "city               object\n",
       "date                int64\n",
       "language           object\n",
       "mobile              int64\n",
       "request_number      int64\n",
       "avatar_id           int64\n",
       "hotel_id            int64\n",
       "price               int64\n",
       "stock               int64\n",
       "group              object\n",
       "brand              object\n",
       "parking             int64\n",
       "pool                int64\n",
       "children_policy     int64\n",
       "dtype: object"
      ]
     },
     "execution_count": 102,
     "metadata": {},
     "output_type": "execute_result"
    }
   ],
   "source": [
    "data.dtypes"
   ]
  },
  {
   "cell_type": "code",
   "execution_count": 103,
   "id": "36d095d9",
   "metadata": {
    "ExecuteTime": {
     "end_time": "2022-10-26T14:51:28.754656Z",
     "start_time": "2022-10-26T14:51:28.596877Z"
    }
   },
   "outputs": [
    {
     "data": {
      "text/plain": [
       "city               category\n",
       "date                  int64\n",
       "language           category\n",
       "mobile                int64\n",
       "request_number        int64\n",
       "avatar_id          category\n",
       "hotel_id           category\n",
       "price                 int64\n",
       "stock                 int64\n",
       "group              category\n",
       "brand              category\n",
       "parking               int64\n",
       "pool                  int64\n",
       "children_policy    category\n",
       "dtype: object"
      ]
     },
     "execution_count": 103,
     "metadata": {},
     "output_type": "execute_result"
    }
   ],
   "source": [
    "for col in ['city', 'language', 'avatar_id', 'hotel_id', 'group', 'brand','children_policy'] :\n",
    "    data[col] = pd.Categorical(data[col],ordered=False)\n",
    "    data_test[col] = pd.Categorical(data_test[col],ordered=False)\n",
    "    \n",
    "data.dtypes"
   ]
  },
  {
   "cell_type": "code",
   "execution_count": 104,
   "id": "47e1b06f",
   "metadata": {
    "ExecuteTime": {
     "end_time": "2022-10-26T14:51:32.387325Z",
     "start_time": "2022-10-26T14:51:32.374359Z"
    }
   },
   "outputs": [],
   "source": [
    "colQT = ['request_number', 'stock', 'date']\n",
    "colQT = ['request_number', 'stock', 'date', 'hotel_id']"
   ]
  },
  {
   "cell_type": "code",
   "execution_count": 105,
   "id": "cc4b64d4",
   "metadata": {
    "ExecuteTime": {
     "end_time": "2022-10-26T14:51:33.473072Z",
     "start_time": "2022-10-26T14:51:33.463103Z"
    }
   },
   "outputs": [],
   "source": [
    "if _prints :\n",
    "    plt.figure()\n",
    "    sns.histplot(data['price'])\n",
    "    plt.show()"
   ]
  },
  {
   "cell_type": "code",
   "execution_count": 106,
   "id": "8e92ee91",
   "metadata": {
    "ExecuteTime": {
     "end_time": "2022-10-26T14:51:33.739252Z",
     "start_time": "2022-10-26T14:51:33.727284Z"
    }
   },
   "outputs": [],
   "source": [
    "if _prints :\n",
    "    plt.figure()\n",
    "    sns.histplot(data['price'].map(lambda x: x**(1/3)))\n",
    "    plt.show()"
   ]
  },
  {
   "cell_type": "code",
   "execution_count": 107,
   "id": "33b9f737",
   "metadata": {
    "ExecuteTime": {
     "end_time": "2022-10-26T14:51:34.569473Z",
     "start_time": "2022-10-26T14:51:34.552483Z"
    }
   },
   "outputs": [],
   "source": [
    "transfo = False\n",
    "if transfo :\n",
    "    data['SRprice'] = data['price'].map(lambda x: x**(1/3))"
   ]
  },
  {
   "cell_type": "code",
   "execution_count": 108,
   "id": "e899ee0c",
   "metadata": {
    "ExecuteTime": {
     "end_time": "2022-10-26T14:51:36.522676Z",
     "start_time": "2022-10-26T14:51:36.504726Z"
    },
    "code_folding": []
   },
   "outputs": [],
   "source": [
    "if _prints :\n",
    "    for col in data.columns:\n",
    "        plt.figure(figsize=(8,3))\n",
    "        sns.histplot(data[col])\n",
    "        plt.xticks(rotation=45)\n",
    "        plt.show()"
   ]
  },
  {
   "cell_type": "code",
   "execution_count": 109,
   "id": "4f7341a6",
   "metadata": {
    "ExecuteTime": {
     "end_time": "2022-10-26T14:51:37.939047Z",
     "start_time": "2022-10-26T14:51:37.930072Z"
    }
   },
   "outputs": [],
   "source": [
    "if _prints :\n",
    "    for col in data_test.columns:\n",
    "        plt.figure(figsize=(8,3))\n",
    "        sns.histplot(data_test[col])\n",
    "        plt.xticks(rotation=45)\n",
    "        plt.show()"
   ]
  },
  {
   "cell_type": "code",
   "execution_count": 27,
   "id": "c0df70ae",
   "metadata": {
    "ExecuteTime": {
     "end_time": "2022-10-26T14:02:16.791010Z",
     "start_time": "2022-10-26T14:02:16.614895Z"
    }
   },
   "outputs": [],
   "source": [
    "dataDum = pd.get_dummies(data[['city','language','mobile','group','brand','parking','pool','children_policy']])\n",
    "del dataDum['city_amsterdam']\n",
    "del dataDum['language_hungarian']\n",
    "# del dataDum['hotel_id_0']\n",
    "del dataDum['group_Accar Hotels']\n",
    "del dataDum['brand_8 Premium']\n",
    "del dataDum['children_policy_0']\n",
    "\n",
    "# on Test Set\n",
    "\n",
    "dataDum_test = pd.get_dummies(data_test[['city','language','mobile','group','brand','parking','pool','children_policy']])\n",
    "del dataDum_test['city_amsterdam']\n",
    "del dataDum_test['language_hungarian']\n",
    "# del dataDum_test['hotel_id_0']\n",
    "del dataDum_test['group_Accar Hotels']\n",
    "del dataDum_test['brand_8 Premium']\n",
    "del dataDum_test['children_policy_0']"
   ]
  },
  {
   "cell_type": "code",
   "execution_count": 110,
   "id": "d2a436d4",
   "metadata": {
    "ExecuteTime": {
     "end_time": "2022-10-26T14:51:42.218530Z",
     "start_time": "2022-10-26T14:51:42.091907Z"
    }
   },
   "outputs": [],
   "source": [
    "dataDum = pd.get_dummies(data[['city','language','mobile']])\n",
    "del dataDum['city_amsterdam']\n",
    "del dataDum['language_hungarian']\n",
    "\n",
    "# on Test Set\n",
    "\n",
    "dataDum_test = pd.get_dummies(data_test[['city','language','mobile']])\n",
    "del dataDum_test['city_amsterdam']\n",
    "del dataDum_test['language_hungarian']"
   ]
  },
  {
   "cell_type": "code",
   "execution_count": 111,
   "id": "8c4adf01",
   "metadata": {
    "ExecuteTime": {
     "end_time": "2022-10-26T14:51:42.805661Z",
     "start_time": "2022-10-26T14:51:42.792694Z"
    }
   },
   "outputs": [],
   "source": [
    "# First work without order request \n",
    "# del colQT[0]"
   ]
  },
  {
   "cell_type": "code",
   "execution_count": 112,
   "id": "402da96a",
   "metadata": {
    "ExecuteTime": {
     "end_time": "2022-10-26T14:51:43.071326Z",
     "start_time": "2022-10-26T14:51:43.050383Z"
    }
   },
   "outputs": [],
   "source": [
    "dataQt = data[colQT]\n",
    "dataQt_test = data_test[colQT]"
   ]
  },
  {
   "cell_type": "code",
   "execution_count": 113,
   "id": "364f2d32",
   "metadata": {
    "ExecuteTime": {
     "end_time": "2022-10-26T14:51:44.028376Z",
     "start_time": "2022-10-26T14:51:43.977498Z"
    }
   },
   "outputs": [
    {
     "data": {
      "text/html": [
       "<div>\n",
       "<style scoped>\n",
       "    .dataframe tbody tr th:only-of-type {\n",
       "        vertical-align: middle;\n",
       "    }\n",
       "\n",
       "    .dataframe tbody tr th {\n",
       "        vertical-align: top;\n",
       "    }\n",
       "\n",
       "    .dataframe thead th {\n",
       "        text-align: right;\n",
       "    }\n",
       "</style>\n",
       "<table border=\"1\" class=\"dataframe\">\n",
       "  <thead>\n",
       "    <tr style=\"text-align: right;\">\n",
       "      <th></th>\n",
       "      <th>mobile</th>\n",
       "      <th>city_copenhagen</th>\n",
       "      <th>city_madrid</th>\n",
       "      <th>city_paris</th>\n",
       "      <th>city_rome</th>\n",
       "      <th>city_sofia</th>\n",
       "      <th>city_valletta</th>\n",
       "      <th>city_vienna</th>\n",
       "      <th>city_vilnius</th>\n",
       "      <th>language_austrian</th>\n",
       "      <th>...</th>\n",
       "      <th>language_portuguese</th>\n",
       "      <th>language_romanian</th>\n",
       "      <th>language_slovakian</th>\n",
       "      <th>language_slovene</th>\n",
       "      <th>language_spanish</th>\n",
       "      <th>language_swedish</th>\n",
       "      <th>request_number</th>\n",
       "      <th>stock</th>\n",
       "      <th>date</th>\n",
       "      <th>hotel_id</th>\n",
       "    </tr>\n",
       "  </thead>\n",
       "  <tbody>\n",
       "    <tr>\n",
       "      <th>0</th>\n",
       "      <td>1</td>\n",
       "      <td>0</td>\n",
       "      <td>0</td>\n",
       "      <td>0</td>\n",
       "      <td>0</td>\n",
       "      <td>0</td>\n",
       "      <td>1</td>\n",
       "      <td>0</td>\n",
       "      <td>0</td>\n",
       "      <td>0</td>\n",
       "      <td>...</td>\n",
       "      <td>0</td>\n",
       "      <td>0</td>\n",
       "      <td>0</td>\n",
       "      <td>0</td>\n",
       "      <td>0</td>\n",
       "      <td>0</td>\n",
       "      <td>1</td>\n",
       "      <td>10</td>\n",
       "      <td>2</td>\n",
       "      <td>55</td>\n",
       "    </tr>\n",
       "    <tr>\n",
       "      <th>1</th>\n",
       "      <td>1</td>\n",
       "      <td>0</td>\n",
       "      <td>0</td>\n",
       "      <td>0</td>\n",
       "      <td>0</td>\n",
       "      <td>0</td>\n",
       "      <td>1</td>\n",
       "      <td>0</td>\n",
       "      <td>0</td>\n",
       "      <td>0</td>\n",
       "      <td>...</td>\n",
       "      <td>0</td>\n",
       "      <td>0</td>\n",
       "      <td>0</td>\n",
       "      <td>0</td>\n",
       "      <td>0</td>\n",
       "      <td>0</td>\n",
       "      <td>1</td>\n",
       "      <td>49</td>\n",
       "      <td>32</td>\n",
       "      <td>55</td>\n",
       "    </tr>\n",
       "    <tr>\n",
       "      <th>2</th>\n",
       "      <td>0</td>\n",
       "      <td>0</td>\n",
       "      <td>0</td>\n",
       "      <td>0</td>\n",
       "      <td>0</td>\n",
       "      <td>0</td>\n",
       "      <td>1</td>\n",
       "      <td>0</td>\n",
       "      <td>0</td>\n",
       "      <td>0</td>\n",
       "      <td>...</td>\n",
       "      <td>0</td>\n",
       "      <td>0</td>\n",
       "      <td>0</td>\n",
       "      <td>0</td>\n",
       "      <td>0</td>\n",
       "      <td>0</td>\n",
       "      <td>1</td>\n",
       "      <td>49</td>\n",
       "      <td>32</td>\n",
       "      <td>55</td>\n",
       "    </tr>\n",
       "    <tr>\n",
       "      <th>3</th>\n",
       "      <td>1</td>\n",
       "      <td>0</td>\n",
       "      <td>0</td>\n",
       "      <td>0</td>\n",
       "      <td>0</td>\n",
       "      <td>0</td>\n",
       "      <td>1</td>\n",
       "      <td>0</td>\n",
       "      <td>0</td>\n",
       "      <td>0</td>\n",
       "      <td>...</td>\n",
       "      <td>0</td>\n",
       "      <td>0</td>\n",
       "      <td>0</td>\n",
       "      <td>0</td>\n",
       "      <td>0</td>\n",
       "      <td>0</td>\n",
       "      <td>1</td>\n",
       "      <td>0</td>\n",
       "      <td>5</td>\n",
       "      <td>55</td>\n",
       "    </tr>\n",
       "    <tr>\n",
       "      <th>4</th>\n",
       "      <td>1</td>\n",
       "      <td>0</td>\n",
       "      <td>0</td>\n",
       "      <td>0</td>\n",
       "      <td>0</td>\n",
       "      <td>0</td>\n",
       "      <td>1</td>\n",
       "      <td>0</td>\n",
       "      <td>0</td>\n",
       "      <td>0</td>\n",
       "      <td>...</td>\n",
       "      <td>0</td>\n",
       "      <td>0</td>\n",
       "      <td>0</td>\n",
       "      <td>0</td>\n",
       "      <td>0</td>\n",
       "      <td>0</td>\n",
       "      <td>1</td>\n",
       "      <td>64</td>\n",
       "      <td>36</td>\n",
       "      <td>55</td>\n",
       "    </tr>\n",
       "  </tbody>\n",
       "</table>\n",
       "<p>5 rows × 39 columns</p>\n",
       "</div>"
      ],
      "text/plain": [
       "   mobile  city_copenhagen  city_madrid  city_paris  city_rome  city_sofia  \\\n",
       "0       1                0            0           0          0           0   \n",
       "1       1                0            0           0          0           0   \n",
       "2       0                0            0           0          0           0   \n",
       "3       1                0            0           0          0           0   \n",
       "4       1                0            0           0          0           0   \n",
       "\n",
       "   city_valletta  city_vienna  city_vilnius  language_austrian  ...  \\\n",
       "0              1            0             0                  0  ...   \n",
       "1              1            0             0                  0  ...   \n",
       "2              1            0             0                  0  ...   \n",
       "3              1            0             0                  0  ...   \n",
       "4              1            0             0                  0  ...   \n",
       "\n",
       "   language_portuguese  language_romanian  language_slovakian  \\\n",
       "0                    0                  0                   0   \n",
       "1                    0                  0                   0   \n",
       "2                    0                  0                   0   \n",
       "3                    0                  0                   0   \n",
       "4                    0                  0                   0   \n",
       "\n",
       "   language_slovene  language_spanish  language_swedish  request_number  \\\n",
       "0                 0                 0                 0               1   \n",
       "1                 0                 0                 0               1   \n",
       "2                 0                 0                 0               1   \n",
       "3                 0                 0                 0               1   \n",
       "4                 0                 0                 0               1   \n",
       "\n",
       "   stock  date  hotel_id  \n",
       "0     10     2        55  \n",
       "1     49    32        55  \n",
       "2     49    32        55  \n",
       "3      0     5        55  \n",
       "4     64    36        55  \n",
       "\n",
       "[5 rows x 39 columns]"
      ]
     },
     "execution_count": 113,
     "metadata": {},
     "output_type": "execute_result"
    }
   ],
   "source": [
    "df = pd.concat([dataDum,dataQt],axis=1)\n",
    "df_test = pd.concat([dataDum_test,dataQt_test],axis=1)\n",
    "df.head()"
   ]
  },
  {
   "cell_type": "code",
   "execution_count": 114,
   "id": "07807cd6",
   "metadata": {
    "ExecuteTime": {
     "end_time": "2022-10-26T14:51:45.989594Z",
     "start_time": "2022-10-26T14:51:45.977647Z"
    }
   },
   "outputs": [],
   "source": [
    "# variable à expliquer réelle\n",
    "if transfo :\n",
    "    Yr = data['SRprice']\n",
    "else :\n",
    "    Yr = data['price']"
   ]
  },
  {
   "cell_type": "code",
   "execution_count": 56,
   "id": "4eeb0292",
   "metadata": {
    "ExecuteTime": {
     "end_time": "2022-10-26T14:11:48.697023Z",
     "start_time": "2022-10-26T14:11:46.482651Z"
    }
   },
   "outputs": [],
   "source": [
    "# séparation pour les tests et tunner les modèles\n",
    "X_train,X_test,Yr_train,Yr_test=train_test_split(df,Yr,test_size=.25,random_state=11) #25% pour le test_size\n",
    "submit = False"
   ]
  },
  {
   "cell_type": "code",
   "execution_count": 115,
   "id": "0c8e252d",
   "metadata": {
    "ExecuteTime": {
     "end_time": "2022-10-26T14:51:47.686959Z",
     "start_time": "2022-10-26T14:51:47.674955Z"
    }
   },
   "outputs": [],
   "source": [
    "# séparation pour submit\n",
    "X_train = df\n",
    "X_test = df_test\n",
    "Yr_train = Yr\n",
    "Yr_test = None\n",
    "submit = True"
   ]
  },
  {
   "cell_type": "code",
   "execution_count": 116,
   "id": "519d70c5",
   "metadata": {
    "ExecuteTime": {
     "end_time": "2022-10-26T14:51:50.502807Z",
     "start_time": "2022-10-26T14:51:50.038496Z"
    }
   },
   "outputs": [],
   "source": [
    "# standardisation des données\n",
    "from sklearn.preprocessing import StandardScaler  \n",
    "scaler = StandardScaler()  \n",
    "scaler.fit(X_train)  \n",
    "Xr_train = scaler.transform(X_train)  \n",
    "# Meme transformation sur le test\n",
    "Xr_test = scaler.transform(X_test)"
   ]
  },
  {
   "cell_type": "markdown",
   "id": "188ce7bf",
   "metadata": {},
   "source": [
    "# Boosting"
   ]
  },
  {
   "cell_type": "code",
   "execution_count": 88,
   "id": "776f81df",
   "metadata": {
    "ExecuteTime": {
     "end_time": "2022-10-26T14:48:27.428865Z",
     "start_time": "2022-10-26T14:47:34.909226Z"
    }
   },
   "outputs": [],
   "source": [
    "# définition des paramètres\n",
    "boost = GradientBoostingRegressor()\n",
    "# apprentissage\n",
    "rfFit = boost.fit(Xr_train,Yr_train)"
   ]
  },
  {
   "cell_type": "code",
   "execution_count": 89,
   "id": "a79bc31b",
   "metadata": {
    "ExecuteTime": {
     "end_time": "2022-10-26T14:48:27.443596Z",
     "start_time": "2022-10-26T14:48:27.428865Z"
    }
   },
   "outputs": [],
   "source": [
    "if not submit:\n",
    "# erreur de prédiction sur le test\n",
    "    1-rfFit.score(Xr_test,Yr_test)"
   ]
  },
  {
   "cell_type": "code",
   "execution_count": 90,
   "id": "d04bfe5d",
   "metadata": {
    "ExecuteTime": {
     "end_time": "2022-10-26T14:48:27.490702Z",
     "start_time": "2022-10-26T14:48:27.449571Z"
    }
   },
   "outputs": [],
   "source": [
    "# prédiction\n",
    "y_pred = rfFit.predict(Xr_test)\n",
    "if not submit:\n",
    "    print(\"MSE =\",mean_squared_error(y_pred,Yr_test))\n",
    "    print(\"R2 =\",r2_score(Yr_test,y_pred))"
   ]
  },
  {
   "cell_type": "markdown",
   "id": "bcbc8e16",
   "metadata": {},
   "source": [
    "# Random Forest"
   ]
  },
  {
   "cell_type": "code",
   "execution_count": null,
   "id": "a91d8faa",
   "metadata": {
    "ExecuteTime": {
     "start_time": "2022-10-26T14:51:59.264Z"
    },
    "code_folding": []
   },
   "outputs": [],
   "source": [
    "# définition des paramètres\n",
    "forest = RandomForestRegressor(n_estimators=500,\n",
    "                               max_depth=None,\n",
    "                               min_samples_split=2, min_samples_leaf=1, \n",
    "                               max_features='auto', max_leaf_nodes=None,\n",
    "                               bootstrap=True, oob_score=True)\n",
    "# apprentissage\n",
    "rfFit = forest.fit(Xr_train,Yr_train)\n",
    "print(1-rfFit.oob_score_)"
   ]
  },
  {
   "cell_type": "code",
   "execution_count": null,
   "id": "be32c2b1",
   "metadata": {
    "ExecuteTime": {
     "start_time": "2022-10-26T14:52:04.040Z"
    }
   },
   "outputs": [],
   "source": [
    "param=[{\"max_features\":list(range(2,10,1))}]\n",
    "rf= GridSearchCV(RandomForestRegressor(n_estimators=100),param,cv=5,n_jobs=-1)\n",
    "rfOpt=rf.fit(Xr_train, Yr_train)\n",
    "# paramètre optimal\n",
    "print(\"Meilleur score = %f, Meilleur paramètre = %s\" % (1. - rfOpt.best_score_,rfOpt.best_params_))"
   ]
  },
  {
   "cell_type": "code",
   "execution_count": null,
   "id": "9408f805",
   "metadata": {
    "ExecuteTime": {
     "start_time": "2022-10-26T14:52:06.970Z"
    },
    "code_folding": []
   },
   "outputs": [],
   "source": [
    "if not submit:\n",
    "# erreur de prévision sur le test\n",
    "    1-rfOpt.score(Xr_test,Yr_test)"
   ]
  },
  {
   "cell_type": "code",
   "execution_count": null,
   "id": "db16e647",
   "metadata": {
    "ExecuteTime": {
     "start_time": "2022-10-26T14:52:09.677Z"
    },
    "code_folding": []
   },
   "outputs": [],
   "source": [
    "# prévision\n",
    "y_pred = rfOpt.predict(Xr_test)\n",
    "if not submit :\n",
    "    print(\"MSE=\",mean_squared_error(y_pred,Yr_test))\n",
    "    print(\"R2=\",r2_score(Yr_test,y_pred))"
   ]
  },
  {
   "cell_type": "markdown",
   "id": "d20fcb09",
   "metadata": {
    "ExecuteTime": {
     "end_time": "2022-10-21T10:28:48.083688Z",
     "start_time": "2022-10-21T10:28:48.081464Z"
    }
   },
   "source": [
    "# Export predictions"
   ]
  },
  {
   "cell_type": "code",
   "execution_count": null,
   "id": "548c6ba2",
   "metadata": {
    "ExecuteTime": {
     "start_time": "2022-10-26T14:52:13.053Z"
    }
   },
   "outputs": [],
   "source": [
    "y_pred"
   ]
  },
  {
   "cell_type": "code",
   "execution_count": null,
   "id": "cca32b90",
   "metadata": {
    "ExecuteTime": {
     "start_time": "2022-10-26T14:52:23.623Z"
    }
   },
   "outputs": [],
   "source": [
    "# save\n",
    "if transfo:\n",
    "    y_pred = y_pred**3\n",
    "if submit :\n",
    "    sub = pd.DataFrame(y_pred)\n",
    "    sub.to_csv('sub_randomF_hotelid.csv',index=True, header=['price'], index_label = 'index')"
   ]
  },
  {
   "cell_type": "code",
   "execution_count": null,
   "id": "38f8e811",
   "metadata": {
    "ExecuteTime": {
     "start_time": "2022-10-26T14:52:25.181Z"
    }
   },
   "outputs": [],
   "source": [
    "sns.histplot(y_pred)"
   ]
  },
  {
   "cell_type": "code",
   "execution_count": 37,
   "id": "742cbab4",
   "metadata": {
    "ExecuteTime": {
     "end_time": "2022-10-21T11:29:06.465286Z",
     "start_time": "2022-10-21T11:29:06.455369Z"
    }
   },
   "outputs": [],
   "source": [
    "data_test['price'] = y_pred"
   ]
  },
  {
   "cell_type": "code",
   "execution_count": 38,
   "id": "0a8bd7cc",
   "metadata": {
    "ExecuteTime": {
     "end_time": "2022-10-21T11:29:14.890359Z",
     "start_time": "2022-10-21T11:29:14.850217Z"
    }
   },
   "outputs": [
    {
     "data": {
      "text/html": [
       "<div>\n",
       "<style scoped>\n",
       "    .dataframe tbody tr th:only-of-type {\n",
       "        vertical-align: middle;\n",
       "    }\n",
       "\n",
       "    .dataframe tbody tr th {\n",
       "        vertical-align: top;\n",
       "    }\n",
       "\n",
       "    .dataframe thead th {\n",
       "        text-align: right;\n",
       "    }\n",
       "</style>\n",
       "<table border=\"1\" class=\"dataframe\">\n",
       "  <thead>\n",
       "    <tr style=\"text-align: right;\">\n",
       "      <th></th>\n",
       "      <th>index</th>\n",
       "      <th>order_requests</th>\n",
       "      <th>city</th>\n",
       "      <th>date</th>\n",
       "      <th>language</th>\n",
       "      <th>mobile</th>\n",
       "      <th>avatar_id</th>\n",
       "      <th>hotel_id</th>\n",
       "      <th>stock</th>\n",
       "      <th>request_number</th>\n",
       "      <th>group</th>\n",
       "      <th>brand</th>\n",
       "      <th>parking</th>\n",
       "      <th>pool</th>\n",
       "      <th>children_policy</th>\n",
       "      <th>price</th>\n",
       "    </tr>\n",
       "  </thead>\n",
       "  <tbody>\n",
       "    <tr>\n",
       "      <th>0</th>\n",
       "      <td>0</td>\n",
       "      <td>1</td>\n",
       "      <td>vilnius</td>\n",
       "      <td>21</td>\n",
       "      <td>romanian</td>\n",
       "      <td>0</td>\n",
       "      <td>1</td>\n",
       "      <td>161</td>\n",
       "      <td>46</td>\n",
       "      <td>1</td>\n",
       "      <td>Boss Western</td>\n",
       "      <td>J.Halliday Inn</td>\n",
       "      <td>1</td>\n",
       "      <td>0</td>\n",
       "      <td>0</td>\n",
       "      <td>112.317450</td>\n",
       "    </tr>\n",
       "    <tr>\n",
       "      <th>1</th>\n",
       "      <td>9</td>\n",
       "      <td>2</td>\n",
       "      <td>vilnius</td>\n",
       "      <td>18</td>\n",
       "      <td>romanian</td>\n",
       "      <td>0</td>\n",
       "      <td>1</td>\n",
       "      <td>161</td>\n",
       "      <td>36</td>\n",
       "      <td>2</td>\n",
       "      <td>Boss Western</td>\n",
       "      <td>J.Halliday Inn</td>\n",
       "      <td>1</td>\n",
       "      <td>0</td>\n",
       "      <td>0</td>\n",
       "      <td>111.623937</td>\n",
       "    </tr>\n",
       "    <tr>\n",
       "      <th>2</th>\n",
       "      <td>254</td>\n",
       "      <td>30</td>\n",
       "      <td>vilnius</td>\n",
       "      <td>20</td>\n",
       "      <td>romanian</td>\n",
       "      <td>1</td>\n",
       "      <td>12</td>\n",
       "      <td>161</td>\n",
       "      <td>44</td>\n",
       "      <td>1</td>\n",
       "      <td>Boss Western</td>\n",
       "      <td>J.Halliday Inn</td>\n",
       "      <td>1</td>\n",
       "      <td>0</td>\n",
       "      <td>0</td>\n",
       "      <td>111.493849</td>\n",
       "    </tr>\n",
       "    <tr>\n",
       "      <th>3</th>\n",
       "      <td>263</td>\n",
       "      <td>31</td>\n",
       "      <td>vilnius</td>\n",
       "      <td>18</td>\n",
       "      <td>romanian</td>\n",
       "      <td>1</td>\n",
       "      <td>12</td>\n",
       "      <td>161</td>\n",
       "      <td>36</td>\n",
       "      <td>2</td>\n",
       "      <td>Boss Western</td>\n",
       "      <td>J.Halliday Inn</td>\n",
       "      <td>1</td>\n",
       "      <td>0</td>\n",
       "      <td>0</td>\n",
       "      <td>112.682690</td>\n",
       "    </tr>\n",
       "    <tr>\n",
       "      <th>4</th>\n",
       "      <td>272</td>\n",
       "      <td>32</td>\n",
       "      <td>vilnius</td>\n",
       "      <td>16</td>\n",
       "      <td>bulgarian</td>\n",
       "      <td>0</td>\n",
       "      <td>12</td>\n",
       "      <td>161</td>\n",
       "      <td>30</td>\n",
       "      <td>3</td>\n",
       "      <td>Boss Western</td>\n",
       "      <td>J.Halliday Inn</td>\n",
       "      <td>1</td>\n",
       "      <td>0</td>\n",
       "      <td>0</td>\n",
       "      <td>113.653206</td>\n",
       "    </tr>\n",
       "    <tr>\n",
       "      <th>...</th>\n",
       "      <td>...</td>\n",
       "      <td>...</td>\n",
       "      <td>...</td>\n",
       "      <td>...</td>\n",
       "      <td>...</td>\n",
       "      <td>...</td>\n",
       "      <td>...</td>\n",
       "      <td>...</td>\n",
       "      <td>...</td>\n",
       "      <td>...</td>\n",
       "      <td>...</td>\n",
       "      <td>...</td>\n",
       "      <td>...</td>\n",
       "      <td>...</td>\n",
       "      <td>...</td>\n",
       "      <td>...</td>\n",
       "    </tr>\n",
       "    <tr>\n",
       "      <th>6639</th>\n",
       "      <td>5187</td>\n",
       "      <td>662</td>\n",
       "      <td>rome</td>\n",
       "      <td>39</td>\n",
       "      <td>slovene</td>\n",
       "      <td>1</td>\n",
       "      <td>771</td>\n",
       "      <td>856</td>\n",
       "      <td>39</td>\n",
       "      <td>1</td>\n",
       "      <td>Accar Hotels</td>\n",
       "      <td>Ibas</td>\n",
       "      <td>1</td>\n",
       "      <td>0</td>\n",
       "      <td>0</td>\n",
       "      <td>71.922692</td>\n",
       "    </tr>\n",
       "    <tr>\n",
       "      <th>6640</th>\n",
       "      <td>5426</td>\n",
       "      <td>693</td>\n",
       "      <td>rome</td>\n",
       "      <td>34</td>\n",
       "      <td>slovakian</td>\n",
       "      <td>1</td>\n",
       "      <td>514</td>\n",
       "      <td>856</td>\n",
       "      <td>26</td>\n",
       "      <td>1</td>\n",
       "      <td>Accar Hotels</td>\n",
       "      <td>Ibas</td>\n",
       "      <td>1</td>\n",
       "      <td>0</td>\n",
       "      <td>0</td>\n",
       "      <td>70.747590</td>\n",
       "    </tr>\n",
       "    <tr>\n",
       "      <th>6641</th>\n",
       "      <td>5920</td>\n",
       "      <td>753</td>\n",
       "      <td>rome</td>\n",
       "      <td>36</td>\n",
       "      <td>italian</td>\n",
       "      <td>0</td>\n",
       "      <td>768</td>\n",
       "      <td>856</td>\n",
       "      <td>31</td>\n",
       "      <td>1</td>\n",
       "      <td>Accar Hotels</td>\n",
       "      <td>Ibas</td>\n",
       "      <td>1</td>\n",
       "      <td>0</td>\n",
       "      <td>0</td>\n",
       "      <td>71.997737</td>\n",
       "    </tr>\n",
       "    <tr>\n",
       "      <th>6642</th>\n",
       "      <td>6350</td>\n",
       "      <td>811</td>\n",
       "      <td>rome</td>\n",
       "      <td>34</td>\n",
       "      <td>slovene</td>\n",
       "      <td>1</td>\n",
       "      <td>766</td>\n",
       "      <td>856</td>\n",
       "      <td>26</td>\n",
       "      <td>1</td>\n",
       "      <td>Accar Hotels</td>\n",
       "      <td>Ibas</td>\n",
       "      <td>1</td>\n",
       "      <td>0</td>\n",
       "      <td>0</td>\n",
       "      <td>72.039572</td>\n",
       "    </tr>\n",
       "    <tr>\n",
       "      <th>6643</th>\n",
       "      <td>6436</td>\n",
       "      <td>823</td>\n",
       "      <td>rome</td>\n",
       "      <td>34</td>\n",
       "      <td>swedish</td>\n",
       "      <td>1</td>\n",
       "      <td>640</td>\n",
       "      <td>856</td>\n",
       "      <td>26</td>\n",
       "      <td>1</td>\n",
       "      <td>Accar Hotels</td>\n",
       "      <td>Ibas</td>\n",
       "      <td>1</td>\n",
       "      <td>0</td>\n",
       "      <td>0</td>\n",
       "      <td>75.815218</td>\n",
       "    </tr>\n",
       "  </tbody>\n",
       "</table>\n",
       "<p>6644 rows × 16 columns</p>\n",
       "</div>"
      ],
      "text/plain": [
       "      index  order_requests     city  date   language  mobile avatar_id  \\\n",
       "0         0               1  vilnius    21   romanian       0         1   \n",
       "1         9               2  vilnius    18   romanian       0         1   \n",
       "2       254              30  vilnius    20   romanian       1        12   \n",
       "3       263              31  vilnius    18   romanian       1        12   \n",
       "4       272              32  vilnius    16  bulgarian       0        12   \n",
       "...     ...             ...      ...   ...        ...     ...       ...   \n",
       "6639   5187             662     rome    39    slovene       1       771   \n",
       "6640   5426             693     rome    34  slovakian       1       514   \n",
       "6641   5920             753     rome    36    italian       0       768   \n",
       "6642   6350             811     rome    34    slovene       1       766   \n",
       "6643   6436             823     rome    34    swedish       1       640   \n",
       "\n",
       "     hotel_id  stock  request_number         group           brand  parking  \\\n",
       "0         161     46               1  Boss Western  J.Halliday Inn        1   \n",
       "1         161     36               2  Boss Western  J.Halliday Inn        1   \n",
       "2         161     44               1  Boss Western  J.Halliday Inn        1   \n",
       "3         161     36               2  Boss Western  J.Halliday Inn        1   \n",
       "4         161     30               3  Boss Western  J.Halliday Inn        1   \n",
       "...       ...    ...             ...           ...             ...      ...   \n",
       "6639      856     39               1  Accar Hotels            Ibas        1   \n",
       "6640      856     26               1  Accar Hotels            Ibas        1   \n",
       "6641      856     31               1  Accar Hotels            Ibas        1   \n",
       "6642      856     26               1  Accar Hotels            Ibas        1   \n",
       "6643      856     26               1  Accar Hotels            Ibas        1   \n",
       "\n",
       "      pool children_policy       price  \n",
       "0        0               0  112.317450  \n",
       "1        0               0  111.623937  \n",
       "2        0               0  111.493849  \n",
       "3        0               0  112.682690  \n",
       "4        0               0  113.653206  \n",
       "...    ...             ...         ...  \n",
       "6639     0               0   71.922692  \n",
       "6640     0               0   70.747590  \n",
       "6641     0               0   71.997737  \n",
       "6642     0               0   72.039572  \n",
       "6643     0               0   75.815218  \n",
       "\n",
       "[6644 rows x 16 columns]"
      ]
     },
     "execution_count": 38,
     "metadata": {},
     "output_type": "execute_result"
    }
   ],
   "source": [
    "data_test"
   ]
  },
  {
   "cell_type": "code",
   "execution_count": 44,
   "id": "f8edaf8b",
   "metadata": {
    "ExecuteTime": {
     "end_time": "2022-10-21T11:33:44.568709Z",
     "start_time": "2022-10-21T11:33:44.535459Z"
    }
   },
   "outputs": [
    {
     "data": {
      "text/html": [
       "<div>\n",
       "<style scoped>\n",
       "    .dataframe tbody tr th:only-of-type {\n",
       "        vertical-align: middle;\n",
       "    }\n",
       "\n",
       "    .dataframe tbody tr th {\n",
       "        vertical-align: top;\n",
       "    }\n",
       "\n",
       "    .dataframe thead th {\n",
       "        text-align: right;\n",
       "    }\n",
       "</style>\n",
       "<table border=\"1\" class=\"dataframe\">\n",
       "  <thead>\n",
       "    <tr style=\"text-align: right;\">\n",
       "      <th></th>\n",
       "      <th>city</th>\n",
       "      <th>date</th>\n",
       "      <th>language</th>\n",
       "      <th>mobile</th>\n",
       "      <th>request_number</th>\n",
       "      <th>avatar_id</th>\n",
       "      <th>hotel_id</th>\n",
       "      <th>price</th>\n",
       "      <th>stock</th>\n",
       "      <th>group</th>\n",
       "      <th>brand</th>\n",
       "      <th>parking</th>\n",
       "      <th>pool</th>\n",
       "      <th>children_policy</th>\n",
       "      <th>SRprice</th>\n",
       "    </tr>\n",
       "  </thead>\n",
       "  <tbody>\n",
       "    <tr>\n",
       "      <th>271645</th>\n",
       "      <td>sofia</td>\n",
       "      <td>17</td>\n",
       "      <td>greek</td>\n",
       "      <td>0</td>\n",
       "      <td>1</td>\n",
       "      <td>171</td>\n",
       "      <td>683</td>\n",
       "      <td>89</td>\n",
       "      <td>22</td>\n",
       "      <td>Chillton Worldwide</td>\n",
       "      <td>Tripletree</td>\n",
       "      <td>0</td>\n",
       "      <td>0</td>\n",
       "      <td>0</td>\n",
       "      <td>4.464745</td>\n",
       "    </tr>\n",
       "    <tr>\n",
       "      <th>271698</th>\n",
       "      <td>sofia</td>\n",
       "      <td>15</td>\n",
       "      <td>greek</td>\n",
       "      <td>0</td>\n",
       "      <td>2</td>\n",
       "      <td>171</td>\n",
       "      <td>683</td>\n",
       "      <td>89</td>\n",
       "      <td>16</td>\n",
       "      <td>Chillton Worldwide</td>\n",
       "      <td>Tripletree</td>\n",
       "      <td>0</td>\n",
       "      <td>0</td>\n",
       "      <td>0</td>\n",
       "      <td>4.464745</td>\n",
       "    </tr>\n",
       "    <tr>\n",
       "      <th>271717</th>\n",
       "      <td>sofia</td>\n",
       "      <td>14</td>\n",
       "      <td>greek</td>\n",
       "      <td>0</td>\n",
       "      <td>3</td>\n",
       "      <td>171</td>\n",
       "      <td>683</td>\n",
       "      <td>92</td>\n",
       "      <td>13</td>\n",
       "      <td>Chillton Worldwide</td>\n",
       "      <td>Tripletree</td>\n",
       "      <td>0</td>\n",
       "      <td>0</td>\n",
       "      <td>0</td>\n",
       "      <td>4.514357</td>\n",
       "    </tr>\n",
       "    <tr>\n",
       "      <th>271750</th>\n",
       "      <td>sofia</td>\n",
       "      <td>6</td>\n",
       "      <td>greek</td>\n",
       "      <td>0</td>\n",
       "      <td>4</td>\n",
       "      <td>171</td>\n",
       "      <td>683</td>\n",
       "      <td>90</td>\n",
       "      <td>0</td>\n",
       "      <td>Chillton Worldwide</td>\n",
       "      <td>Tripletree</td>\n",
       "      <td>0</td>\n",
       "      <td>0</td>\n",
       "      <td>0</td>\n",
       "      <td>4.481405</td>\n",
       "    </tr>\n",
       "    <tr>\n",
       "      <th>271768</th>\n",
       "      <td>sofia</td>\n",
       "      <td>17</td>\n",
       "      <td>greek</td>\n",
       "      <td>0</td>\n",
       "      <td>1</td>\n",
       "      <td>171</td>\n",
       "      <td>470</td>\n",
       "      <td>75</td>\n",
       "      <td>14</td>\n",
       "      <td>Independant</td>\n",
       "      <td>Independant</td>\n",
       "      <td>0</td>\n",
       "      <td>0</td>\n",
       "      <td>0</td>\n",
       "      <td>4.217163</td>\n",
       "    </tr>\n",
       "    <tr>\n",
       "      <th>...</th>\n",
       "      <td>...</td>\n",
       "      <td>...</td>\n",
       "      <td>...</td>\n",
       "      <td>...</td>\n",
       "      <td>...</td>\n",
       "      <td>...</td>\n",
       "      <td>...</td>\n",
       "      <td>...</td>\n",
       "      <td>...</td>\n",
       "      <td>...</td>\n",
       "      <td>...</td>\n",
       "      <td>...</td>\n",
       "      <td>...</td>\n",
       "      <td>...</td>\n",
       "      <td>...</td>\n",
       "    </tr>\n",
       "    <tr>\n",
       "      <th>281076</th>\n",
       "      <td>sofia</td>\n",
       "      <td>6</td>\n",
       "      <td>greek</td>\n",
       "      <td>0</td>\n",
       "      <td>4</td>\n",
       "      <td>171</td>\n",
       "      <td>871</td>\n",
       "      <td>89</td>\n",
       "      <td>0</td>\n",
       "      <td>Yin Yang</td>\n",
       "      <td>Ardisson</td>\n",
       "      <td>0</td>\n",
       "      <td>0</td>\n",
       "      <td>0</td>\n",
       "      <td>4.464745</td>\n",
       "    </tr>\n",
       "    <tr>\n",
       "      <th>281164</th>\n",
       "      <td>sofia</td>\n",
       "      <td>14</td>\n",
       "      <td>greek</td>\n",
       "      <td>0</td>\n",
       "      <td>3</td>\n",
       "      <td>171</td>\n",
       "      <td>899</td>\n",
       "      <td>104</td>\n",
       "      <td>14</td>\n",
       "      <td>Morriott International</td>\n",
       "      <td>CourtYord</td>\n",
       "      <td>0</td>\n",
       "      <td>0</td>\n",
       "      <td>0</td>\n",
       "      <td>4.702669</td>\n",
       "    </tr>\n",
       "    <tr>\n",
       "      <th>281194</th>\n",
       "      <td>sofia</td>\n",
       "      <td>6</td>\n",
       "      <td>greek</td>\n",
       "      <td>0</td>\n",
       "      <td>4</td>\n",
       "      <td>171</td>\n",
       "      <td>899</td>\n",
       "      <td>102</td>\n",
       "      <td>6</td>\n",
       "      <td>Morriott International</td>\n",
       "      <td>CourtYord</td>\n",
       "      <td>0</td>\n",
       "      <td>0</td>\n",
       "      <td>0</td>\n",
       "      <td>4.672329</td>\n",
       "    </tr>\n",
       "    <tr>\n",
       "      <th>281282</th>\n",
       "      <td>sofia</td>\n",
       "      <td>14</td>\n",
       "      <td>greek</td>\n",
       "      <td>0</td>\n",
       "      <td>3</td>\n",
       "      <td>171</td>\n",
       "      <td>262</td>\n",
       "      <td>104</td>\n",
       "      <td>10</td>\n",
       "      <td>Boss Western</td>\n",
       "      <td>J.Halliday Inn</td>\n",
       "      <td>1</td>\n",
       "      <td>0</td>\n",
       "      <td>0</td>\n",
       "      <td>4.702669</td>\n",
       "    </tr>\n",
       "    <tr>\n",
       "      <th>281312</th>\n",
       "      <td>sofia</td>\n",
       "      <td>6</td>\n",
       "      <td>greek</td>\n",
       "      <td>0</td>\n",
       "      <td>4</td>\n",
       "      <td>171</td>\n",
       "      <td>262</td>\n",
       "      <td>102</td>\n",
       "      <td>0</td>\n",
       "      <td>Boss Western</td>\n",
       "      <td>J.Halliday Inn</td>\n",
       "      <td>1</td>\n",
       "      <td>0</td>\n",
       "      <td>0</td>\n",
       "      <td>4.672329</td>\n",
       "    </tr>\n",
       "  </tbody>\n",
       "</table>\n",
       "<p>209 rows × 15 columns</p>\n",
       "</div>"
      ],
      "text/plain": [
       "         city  date language  mobile  request_number avatar_id hotel_id  \\\n",
       "271645  sofia    17    greek       0               1       171      683   \n",
       "271698  sofia    15    greek       0               2       171      683   \n",
       "271717  sofia    14    greek       0               3       171      683   \n",
       "271750  sofia     6    greek       0               4       171      683   \n",
       "271768  sofia    17    greek       0               1       171      470   \n",
       "...       ...   ...      ...     ...             ...       ...      ...   \n",
       "281076  sofia     6    greek       0               4       171      871   \n",
       "281164  sofia    14    greek       0               3       171      899   \n",
       "281194  sofia     6    greek       0               4       171      899   \n",
       "281282  sofia    14    greek       0               3       171      262   \n",
       "281312  sofia     6    greek       0               4       171      262   \n",
       "\n",
       "        price  stock                   group           brand  parking  pool  \\\n",
       "271645     89     22      Chillton Worldwide      Tripletree        0     0   \n",
       "271698     89     16      Chillton Worldwide      Tripletree        0     0   \n",
       "271717     92     13      Chillton Worldwide      Tripletree        0     0   \n",
       "271750     90      0      Chillton Worldwide      Tripletree        0     0   \n",
       "271768     75     14             Independant     Independant        0     0   \n",
       "...       ...    ...                     ...             ...      ...   ...   \n",
       "281076     89      0                Yin Yang        Ardisson        0     0   \n",
       "281164    104     14  Morriott International       CourtYord        0     0   \n",
       "281194    102      6  Morriott International       CourtYord        0     0   \n",
       "281282    104     10            Boss Western  J.Halliday Inn        1     0   \n",
       "281312    102      0            Boss Western  J.Halliday Inn        1     0   \n",
       "\n",
       "       children_policy   SRprice  \n",
       "271645               0  4.464745  \n",
       "271698               0  4.464745  \n",
       "271717               0  4.514357  \n",
       "271750               0  4.481405  \n",
       "271768               0  4.217163  \n",
       "...                ...       ...  \n",
       "281076               0  4.464745  \n",
       "281164               0  4.702669  \n",
       "281194               0  4.672329  \n",
       "281282               0  4.702669  \n",
       "281312               0  4.672329  \n",
       "\n",
       "[209 rows x 15 columns]"
      ]
     },
     "execution_count": 44,
     "metadata": {},
     "output_type": "execute_result"
    }
   ],
   "source": [
    "data.loc[data['avatar_id'] == 171]"
   ]
  },
  {
   "cell_type": "code",
   "execution_count": null,
   "id": "a147e780",
   "metadata": {},
   "outputs": [],
   "source": [
    "592 788 171 239"
   ]
  }
 ],
 "metadata": {
  "kernelspec": {
   "display_name": "Python 3 (ipykernel)",
   "language": "python",
   "name": "python3"
  },
  "language_info": {
   "codemirror_mode": {
    "name": "ipython",
    "version": 3
   },
   "file_extension": ".py",
   "mimetype": "text/x-python",
   "name": "python",
   "nbconvert_exporter": "python",
   "pygments_lexer": "ipython3",
   "version": "3.9.13"
  },
  "toc": {
   "base_numbering": 1,
   "nav_menu": {},
   "number_sections": true,
   "sideBar": true,
   "skip_h1_title": false,
   "title_cell": "Table of Contents",
   "title_sidebar": "Contents",
   "toc_cell": false,
   "toc_position": {},
   "toc_section_display": true,
   "toc_window_display": false
  },
  "varInspector": {
   "cols": {
    "lenName": 16,
    "lenType": 16,
    "lenVar": 40
   },
   "kernels_config": {
    "python": {
     "delete_cmd_postfix": "",
     "delete_cmd_prefix": "del ",
     "library": "var_list.py",
     "varRefreshCmd": "print(var_dic_list())"
    },
    "r": {
     "delete_cmd_postfix": ") ",
     "delete_cmd_prefix": "rm(",
     "library": "var_list.r",
     "varRefreshCmd": "cat(var_dic_list()) "
    }
   },
   "types_to_exclude": [
    "module",
    "function",
    "builtin_function_or_method",
    "instance",
    "_Feature"
   ],
   "window_display": false
  }
 },
 "nbformat": 4,
 "nbformat_minor": 5
}
