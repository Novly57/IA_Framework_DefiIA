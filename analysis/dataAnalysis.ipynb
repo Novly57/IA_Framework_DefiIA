{
 "cells": [
  {
   "cell_type": "code",
   "execution_count": 27,
   "id": "af852220",
   "metadata": {
    "ExecuteTime": {
     "end_time": "2022-10-17T14:37:23.265363Z",
     "start_time": "2022-10-17T14:37:23.254772Z"
    }
   },
   "outputs": [
    {
     "data": {
      "text/html": [
       "<style>.container { width:80% !important; }</style>"
      ],
      "text/plain": [
       "<IPython.core.display.HTML object>"
      ]
     },
     "metadata": {},
     "output_type": "display_data"
    }
   ],
   "source": [
    "from IPython.core.display import display, HTML\n",
    "display(HTML(\"<style>.container { width:80% !important; }</style>\"))"
   ]
  },
  {
   "cell_type": "code",
   "execution_count": 28,
   "id": "7287b63f",
   "metadata": {
    "ExecuteTime": {
     "end_time": "2022-10-17T14:37:23.472867Z",
     "start_time": "2022-10-17T14:37:23.462442Z"
    }
   },
   "outputs": [],
   "source": [
    "import pandas as pd\n",
    "import numpy as np\n",
    "import seaborn as sns\n",
    "%matplotlib inline\n",
    "import matplotlib.pyplot as plt\n",
    "from math import sqrt, log\n",
    "sns.set_style(\"darkgrid\")"
   ]
  },
  {
   "cell_type": "code",
   "execution_count": 29,
   "id": "deeeee60",
   "metadata": {
    "ExecuteTime": {
     "end_time": "2022-10-17T14:37:23.727834Z",
     "start_time": "2022-10-17T14:37:23.616429Z"
    }
   },
   "outputs": [
    {
     "data": {
      "text/html": [
       "<div>\n",
       "<style scoped>\n",
       "    .dataframe tbody tr th:only-of-type {\n",
       "        vertical-align: middle;\n",
       "    }\n",
       "\n",
       "    .dataframe tbody tr th {\n",
       "        vertical-align: top;\n",
       "    }\n",
       "\n",
       "    .dataframe thead th {\n",
       "        text-align: right;\n",
       "    }\n",
       "</style>\n",
       "<table border=\"1\" class=\"dataframe\">\n",
       "  <thead>\n",
       "    <tr style=\"text-align: right;\">\n",
       "      <th></th>\n",
       "      <th>city</th>\n",
       "      <th>date</th>\n",
       "      <th>language</th>\n",
       "      <th>mobile</th>\n",
       "      <th>request_number</th>\n",
       "      <th>avatar_id</th>\n",
       "      <th>hotel_id</th>\n",
       "      <th>price</th>\n",
       "      <th>stock</th>\n",
       "    </tr>\n",
       "  </thead>\n",
       "  <tbody>\n",
       "    <tr>\n",
       "      <th>0</th>\n",
       "      <td>valletta</td>\n",
       "      <td>2</td>\n",
       "      <td>bulgarian</td>\n",
       "      <td>1</td>\n",
       "      <td>1</td>\n",
       "      <td>134</td>\n",
       "      <td>55</td>\n",
       "      <td>109</td>\n",
       "      <td>10</td>\n",
       "    </tr>\n",
       "    <tr>\n",
       "      <th>1</th>\n",
       "      <td>valletta</td>\n",
       "      <td>2</td>\n",
       "      <td>bulgarian</td>\n",
       "      <td>1</td>\n",
       "      <td>1</td>\n",
       "      <td>134</td>\n",
       "      <td>81</td>\n",
       "      <td>71</td>\n",
       "      <td>0</td>\n",
       "    </tr>\n",
       "    <tr>\n",
       "      <th>2</th>\n",
       "      <td>valletta</td>\n",
       "      <td>2</td>\n",
       "      <td>bulgarian</td>\n",
       "      <td>1</td>\n",
       "      <td>1</td>\n",
       "      <td>134</td>\n",
       "      <td>106</td>\n",
       "      <td>133</td>\n",
       "      <td>0</td>\n",
       "    </tr>\n",
       "    <tr>\n",
       "      <th>3</th>\n",
       "      <td>valletta</td>\n",
       "      <td>2</td>\n",
       "      <td>bulgarian</td>\n",
       "      <td>1</td>\n",
       "      <td>1</td>\n",
       "      <td>134</td>\n",
       "      <td>134</td>\n",
       "      <td>151</td>\n",
       "      <td>0</td>\n",
       "    </tr>\n",
       "    <tr>\n",
       "      <th>4</th>\n",
       "      <td>valletta</td>\n",
       "      <td>2</td>\n",
       "      <td>bulgarian</td>\n",
       "      <td>1</td>\n",
       "      <td>1</td>\n",
       "      <td>134</td>\n",
       "      <td>200</td>\n",
       "      <td>146</td>\n",
       "      <td>10</td>\n",
       "    </tr>\n",
       "  </tbody>\n",
       "</table>\n",
       "</div>"
      ],
      "text/plain": [
       "       city  date   language  mobile  request_number  avatar_id  hotel_id  \\\n",
       "0  valletta     2  bulgarian       1               1        134        55   \n",
       "1  valletta     2  bulgarian       1               1        134        81   \n",
       "2  valletta     2  bulgarian       1               1        134       106   \n",
       "3  valletta     2  bulgarian       1               1        134       134   \n",
       "4  valletta     2  bulgarian       1               1        134       200   \n",
       "\n",
       "   price  stock  \n",
       "0    109     10  \n",
       "1     71      0  \n",
       "2    133      0  \n",
       "3    151      0  \n",
       "4    146     10  "
      ]
     },
     "execution_count": 29,
     "metadata": {},
     "output_type": "execute_result"
    }
   ],
   "source": [
    "path = '../data/' #données dans le même dossier\n",
    "data = pd.read_csv(path+\"data.csv\")\n",
    "data.head()"
   ]
  },
  {
   "cell_type": "code",
   "execution_count": 30,
   "id": "e929a734",
   "metadata": {
    "ExecuteTime": {
     "end_time": "2022-10-17T14:37:23.817312Z",
     "start_time": "2022-10-17T14:37:23.807309Z"
    }
   },
   "outputs": [
    {
     "data": {
      "text/plain": [
       "city              object\n",
       "date               int64\n",
       "language          object\n",
       "mobile             int64\n",
       "request_number     int64\n",
       "avatar_id          int64\n",
       "hotel_id           int64\n",
       "price              int64\n",
       "stock              int64\n",
       "dtype: object"
      ]
     },
     "execution_count": 30,
     "metadata": {},
     "output_type": "execute_result"
    }
   ],
   "source": [
    "data.dtypes"
   ]
  },
  {
   "cell_type": "code",
   "execution_count": 31,
   "id": "36d095d9",
   "metadata": {
    "ExecuteTime": {
     "end_time": "2022-10-17T14:37:24.017986Z",
     "start_time": "2022-10-17T14:37:23.965391Z"
    }
   },
   "outputs": [
    {
     "data": {
      "text/plain": [
       "city              category\n",
       "date                 int64\n",
       "language          category\n",
       "mobile               int64\n",
       "request_number       int64\n",
       "avatar_id         category\n",
       "hotel_id          category\n",
       "price                int64\n",
       "stock                int64\n",
       "dtype: object"
      ]
     },
     "execution_count": 31,
     "metadata": {},
     "output_type": "execute_result"
    }
   ],
   "source": [
    "for col in ['city', 'language', 'avatar_id', 'hotel_id'] : # stock ??\n",
    "    data[col] = pd.Categorical(data[col],ordered=False)\n",
    "data.dtypes"
   ]
  },
  {
   "cell_type": "code",
   "execution_count": 32,
   "id": "47e1b06f",
   "metadata": {
    "ExecuteTime": {
     "end_time": "2022-10-17T14:37:24.917245Z",
     "start_time": "2022-10-17T14:37:24.910746Z"
    }
   },
   "outputs": [],
   "source": [
    "colQT = ['request_number', 'price']"
   ]
  },
  {
   "cell_type": "code",
   "execution_count": 33,
   "id": "edae0014",
   "metadata": {
    "ExecuteTime": {
     "end_time": "2022-10-17T14:37:26.168030Z",
     "start_time": "2022-10-17T14:37:25.787188Z"
    }
   },
   "outputs": [
    {
     "data": {
      "image/png": "[encoded data removed]",
      "text/plain": [
       "<Figure size 432x288 with 1 Axes>"
      ]
     },
     "metadata": {},
     "output_type": "display_data"
    }
   ],
   "source": [
    "plt.figure()\n",
    "sns.histplot(data[colQT[0]])\n",
    "plt.show()"
   ]
  },
  {
   "cell_type": "code",
   "execution_count": 34,
   "id": "cc4b64d4",
   "metadata": {
    "ExecuteTime": {
     "end_time": "2022-10-17T14:37:26.940155Z",
     "start_time": "2022-10-17T14:37:26.221664Z"
    }
   },
   "outputs": [
    {
     "data": {
      "image/png": "[encoded data removed]",
      "text/plain": [
       "<Figure size 432x288 with 1 Axes>"
      ]
     },
     "metadata": {},
     "output_type": "display_data"
    }
   ],
   "source": [
    "plt.figure()\n",
    "sns.histplot(data[colQT[1]])\n",
    "plt.show()"
   ]
  },
  {
   "cell_type": "code",
   "execution_count": 35,
   "id": "8e92ee91",
   "metadata": {
    "ExecuteTime": {
     "end_time": "2022-10-17T14:37:27.751468Z",
     "start_time": "2022-10-17T14:37:26.990500Z"
    }
   },
   "outputs": [
    {
     "data": {
      "image/png": "[encoded data removed]",
      "text/plain": [
       "<Figure size 432x288 with 1 Axes>"
      ]
     },
     "metadata": {},
     "output_type": "display_data"
    }
   ],
   "source": [
    "plt.figure()\n",
    "sns.histplot(data[colQT[1]].map(lambda x: x**(1/3)))\n",
    "plt.show()"
   ]
  },
  {
   "cell_type": "code",
   "execution_count": 36,
   "id": "33b9f737",
   "metadata": {
    "ExecuteTime": {
     "end_time": "2022-10-17T14:37:30.721722Z",
     "start_time": "2022-10-17T14:37:30.717662Z"
    }
   },
   "outputs": [],
   "source": [
    "# data['SRprice'] = data[colQT[1]].map(lambda x: x**(1/3))"
   ]
  }
 ],
 "metadata": {
  "kernelspec": {
   "display_name": "Python 3 (ipykernel)",
   "language": "python",
   "name": "python3"
  },
  "language_info": {
   "codemirror_mode": {
    "name": "ipython",
    "version": 3
   },
   "file_extension": ".py",
   "mimetype": "text/x-python",
   "name": "python",
   "nbconvert_exporter": "python",
   "pygments_lexer": "ipython3",
   "version": "3.9.7"
  },
  "toc": {
   "base_numbering": 1,
   "nav_menu": {},
   "number_sections": true,
   "sideBar": true,
   "skip_h1_title": false,
   "title_cell": "Table of Contents",
   "title_sidebar": "Contents",
   "toc_cell": false,
   "toc_position": {},
   "toc_section_display": true,
   "toc_window_display": false
  },
  "varInspector": {
   "cols": {
    "lenName": 16,
    "lenType": 16,
    "lenVar": 40
   },
   "kernels_config": {
    "python": {
     "delete_cmd_postfix": "",
     "delete_cmd_prefix": "del ",
     "library": "var_list.py",
     "varRefreshCmd": "print(var_dic_list())"
    },
    "r": {
     "delete_cmd_postfix": ") ",
     "delete_cmd_prefix": "rm(",
     "library": "var_list.r",
     "varRefreshCmd": "cat(var_dic_list()) "
    }
   },
   "types_to_exclude": [
    "module",
    "function",
    "builtin_function_or_method",
    "instance",
    "_Feature"
   ],
   "window_display": false
  }
 },
 "nbformat": 4,
 "nbformat_minor": 5
}
