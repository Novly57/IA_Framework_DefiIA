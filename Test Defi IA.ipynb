{
 "cells": [
  {
   "cell_type": "code",
   "execution_count": 1,
   "metadata": {},
   "outputs": [],
   "source": [
    "import urllib.parse\n",
    "\n",
    "domain = \"51.91.251.0\"\n",
    "port = 3000\n",
    "host = f\"http://{domain}:{port}\"\n",
    "path = lambda x: urllib.parse.urljoin(host, x)"
   ]
  },
  {
   "cell_type": "code",
   "execution_count": 2,
   "metadata": {},
   "outputs": [
    {
     "data": {
      "text/plain": [
       "<Response [200]>"
      ]
     },
     "execution_count": 2,
     "metadata": {},
     "output_type": "execute_result"
    }
   ],
   "source": [
    "import requests\n",
    "\n",
    "user_id = '5bafe3fc-6b26-46e0-af72-ee3709ed12d6'\n",
    "name = 'first-avatar'\n",
    "r = requests.post(path(f'avatars/{user_id}/{name}'))\n",
    "r"
   ]
  },
  {
   "cell_type": "code",
   "execution_count": 3,
   "metadata": {},
   "outputs": [
    {
     "name": "stdout",
     "output_type": "stream",
     "text": [
      "108 first-avatar\n"
     ]
    }
   ],
   "source": [
    "r = requests.get(path(f\"avatars/{user_id}\"))\n",
    "for avatar in r.json():\n",
    "    print(avatar['id'], avatar['name'])"
   ]
  },
  {
   "cell_type": "code",
   "execution_count": 4,
   "metadata": {},
   "outputs": [
    {
     "data": {
      "text/plain": [
       "{'prices': [{'hotel_id': 349, 'price': 317, 'stock': 1},\n",
       "  {'hotel_id': 329, 'price': 239, 'stock': 0},\n",
       "  {'hotel_id': 532, 'price': 342, 'stock': 1},\n",
       "  {'hotel_id': 958, 'price': 239, 'stock': 0},\n",
       "  {'hotel_id': 249, 'price': 87, 'stock': 0},\n",
       "  {'hotel_id': 951, 'price': 87, 'stock': 0},\n",
       "  {'hotel_id': 91, 'price': 128, 'stock': 0},\n",
       "  {'hotel_id': 559, 'price': 299, 'stock': 1},\n",
       "  {'hotel_id': 431, 'price': 123, 'stock': 0},\n",
       "  {'hotel_id': 711, 'price': 140, 'stock': 2},\n",
       "  {'hotel_id': 973, 'price': 171, 'stock': 0},\n",
       "  {'hotel_id': 990, 'price': 168, 'stock': 0},\n",
       "  {'hotel_id': 830, 'price': 89, 'stock': 0},\n",
       "  {'hotel_id': 291, 'price': 256, 'stock': 1},\n",
       "  {'hotel_id': 572, 'price': 231, 'stock': 0},\n",
       "  {'hotel_id': 893, 'price': 229, 'stock': 0},\n",
       "  {'hotel_id': 622, 'price': 213, 'stock': 1},\n",
       "  {'hotel_id': 938, 'price': 121, 'stock': 0},\n",
       "  {'hotel_id': 812, 'price': 200, 'stock': 0},\n",
       "  {'hotel_id': 433, 'price': 143, 'stock': 2},\n",
       "  {'hotel_id': 844, 'price': 469, 'stock': 2},\n",
       "  {'hotel_id': 523, 'price': 104, 'stock': 3},\n",
       "  {'hotel_id': 481, 'price': 95, 'stock': 0},\n",
       "  {'hotel_id': 32, 'price': 175, 'stock': 0},\n",
       "  {'hotel_id': 805, 'price': 202, 'stock': 2},\n",
       "  {'hotel_id': 445, 'price': 89, 'stock': 0},\n",
       "  {'hotel_id': 50, 'price': 149, 'stock': 1},\n",
       "  {'hotel_id': 669, 'price': 322, 'stock': 1},\n",
       "  {'hotel_id': 335, 'price': 90, 'stock': 0},\n",
       "  {'hotel_id': 332, 'price': 333, 'stock': 1},\n",
       "  {'hotel_id': 425, 'price': 308, 'stock': 1},\n",
       "  {'hotel_id': 506, 'price': 148, 'stock': 0},\n",
       "  {'hotel_id': 989, 'price': 108, 'stock': 0},\n",
       "  {'hotel_id': 497, 'price': 269, 'stock': 4},\n",
       "  {'hotel_id': 434, 'price': 114, 'stock': 0},\n",
       "  {'hotel_id': 508, 'price': 339, 'stock': 1},\n",
       "  {'hotel_id': 90, 'price': 200, 'stock': 2},\n",
       "  {'hotel_id': 818, 'price': 173, 'stock': 0},\n",
       "  {'hotel_id': 831, 'price': 108, 'stock': 5},\n",
       "  {'hotel_id': 348, 'price': 198, 'stock': 2},\n",
       "  {'hotel_id': 541, 'price': 155, 'stock': 1},\n",
       "  {'hotel_id': 981, 'price': 110, 'stock': 0},\n",
       "  {'hotel_id': 43, 'price': 79, 'stock': 16},\n",
       "  {'hotel_id': 110, 'price': 202, 'stock': 2},\n",
       "  {'hotel_id': 280, 'price': 117, 'stock': 12},\n",
       "  {'hotel_id': 959, 'price': 221, 'stock': 4},\n",
       "  {'hotel_id': 251, 'price': 165, 'stock': 0},\n",
       "  {'hotel_id': 978, 'price': 335, 'stock': 4},\n",
       "  {'hotel_id': 401, 'price': 196, 'stock': 0},\n",
       "  {'hotel_id': 720, 'price': 467, 'stock': 2},\n",
       "  {'hotel_id': 113, 'price': 89, 'stock': 0},\n",
       "  {'hotel_id': 518, 'price': 194, 'stock': 1},\n",
       "  {'hotel_id': 726, 'price': 325, 'stock': 3},\n",
       "  {'hotel_id': 407, 'price': 317, 'stock': 1},\n",
       "  {'hotel_id': 422, 'price': 481, 'stock': 2},\n",
       "  {'hotel_id': 243, 'price': 97, 'stock': 0},\n",
       "  {'hotel_id': 267, 'price': 173, 'stock': 0},\n",
       "  {'hotel_id': 727, 'price': 121, 'stock': 0},\n",
       "  {'hotel_id': 983, 'price': 91, 'stock': 0},\n",
       "  {'hotel_id': 487, 'price': 166, 'stock': 8},\n",
       "  {'hotel_id': 766, 'price': 467, 'stock': 2},\n",
       "  {'hotel_id': 531, 'price': 204, 'stock': 2},\n",
       "  {'hotel_id': 1, 'price': 95, 'stock': 0},\n",
       "  {'hotel_id': 900, 'price': 235, 'stock': 0},\n",
       "  {'hotel_id': 826, 'price': 196, 'stock': 8},\n",
       "  {'hotel_id': 435, 'price': 464, 'stock': 2},\n",
       "  {'hotel_id': 309, 'price': 94, 'stock': 0},\n",
       "  {'hotel_id': 100, 'price': 87, 'stock': 0},\n",
       "  {'hotel_id': 463, 'price': 97, 'stock': 0},\n",
       "  {'hotel_id': 99, 'price': 202, 'stock': 0},\n",
       "  {'hotel_id': 995, 'price': 214, 'stock': 3},\n",
       "  {'hotel_id': 546, 'price': 108, 'stock': 1},\n",
       "  {'hotel_id': 876, 'price': 141, 'stock': 0},\n",
       "  {'hotel_id': 96, 'price': 194, 'stock': 1},\n",
       "  {'hotel_id': 865, 'price': 277, 'stock': 7},\n",
       "  {'hotel_id': 716, 'price': 143, 'stock': 0},\n",
       "  {'hotel_id': 23, 'price': 198, 'stock': 2},\n",
       "  {'hotel_id': 6, 'price': 120, 'stock': 0},\n",
       "  {'hotel_id': 562, 'price': 327, 'stock': 1},\n",
       "  {'hotel_id': 994, 'price': 193, 'stock': 2},\n",
       "  {'hotel_id': 855, 'price': 311, 'stock': 1},\n",
       "  {'hotel_id': 92, 'price': 84, 'stock': 3},\n",
       "  {'hotel_id': 528, 'price': 432, 'stock': 2},\n",
       "  {'hotel_id': 53, 'price': 94, 'stock': 0},\n",
       "  {'hotel_id': 318, 'price': 141, 'stock': 0},\n",
       "  {'hotel_id': 391, 'price': 191, 'stock': 2},\n",
       "  {'hotel_id': 405, 'price': 97, 'stock': 0},\n",
       "  {'hotel_id': 58, 'price': 322, 'stock': 1},\n",
       "  {'hotel_id': 664, 'price': 472, 'stock': 2},\n",
       "  {'hotel_id': 688, 'price': 87, 'stock': 0},\n",
       "  {'hotel_id': 834, 'price': 91, 'stock': 0},\n",
       "  {'hotel_id': 757, 'price': 151, 'stock': 1},\n",
       "  {'hotel_id': 402, 'price': 128, 'stock': 0},\n",
       "  {'hotel_id': 930, 'price': 120, 'stock': 0},\n",
       "  {'hotel_id': 695, 'price': 202, 'stock': 2},\n",
       "  {'hotel_id': 690, 'price': 241, 'stock': 4},\n",
       "  {'hotel_id': 443, 'price': 145, 'stock': 1},\n",
       "  {'hotel_id': 793, 'price': 167, 'stock': 0},\n",
       "  {'hotel_id': 78, 'price': 461, 'stock': 2},\n",
       "  {'hotel_id': 202, 'price': 198, 'stock': 2},\n",
       "  {'hotel_id': 638, 'price': 153, 'stock': 6},\n",
       "  {'hotel_id': 829, 'price': 202, 'stock': 2},\n",
       "  {'hotel_id': 849, 'price': 198, 'stock': 2},\n",
       "  {'hotel_id': 611, 'price': 204, 'stock': 0},\n",
       "  {'hotel_id': 194, 'price': 118, 'stock': 0},\n",
       "  {'hotel_id': 772, 'price': 327, 'stock': 0},\n",
       "  {'hotel_id': 952, 'price': 94, 'stock': 0},\n",
       "  {'hotel_id': 365, 'price': 94, 'stock': 0},\n",
       "  {'hotel_id': 616, 'price': 198, 'stock': 0},\n",
       "  {'hotel_id': 691, 'price': 89, 'stock': 0},\n",
       "  {'hotel_id': 556, 'price': 175, 'stock': 0},\n",
       "  {'hotel_id': 908, 'price': 481, 'stock': 2},\n",
       "  {'hotel_id': 707, 'price': 335, 'stock': 5},\n",
       "  {'hotel_id': 60, 'price': 94, 'stock': 0},\n",
       "  {'hotel_id': 698, 'price': 231, 'stock': 6},\n",
       "  {'hotel_id': 922, 'price': 342, 'stock': 1},\n",
       "  {'hotel_id': 872, 'price': 97, 'stock': 0},\n",
       "  {'hotel_id': 898, 'price': 92, 'stock': 0},\n",
       "  {'hotel_id': 142, 'price': 390, 'stock': 4},\n",
       "  {'hotel_id': 547, 'price': 202, 'stock': 2},\n",
       "  {'hotel_id': 289, 'price': 140, 'stock': 0},\n",
       "  {'hotel_id': 771, 'price': 478, 'stock': 2},\n",
       "  {'hotel_id': 36, 'price': 193, 'stock': 0},\n",
       "  {'hotel_id': 367, 'price': 96, 'stock': 0},\n",
       "  {'hotel_id': 596, 'price': 170, 'stock': 0},\n",
       "  {'hotel_id': 961, 'price': 229, 'stock': 7},\n",
       "  {'hotel_id': 770, 'price': 336, 'stock': 1},\n",
       "  {'hotel_id': 358, 'price': 306, 'stock': 1},\n",
       "  {'hotel_id': 153, 'price': 333, 'stock': 1},\n",
       "  {'hotel_id': 744, 'price': 170, 'stock': 0},\n",
       "  {'hotel_id': 869, 'price': 469, 'stock': 1},\n",
       "  {'hotel_id': 539, 'price': 351, 'stock': 3},\n",
       "  {'hotel_id': 761, 'price': 145, 'stock': 0},\n",
       "  {'hotel_id': 300, 'price': 145, 'stock': 1}],\n",
       " 'request': {'city': 'copenhagen',\n",
       "  'date': 2,\n",
       "  'language': 'hungarian',\n",
       "  'mobile': 0,\n",
       "  'avatar_id': 108}}"
      ]
     },
     "execution_count": 4,
     "metadata": {},
     "output_type": "execute_result"
    }
   ],
   "source": [
    "params = {\n",
    "    \"avatar_name\": \"first-avatar\",\n",
    "    \"language\": \"hungarian\",\n",
    "    \"city\": \"copenhagen\",\n",
    "    \"date\": 2,\n",
    "    \"mobile\": 0,\n",
    "}\n",
    "#r1 = requests.get(path(f\"pricing/{user_id}\"), params=params)\n",
    "r1.json()"
   ]
  },
  {
   "cell_type": "code",
   "execution_count": 16,
   "metadata": {},
   "outputs": [
    {
     "data": {
      "text/plain": [
       "56"
      ]
     },
     "execution_count": 16,
     "metadata": {},
     "output_type": "execute_result"
    }
   ],
   "source": [
    "f = open(\"Data_DefiIA.txt\",\"w\")\n",
    "f.write(\"City\\tDate\\tLanguage\\tMobile\\tAvatar_id\\tHotel_id\\tPrice\\tStock\\n\")"
   ]
  },
  {
   "cell_type": "code",
   "execution_count": 23,
   "metadata": {},
   "outputs": [],
   "source": [
    "requ = r1.json()[\"request\"]\n",
    "avatar = requ[\"city\"]+'\\t'+str(requ[\"date\"])+'\\t'+requ[\"language\"]+'\\t'+str(requ[\"mobile\"])+'\\t'+str(requ[\"avatar_id\"])+'\\t'\n",
    "data = ''\n",
    "for ligne in r1.json()[\"prices\"]:\n",
    "    data += avatar\n",
    "    data += str(ligne[\"hotel_id\"]) + '\\t' + str(ligne[\"price\"]) + '\\t'+ str(ligne[\"stock\"]) + '\\n'"
   ]
  },
  {
   "cell_type": "code",
   "execution_count": 25,
   "metadata": {},
   "outputs": [
    {
     "data": {
      "text/plain": [
       "5184"
      ]
     },
     "execution_count": 25,
     "metadata": {},
     "output_type": "execute_result"
    }
   ],
   "source": [
    "f.write(data)"
   ]
  },
  {
   "cell_type": "code",
   "execution_count": 28,
   "metadata": {},
   "outputs": [
    {
     "ename": "ModuleNotFoundError",
     "evalue": "No module named 'pandas'",
     "output_type": "error",
     "traceback": [
      "\u001b[0;31m---------------------------------------------------------------------------\u001b[0m",
      "\u001b[0;31mModuleNotFoundError\u001b[0m                       Traceback (most recent call last)",
      "\u001b[0;32m<ipython-input-28-ef3ca2277a5f>\u001b[0m in \u001b[0;36m<module>\u001b[0;34m\u001b[0m\n\u001b[0;32m----> 1\u001b[0;31m \u001b[0;32mimport\u001b[0m \u001b[0mpandas\u001b[0m \u001b[0;32mas\u001b[0m \u001b[0mpd\u001b[0m\u001b[0;34m\u001b[0m\u001b[0;34m\u001b[0m\u001b[0m\n\u001b[0m\u001b[1;32m      2\u001b[0m \u001b[0;34m\u001b[0m\u001b[0m\n\u001b[1;32m      3\u001b[0m \u001b[0mpricing_requests\u001b[0m \u001b[0;34m=\u001b[0m \u001b[0;34m[\u001b[0m\u001b[0;34m]\u001b[0m\u001b[0;34m\u001b[0m\u001b[0;34m\u001b[0m\u001b[0m\n\u001b[1;32m      4\u001b[0m \u001b[0;34m\u001b[0m\u001b[0m\n\u001b[1;32m      5\u001b[0m \u001b[0mrequests\u001b[0m \u001b[0;34m=\u001b[0m \u001b[0;34m[\u001b[0m\u001b[0mr1\u001b[0m\u001b[0;34m]\u001b[0m\u001b[0;34m\u001b[0m\u001b[0;34m\u001b[0m\u001b[0m\n",
      "\u001b[0;31mModuleNotFoundError\u001b[0m: No module named 'pandas'"
     ]
    }
   ],
   "source": [
    "import pandas as pd\n",
    "\n",
    "pricing_requests = []\n",
    "\n",
    "requests = [r1]\n",
    "for r in requests:\n",
    "    pricing_requests.append(\n",
    "        pd.DataFrame(r.json()['prices']).assign(**r.json()['request'])\n",
    "    )\n",
    "\n",
    "pricing_requests = pd.concat(pricing_requests)\n",
    "pricing_requests.head()"
   ]
  },
  {
   "cell_type": "code",
   "execution_count": null,
   "metadata": {},
   "outputs": [],
   "source": [
    "hotels = pd.read_csv('../input/defi-ia-2023/features_hotels.csv', index_col=['hotel_id', 'city'])\n",
    "pricing_requests = pricing_requests.join(hotels, on=['hotel_id', 'city'])\n",
    "pricing_requests.head()"
   ]
  }
 ],
 "metadata": {
  "kernelspec": {
   "display_name": "Python 3",
   "language": "python",
   "name": "python3"
  },
  "language_info": {
   "codemirror_mode": {
    "name": "ipython",
    "version": 3
   },
   "file_extension": ".py",
   "mimetype": "text/x-python",
   "name": "python",
   "nbconvert_exporter": "python",
   "pygments_lexer": "ipython3",
   "version": "3.7.3"
  }
 },
 "nbformat": 4,
 "nbformat_minor": 2
}
