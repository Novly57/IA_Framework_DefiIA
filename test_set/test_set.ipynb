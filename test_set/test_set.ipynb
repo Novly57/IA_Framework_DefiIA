{
 "cells": [
  {
   "cell_type": "code",
   "execution_count": 1,
   "metadata": {
    "ExecuteTime": {
     "end_time": "2022-10-11T11:24:17.528869Z",
     "start_time": "2022-10-11T11:24:11.895327Z"
    }
   },
   "outputs": [],
   "source": [
    "import numpy as np\n",
    "import pandas as pd\n",
    "import seaborn as sns\n",
    "import matplotlib.pyplot as plt\n",
    "sns.set_theme(style=\"darkgrid\")"
   ]
  },
  {
   "cell_type": "code",
   "execution_count": 4,
   "metadata": {
    "ExecuteTime": {
     "end_time": "2022-10-11T11:25:07.356846Z",
     "start_time": "2022-10-11T11:25:07.296062Z"
    }
   },
   "outputs": [],
   "source": [
    "hotels = pd.read_csv('../data/features_hotels.csv')\n",
    "test_set = pd.read_csv('../data/test_set.csv')\n",
    "test_set = test_set.merge(hotels, on=['hotel_id','city'])\n",
    "N = len(test_set)"
   ]
  },
  {
   "cell_type": "code",
   "execution_count": 5,
   "metadata": {
    "ExecuteTime": {
     "end_time": "2022-10-11T11:25:08.412719Z",
     "start_time": "2022-10-11T11:25:08.380470Z"
    }
   },
   "outputs": [
    {
     "data": {
      "text/html": [
       "<div>\n",
       "<style scoped>\n",
       "    .dataframe tbody tr th:only-of-type {\n",
       "        vertical-align: middle;\n",
       "    }\n",
       "\n",
       "    .dataframe tbody tr th {\n",
       "        vertical-align: top;\n",
       "    }\n",
       "\n",
       "    .dataframe thead th {\n",
       "        text-align: right;\n",
       "    }\n",
       "</style>\n",
       "<table border=\"1\" class=\"dataframe\">\n",
       "  <thead>\n",
       "    <tr style=\"text-align: right;\">\n",
       "      <th></th>\n",
       "      <th>index</th>\n",
       "      <th>order_requests</th>\n",
       "      <th>city</th>\n",
       "      <th>date</th>\n",
       "      <th>language</th>\n",
       "      <th>mobile</th>\n",
       "      <th>avatar_id</th>\n",
       "      <th>hotel_id</th>\n",
       "      <th>stock</th>\n",
       "      <th>group</th>\n",
       "      <th>brand</th>\n",
       "      <th>parking</th>\n",
       "      <th>pool</th>\n",
       "      <th>children_policy</th>\n",
       "    </tr>\n",
       "  </thead>\n",
       "  <tbody>\n",
       "    <tr>\n",
       "      <th>0</th>\n",
       "      <td>0</td>\n",
       "      <td>1</td>\n",
       "      <td>vilnius</td>\n",
       "      <td>21</td>\n",
       "      <td>romanian</td>\n",
       "      <td>0</td>\n",
       "      <td>1</td>\n",
       "      <td>161</td>\n",
       "      <td>46</td>\n",
       "      <td>Boss Western</td>\n",
       "      <td>J.Halliday Inn</td>\n",
       "      <td>1</td>\n",
       "      <td>0</td>\n",
       "      <td>0</td>\n",
       "    </tr>\n",
       "    <tr>\n",
       "      <th>1</th>\n",
       "      <td>9</td>\n",
       "      <td>2</td>\n",
       "      <td>vilnius</td>\n",
       "      <td>18</td>\n",
       "      <td>romanian</td>\n",
       "      <td>0</td>\n",
       "      <td>1</td>\n",
       "      <td>161</td>\n",
       "      <td>36</td>\n",
       "      <td>Boss Western</td>\n",
       "      <td>J.Halliday Inn</td>\n",
       "      <td>1</td>\n",
       "      <td>0</td>\n",
       "      <td>0</td>\n",
       "    </tr>\n",
       "    <tr>\n",
       "      <th>2</th>\n",
       "      <td>254</td>\n",
       "      <td>30</td>\n",
       "      <td>vilnius</td>\n",
       "      <td>20</td>\n",
       "      <td>romanian</td>\n",
       "      <td>1</td>\n",
       "      <td>12</td>\n",
       "      <td>161</td>\n",
       "      <td>44</td>\n",
       "      <td>Boss Western</td>\n",
       "      <td>J.Halliday Inn</td>\n",
       "      <td>1</td>\n",
       "      <td>0</td>\n",
       "      <td>0</td>\n",
       "    </tr>\n",
       "    <tr>\n",
       "      <th>3</th>\n",
       "      <td>263</td>\n",
       "      <td>31</td>\n",
       "      <td>vilnius</td>\n",
       "      <td>18</td>\n",
       "      <td>romanian</td>\n",
       "      <td>1</td>\n",
       "      <td>12</td>\n",
       "      <td>161</td>\n",
       "      <td>36</td>\n",
       "      <td>Boss Western</td>\n",
       "      <td>J.Halliday Inn</td>\n",
       "      <td>1</td>\n",
       "      <td>0</td>\n",
       "      <td>0</td>\n",
       "    </tr>\n",
       "    <tr>\n",
       "      <th>4</th>\n",
       "      <td>272</td>\n",
       "      <td>32</td>\n",
       "      <td>vilnius</td>\n",
       "      <td>16</td>\n",
       "      <td>bulgarian</td>\n",
       "      <td>0</td>\n",
       "      <td>12</td>\n",
       "      <td>161</td>\n",
       "      <td>30</td>\n",
       "      <td>Boss Western</td>\n",
       "      <td>J.Halliday Inn</td>\n",
       "      <td>1</td>\n",
       "      <td>0</td>\n",
       "      <td>0</td>\n",
       "    </tr>\n",
       "  </tbody>\n",
       "</table>\n",
       "</div>"
      ],
      "text/plain": [
       "   index  order_requests     city  date   language  mobile  avatar_id  \\\n",
       "0      0               1  vilnius    21   romanian       0          1   \n",
       "1      9               2  vilnius    18   romanian       0          1   \n",
       "2    254              30  vilnius    20   romanian       1         12   \n",
       "3    263              31  vilnius    18   romanian       1         12   \n",
       "4    272              32  vilnius    16  bulgarian       0         12   \n",
       "\n",
       "   hotel_id  stock         group           brand  parking  pool  \\\n",
       "0       161     46  Boss Western  J.Halliday Inn        1     0   \n",
       "1       161     36  Boss Western  J.Halliday Inn        1     0   \n",
       "2       161     44  Boss Western  J.Halliday Inn        1     0   \n",
       "3       161     36  Boss Western  J.Halliday Inn        1     0   \n",
       "4       161     30  Boss Western  J.Halliday Inn        1     0   \n",
       "\n",
       "   children_policy  \n",
       "0                0  \n",
       "1                0  \n",
       "2                0  \n",
       "3                0  \n",
       "4                0  "
      ]
     },
     "execution_count": 5,
     "metadata": {},
     "output_type": "execute_result"
    }
   ],
   "source": [
    "test_set.head()"
   ]
  },
  {
   "cell_type": "code",
   "execution_count": 6,
   "metadata": {
    "ExecuteTime": {
     "end_time": "2022-10-11T11:25:22.836329Z",
     "start_time": "2022-10-11T11:25:22.831538Z"
    }
   },
   "outputs": [],
   "source": [
    "def getProps(colname, length = N):\n",
    "    return test_set[colname].value_counts()/N"
   ]
  },
  {
   "cell_type": "code",
   "execution_count": 7,
   "metadata": {
    "ExecuteTime": {
     "end_time": "2022-10-11T11:25:24.466687Z",
     "start_time": "2022-10-11T11:25:24.439135Z"
    }
   },
   "outputs": [],
   "source": [
    "proportions = {}\n",
    "for i in test_set.columns:\n",
    "    proportions[i] = getProps(i)"
   ]
  },
  {
   "cell_type": "code",
   "execution_count": 226,
   "metadata": {
    "ExecuteTime": {
     "end_time": "2022-10-11T11:42:44.814520Z",
     "start_time": "2022-10-11T11:42:44.802384Z"
    }
   },
   "outputs": [],
   "source": [
    "def generate(eps = .9):\n",
    "    list_city = ['amsterdam', 'copenhagen', 'madrid', 'paris', 'rome', 'sofia', 'valletta', 'vienna' ,'vilnius']\n",
    "    list_lang = ['austrian', 'bulgarian', 'chypriot', 'croatian', 'czech', 'danish', 'dutch', 'estonian', 'finnish', 'french', 'german', 'greek', 'hungarian', 'irish', 'italian', 'latvian', 'lithuanian', 'luxembourgish', 'maltese', 'polish', 'portuguese', 'romanian', 'slovakian', 'slovene', 'spanish','swedish']\n",
    "    if np.random.uniform() <= eps :\n",
    "        date = np.random.choice(proportions['date'].index.to_numpy(), 1, p = proportions['date'].to_numpy())[0]\n",
    "        city = np.random.choice(proportions['city'].index.to_numpy(), 1, p = proportions['city'].to_numpy())[0]\n",
    "        lang = np.random.choice(proportions['language'].index.to_numpy(), 1, p = proportions['language'].to_numpy())[0]\n",
    "        mobile = np.random.choice(proportions['mobile'].index.to_numpy(), 1, p = proportions['mobile'].to_numpy())[0]\n",
    "    else :\n",
    "        date = np.random.choice(range(45))\n",
    "        city = np.random.choice(list_city)\n",
    "        lang = np.random.choice(list_lang)\n",
    "        mobile = np.random.choice([0,1])\n",
    "    return lang, city, str(mobile), str(date)\n",
    "            \n",
    "            \n",
    "            "
   ]
  },
  {
   "cell_type": "code",
   "execution_count": 247,
   "metadata": {
    "ExecuteTime": {
     "end_time": "2022-10-11T11:42:51.239178Z",
     "start_time": "2022-10-11T11:42:51.232455Z"
    }
   },
   "outputs": [
    {
     "data": {
      "text/plain": [
       "('latvian', 'paris', '0', '13')"
      ]
     },
     "execution_count": 247,
     "metadata": {},
     "output_type": "execute_result"
    }
   ],
   "source": [
    "generate()"
   ]
  },
  {
   "cell_type": "code",
   "execution_count": 142,
   "metadata": {
    "ExecuteTime": {
     "end_time": "2022-10-11T11:37:45.285000Z",
     "start_time": "2022-10-11T11:37:45.277705Z"
    }
   },
   "outputs": [
    {
     "data": {
      "text/plain": [
       "0.3591797114381029"
      ]
     },
     "execution_count": 142,
     "metadata": {},
     "output_type": "execute_result"
    }
   ],
   "source": [
    "np.random.uniform()"
   ]
  },
  {
   "cell_type": "code",
   "execution_count": 24,
   "metadata": {
    "ExecuteTime": {
     "end_time": "2022-10-11T11:32:12.550296Z",
     "start_time": "2022-10-11T11:32:12.539080Z"
    }
   },
   "outputs": [
    {
     "data": {
      "text/plain": [
       "hungarian        0.145545\n",
       "finnish          0.070138\n",
       "austrian         0.069386\n",
       "romanian         0.066075\n",
       "slovakian        0.062914\n",
       "swedish          0.060807\n",
       "estonian         0.058700\n",
       "bulgarian        0.053582\n",
       "danish           0.052077\n",
       "irish            0.031457\n",
       "maltese          0.029651\n",
       "greek            0.027243\n",
       "slovene          0.026189\n",
       "belgian          0.023028\n",
       "spanish          0.021222\n",
       "dutch            0.020169\n",
       "polish           0.019717\n",
       "french           0.019266\n",
       "italian          0.019266\n",
       "luxembourgish    0.018814\n",
       "lithuanian       0.018362\n",
       "latvian          0.017008\n",
       "cypriot          0.015954\n",
       "czech            0.015653\n",
       "croatian         0.015202\n",
       "german           0.012041\n",
       "portuguese       0.010536\n",
       "Name: language, dtype: float64"
      ]
     },
     "execution_count": 24,
     "metadata": {},
     "output_type": "execute_result"
    }
   ],
   "source": [
    "proportions['language']"
   ]
  },
  {
   "cell_type": "code",
   "execution_count": 47,
   "metadata": {
    "ExecuteTime": {
     "end_time": "2022-10-11T11:33:21.731786Z",
     "start_time": "2022-10-11T11:33:21.721200Z"
    }
   },
   "outputs": [
    {
     "data": {
      "text/plain": [
       "array(['romanian'], dtype=object)"
      ]
     },
     "execution_count": 47,
     "metadata": {},
     "output_type": "execute_result"
    }
   ],
   "source": [
    "np.random.choice(proportions['language'].index.to_numpy(), 1, p = proportions['language'].to_numpy())"
   ]
  },
  {
   "cell_type": "code",
   "execution_count": null,
   "metadata": {},
   "outputs": [],
   "source": []
  }
 ],
 "metadata": {
  "kernelspec": {
   "display_name": "Python 3 (ipykernel)",
   "language": "python",
   "name": "python3"
  },
  "language_info": {
   "codemirror_mode": {
    "name": "ipython",
    "version": 3
   },
   "file_extension": ".py",
   "mimetype": "text/x-python",
   "name": "python",
   "nbconvert_exporter": "python",
   "pygments_lexer": "ipython3",
   "version": "3.9.12"
  },
  "toc": {
   "base_numbering": 1,
   "nav_menu": {},
   "number_sections": true,
   "sideBar": true,
   "skip_h1_title": false,
   "title_cell": "Table of Contents",
   "title_sidebar": "Contents",
   "toc_cell": false,
   "toc_position": {},
   "toc_section_display": true,
   "toc_window_display": false
  },
  "varInspector": {
   "cols": {
    "lenName": 16,
    "lenType": 16,
    "lenVar": 40
   },
   "kernels_config": {
    "python": {
     "delete_cmd_postfix": "",
     "delete_cmd_prefix": "del ",
     "library": "var_list.py",
     "varRefreshCmd": "print(var_dic_list())"
    },
    "r": {
     "delete_cmd_postfix": ") ",
     "delete_cmd_prefix": "rm(",
     "library": "var_list.r",
     "varRefreshCmd": "cat(var_dic_list()) "
    }
   },
   "types_to_exclude": [
    "module",
    "function",
    "builtin_function_or_method",
    "instance",
    "_Feature"
   ],
   "window_display": false
  }
 },
 "nbformat": 4,
 "nbformat_minor": 2
}
