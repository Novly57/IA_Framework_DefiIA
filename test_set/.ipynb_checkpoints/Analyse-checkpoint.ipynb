{
 "cells": [
  {
   "cell_type": "code",
   "execution_count": 1,
   "id": "09eb0fa9",
   "metadata": {
    "ExecuteTime": {
     "end_time": "2022-10-26T15:37:55.508465Z",
     "start_time": "2022-10-26T15:37:49.090713Z"
    }
   },
   "outputs": [],
   "source": [
    "import numpy as np\n",
    "import pandas as pd\n",
    "import seaborn as sns\n",
    "import matplotlib.pyplot as plt\n",
    "sns.set_theme(style=\"darkgrid\")"
   ]
  },
  {
   "cell_type": "code",
   "execution_count": 2,
   "id": "751645e5",
   "metadata": {
    "ExecuteTime": {
     "end_time": "2022-10-26T15:37:55.627167Z",
     "start_time": "2022-10-26T15:37:55.513470Z"
    }
   },
   "outputs": [],
   "source": [
    "hotels = pd.read_csv('../data/features_hotels.csv')\n",
    "df_test = pd.read_csv('../data/test_set.csv')\n",
    "df_test = df_test.merge(hotels, on=['hotel_id','city'])\n",
    "N = len(df_test)"
   ]
  },
  {
   "cell_type": "code",
   "execution_count": 3,
   "id": "64bedc6c",
   "metadata": {
    "ExecuteTime": {
     "end_time": "2022-10-26T15:37:57.933338Z",
     "start_time": "2022-10-26T15:37:55.650107Z"
    }
   },
   "outputs": [],
   "source": [
    "df_test['request_number'] = 0\n",
    "for avatar in np.unique(df_test.avatar_id):\n",
    "    df_test.loc[df_test.avatar_id == avatar, 'request_number'] = df_test.order_requests.loc[df_test.avatar_id == avatar] - min(df_test.order_requests.loc[df_test.avatar_id== avatar]-1)"
   ]
  },
  {
   "cell_type": "code",
   "execution_count": null,
   "id": "f81d9afc",
   "metadata": {},
   "outputs": [],
   "source": []
  },
  {
   "cell_type": "code",
   "execution_count": null,
   "id": "3166d7e0",
   "metadata": {
    "ExecuteTime": {
     "end_time": "2022-10-26T15:33:38.749386Z",
     "start_time": "2022-10-26T15:33:38.708497Z"
    },
    "scrolled": true
   },
   "outputs": [],
   "source": [
    "test_set.head()"
   ]
  },
  {
   "cell_type": "code",
   "execution_count": null,
   "id": "05be70b0",
   "metadata": {
    "ExecuteTime": {
     "end_time": "2022-10-26T15:30:48.869224Z",
     "start_time": "2022-10-26T15:30:48.850277Z"
    }
   },
   "outputs": [],
   "source": [
    "city = {'amsterdam':1, 'copenhagen':2, 'madrid':3, 'paris':4, 'rome':5, 'sofia':6, 'valletta':7, 'vienna':8 ,'vilnius':9}\n",
    "date = [i for i in range(0,45)]  # entier entre 0 et 44\n",
    "language = {'austrian':1, 'bulgarian':2, 'cypriot':3, 'croatian':4, 'czech':5, 'danish':6, 'dutch':7, 'estonian':8, 'finnish':9, 'french':10, 'german':11, 'greek':12, 'hungarian':13, 'irish':14, 'italian':15, 'latvian':16, 'lithuanian':17, 'luxembourgish':18, 'maltese':19, 'polish':20, 'portuguese':21, 'romanian':22, 'slovakian':23, 'slovene':24, 'spanish':25,'swedish':26}\n",
    "mobile = [0,1]"
   ]
  },
  {
   "cell_type": "code",
   "execution_count": null,
   "id": "7869973a",
   "metadata": {
    "ExecuteTime": {
     "end_time": "2022-10-26T15:30:50.085477Z",
     "start_time": "2022-10-26T15:30:49.941411Z"
    }
   },
   "outputs": [],
   "source": [
    "data[\"parking\"]=pd.Categorical(data[\"parking\"],ordered = False)\n",
    "data[\"pool\"]=pd.Categorical(data[\"pool\"],ordered = False)\n",
    "data[\"mobile\"]=pd.Categorical(data[\"mobile\"],ordered = False)\n",
    "data[\"children_policy\"]=pd.Categorical(data[\"children_policy\"],ordered = False)\n",
    "data = data.drop(columns=[\"group\",\"brand\"])\n",
    "#data[\"date\"]=pd.DatetimeIndex(data[\"date\"]).month\n",
    "#data = data.rename(columns={'date':'month'})"
   ]
  },
  {
   "cell_type": "code",
   "execution_count": null,
   "id": "e9735ffe",
   "metadata": {
    "ExecuteTime": {
     "end_time": "2022-10-26T15:31:13.514064Z",
     "start_time": "2022-10-26T15:31:12.122742Z"
    }
   },
   "outputs": [],
   "source": [
    "for ville in city:\n",
    "    data.loc[(data.city == ville),'cityNumber'] = city[ville]\n",
    "for lan in language:\n",
    "    data.loc[(data.language == lan),'languageNumber'] = language[lan]\n",
    "\n",
    "data = data.drop(columns=[\"city\",\"language\"])\n",
    "data = data.rename(columns={'cityNumber':'city','languageNumber':'language'})    \n",
    "data[\"city\"]=pd.Categorical(data[\"city\"],ordered = False)\n",
    "data[\"language\"]=pd.Categorical(data[\"language\"],ordered = False)"
   ]
  },
  {
   "cell_type": "code",
   "execution_count": null,
   "id": "0387578c",
   "metadata": {
    "ExecuteTime": {
     "end_time": "2022-10-26T15:31:15.678336Z",
     "start_time": "2022-10-26T15:31:15.663377Z"
    }
   },
   "outputs": [],
   "source": [
    "Var = [\"city\",\"date\",\"language\",\"mobile\",\"request_number\",\"hotel_id\",\"stock\",\"parking\",\"pool\",\"children_policy\"]"
   ]
  },
  {
   "cell_type": "code",
   "execution_count": null,
   "id": "187f0486",
   "metadata": {
    "ExecuteTime": {
     "end_time": "2022-10-26T15:31:16.282717Z",
     "start_time": "2022-10-26T15:31:16.241824Z"
    }
   },
   "outputs": [],
   "source": [
    "data.head()"
   ]
  },
  {
   "cell_type": "code",
   "execution_count": null,
   "id": "f0e45835",
   "metadata": {
    "ExecuteTime": {
     "end_time": "2022-10-26T15:31:46.990722Z",
     "start_time": "2022-10-26T15:31:46.127269Z"
    }
   },
   "outputs": [],
   "source": [
    "t = pd.crosstab(test_set[\"children_policy\"], \"freq\")\n",
    "t.plot.pie(subplots=True,figsize=(4,4))\n",
    "plt.legend(loc=\"upper left\")\n",
    "plt.title(\"Répartition de children_policy\")\n",
    "plt.show()"
   ]
  },
  {
   "cell_type": "code",
   "execution_count": null,
   "id": "24d2f774",
   "metadata": {
    "ExecuteTime": {
     "end_time": "2022-10-26T15:31:53.309764Z",
     "start_time": "2022-10-26T15:31:51.111101Z"
    }
   },
   "outputs": [],
   "source": [
    "graph = data.hist()"
   ]
  },
  {
   "cell_type": "code",
   "execution_count": null,
   "id": "56559771",
   "metadata": {
    "ExecuteTime": {
     "end_time": "2022-10-26T15:31:58.564173Z",
     "start_time": "2022-10-26T15:31:55.466373Z"
    }
   },
   "outputs": [],
   "source": [
    "graph = test_set.hist()"
   ]
  },
  {
   "cell_type": "code",
   "execution_count": null,
   "id": "02311e36",
   "metadata": {},
   "outputs": [],
   "source": []
  }
 ],
 "metadata": {
  "kernelspec": {
   "display_name": "Python 3 (ipykernel)",
   "language": "python",
   "name": "python3"
  },
  "language_info": {
   "codemirror_mode": {
    "name": "ipython",
    "version": 3
   },
   "file_extension": ".py",
   "mimetype": "text/x-python",
   "name": "python",
   "nbconvert_exporter": "python",
   "pygments_lexer": "ipython3",
   "version": "3.9.13"
  },
  "toc": {
   "base_numbering": 1,
   "nav_menu": {},
   "number_sections": true,
   "sideBar": true,
   "skip_h1_title": false,
   "title_cell": "Table of Contents",
   "title_sidebar": "Contents",
   "toc_cell": false,
   "toc_position": {},
   "toc_section_display": true,
   "toc_window_display": false
  },
  "varInspector": {
   "cols": {
    "lenName": 16,
    "lenType": 16,
    "lenVar": 40
   },
   "kernels_config": {
    "python": {
     "delete_cmd_postfix": "",
     "delete_cmd_prefix": "del ",
     "library": "var_list.py",
     "varRefreshCmd": "print(var_dic_list())"
    },
    "r": {
     "delete_cmd_postfix": ") ",
     "delete_cmd_prefix": "rm(",
     "library": "var_list.r",
     "varRefreshCmd": "cat(var_dic_list()) "
    }
   },
   "types_to_exclude": [
    "module",
    "function",
    "builtin_function_or_method",
    "instance",
    "_Feature"
   ],
   "window_display": false
  }
 },
 "nbformat": 4,
 "nbformat_minor": 5
}
